{
 "cells": [
  {
   "cell_type": "markdown",
   "id": "2c2452c3-6fd3-47c5-bc9b-a62661ded431",
   "metadata": {},
   "source": [
    "# Chapter 5 - Trigonometry"
   ]
  },
  {
   "cell_type": "markdown",
   "id": "6ca0cf84-78a8-419d-8c35-c7cdfedd073c",
   "metadata": {},
   "source": [
    "## Circle geometry basics\n",
    "\n",
    "(Mostly from [Wikipedia](https://en.wikipedia.org/wiki/Sine_and_cosine))\n",
    "\n",
    "- A chord is a stright line that runs between two points on a circle.\n",
    "\n",
    "- *Sine* is a mistranslation (via Arabic) of the Sanskrit word for \"half-chord\".\n",
    "\n",
    "- Cosine is a contraction of the latin \"complementi sinus\" -- it's the complement of the sine.\n",
    "\n",
    "- *Pi* is defined as the ratio of the circumverence and the diameter of a circle: $\\pi = C / d = C / 2r$.\n",
    "\n",
    "- The *circumverence* of a circle is thus given by $C = 2r\\pi$.\n",
    "\n",
    "- *Arc length* is the distance between two points along a curve. It follows from the above that it is given by: $\\text{Arc length} = 2r\\pi\\left(\\frac{\\theta}{360}\\right)$, where $\\theta$ is the angle, in degrees, that the arc subtends at the center of the circle, and $\\left(\\frac{\\theta}{360}\\right)$ can be thought of the number of *rotations* around the circle.\n",
    "\n",
    "- *Radians* are a commonly used unit of angles (an alternative to degrees). One radian is defined as the angle at the center of the circle that subtends an arc of length equal to the radius of the circle.\n",
    "\n",
    "- Hence, in general, the magnitude of an angle expressed in radians is given by $\\theta_{rad} = \\frac{\\text{Arch length}}{r}$, and, directly expressed in degrees: $\\theta_{rad} = 2\\pi\\left(\\frac{\\theta}{360}\\right) = 2\\pi\\times\\text{rotations}$.\n",
    "\n",
    "- It follows that a right angle is equal to $\\frac{2r\\pi\\left(\\frac{90}{360}\\right)}{r} = \\frac{\\pi}{2}$ radians, half a rotation is $\\frac{2r\\pi\\left(\\frac{180}{360}\\right)}{r} = \\pi$, and a complete 360 degree rotation is equal to $\\frac{2r\\pi\\left(\\frac{360}{360}\\right)}{r} = 2\\pi$ radians.\n",
    "\n",
    "- Notice above that $\\pi$, the commonly used circle constant, is equal to half a rotation. The Tau Manifesto argues that true circle constant is $\\tau = 2\\pi$. This will simplify our life a bit, so we'll use $\\tau$."
   ]
  },
  {
   "cell_type": "code",
   "execution_count": 1,
   "id": "50a3a3ad-3ad4-47eb-bb85-e7307e8469ff",
   "metadata": {},
   "outputs": [],
   "source": [
    "import math"
   ]
  },
  {
   "cell_type": "code",
   "execution_count": 8,
   "id": "f0779191-c547-4360-977c-ac888a66954e",
   "metadata": {},
   "outputs": [],
   "source": [
    "def degrees_to_radians(degrees: float) -> float:\n",
    "    rotations = degrees / 360\n",
    "    return rotations * 2 * math.pi\n",
    "\n",
    "assert 3.1415 < degrees_to_radians(180) < 3.1516"
   ]
  },
  {
   "cell_type": "code",
   "execution_count": 14,
   "id": "0baf03fd-bde6-401d-b99d-6d936e8ce61b",
   "metadata": {},
   "outputs": [],
   "source": [
    "def radians_to_degrees(radians: float) -> float:\n",
    "    rotations = radians / math.pi / 2\n",
    "    return 360 * rotations\n",
    "\n",
    "assert radians_to_degrees(math.pi) == 180"
   ]
  },
  {
   "cell_type": "code",
   "execution_count": 11,
   "id": "f6e4549a-834d-41f9-a16c-a66f44774d7a",
   "metadata": {},
   "outputs": [
    {
     "data": {
      "text/plain": [
       "3.141592653589793"
      ]
     },
     "execution_count": 11,
     "metadata": {},
     "output_type": "execute_result"
    }
   ],
   "source": [
    "def int_cos(theta: float) -> float:\n",
    "    rotations = theta / math.tau\n",
    "    \n",
    "    if rotations % 1 == 0:\n",
    "        # Some number of full rotations\n",
    "        return 1\n",
    "    elif rotations % 1 = 0.5:\n",
    "        # Half a rotation\n",
    "        return -1\n",
    "    else:\n",
    "        return 0\n",
    "        "
   ]
  },
  {
   "cell_type": "code",
   "execution_count": null,
   "id": "c75c682d-4f5b-4a9e-a7b7-5e7ac28ee118",
   "metadata": {},
   "outputs": [],
   "source": []
  }
 ],
 "metadata": {
  "kernelspec": {
   "display_name": "wow",
   "language": "python",
   "name": "wow"
  },
  "language_info": {
   "codemirror_mode": {
    "name": "ipython",
    "version": 3
   },
   "file_extension": ".py",
   "mimetype": "text/x-python",
   "name": "python",
   "nbconvert_exporter": "python",
   "pygments_lexer": "ipython3",
   "version": "3.10.4"
  }
 },
 "nbformat": 4,
 "nbformat_minor": 5
}
