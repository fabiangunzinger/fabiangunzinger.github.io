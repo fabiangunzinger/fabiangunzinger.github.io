{
 "cells": [
  {
   "cell_type": "markdown",
   "id": "3f98517d-c321-4ddc-a05b-c5bb9e214bf9",
   "metadata": {
    "tags": []
   },
   "source": [
    "# Checks for fizzbuzz functions"
   ]
  },
  {
   "cell_type": "markdown",
   "id": "ebca91bc-7b37-4960-98f6-241560ad3fe0",
   "metadata": {},
   "source": [
    "Approach:\n",
    "\n",
    "- Use list below as ground truth.\n",
    "- Solutions to the fizzbuzz problem are two types of functions: the first type return a list with all 100 values, the second type takes a number and return its fizbuzz value.\n",
    "- Create a test that compares lists of 100 values to the ground truth.\n",
    "- Can use this directly for first type of function, and after creating a list of 100 values using second type of function."
   ]
  },
  {
   "cell_type": "markdown",
   "id": "324fc6b3-122d-4118-9871-27604ff231ea",
   "metadata": {},
   "source": [
    "Ground truth:"
   ]
  },
  {
   "cell_type": "code",
   "execution_count": 7,
   "id": "67fa2f0f-e6e7-4321-a576-28df851e26c7",
   "metadata": {},
   "outputs": [],
   "source": [
    "FIZZ_BUZZ = [\n",
    "    '1', '2', 'fizz', '4', 'buzz', 'fizz', '7', '8', 'fizz',\n",
    "    'buzz', '11', 'fizz', '13', '14', 'fizzbuzz', '16', '17',\n",
    "    'fizz', '19', 'buzz', 'fizz', '22', '23', 'fizz', 'buzz',\n",
    "    '26', 'fizz', '28', '29', 'fizzbuzz', '31', '32', 'fizz',\n",
    "    '34', 'buzz', 'fizz', '37', '38', 'fizz', 'buzz', '41',\n",
    "    'fizz', '43', '44', 'fizzbuzz', '46', '47', 'fizz', '49',\n",
    "    'buzz', 'fizz', '52', '53', 'fizz', 'buzz', '56', 'fizz',\n",
    "    '58', '59', 'fizzbuzz', '61', '62', 'fizz', '64', 'buzz',\n",
    "    'fizz', '67', '68', 'fizz', 'buzz', '71', 'fizz', '73',\n",
    "    '74', 'fizzbuzz', '76', '77', 'fizz', '79', 'buzz',\n",
    "    'fizz', '82', '83', 'fizz', 'buzz', '86', 'fizz', '88',\n",
    "    '89', 'fizzbuzz', '91', '92', 'fizz', '94', 'buzz',\n",
    "    'fizz', '97', '98', 'fizz', 'buzz'\n",
    "]"
   ]
  },
  {
   "cell_type": "markdown",
   "id": "6172efb5-bb20-4d28-b06b-5051fdc7d538",
   "metadata": {},
   "source": [
    "Basic fizzbuzz functions for testing:"
   ]
  },
  {
   "cell_type": "code",
   "execution_count": 16,
   "id": "6ed23111-e907-42c2-acc8-77d6c9791b38",
   "metadata": {},
   "outputs": [],
   "source": [
    "def fizzbuzz(n):\n",
    "    if n % 15 == 0:\n",
    "        return \"fizzbuzz\"\n",
    "    elif n % 5 == 0:\n",
    "        return \"buzz\"\n",
    "    elif n % 3 == 0:\n",
    "        return \"fizz\"\n",
    "    else:\n",
    "        return str(n)\n",
    "    \n",
    "    \n",
    "def broken_fizzbuzz(n):\n",
    "    if n % 15 == 0:\n",
    "        return \"wrong answer\"\n",
    "    elif n % 5 == 0:\n",
    "        return \"buzz\"\n",
    "    elif n % 3 == 0:\n",
    "        return \"fizz\"\n",
    "    else:\n",
    "        return str(n)\n",
    "    "
   ]
  },
  {
   "cell_type": "markdown",
   "id": "3163cd32-1ba3-4607-8a85-22d2d75afbd7",
   "metadata": {},
   "source": [
    "## Test functions with list output"
   ]
  },
  {
   "cell_type": "markdown",
   "id": "19a3df6a-eb5d-484f-a283-e90163cc5603",
   "metadata": {},
   "source": [
    "Test function design:\n",
    "- First check that length is correct to avoid unnecessary checking in case it isn't.\n",
    "- Create list of errors so we can see errors in case there are any (instead of just learning that the list is incorrect, which is not as helpful!).\n",
    "- Note elegant use of assert statements instead of if/else statements."
   ]
  },
  {
   "cell_type": "code",
   "execution_count": 29,
   "id": "a12c6bda-4494-401b-9d8c-7154daff8f8b",
   "metadata": {},
   "outputs": [],
   "source": [
    "from typing import List\n",
    "\n",
    "def check_output(output: List[str]) -> None:\n",
    "    assert len(output) == 100, \"Output should have length 100\"\n",
    "    \n",
    "    # Collect all errors in a list\n",
    "    # The i+1 reflects that output[0] is the output for 1,\n",
    "    # output[1] the output for 2, and so on\n",
    "    errors = [\n",
    "        f\"({i+1}) actual: {output[i]}, expected: {FIZZ_BUZZ[i]}\"\n",
    "        for i in range(100)\n",
    "        if output[i] != FIZZ_BUZZ[i]\n",
    "    ]\n",
    "    \n",
    "    assert len(errors) == 0, f\"{errors}\""
   ]
  },
  {
   "cell_type": "markdown",
   "id": "e65eb05f-f22a-46b6-aed4-388030adabf2",
   "metadata": {},
   "source": [
    "Test we expect to pass:"
   ]
  },
  {
   "cell_type": "code",
   "execution_count": 30,
   "id": "0351e785-2d6b-4f52-a18a-0c1ad0693b3b",
   "metadata": {},
   "outputs": [],
   "source": [
    "check_output([fizzbuzz(n) for n in range(1, 101)])"
   ]
  },
  {
   "cell_type": "markdown",
   "id": "9753fd0b-756b-45c3-afe5-608aa081bcdd",
   "metadata": {},
   "source": [
    "Test we expect to fail:"
   ]
  },
  {
   "cell_type": "code",
   "execution_count": 31,
   "id": "0336bd6a-681d-4a19-966b-dc6c4eb316dc",
   "metadata": {},
   "outputs": [
    {
     "name": "stdout",
     "output_type": "stream",
     "text": [
      "['(15) actual: wrong answer, expected: fizzbuzz', '(30) actual: wrong answer, expected: fizzbuzz', '(45) actual: wrong answer, expected: fizzbuzz', '(60) actual: wrong answer, expected: fizzbuzz', '(75) actual: wrong answer, expected: fizzbuzz', '(90) actual: wrong answer, expected: fizzbuzz']\n"
     ]
    }
   ],
   "source": [
    "try:\n",
    "    check_output([broken_fizzbuzz(n+1) for n in range(100)])\n",
    "except AssertionError as e:\n",
    "    print(e)"
   ]
  },
  {
   "cell_type": "markdown",
   "id": "29b6e0e3-dba6-4bb7-8529-f28154a19927",
   "metadata": {},
   "source": [
    "## Test functions with single output"
   ]
  },
  {
   "cell_type": "code",
   "execution_count": 33,
   "id": "28f09ea1-c52e-475e-9ca8-4e78cc508368",
   "metadata": {},
   "outputs": [],
   "source": [
    "from typing import Callable\n",
    "\n",
    "def check_function(fizz_buzz: Callable[[int], str]) -> None:\n",
    "    \"\"\"\n",
    "    Type casting says that fizz_buzz needs to be a \n",
    "    function that takes a single argument (which is an `int`)\n",
    "    and returns a `str`.\n",
    "    \"\"\"\n",
    "    output = [fizz_buzz(n+1) for n in range(100)]\n",
    "    check_output(output)\n",
    "    \n",
    "    \n",
    "# Tests\n",
    "assert check_function(fizzbuzz) is None"
   ]
  }
 ],
 "metadata": {
  "kernelspec": {
   "display_name": "wow",
   "language": "python",
   "name": "wow"
  },
  "language_info": {
   "codemirror_mode": {
    "name": "ipython",
    "version": 3
   },
   "file_extension": ".py",
   "mimetype": "text/x-python",
   "name": "python",
   "nbconvert_exporter": "python",
   "pygments_lexer": "ipython3",
   "version": "3.10.4"
  }
 },
 "nbformat": 4,
 "nbformat_minor": 5
}
