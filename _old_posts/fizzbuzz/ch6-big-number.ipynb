{
 "cells": [
  {
   "cell_type": "markdown",
   "id": "1b7fc278-1fc4-4d7c-b436-809ec2ce2486",
   "metadata": {},
   "source": [
    "# Chapter 6 - A big number"
   ]
  },
  {
   "cell_type": "code",
   "execution_count": 1,
   "id": "c61356ce-e40e-4a96-8840-d462a3bba0dc",
   "metadata": {},
   "outputs": [],
   "source": [
    "from typing import List"
   ]
  },
  {
   "cell_type": "markdown",
   "id": "68e5e6f9-ce52-4097-8409-3f4ea2d07578",
   "metadata": {},
   "source": [
    "## Decimal, binary, and hexadecimal"
   ]
  },
  {
   "cell_type": "markdown",
   "id": "48602233-354f-4193-b0b2-deea2120ee80",
   "metadata": {},
   "source": [
    "### Decimal system"
   ]
  },
  {
   "cell_type": "code",
   "execution_count": 2,
   "id": "0ff468fe-2a5c-44c9-869b-d14f4fa0af32",
   "metadata": {},
   "outputs": [],
   "source": [
    "def decimal_digits(n: int) -> List[int]:\n",
    "    digits: List[int] = []\n",
    "    \n",
    "    # If n is zero, it has no more digits\n",
    "    while n > 0:\n",
    "        # The rightmost digit is n%10\n",
    "        digits.append(n % 10)\n",
    "        # Remove rightmost digit and repeat\n",
    "        n = n // 10\n",
    "    \n",
    "    digits.reverse()\n",
    "    return digits\n",
    "\n",
    "assert decimal_digits(0) == []\n",
    "assert decimal_digits(345) == [3, 4, 5]"
   ]
  },
  {
   "cell_type": "code",
   "execution_count": 3,
   "id": "7ae6bfd6-f574-43a7-9806-702645e68613",
   "metadata": {},
   "outputs": [],
   "source": [
    "def from_decimal_digits(digits: List[int]) -> int:\n",
    "    n = 0\n",
    "    for digit in digits:\n",
    "        n *= 10\n",
    "        n += digit\n",
    "    return n\n",
    "\n",
    "assert from_decimal_digits([]) == 0\n",
    "assert from_decimal_digits([0]) == 0\n",
    "assert from_decimal_digits([3, 4, 5]) == 345"
   ]
  },
  {
   "cell_type": "markdown",
   "id": "8575b3b1-3c7b-4d77-9c4b-4f1d2489615f",
   "metadata": {},
   "source": [
    "### Binary system"
   ]
  },
  {
   "cell_type": "markdown",
   "id": "ec3a5112-2d39-432c-bb97-68b1a9404eb9",
   "metadata": {},
   "source": [
    "- In the decimal system there are 10 numbers, 0-9, and for any given number, the rightmost digit represents the number of 1s, the next one the number of 10s (1 x 10), the next one the number of 100s (1 * 10 * 10), and so on.\n",
    "\n",
    "- In the binary system there are 2 numbers, 0 and 1, and for any given number, the rightmost digit presents the number of 1s, the next one the number of 2s (1 x 2), the next one the number of 4s (1 x 2 x 2), and so on.\n",
    "\n",
    "- Hence, the binary number 100101 equals 32 + 4 + 1 = 37 in binary."
   ]
  },
  {
   "cell_type": "markdown",
   "id": "d7203bac-1c08-4d47-8ed8-874c0291ab65",
   "metadata": {},
   "source": [
    "Representing binary literals in Python."
   ]
  },
  {
   "cell_type": "code",
   "execution_count": 4,
   "id": "1d0c88c1-6ce3-43a6-9a30-0a3f038d3a5b",
   "metadata": {},
   "outputs": [],
   "source": [
    "assert 0b100101 == 37\n",
    "assert int('100101', base=2) == 37"
   ]
  },
  {
   "cell_type": "markdown",
   "id": "fed45d9e-546b-4456-bfc8-3ea3a618c496",
   "metadata": {},
   "source": [
    "Getting binary representation of decimals."
   ]
  },
  {
   "cell_type": "code",
   "execution_count": 5,
   "id": "19f33935-8d16-4937-9c38-aaeaeabc5719",
   "metadata": {},
   "outputs": [],
   "source": [
    "assert bin(37) == '0b100101'"
   ]
  },
  {
   "cell_type": "markdown",
   "id": "500ba004-e576-4afb-8263-fd4b20828130",
   "metadata": {},
   "source": [
    "### Hexadecimal"
   ]
  },
  {
   "cell_type": "markdown",
   "id": "c36092e1-825e-45a0-b6e4-87ed03070233",
   "metadata": {},
   "source": [
    "- In the hexadecimal system, the rightmost number is the number of 1s, the next on the number of 16s (1 x 16), the next one the number of 256s (1 x 16 x 16), and so on.\n",
    "\n",
    "- Hence, the hexadecimal number f83 equals 15*(16^2) + 8*(16) + 3*(1) = 3971."
   ]
  },
  {
   "cell_type": "code",
   "execution_count": 6,
   "id": "cf91a848-42ee-4397-869f-f251809859d9",
   "metadata": {},
   "outputs": [],
   "source": [
    "assert 0xf83 == 3971\n",
    "assert int('f83', base=16) == 3971\n",
    "assert hex(3971) == '0xf83'"
   ]
  },
  {
   "cell_type": "markdown",
   "id": "b7543664-8d5e-41cc-9ee1-2b0ed177242d",
   "metadata": {},
   "source": [
    "## Dataclasses"
   ]
  },
  {
   "cell_type": "markdown",
   "id": "613b14c1-b09b-4efd-bd91-9d6e477cc6aa",
   "metadata": {},
   "source": [
    "Instead of this:"
   ]
  },
  {
   "cell_type": "code",
   "execution_count": 7,
   "id": "96883e73-e324-4f06-8017-aab0b7956856",
   "metadata": {},
   "outputs": [
    {
     "data": {
      "text/plain": [
       "'myparent'"
      ]
     },
     "execution_count": 7,
     "metadata": {},
     "output_type": "execute_result"
    }
   ],
   "source": [
    "class Node:\n",
    "    def __init__(self, value=0, parent=None, left=None, right=None):\n",
    "        self.value = value\n",
    "        self.parent = parent\n",
    "        self.left = left\n",
    "        self.right = right\n",
    "        \n",
    "Node(1, 'myparent').parent"
   ]
  },
  {
   "cell_type": "markdown",
   "id": "39f55f6a-52d1-407b-aef0-5f98a4059509",
   "metadata": {},
   "source": [
    "I can just do this (attributes need to be typed)"
   ]
  },
  {
   "cell_type": "code",
   "execution_count": 8,
   "id": "3cf138c0-4021-44a5-9e2b-9c42fd6a49cb",
   "metadata": {},
   "outputs": [
    {
     "data": {
      "text/plain": [
       "'myparent'"
      ]
     },
     "execution_count": 8,
     "metadata": {},
     "output_type": "execute_result"
    }
   ],
   "source": [
    "from dataclasses import dataclass\n",
    "\n",
    "@dataclass\n",
    "class Node:\n",
    "    value: int = None\n",
    "    parent: str = None\n",
    "    left: str = None\n",
    "    right: str = None\n",
    "    \n",
    "Node(1, 'myparent').parent"
   ]
  },
  {
   "cell_type": "code",
   "execution_count": 11,
   "id": "a206dec5-5bfa-401f-b68c-9308ebc8391f",
   "metadata": {},
   "outputs": [
    {
     "data": {
      "text/plain": [
       "5"
      ]
     },
     "execution_count": 11,
     "metadata": {},
     "output_type": "execute_result"
    }
   ],
   "source": [
    "from typing import NamedTuple\n",
    "\n",
    "class LeafNode(NamedTuple):\n",
    "    count: int\n",
    "    cla55: int\n",
    "    \n"
   ]
  },
  {
   "cell_type": "code",
   "execution_count": null,
   "id": "58b46a24-bf07-48f2-8eab-9bc1b0a362a1",
   "metadata": {},
   "outputs": [],
   "source": []
  }
 ],
 "metadata": {
  "kernelspec": {
   "display_name": "wow",
   "language": "python",
   "name": "wow"
  },
  "language_info": {
   "codemirror_mode": {
    "name": "ipython",
    "version": 3
   },
   "file_extension": ".py",
   "mimetype": "text/x-python",
   "name": "python",
   "nbconvert_exporter": "python",
   "pygments_lexer": "ipython3",
   "version": "3.10.4"
  }
 },
 "nbformat": 4,
 "nbformat_minor": 5
}
