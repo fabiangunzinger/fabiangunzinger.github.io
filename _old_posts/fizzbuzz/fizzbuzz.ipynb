{
 "cells": [
  {
   "cell_type": "markdown",
   "id": "4076a090-c06e-4334-8e6d-0cdd1386148f",
   "metadata": {},
   "source": [
    "# Notes on fizzbuzz by Joel Grus"
   ]
  },
  {
   "cell_type": "markdown",
   "id": "eb9c5d16-75a5-438a-b53e-e39c7486ec75",
   "metadata": {},
   "source": [
    "Book repo is [here](https://github.com/joelgrus/fizzbuzz)."
   ]
  },
  {
   "cell_type": "code",
   "execution_count": 1,
   "id": "763df232-af7d-4402-9c45-9f7c4adf6e99",
   "metadata": {},
   "outputs": [],
   "source": [
    "import math\n",
    "\n",
    "from hypothesis import given\n",
    "import hypothesis.strategies as st"
   ]
  },
  {
   "cell_type": "markdown",
   "id": "b4d7441e",
   "metadata": {},
   "source": [
    "## My solution"
   ]
  },
  {
   "cell_type": "code",
   "execution_count": 1,
   "id": "f5f33a70",
   "metadata": {},
   "outputs": [],
   "source": [
    "def fizzbuzz(n):\n",
    "    if n % 15 == 0:\n",
    "        return \"fizzbuzz\"\n",
    "    elif n % 5 == 0:\n",
    "        return \"buzz\"\n",
    "    elif n % 3 == 0:\n",
    "        return \"fizz\"\n",
    "    else:\n",
    "        return str(n)"
   ]
  },
  {
   "cell_type": "markdown",
   "id": "7ee77e98-67f8-4570-82a7-54f35f97ff9f",
   "metadata": {},
   "source": [
    "## Chapter 1 - 100 print statements"
   ]
  },
  {
   "cell_type": "markdown",
   "id": "06e4469b-cfcc-49a6-a084-48137eecf279",
   "metadata": {},
   "source": [
    "### Reusability and changeability"
   ]
  },
  {
   "cell_type": "markdown",
   "id": "dec6cf12-0b64-4892-ba89-aa0fdd88d097",
   "metadata": {},
   "source": [
    "Writing output to file"
   ]
  },
  {
   "cell_type": "code",
   "execution_count": 3,
   "id": "09f651b9-1bde-481c-b2da-db618f93425d",
   "metadata": {},
   "outputs": [],
   "source": [
    "with open(\"fizzbuzz.txt\", \"w\") as f:\n",
    "    for n in range(1, 101):\n",
    "        f.write(f\"{fizzbuzz(n)}\\n\")"
   ]
  },
  {
   "cell_type": "markdown",
   "id": "669273be-eae2-4621-afe0-62bf64dd9774",
   "metadata": {},
   "source": [
    "Omit vowels"
   ]
  },
  {
   "cell_type": "code",
   "execution_count": 4,
   "id": "86a8cf55-93c0-4e84-b196-6c627c754f15",
   "metadata": {},
   "outputs": [
    {
     "name": "stdout",
     "output_type": "stream",
     "text": [
      "1\n",
      "2\n",
      "fzz\n",
      "4\n",
      "bzz\n",
      "fzz\n",
      "7\n",
      "8\n",
      "fzz\n",
      "bzz\n",
      "11\n",
      "fzz\n",
      "13\n",
      "14\n",
      "fzzbzz\n"
     ]
    }
   ],
   "source": [
    "import re\n",
    "\n",
    "for n in range(1, 16):\n",
    "    print(re.sub(\"[aeiouAEIOU]\", \"\", fizzbuzz(n)))"
   ]
  },
  {
   "cell_type": "code",
   "execution_count": null,
   "id": "f1207ffb-13d2-477d-ac2a-2544fc109e8c",
   "metadata": {
    "tags": []
   },
   "outputs": [],
   "source": [
    "### Testability"
   ]
  },
  {
   "cell_type": "code",
   "execution_count": null,
   "id": "d0509aed-eb59-4d3c-b162-bbe577b9829c",
   "metadata": {},
   "outputs": [],
   "source": [
    "Approach:\n",
    "\n",
    "- Use list below as ground truth.\n",
    "- Solutions to the fizzbuzz problem are two types of functions: the first type return a list with all 100 values, the second type takes a number and return its fizbuzz value.\n",
    "- Create a test that compares lists of 100 values to the ground truth.\n",
    "- Can use this directly for first type of function, and after creating a list of 100 values using second type of function."
   ]
  },
  {
   "cell_type": "code",
   "execution_count": null,
   "id": "119714af-bc0c-4fc7-8cef-d2ebaff020bb",
   "metadata": {},
   "outputs": [],
   "source": [
    "Ground truth."
   ]
  },
  {
   "cell_type": "code",
   "execution_count": 5,
   "id": "4976f5e4-1896-458a-8a94-8b6d225a28b7",
   "metadata": {},
   "outputs": [],
   "source": [
    "FIZZ_BUZZ = [\n",
    "    '1', '2', 'fizz', '4', 'buzz', 'fizz', '7', '8', 'fizz',\n",
    "    'buzz', '11', 'fizz', '13', '14', 'fizzbuzz', '16', '17',\n",
    "    'fizz', '19', 'buzz', 'fizz', '22', '23', 'fizz', 'buzz',\n",
    "    '26', 'fizz', '28', '29', 'fizzbuzz', '31', '32', 'fizz',\n",
    "    '34', 'buzz', 'fizz', '37', '38', 'fizz', 'buzz', '41',\n",
    "    'fizz', '43', '44', 'fizzbuzz', '46', '47', 'fizz', '49',\n",
    "    'buzz', 'fizz', '52', '53', 'fizz', 'buzz', '56', 'fizz',\n",
    "    '58', '59', 'fizzbuzz', '61', '62', 'fizz', '64', 'buzz',\n",
    "    'fizz', '67', '68', 'fizz', 'buzz', '71', 'fizz', '73',\n",
    "    '74', 'fizzbuzz', '76', '77', 'fizz', '79', 'buzz',\n",
    "    'fizz', '82', '83', 'fizz', 'buzz', '86', 'fizz', '88',\n",
    "    '89', 'fizzbuzz', '91', '92', 'fizz', '94', 'buzz',\n",
    "    'fizz', '97', '98', 'fizz', 'buzz'\n",
    "]"
   ]
  },
  {
   "cell_type": "code",
   "execution_count": null,
   "id": "8c7fe937-31ac-4925-9934-e598f01788f5",
   "metadata": {},
   "outputs": [],
   "source": [
    "Test function design:\n",
    "- First check that length is correct to avoid unnecessary checking in case it isn't.\n",
    "- Create list of errors so we can see errors in case there are any (instead of just learning that the list is incorrect, which is not as helpful!).\n",
    "- Note elegant use of assert statements instead of if/else statements."
   ]
  },
  {
   "cell_type": "code",
   "execution_count": 5,
   "id": "fe975071-d48d-4b54-8060-aa0036136739",
   "metadata": {},
   "outputs": [],
   "source": [
    "from typing import List\n",
    "\n",
    "def check_output(output: List[str]) -> None:\n",
    "    assert len(output) == 100, \"Output should have length 100\"\n",
    "    \n",
    "    # Collect all errors in a list\n",
    "    # The i+1 reflects that output[0] is the output for 1,\n",
    "    # output[1] the output for 2, and so on\n",
    "    errors = [\n",
    "        f\"({i+1}) predicted: {output[i]}, actual: {FIZZ_BUZZ[i]}\"\n",
    "        for i in range(100)\n",
    "        if output[i] != FIZZ_BUZZ[i]\n",
    "    ]\n",
    "    \n",
    "    assert len(errors) == 0, f\"{errors}\""
   ]
  },
  {
   "cell_type": "code",
   "execution_count": null,
   "id": "f38dcbe2-c0a0-4561-a6a2-da99979e1f83",
   "metadata": {},
   "outputs": [],
   "source": [
    "Test we expect to pass:"
   ]
  },
  {
   "cell_type": "code",
   "execution_count": 6,
   "id": "61f0ec61-42d2-4f4e-80c4-ec8eb12affdf",
   "metadata": {},
   "outputs": [],
   "source": [
    "check_output([fizzbuzz(n) for n in range(1, 101)])"
   ]
  },
  {
   "cell_type": "code",
   "execution_count": null,
   "id": "292585f0-0640-47dc-b453-8259d75a3f27",
   "metadata": {},
   "outputs": [],
   "source": [
    "Test we expect to fail:"
   ]
  },
  {
   "cell_type": "code",
   "execution_count": 7,
   "id": "e99bd324-71d2-4ad9-b318-6e21d79eb280",
   "metadata": {},
   "outputs": [
    {
     "name": "stdout",
     "output_type": "stream",
     "text": [
      "['(45) predicted: ho, actual: fizzbuzz', '(90) predicted: ho, actual: fizzbuzz']\n"
     ]
    }
   ],
   "source": [
    "try:\n",
    "    check_output([fizzbuzz(n) if n % 45 !=0 else 'ho' for n in range(1, 101)])\n",
    "except AssertionError as e:\n",
    "    print(e)"
   ]
  },
  {
   "cell_type": "code",
   "execution_count": 8,
   "id": "5effd437-d992-464b-95b8-6eb3e6a9db18",
   "metadata": {},
   "outputs": [],
   "source": [
    "from typing import Callable\n",
    "\n",
    "def check_function(fizz_buzz: Callable[[int], str]) -> None:\n",
    "    \"\"\"\n",
    "    Type casting says that fizz_buzz needs to be a \n",
    "    function that takes a single argument (which is an `int`)\n",
    "    and returns a `str`.\n",
    "    \"\"\"\n",
    "    output = [fizz_buzz(n+1) for n in range(100)]\n",
    "    check_output(output)"
   ]
  },
  {
   "cell_type": "markdown",
   "id": "090dcf84-a494-46ad-9735-f24e405e53b4",
   "metadata": {},
   "source": [
    "Test we expect to pass:"
   ]
  },
  {
   "cell_type": "code",
   "execution_count": 7,
   "id": "454489da-0bab-4595-adb0-2cffe10d2f86",
   "metadata": {},
   "outputs": [],
   "source": [
    "check_function(fizzbuzz)"
   ]
  },
  {
   "cell_type": "markdown",
   "id": "b9a7ab54-f2c7-4be3-bbaa-15b6b8622668",
   "metadata": {},
   "source": [
    "More testing - anagram checker"
   ]
  },
  {
   "cell_type": "code",
   "execution_count": 8,
   "id": "bfc0cfb1-b0b9-4172-ba06-67770bc7bd38",
   "metadata": {},
   "outputs": [],
   "source": [
    "def anagrams(s1: str, s2: str) -> bool:\n",
    "    return sorted(s1) == sorted(s2)\n",
    "\n",
    "assert anagrams('abc', 'cba')\n",
    "assert anagrams('lead', 'deal')\n",
    "assert not anagrams('then', 'than')\n",
    "assert not anagrams('meet', 'meat')"
   ]
  },
  {
   "cell_type": "markdown",
   "id": "d0772a4d-44fc-43b5-bf39-99f16210ad31",
   "metadata": {},
   "source": [
    "More testing - generate print statements"
   ]
  },
  {
   "cell_type": "code",
   "execution_count": 9,
   "id": "3950b5f5-555d-45ea-b6d4-02134a91cef5",
   "metadata": {},
   "outputs": [
    {
     "name": "stdout",
     "output_type": "stream",
     "text": [
      "print('1')\n",
      "print('2')\n",
      "print('fizz')\n",
      "print('4')\n",
      "print('buzz')\n"
     ]
    }
   ],
   "source": [
    "def make_print_statement(fizz_buzz: str) -> str:\n",
    "    return f\"print('{fizz_buzz}')\"\n",
    "\n",
    "assert make_print_statement('10') == \"print('10')\"\n",
    "assert make_print_statement('fizz') == \"print('fizz')\"\n",
    "assert make_print_statement('buzz') == \"print('buzz')\"\n",
    "assert make_print_statement('fizzbuzz') == \"print('fizzbuzz')\"\n",
    "\n",
    "for fizz_buzz in FIZZ_BUZZ[:5]:\n",
    "    print(make_print_statement(fizz_buzz))"
   ]
  },
  {
   "cell_type": "markdown",
   "id": "d4afc419-066b-4fbc-89fc-684303bfdf9f",
   "metadata": {},
   "source": [
    "## Chapter 2 - if / elif / elif / else"
   ]
  },
  {
   "cell_type": "markdown",
   "id": "6d54bde8-89a9-4bec-8ed8-2b3117d152aa",
   "metadata": {},
   "source": [
    "This section discusses different solutions that solve the problem without using the modulus operator."
   ]
  },
  {
   "cell_type": "markdown",
   "id": "f440d4c1-80cb-40f1-a94c-af31b8d58918",
   "metadata": {},
   "source": [
    "### The canonical solution\n",
    "\n",
    "(And the way I have solved it.)"
   ]
  },
  {
   "cell_type": "markdown",
   "id": "a27a9af6-43ed-4bfd-b56c-c3b9ba285cd9",
   "metadata": {
    "tags": []
   },
   "source": [
    "### Repeated subtraction\n",
    "\n",
    "Avoid using modulus to check divisibility by using repeated subtraction."
   ]
  },
  {
   "cell_type": "code",
   "execution_count": 15,
   "id": "71e25032-193a-43f1-8a03-4c6aee950152",
   "metadata": {},
   "outputs": [],
   "source": [
    "def is_divisible_subtract(n: int, d: int) -> bool:\n",
    "    assert d > 0 and n >= 0\n",
    "    \n",
    "    # Subtract d from n until result is smaller than d.\n",
    "    while n >= d:\n",
    "        n -= d\n",
    "    \n",
    "    # If we reached zero, n was divisible by d.\n",
    "    return n == 0"
   ]
  },
  {
   "cell_type": "markdown",
   "id": "5f39a3dc-731f-4213-90cb-5bd9434daef5",
   "metadata": {},
   "source": [
    "Manual testing"
   ]
  },
  {
   "cell_type": "code",
   "execution_count": 16,
   "id": "be981b17-329b-40fe-ac4c-626397d504b9",
   "metadata": {},
   "outputs": [],
   "source": [
    "divisible_pairs = [\n",
    "    (0, 3), (3, 3), (6, 3), (9, 3),\n",
    "    (0, 5), (5, 5), (10, 5), (100, 5),\n",
    "    (40, 20), (300, 15), (1000, 50)\n",
    "]\n",
    "\n",
    "not_divisible_pairs = [\n",
    "    (1, 3), (4, 3), (5, 3), (8, 3),\n",
    "    (1, 5), (6, 5), (13, 5), (101, 5),\n",
    "    (41, 20), (303, 15), (999, 50)\n",
    "]\n",
    "\n",
    "for n, d in divisible_pairs:\n",
    "    assert is_divisible_subtract(n, d)\n",
    "    \n",
    "for n, d in not_divisible_pairs:\n",
    "    assert not is_divisible_subtract(n, d)"
   ]
  },
  {
   "cell_type": "markdown",
   "id": "774dae04-5e2f-44e8-9d18-62bc1db13a8d",
   "metadata": {},
   "source": [
    "Using hypothesis"
   ]
  },
  {
   "cell_type": "code",
   "execution_count": null,
   "id": "f67e00df-49b8-4c0c-be7a-fe32df07865e",
   "metadata": {},
   "outputs": [
    {
     "name": "stdout",
     "output_type": "stream",
     "text": [
      "n: 0, d: 1\n",
      "n: 0, d: 1\n",
      "n: 27592, d: 18\n",
      "n: 0, d: 1\n",
      "n: 0, d: 1\n",
      "n: 71, d: 11580\n",
      "n: 0, d: 1\n",
      "n: 1645513541, d: 21453\n",
      "n: 0, d: 1\n",
      "n: 22756, d: 1864585566\n",
      "n: 0, d: 1\n",
      "n: 12728, d: 12779\n",
      "n: 12728, d: 12779\n",
      "n: 12728, d: 12729\n",
      "n: 12728, d: 12729\n",
      "n: 19422, d: 7866\n",
      "n: 7865, d: 7866\n",
      "n: 4808, d: 14590\n",
      "n: 14589, d: 14590\n",
      "n: 14589, d: 14590\n",
      "n: 352797536645655735, d: 5299700580723550389\n",
      "n: 352797536645655735, d: 352797536645655736\n",
      "n: 85015918816107155538282260884268790375, d: 10764\n"
     ]
    }
   ],
   "source": [
    "@given(n=st.integers(min_value=0), d=st.integers(min_value=1))\n",
    "def test_is_divisible_subtract(n: int, d: int):\n",
    "    print(f\"n: {n}, d: {d}\")\n",
    "    assert is_divisible_subtract(n, d) == (n % d == 0)\n",
    "    \n",
    "test_is_divisible_subtract()"
   ]
  },
  {
   "cell_type": "markdown",
   "id": "2e2ef620-fb74-4407-88c1-2e61d1f644cb",
   "metadata": {},
   "source": [
    "This gets stuck when testing for a very large n, since that would take a very long time to compute."
   ]
  },
  {
   "cell_type": "markdown",
   "id": "1dca47ce-b8cf-4a75-92d2-70b99676efeb",
   "metadata": {},
   "source": [
    "### Largest power\n",
    "\n",
    "To avoid getting stuck, subtract instead the largest power of d that is smaller or equal to n (a power of d is a number of the form d ** k, with k being a positive [integer](https://en.wikipedia.org/wiki/Exponentiation))."
   ]
  },
  {
   "cell_type": "code",
   "execution_count": null,
   "id": "d927f039-fc8a-4648-91d8-3ecc86030e04",
   "metadata": {},
   "outputs": [],
   "source": [
    "def largest_power(d: int, n: int) -> int:\n",
    "    \"\"\"\n",
    "    Returns largest power of d (d ** k) that is smaller or equal to n.\n",
    "    \"\"\"\n",
    "    assert 1 < d <= n, \"This only works for 1 < d <= n\"\n",
    "    \n",
    "    power = d\n",
    "    \n",
    "    while power * d <= n:\n",
    "        power *= d\n",
    "    \n",
    "    return power\n",
    "    \n",
    "\n",
    "assert largest_power(3, 8) == 3\n",
    "assert largest_power(3, 9) == 9\n",
    "assert largest_power(5, 24) == 5\n",
    "assert largest_power(5, 25) == 25"
   ]
  },
  {
   "cell_type": "markdown",
   "id": "cfd88bf1-d89f-45bf-92c9-acb9254091b6",
   "metadata": {},
   "source": [
    "Using logs instead."
   ]
  },
  {
   "cell_type": "code",
   "execution_count": 23,
   "id": "b304b2b2-139d-482c-b995-e409fbe9aca5",
   "metadata": {},
   "outputs": [],
   "source": [
    "def largest_power(d: int, n: int) -> int:\n",
    "    \"\"\"\n",
    "    Returns largest power of d (d ** k) that is smaller or equal to n.\n",
    "    \n",
    "    Uses:\n",
    "    d ** k <= n < d ** (k + 1)\n",
    "    k log(d) <= log(n) < (k + 1) log(d)\n",
    "    k <= log(n) / log(d) < k + 1\n",
    "    \"\"\"\n",
    "    assert 1 < d <= n, \"This only works for 1 < d <= n\"\n",
    "    \n",
    "    # int() rounds down to next integer value\n",
    "    k = int(math.log(n) / math.log(d))\n",
    "    return d ** k"
   ]
  },
  {
   "cell_type": "markdown",
   "id": "a5a39254-bbad-45c9-a959-3b32f68229f0",
   "metadata": {},
   "source": [
    "Testing as usual."
   ]
  },
  {
   "cell_type": "code",
   "execution_count": 24,
   "id": "c28b0a21-d242-4588-a13b-20c1cbe941e8",
   "metadata": {},
   "outputs": [],
   "source": [
    "@given(n=st.integers(min_value=1), d=st.integers(min_value=2))\n",
    "def test_largest_power(d: int, n: int):\n",
    "    if d <= n:\n",
    "        dk = largest_power(d, n)\n",
    "        assert dk <= n < dk * d\n",
    "        \n",
    "test_largest_power()"
   ]
  },
  {
   "cell_type": "markdown",
   "id": "4e8db122-2c8e-46ea-9864-d5e77c4349b2",
   "metadata": {},
   "source": [
    "Using this in divisible subtract."
   ]
  },
  {
   "cell_type": "code",
   "execution_count": 25,
   "id": "a677f6cd-2887-400f-87b2-ddc27e4c08b0",
   "metadata": {},
   "outputs": [],
   "source": [
    "def divisible_subtract_fast(n: int, d: int) -> bool:\n",
    "    # All numbers are divisible by 1\n",
    "    if d == 1:\n",
    "        return True\n",
    "\n",
    "    while n >= d:\n",
    "        # Subtract largest power of d that's smaller or equal to n\n",
    "        n -= largest_power(d, n)\n",
    "\n",
    "    # If n is divisible by d, then n is now zero\n",
    "    return n == 0"
   ]
  },
  {
   "cell_type": "markdown",
   "id": "7bddafd2-9db4-4d42-821f-583f9ffa465a",
   "metadata": {},
   "source": [
    "Test again."
   ]
  },
  {
   "cell_type": "code",
   "execution_count": 29,
   "id": "e101f5ac-3ae4-4a4f-8498-c3076b7b056f",
   "metadata": {},
   "outputs": [],
   "source": [
    "@given(n=st.integers(min_value=0), d=st.integers(min_value=1))\n",
    "def test_divisible_subtract_fast(n: int, d:int):\n",
    "    assert divisible_subtract_fast(n, d) == (n % d == 0)\n",
    "       \n",
    "test_divisible_subtract_fast()"
   ]
  },
  {
   "cell_type": "markdown",
   "id": "7631f36e-b142-4bd7-915d-fec915cb979d",
   "metadata": {},
   "source": [
    "### Well-known tricks\n",
    "\n",
    "- A number is divisible by 5 if and only if its last digit is 0 or 5.\n",
    "- A number is divisible by 3 if and only if the sum of its digits is divisible by 3.\n",
    "- We can use this to solve fizzbuzz without divisions."
   ]
  },
  {
   "cell_type": "markdown",
   "id": "57707593-d457-4d31-84c9-fe861599b3df",
   "metadata": {},
   "source": [
    "Divisible by 5"
   ]
  },
  {
   "cell_type": "code",
   "execution_count": 10,
   "id": "7881e4ab-e044-4d17-ac7a-7aa1b880629b",
   "metadata": {},
   "outputs": [],
   "source": [
    "def last_digit(n: int) -> int:\n",
    "    \"\"\"Returns last digit of n.\"\"\"\n",
    "    return int(str(n)[-1])\n",
    "\n",
    "\n",
    "assert last_digit(1) == 1\n",
    "assert last_digit(11) == 1\n",
    "assert last_digit(111) == 1\n",
    "assert last_digit(12) == 2\n",
    "assert last_digit(123) == 3"
   ]
  },
  {
   "cell_type": "code",
   "execution_count": 11,
   "id": "1217161d-844b-4283-8b16-6940147dee12",
   "metadata": {},
   "outputs": [],
   "source": [
    "def is_divisible_by_5(n: int) -> bool:\n",
    "    # A number is divisible by 5 iff its last digit is 0 or 5\n",
    "    return last_digit(n) in [0, 5]\n",
    "\n",
    "\n",
    "@given(n=st.integers())\n",
    "def test_is_divisible_by_5(n:int):\n",
    "    assert is_divisible_by_5(n) == (n % 5 == 0)\n",
    "    \n",
    "test_is_divisible_by_5()"
   ]
  },
  {
   "cell_type": "markdown",
   "id": "157acc94-e06d-4d12-9df8-27374d0ce53b",
   "metadata": {},
   "source": [
    "Divisible by 3"
   ]
  },
  {
   "cell_type": "code",
   "execution_count": 12,
   "id": "6ffe0e93-ad48-4071-9882-ff00578fde89",
   "metadata": {},
   "outputs": [],
   "source": [
    "def sum_of_digits(n: int) -> int:\n",
    "    \"\"\"Returns sum of digits of n.\"\"\"\n",
    "    return sum(int(d) for d in str(n))\n",
    "\n",
    "assert sum_of_digits(1) == 1\n",
    "assert sum_of_digits(12) == 3\n",
    "assert sum_of_digits(123) == 6\n",
    "assert sum_of_digits(123456) == 21"
   ]
  },
  {
   "cell_type": "code",
   "execution_count": 13,
   "id": "7b038552-dbe9-4639-a8e0-af1222438258",
   "metadata": {},
   "outputs": [
    {
     "name": "stdout",
     "output_type": "stream",
     "text": [
      "maximum recursion depth exceeded while calling a Python object\n"
     ]
    }
   ],
   "source": [
    "def is_divisible_by_3_wrong(n: int) -> bool:\n",
    "    return is_divisible_by_3_wrong(sum_of_digits(n))\n",
    "\n",
    "try:\n",
    "    is_divisible_by_3_wrong(21)\n",
    "except RecursionError as e:\n",
    "    print(e)"
   ]
  },
  {
   "cell_type": "markdown",
   "id": "546ff6b0-6c4b-437e-b023-e8f171a29f13",
   "metadata": {},
   "source": [
    "Above leads to an infinite recursion because we are missing a base case.\n",
    "\n",
    "To identify the base case, notice that:\n",
    "\n",
    "1. For any number with more than 3 digits, its sum has fewer than 3 digits (hence, large numbers start to \"shrink\" as we sum their digits).\n",
    "2. For any number with 2 digits, its sum is at most 18.\n",
    "3. For any number of 18 or less, its sum is at most 9.\n",
    "\n",
    "Hence, repeatedly summing digits starting from any positive number eventually leads to a number smaller than 10."
   ]
  },
  {
   "cell_type": "code",
   "execution_count": 14,
   "id": "12d912bf-ebf2-4534-b38a-0f9ca608ec1a",
   "metadata": {},
   "outputs": [],
   "source": [
    "def is_divisible_by_3(n: int) -> bool:\n",
    "    \"\"\"My version.\"\"\"\n",
    "    if n < 10:\n",
    "        return n in [0, 3, 6, 9]\n",
    "    return is_divisible_by_3(sum_of_digits(n))\n",
    "\n",
    "\n",
    "def is_divisible_by_3(n: int) -> bool:\n",
    "    \"\"\"More elegant Grus version.\"\"\"\n",
    "    while n > 10:\n",
    "        n = sum_of_digits(n)\n",
    "    \n",
    "    # Now n is a single digit number, and we can\n",
    "    # check directly whether it's divisible by 3.\n",
    "    return n in [0, 3, 6, 9]\n",
    "\n",
    "\n",
    "@given(n=st.integers())\n",
    "def test_is_divisible_by_3(n: int):\n",
    "    assert is_divisible_by_3(n) == (n % 3 == 0)"
   ]
  },
  {
   "cell_type": "markdown",
   "id": "5213a360-d388-4371-a26f-e89a2c1aecc7",
   "metadata": {},
   "source": [
    "Modulus-free fizzbuzz solution."
   ]
  },
  {
   "cell_type": "code",
   "execution_count": 25,
   "id": "2cfe28fd-ed31-4b03-84df-e034cbaefeb5",
   "metadata": {},
   "outputs": [],
   "source": [
    "def fizzbuzz_modulus_free(n: int) -> str:\n",
    "    \"\"\"My version.\"\"\"\n",
    "    if is_divisible_by_5(n) and is_divisible_by_3(n):\n",
    "        return \"fizzbuzz\"\n",
    "    elif is_divisible_by_5(n):\n",
    "        return \"buzz\"\n",
    "    elif is_divisible_by_3(n):\n",
    "        return \"fizz\"\n",
    "    else:\n",
    "        return str(n)\n",
    "\n",
    "def fizzbuzz_modulus_free(n: int) -> str:\n",
    "    \"\"\"Grus version.\"\"\"\n",
    "    by5 = is_divisible_by_5(n)\n",
    "    by3 = is_divisible_by_3(n)\n",
    "    \n",
    "    if by5 and by3:\n",
    "        return \"fizzbuzz\"\n",
    "    elif by5:\n",
    "        return \"buzz\"\n",
    "    elif by3:\n",
    "        return \"fizz\"\n",
    "    else:\n",
    "        return str(n)\n",
    "    \n",
    "\n",
    "# Testing\n",
    "check_function(fizzbuzz_modulus_free)"
   ]
  },
  {
   "cell_type": "markdown",
   "id": "f0643154-ae5d-402b-9db1-c13742efb3f7",
   "metadata": {},
   "source": [
    "### Eliminating elif"
   ]
  },
  {
   "cell_type": "markdown",
   "id": "55469725-6df9-4e39-8654-3a030aa37189",
   "metadata": {},
   "source": [
    "Using dictionary lookup."
   ]
  },
  {
   "cell_type": "code",
   "execution_count": 24,
   "id": "cadcda1f-c046-428d-aeac-e7c220a8c7db",
   "metadata": {},
   "outputs": [],
   "source": [
    "def fizzbuzz_dict(n: int) -> str:\n",
    "    by5 = is_divisible_by_5(n)\n",
    "    by3 = is_divisible_by_3(n)\n",
    "    \n",
    "    return {\n",
    "        (True, True): \"fizzbuzz\",\n",
    "        (True, False): \"buzz\",\n",
    "        (False, True): \"fizz\",\n",
    "        (False, False): str(n)\n",
    "    }[by5, by3]\n",
    "\n",
    "# Testing\n",
    "check_function(fizzbuzz_dict)"
   ]
  },
  {
   "cell_type": "markdown",
   "id": "b4fae7bc-761b-4945-a31e-8e22e6fa773c",
   "metadata": {},
   "source": [
    "Using list lookup."
   ]
  },
  {
   "cell_type": "code",
   "execution_count": 27,
   "id": "4ad4ef71-f83d-4ac0-a983-05e6acd23d64",
   "metadata": {},
   "outputs": [],
   "source": [
    "def fizzbuzz_list_lookup(n: int) -> str:\n",
    "    idx = [n % 15, n % 5, n % 3, 0].index(0)\n",
    "    return [\"fizzbuzz\", \"buzz\", \"fizz\", str(n)][idx]\n",
    "\n",
    "\n",
    "# Testing\n",
    "check_function(fizzbuzz_list_lookup)"
   ]
  },
  {
   "cell_type": "markdown",
   "id": "557fac58-dcae-4d7a-a431-1bb180467084",
   "metadata": {},
   "source": [
    "### Sentinel values and the sentinel object pattern\n",
    "\n",
    "- Mainly based on [The Sentinel Object Pattern](https://python-patterns.guide/python/sentinel-object/) by Brandon Rhodes.\n",
    "\n",
    "- A sentinel value is a placeholder that signifies the absence of data (e.g. object attribute, entire object, unsupplied argument in a function, etc.).\n",
    "\n",
    "- The challenge is how to choose that placeholder so that it is distinguishable from useful data.\n",
    "\n",
    "- The standard Python sentinel is the built-in `None` object."
   ]
  },
  {
   "cell_type": "markdown",
   "id": "b3ece8dd-5220-4109-b49b-a888bacbc1f7",
   "metadata": {},
   "source": [
    "- **Example**: `index(\"pattern\")` tries to return the first occurrence of \"pattern\" in string and returns a `ValueError` on failure. In contrast, `find()` tries to do the same but returns `-1` on failuere - `-1` is a sentinel value."
   ]
  },
  {
   "cell_type": "code",
   "execution_count": 10,
   "id": "da30a8dd-58b2-45c1-999f-a12394204ab5",
   "metadata": {},
   "outputs": [
    {
     "name": "stdout",
     "output_type": "stream",
     "text": [
      "substring not found\n"
     ]
    }
   ],
   "source": [
    "try:\n",
    "    'ab'.index('c')\n",
    "except ValueError as e:\n",
    "    print(e)"
   ]
  },
  {
   "cell_type": "code",
   "execution_count": 11,
   "id": "78855870-6e53-45f0-b139-728820ae0b2c",
   "metadata": {},
   "outputs": [
    {
     "data": {
      "text/plain": [
       "-1"
      ]
     },
     "execution_count": 11,
     "metadata": {},
     "output_type": "execute_result"
    }
   ],
   "source": [
    "'ab'.find('c')"
   ]
  },
  {
   "cell_type": "markdown",
   "id": "dfefa138-8267-4c96-909c-31075a461081",
   "metadata": {},
   "source": [
    "- There are two cases where this is not possible, in which case we use the can sentinel object pattern, which involves creating a featureless [object](https://docs.python.org/3/library/functions.html#object) that is the dedicated sentinel value. "
   ]
  },
  {
   "cell_type": "markdown",
   "id": "b76dbd94-5640-438b-b373-2f12ec12efe8",
   "metadata": {},
   "source": [
    "#### `None` is useful data.\n",
    "\n",
    "- Example: The standard library's `functools.lru_cache` needs to distinguish between cases where a value was cached and was `None` and cases where no value has been cached yet. The below achieves this. (`cache_get` is an alias for `dict.get()`.)"
   ]
  },
  {
   "cell_type": "code",
   "execution_count": null,
   "id": "741ee6ee",
   "metadata": {},
   "outputs": [],
   "source": [
    "sentinel = object()\n",
    "result = cache_get(key, sentinel)\n",
    "if result is not sentinel:\n",
    "    ..."
   ]
  },
  {
   "cell_type": "markdown",
   "id": "7f62a735-8239-4b3a-9d68-b2d816ab3e7f",
   "metadata": {},
   "source": [
    "#### `None` is a function argument.\n",
    "\n",
    "\n",
    "- Sometimes, a function call needs to differentiate between no value supplied for given argument or `None` supplied for said argument.\n",
    "- Example: in below greeting function, we want to distinguish case were no titel is supplied and where caller passes in `None` for the title."
   ]
  },
  {
   "cell_type": "code",
   "execution_count": 14,
   "id": "c6629a2a",
   "metadata": {},
   "outputs": [],
   "source": [
    "sentinel = object()\n",
    "\n",
    "def greet(name: str, title = sentinel) -> str:\n",
    "    if title is sentinel:\n",
    "        # No title supplied\n",
    "        return f\"Hello {name}\"\n",
    "    elif title is None:\n",
    "        # Caller explicitly provided None\n",
    "        return f\"Hello {name} with no title\"\n",
    "    else:\n",
    "        return f\"Hello {title} {name}\"\n",
    "\n",
    "\n",
    "assert greet('Joel') == \"Hello Joel\"\n",
    "assert greet(\"Joel\", None) == \"Hello Joel with no title\"\n",
    "assert greet(\"Joel\", \"Mr.\") == \"Hello Mr. Joel\""
   ]
  },
  {
   "cell_type": "markdown",
   "id": "ba14d996-6862-4d8c-9e08-4bbaacae3b93",
   "metadata": {},
   "source": [
    "### Printing result in groups of 15"
   ]
  },
  {
   "cell_type": "code",
   "execution_count": 7,
   "id": "ffc313f0-aa56-42aa-8509-3843b5cdb6c8",
   "metadata": {},
   "outputs": [
    {
     "name": "stdout",
     "output_type": "stream",
     "text": [
      "- - f - b f - - f b - f - - fb\n",
      "- - f - b f - - f b - f - - fb\n",
      "- - f - b f - - f b - f - - fb\n",
      "- - f - b f - - f b - f - - fb\n",
      "- - f - b f - - f b - f - - fb\n",
      "- - f - b f - - f b - f - - fb\n",
      "- - f - b f - - f b\n"
     ]
    }
   ],
   "source": [
    "# Remap to shorter outputs\n",
    "remap = {'fizz': 'f', 'buzz': 'b', 'fizzbuzz': 'fb'}\n",
    "output = [remap.get(fizzbuzz(n), '-') for n in range(1, 101)]\n",
    "\n",
    "for start in range(0, 100, 15):\n",
    "    group = output[start:start+15]\n",
    "    print(' '.join(group))"
   ]
  },
  {
   "cell_type": "markdown",
   "id": "758d98b2-686c-4460-8bd7-1ef581f1fe5e",
   "metadata": {},
   "source": [
    "### `dict.get()` solution"
   ]
  },
  {
   "cell_type": "code",
   "execution_count": 9,
   "id": "f6e1a12b-9c2f-4764-a888-a18cfb5ae2a3",
   "metadata": {},
   "outputs": [],
   "source": [
    "DICT_OF_15 = {\n",
    "    3: 'fizz', 6: 'fizz', 9: 'fizz', 12: 'fizz',\n",
    "    5: 'buzz', 10: 'buzz',\n",
    "    0: 'fizzbuzz',\n",
    "}\n",
    "\n",
    "def fizzbuzz_15(n: int) -> str:\n",
    "    return DICT_OF_15.get(n % 15, str(n))\n",
    "\n",
    "\n",
    "check_function(fizzbuzz_15)"
   ]
  }
 ],
 "metadata": {
  "kernelspec": {
   "display_name": "wow",
   "language": "python",
   "name": "wow"
  },
  "language_info": {
   "codemirror_mode": {
    "name": "ipython",
    "version": 3
   },
   "file_extension": ".py",
   "mimetype": "text/x-python",
   "name": "python",
   "nbconvert_exporter": "python",
   "pygments_lexer": "ipython3",
   "version": "3.10.4"
  }
 },
 "nbformat": 4,
 "nbformat_minor": 5
}
