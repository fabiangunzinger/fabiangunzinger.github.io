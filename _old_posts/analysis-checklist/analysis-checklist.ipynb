{
 "cells": [
  {
   "cell_type": "markdown",
   "metadata": {},
   "source": [
    "A list of checklists to ensure consistency and quality across key data science\n",
    "tasks."
   ]
  },
  {
   "cell_type": "code",
   "execution_count": 1,
   "metadata": {},
   "outputs": [],
   "source": [
    "import pandas as pd\n",
    "import seaborn as sns\n",
    "\n",
    "sns.set_style(\"whitegrid\")"
   ]
  },
  {
   "cell_type": "markdown",
   "metadata": {},
   "source": [
    "## General\n",
    "\n",
    "- Use samples of different sized for code development if useful, but don't\n",
    "  switch back and forth between samples for analysis (might get hung up on\n",
    "  explaining small sample artifacts).\n",
    "  \n",
    "- Do not rename variables in a dataset unless there is a very good reason for it (doing so makes it harder to communicate with stakeholders and other researchers using the same data). I used to do this because I preferred short and logical names, which you often don't get in a dataset. Renaming makes more and more sense the longer you will be working with a dataset, and the fewer other people work with it and are generally involved in the project.\n",
    "\n",
    "- Do not drop (non-redundant) variables in the cleaning state (you might use those columns even if you don't think you will)."
   ]
  },
  {
   "cell_type": "markdown",
   "metadata": {},
   "source": [
    "## Questions to ask when starting to work with dataset\n",
    "\n",
    "- What is the unit of analysis? (e.g. rider? rider-hour? rider-zone-hour?)"
   ]
  },
  {
   "cell_type": "markdown",
   "metadata": {},
   "source": [
    "## Data"
   ]
  },
  {
   "cell_type": "markdown",
   "metadata": {},
   "source": [
    "### Storage"
   ]
  },
  {
   "cell_type": "markdown",
   "metadata": {},
   "source": [
    "### Import"
   ]
  },
  {
   "cell_type": "code",
   "execution_count": 32,
   "metadata": {},
   "outputs": [
    {
     "data": {
      "text/html": [
       "<div>\n",
       "<style scoped>\n",
       "    .dataframe tbody tr th:only-of-type {\n",
       "        vertical-align: middle;\n",
       "    }\n",
       "\n",
       "    .dataframe tbody tr th {\n",
       "        vertical-align: top;\n",
       "    }\n",
       "\n",
       "    .dataframe thead th {\n",
       "        text-align: right;\n",
       "    }\n",
       "</style>\n",
       "<table border=\"1\" class=\"dataframe\">\n",
       "  <thead>\n",
       "    <tr style=\"text-align: right;\">\n",
       "      <th></th>\n",
       "      <th>Date</th>\n",
       "      <th>Product_id</th>\n",
       "      <th>Competitor_id</th>\n",
       "      <th>Competitor_Price</th>\n",
       "    </tr>\n",
       "  </thead>\n",
       "  <tbody>\n",
       "    <tr>\n",
       "      <th>0</th>\n",
       "      <td>2013-11-25</td>\n",
       "      <td>4.0</td>\n",
       "      <td>C</td>\n",
       "      <td>74.95</td>\n",
       "    </tr>\n",
       "    <tr>\n",
       "      <th>1</th>\n",
       "      <td>2013-11-25</td>\n",
       "      <td>4.0</td>\n",
       "      <td>D</td>\n",
       "      <td>74.95</td>\n",
       "    </tr>\n",
       "    <tr>\n",
       "      <th>2</th>\n",
       "      <td>2013-11-25</td>\n",
       "      <td>4.0</td>\n",
       "      <td>E</td>\n",
       "      <td>75.00</td>\n",
       "    </tr>\n",
       "  </tbody>\n",
       "</table>\n",
       "</div>"
      ],
      "text/plain": [
       "        Date  Product_id Competitor_id  Competitor_Price\n",
       "0 2013-11-25         4.0             C             74.95\n",
       "1 2013-11-25         4.0             D             74.95\n",
       "2 2013-11-25         4.0             E             75.00"
      ]
     },
     "execution_count": 32,
     "metadata": {},
     "output_type": "execute_result"
    }
   ],
   "source": [
    "df = pd.read_csv(\"competitor_prices.csv\", parse_dates=['Date'])\n",
    "df.head(3)"
   ]
  },
  {
   "cell_type": "markdown",
   "metadata": {},
   "source": [
    "### Inspection"
   ]
  },
  {
   "cell_type": "code",
   "execution_count": 33,
   "metadata": {},
   "outputs": [
    {
     "name": "stdout",
     "output_type": "stream",
     "text": [
      "<class 'pandas.core.frame.DataFrame'>\n",
      "RangeIndex: 15395 entries, 0 to 15394\n",
      "Data columns (total 4 columns):\n",
      " #   Column            Non-Null Count  Dtype         \n",
      "---  ------            --------------  -----         \n",
      " 0   Date              15132 non-null  datetime64[ns]\n",
      " 1   Product_id        15132 non-null  float64       \n",
      " 2   Competitor_id     15132 non-null  object        \n",
      " 3   Competitor_Price  15132 non-null  float64       \n",
      "dtypes: datetime64[ns](1), float64(2), object(1)\n",
      "memory usage: 481.2+ KB\n"
     ]
    }
   ],
   "source": [
    "# Check available variables and whether types are reasonable\n",
    "\n",
    "df.info()"
   ]
  },
  {
   "cell_type": "code",
   "execution_count": 34,
   "metadata": {},
   "outputs": [
    {
     "data": {
      "text/html": [
       "<div>\n",
       "<style scoped>\n",
       "    .dataframe tbody tr th:only-of-type {\n",
       "        vertical-align: middle;\n",
       "    }\n",
       "\n",
       "    .dataframe tbody tr th {\n",
       "        vertical-align: top;\n",
       "    }\n",
       "\n",
       "    .dataframe thead th {\n",
       "        text-align: right;\n",
       "    }\n",
       "</style>\n",
       "<table border=\"1\" class=\"dataframe\">\n",
       "  <thead>\n",
       "    <tr style=\"text-align: right;\">\n",
       "      <th></th>\n",
       "      <th>Date</th>\n",
       "      <th>Product_id</th>\n",
       "      <th>Competitor_id</th>\n",
       "      <th>Competitor_Price</th>\n",
       "    </tr>\n",
       "  </thead>\n",
       "  <tbody>\n",
       "    <tr>\n",
       "      <th>841</th>\n",
       "      <td>2013-12-16</td>\n",
       "      <td>33.0</td>\n",
       "      <td>D</td>\n",
       "      <td>64.40</td>\n",
       "    </tr>\n",
       "    <tr>\n",
       "      <th>2722</th>\n",
       "      <td>2014-02-18</td>\n",
       "      <td>126.0</td>\n",
       "      <td>E</td>\n",
       "      <td>124.95</td>\n",
       "    </tr>\n",
       "    <tr>\n",
       "      <th>894</th>\n",
       "      <td>2013-08-12</td>\n",
       "      <td>51.0</td>\n",
       "      <td>D</td>\n",
       "      <td>80.85</td>\n",
       "    </tr>\n",
       "    <tr>\n",
       "      <th>8594</th>\n",
       "      <td>2013-09-12</td>\n",
       "      <td>302.0</td>\n",
       "      <td>C</td>\n",
       "      <td>119.95</td>\n",
       "    </tr>\n",
       "    <tr>\n",
       "      <th>14068</th>\n",
       "      <td>2013-12-15</td>\n",
       "      <td>405.0</td>\n",
       "      <td>D</td>\n",
       "      <td>38.75</td>\n",
       "    </tr>\n",
       "    <tr>\n",
       "      <th>12120</th>\n",
       "      <td>2013-12-12</td>\n",
       "      <td>368.0</td>\n",
       "      <td>D</td>\n",
       "      <td>30.00</td>\n",
       "    </tr>\n",
       "    <tr>\n",
       "      <th>12596</th>\n",
       "      <td>2014-02-18</td>\n",
       "      <td>380.0</td>\n",
       "      <td>D</td>\n",
       "      <td>59.15</td>\n",
       "    </tr>\n",
       "    <tr>\n",
       "      <th>15380</th>\n",
       "      <td>NaT</td>\n",
       "      <td>NaN</td>\n",
       "      <td>NaN</td>\n",
       "      <td>NaN</td>\n",
       "    </tr>\n",
       "    <tr>\n",
       "      <th>5293</th>\n",
       "      <td>2014-02-13</td>\n",
       "      <td>192.0</td>\n",
       "      <td>D</td>\n",
       "      <td>68.15</td>\n",
       "    </tr>\n",
       "    <tr>\n",
       "      <th>10872</th>\n",
       "      <td>2014-12-03</td>\n",
       "      <td>331.0</td>\n",
       "      <td>D</td>\n",
       "      <td>39.50</td>\n",
       "    </tr>\n",
       "  </tbody>\n",
       "</table>\n",
       "</div>"
      ],
      "text/plain": [
       "            Date  Product_id Competitor_id  Competitor_Price\n",
       "841   2013-12-16        33.0             D             64.40\n",
       "2722  2014-02-18       126.0             E            124.95\n",
       "894   2013-08-12        51.0             D             80.85\n",
       "8594  2013-09-12       302.0             C            119.95\n",
       "14068 2013-12-15       405.0             D             38.75\n",
       "12120 2013-12-12       368.0             D             30.00\n",
       "12596 2014-02-18       380.0             D             59.15\n",
       "15380        NaT         NaN           NaN               NaN\n",
       "5293  2014-02-13       192.0             D             68.15\n",
       "10872 2014-12-03       331.0             D             39.50"
      ]
     },
     "execution_count": 34,
     "metadata": {},
     "output_type": "execute_result"
    }
   ],
   "source": [
    "# Look at raw samples to get feel for coding, missingness, anomalies, etc.\n",
    "df.sample(n=10)"
   ]
  },
  {
   "cell_type": "code",
   "execution_count": 35,
   "metadata": {},
   "outputs": [
    {
     "data": {
      "text/html": [
       "<div>\n",
       "<style scoped>\n",
       "    .dataframe tbody tr th:only-of-type {\n",
       "        vertical-align: middle;\n",
       "    }\n",
       "\n",
       "    .dataframe tbody tr th {\n",
       "        vertical-align: top;\n",
       "    }\n",
       "\n",
       "    .dataframe thead th {\n",
       "        text-align: right;\n",
       "    }\n",
       "</style>\n",
       "<table border=\"1\" class=\"dataframe\">\n",
       "  <thead>\n",
       "    <tr style=\"text-align: right;\">\n",
       "      <th></th>\n",
       "      <th>Date</th>\n",
       "      <th>Product_id</th>\n",
       "      <th>Competitor_Price</th>\n",
       "    </tr>\n",
       "  </thead>\n",
       "  <tbody>\n",
       "    <tr>\n",
       "      <th>count</th>\n",
       "      <td>15132</td>\n",
       "      <td>15132.000000</td>\n",
       "      <td>15132.000000</td>\n",
       "    </tr>\n",
       "    <tr>\n",
       "      <th>mean</th>\n",
       "      <td>2014-01-01 18:46:32.069785856</td>\n",
       "      <td>248.535223</td>\n",
       "      <td>85.339813</td>\n",
       "    </tr>\n",
       "    <tr>\n",
       "      <th>min</th>\n",
       "      <td>2013-01-12 00:00:00</td>\n",
       "      <td>4.000000</td>\n",
       "      <td>2.300000</td>\n",
       "    </tr>\n",
       "    <tr>\n",
       "      <th>25%</th>\n",
       "      <td>2013-11-28 00:00:00</td>\n",
       "      <td>143.000000</td>\n",
       "      <td>49.950000</td>\n",
       "    </tr>\n",
       "    <tr>\n",
       "      <th>50%</th>\n",
       "      <td>2013-12-25 00:00:00</td>\n",
       "      <td>251.000000</td>\n",
       "      <td>75.000000</td>\n",
       "    </tr>\n",
       "    <tr>\n",
       "      <th>75%</th>\n",
       "      <td>2014-02-18 00:00:00</td>\n",
       "      <td>355.000000</td>\n",
       "      <td>108.000000</td>\n",
       "    </tr>\n",
       "    <tr>\n",
       "      <th>max</th>\n",
       "      <td>2014-12-03 00:00:00</td>\n",
       "      <td>421.000000</td>\n",
       "      <td>500.000000</td>\n",
       "    </tr>\n",
       "    <tr>\n",
       "      <th>std</th>\n",
       "      <td>NaN</td>\n",
       "      <td>115.916096</td>\n",
       "      <td>48.460998</td>\n",
       "    </tr>\n",
       "  </tbody>\n",
       "</table>\n",
       "</div>"
      ],
      "text/plain": [
       "                                Date    Product_id  Competitor_Price\n",
       "count                          15132  15132.000000      15132.000000\n",
       "mean   2014-01-01 18:46:32.069785856    248.535223         85.339813\n",
       "min              2013-01-12 00:00:00      4.000000          2.300000\n",
       "25%              2013-11-28 00:00:00    143.000000         49.950000\n",
       "50%              2013-12-25 00:00:00    251.000000         75.000000\n",
       "75%              2014-02-18 00:00:00    355.000000        108.000000\n",
       "max              2014-12-03 00:00:00    421.000000        500.000000\n",
       "std                              NaN    115.916096         48.460998"
      ]
     },
     "execution_count": 35,
     "metadata": {},
     "output_type": "execute_result"
    }
   ],
   "source": [
    "# Check distribution of numeric variables\n",
    "df.describe(datetime_is_numeric=True)"
   ]
  },
  {
   "cell_type": "code",
   "execution_count": 39,
   "metadata": {},
   "outputs": [
    {
     "name": "stdout",
     "output_type": "stream",
     "text": [
      "D    8092\n",
      "C    2475\n",
      "F    2248\n",
      "E    1478\n",
      "A     651\n",
      "G     124\n",
      "B      64\n",
      "Name: Competitor_id, dtype: int64\n",
      "--\n"
     ]
    }
   ],
   "source": [
    "# Check distribution of category columns\n",
    "\n",
    "def cat_counts(df):\n",
    "    cats = df.select_dtypes('object')\n",
    "    for cat in cats:\n",
    "        print(df[cat].value_counts(), end='\\n--\\n')\n",
    "        \n",
    "cat_counts(df)"
   ]
  },
  {
   "cell_type": "markdown",
   "metadata": {
    "tags": []
   },
   "source": [
    "### Exploration and integrity checks"
   ]
  },
  {
   "cell_type": "markdown",
   "metadata": {},
   "source": [
    "#### Visual inspection"
   ]
  },
  {
   "cell_type": "markdown",
   "metadata": {},
   "source": [
    "#### Missing values\n",
    "\n",
    "todo: best practices of use of: https://github.com/ResidentMario/missingno"
   ]
  },
  {
   "cell_type": "markdown",
   "metadata": {},
   "source": [
    "#### Duplicates"
   ]
  },
  {
   "cell_type": "code",
   "execution_count": 9,
   "metadata": {},
   "outputs": [
    {
     "name": "stdout",
     "output_type": "stream",
     "text": [
      "500 of 15395 rows (3.2%) are duplicates.\n"
     ]
    }
   ],
   "source": [
    "def dups(df):\n",
    "    d = df.duplicated().sum()\n",
    "    print(f\"{d} of {len(df)} rows ({d/len(df):.1%}) are duplicates.\")\n",
    "\n",
    "\n",
    "dups(df)"
   ]
  },
  {
   "cell_type": "markdown",
   "metadata": {},
   "source": [
    "#### Columns types\n",
    "\n",
    "Ensure that columns are of desired type"
   ]
  },
  {
   "cell_type": "markdown",
   "metadata": {},
   "source": [
    "#### Value format\n",
    "\n",
    "Ensure that values conform to required formats (e.g. use regex to validate postcodes and ids)"
   ]
  },
  {
   "cell_type": "markdown",
   "metadata": {},
   "source": [
    "### Tidying"
   ]
  },
  {
   "cell_type": "markdown",
   "metadata": {},
   "source": [
    "### Transform\n",
    "\n",
    "- Subsetting data\n",
    "- Creating new variables"
   ]
  },
  {
   "cell_type": "markdown",
   "metadata": {},
   "source": [
    "### Variable transformation\n",
    "\n",
    "- For discussion on when and when not to use log(x + c), see mullahy2022why"
   ]
  },
  {
   "cell_type": "markdown",
   "metadata": {},
   "source": [
    "## Analysis"
   ]
  },
  {
   "cell_type": "markdown",
   "metadata": {
    "tags": []
   },
   "source": [
    "### Regression model specification\n",
    "\n",
    "- Does it make sense to take logs of currency amounts or large integers\n",
    "  (especially if there are few cases with zero, in which case using *log(x +\n",
    "  1)* is usually fine to avoid missing values from zeroes)?\n",
    "\n",
    "- Does it make sense to standardise some variables to interpret changes in std\n",
    "  or even standardise all variables (to get Beta coefficients) to easily gage\n",
    "  relative importance of variables?\n",
    "\n",
    "- Have I included variables that I shouldn't have given the ceteris-paribus\n",
    "  interpretation of the coefficients (e.g. include alcohol consumption when\n",
    "  estimating effect of alcohol tax on traffic fatalities, which will mostly run\n",
    "  through lower alcohol consumption).\n",
    "\n",
    "- Are there variables that are correlated with *y* but not the included *x*s\n",
    "  that I haven't included yet? (If so, I should, as it increases precision of\n",
    "  the estimates without causing multicollinearity issues.)"
   ]
  },
  {
   "cell_type": "markdown",
   "metadata": {},
   "source": [
    "## Communication"
   ]
  },
  {
   "cell_type": "code",
   "execution_count": null,
   "metadata": {},
   "outputs": [],
   "source": []
  }
 ],
 "metadata": {
  "kernelspec": {
   "display_name": "blog",
   "language": "python",
   "name": "blog"
  },
  "language_info": {
   "codemirror_mode": {
    "name": "ipython",
    "version": 3
   },
   "file_extension": ".py",
   "mimetype": "text/x-python",
   "name": "python",
   "nbconvert_exporter": "python",
   "pygments_lexer": "ipython3",
   "version": "3.9.9"
  }
 },
 "nbformat": 4,
 "nbformat_minor": 4
}
