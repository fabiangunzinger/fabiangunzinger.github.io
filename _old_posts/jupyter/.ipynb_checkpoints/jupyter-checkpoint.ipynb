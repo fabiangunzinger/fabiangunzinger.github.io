{
 "cells": [
  {
   "cell_type": "markdown",
   "metadata": {},
   "source": [
    "My Jupyter cheatsheet."
   ]
  },
  {
   "cell_type": "markdown",
   "metadata": {},
   "source": [
    "## Managing kernels"
   ]
  },
  {
   "cell_type": "markdown",
   "metadata": {},
   "source": [
    "List available kernels"
   ]
  },
  {
   "cell_type": "code",
   "execution_count": 1,
   "metadata": {},
   "outputs": [
    {
     "name": "stdout",
     "output_type": "stream",
     "text": [
      "Available kernels:\n",
      "  python3    /Users/fabian.gunzinger/.pyenv/versions/3.10.8/envs/base/share/jupyter/kernels/python3\n",
      "  wow-env    /Users/fabian.gunzinger/.pyenv/versions/3.10.8/envs/base/share/jupyter/kernels/wow-env\n",
      "  test       /Users/fabian.gunzinger/Library/Jupyter/kernels/test\n",
      "  wow        /Users/fabian.gunzinger/Library/Jupyter/kernels/wow\n"
     ]
    }
   ],
   "source": [
    "!jupyter kernelspec list\n"
   ]
  },
  {
   "cell_type": "code",
   "execution_count": null,
   "metadata": {},
   "outputs": [],
   "source": []
  },
  {
   "cell_type": "code",
   "execution_count": 1,
   "metadata": {},
   "outputs": [
    {
     "name": "stdout",
     "output_type": "stream",
     "text": [
      "/Users/fabian.gunzinger/.pyenv/versions/base/bin/python\n"
     ]
    }
   ],
   "source": [
    "# show python that's being run by default?\n",
    "\n",
    "!which python"
   ]
  },
  {
   "cell_type": "code",
   "execution_count": 3,
   "metadata": {},
   "outputs": [
    {
     "name": "stdout",
     "output_type": "stream",
     "text": [
      "/Users/fabian.gunzinger/.pyenv/versions/base/bin/python\n",
      "/Users/fabian.gunzinger/.pyenv/shims/python\n"
     ]
    }
   ],
   "source": [
    "# list all python installations\n",
    "\n",
    "!which -a python"
   ]
  },
  {
   "cell_type": "markdown",
   "metadata": {},
   "source": [
    "## Exporting notebook to pdf\n",
    "\n",
    "- This can be a pain if xelatex is not installed properly (which happened to me on Jet-mac).\n",
    "- An easy way around it (once you know), is to convert to pdf via webpdf and allowing for Chromium install the first time (from [here])(https://mljar.com/blog/jupyter-notebook-pdf/). Use the below:\n",
    "\n",
    "```\n",
    "pip install nbconvert\n",
    "pip install pyppeteer\n",
    "jupyter nbconvert --to webpdf --allow-chromium-download your-notebook-file.ipynb\n",
    "```\n",
    "\n",
    "Check nbconvert docs for additional options like hiding code or specific cells or changing template."
   ]
  },
  {
   "cell_type": "markdown",
   "metadata": {},
   "source": [
    "# Options\n",
    "\n",
    "Below a list of options I frequently use (and often forget)."
   ]
  },
  {
   "cell_type": "code",
   "execution_count": null,
   "metadata": {},
   "outputs": [],
   "source": [
    "# pandas settings\n",
    "pd.set_option(\"display.max_rows\", 120)\n",
    "pd.set_option(\"display.max_columns\", 120)\n",
    "pd.set_option(\"max_colwidth\", None)\n",
    "pd.set_option(\"precision\", 4)\n",
    "\n",
    "# seaborn settings\n",
    "sns.set_context(\"notebook\")\n",
    "sns.set(rc={\"figure.figsize\": (16, 9.0)})\n",
    "sns.set_style(\"whitegrid\")\n",
    "\n",
    "# ipython magic\n",
    "%load_ext snakeviz\n",
    "%load_ext line_profiler\n",
    "%load_ext memory_profiler\n",
    "%config InlineBackend.figure_format = 'retina'\n",
    "%load_ext autoreload\n",
    "%autoreload 2"
   ]
  },
  {
   "cell_type": "markdown",
   "metadata": {},
   "source": [
    "# IPython / notebook shortcuts "
   ]
  },
  {
   "cell_type": "code",
   "execution_count": 24,
   "metadata": {},
   "outputs": [
    {
     "data": {
      "text/plain": [
       "['2.0-fgu-clean-and-split-data.ipynb']"
      ]
     },
     "execution_count": 24,
     "metadata": {},
     "output_type": "execute_result"
    }
   ],
   "source": [
    "clean_nb = !ls *2*\n",
    "clean_nb"
   ]
  },
  {
   "cell_type": "code",
   "execution_count": 2,
   "metadata": {},
   "outputs": [
    {
     "name": "stdout",
     "output_type": "stream",
     "text": [
      "174 ns ± 4.23 ns per loop (mean ± std. dev. of 7 runs, 10000000 loops each)\n"
     ]
    }
   ],
   "source": [
    "%%timeit\n",
    "a = range(1000)"
   ]
  },
  {
   "cell_type": "code",
   "execution_count": 3,
   "metadata": {},
   "outputs": [
    {
     "name": "stdout",
     "output_type": "stream",
     "text": [
      "Writing pythoncode.py\n"
     ]
    }
   ],
   "source": [
    "%%writefile pythoncode.py\n",
    "\n",
    "import numpy\n",
    "def append_if_not_exists(arr, x):\n",
    "    if x not in arr:\n",
    "        arr.append(x)\n",
    "\n",
    "def some_useless_slow_function():\n",
    "    arr = list()\n",
    "    for i in range(10000):\n",
    "        x = numpy.random.randint(0, 10000)\n",
    "        append_if_not_exists(arr, x)"
   ]
  },
  {
   "cell_type": "code",
   "execution_count": 4,
   "metadata": {},
   "outputs": [
    {
     "data": {
      "text/plain": [
       "\u001b[0;34m\u001b[0m\n",
       "\u001b[0;34m\u001b[0m\u001b[0;32mimport\u001b[0m \u001b[0mnumpy\u001b[0m\u001b[0;34m\u001b[0m\n",
       "\u001b[0;34m\u001b[0m\u001b[0;32mdef\u001b[0m \u001b[0mappend_if_not_exists\u001b[0m\u001b[0;34m(\u001b[0m\u001b[0marr\u001b[0m\u001b[0;34m,\u001b[0m \u001b[0mx\u001b[0m\u001b[0;34m)\u001b[0m\u001b[0;34m:\u001b[0m\u001b[0;34m\u001b[0m\n",
       "\u001b[0;34m\u001b[0m    \u001b[0;32mif\u001b[0m \u001b[0mx\u001b[0m \u001b[0;32mnot\u001b[0m \u001b[0;32min\u001b[0m \u001b[0marr\u001b[0m\u001b[0;34m:\u001b[0m\u001b[0;34m\u001b[0m\n",
       "\u001b[0;34m\u001b[0m        \u001b[0marr\u001b[0m\u001b[0;34m.\u001b[0m\u001b[0mappend\u001b[0m\u001b[0;34m(\u001b[0m\u001b[0mx\u001b[0m\u001b[0;34m)\u001b[0m\u001b[0;34m\u001b[0m\n",
       "\u001b[0;34m\u001b[0m\u001b[0;34m\u001b[0m\n",
       "\u001b[0;34m\u001b[0m\u001b[0;32mdef\u001b[0m \u001b[0msome_useless_slow_function\u001b[0m\u001b[0;34m(\u001b[0m\u001b[0;34m)\u001b[0m\u001b[0;34m:\u001b[0m\u001b[0;34m\u001b[0m\n",
       "\u001b[0;34m\u001b[0m    \u001b[0marr\u001b[0m \u001b[0;34m=\u001b[0m \u001b[0mlist\u001b[0m\u001b[0;34m(\u001b[0m\u001b[0;34m)\u001b[0m\u001b[0;34m\u001b[0m\n",
       "\u001b[0;34m\u001b[0m    \u001b[0;32mfor\u001b[0m \u001b[0mi\u001b[0m \u001b[0;32min\u001b[0m \u001b[0mrange\u001b[0m\u001b[0;34m(\u001b[0m\u001b[0;36m10000\u001b[0m\u001b[0;34m)\u001b[0m\u001b[0;34m:\u001b[0m\u001b[0;34m\u001b[0m\n",
       "\u001b[0;34m\u001b[0m        \u001b[0mx\u001b[0m \u001b[0;34m=\u001b[0m \u001b[0mnumpy\u001b[0m\u001b[0;34m.\u001b[0m\u001b[0mrandom\u001b[0m\u001b[0;34m.\u001b[0m\u001b[0mrandint\u001b[0m\u001b[0;34m(\u001b[0m\u001b[0;36m0\u001b[0m\u001b[0;34m,\u001b[0m \u001b[0;36m10000\u001b[0m\u001b[0;34m)\u001b[0m\u001b[0;34m\u001b[0m\n",
       "\u001b[0;34m\u001b[0m        \u001b[0mappend_if_not_exists\u001b[0m\u001b[0;34m(\u001b[0m\u001b[0marr\u001b[0m\u001b[0;34m,\u001b[0m \u001b[0mx\u001b[0m\u001b[0;34m)\u001b[0m\u001b[0;34m\u001b[0m\u001b[0;34m\u001b[0m\u001b[0m\n"
      ]
     },
     "metadata": {},
     "output_type": "display_data"
    }
   ],
   "source": [
    "%pycat pythoncode.py"
   ]
  },
  {
   "cell_type": "code",
   "execution_count": 1,
   "metadata": {},
   "outputs": [],
   "source": [
    "# %magic -brief"
   ]
  },
  {
   "cell_type": "markdown",
   "metadata": {},
   "source": [
    "I can transfer variables with any content from one notebook to the next (useful if you run a number of notebooks in sequence, for instance, and the ouput of one serves as the input of another)."
   ]
  },
  {
   "cell_type": "code",
   "execution_count": 5,
   "metadata": {},
   "outputs": [
    {
     "name": "stdout",
     "output_type": "stream",
     "text": [
      "Stored 'var_to_pass_on' (DataFrame)\n"
     ]
    }
   ],
   "source": [
    "var_to_pass_on = dfu.head()\n",
    "%store var_to_pass_on"
   ]
  },
  {
   "cell_type": "code",
   "execution_count": 8,
   "metadata": {},
   "outputs": [
    {
     "data": {
      "text/html": [
       "<div>\n",
       "<style scoped>\n",
       "    .dataframe tbody tr th:only-of-type {\n",
       "        vertical-align: middle;\n",
       "    }\n",
       "\n",
       "    .dataframe tbody tr th {\n",
       "        vertical-align: top;\n",
       "    }\n",
       "\n",
       "    .dataframe thead th {\n",
       "        text-align: right;\n",
       "    }\n",
       "</style>\n",
       "<table border=\"1\" class=\"dataframe\">\n",
       "  <thead>\n",
       "    <tr style=\"text-align: right;\">\n",
       "      <th></th>\n",
       "      <th>user_id</th>\n",
       "      <th>year_of_birth</th>\n",
       "      <th>user_registration_date</th>\n",
       "      <th>salary_range</th>\n",
       "      <th>postcode</th>\n",
       "      <th>gender</th>\n",
       "      <th>soa_lower</th>\n",
       "      <th>soa_middle</th>\n",
       "      <th>user_uid</th>\n",
       "    </tr>\n",
       "  </thead>\n",
       "  <tbody>\n",
       "    <tr>\n",
       "      <th>0</th>\n",
       "      <td>3706</td>\n",
       "      <td>1967-01-01</td>\n",
       "      <td>2012-09-30</td>\n",
       "      <td>NaN</td>\n",
       "      <td>XXXX 0</td>\n",
       "      <td>M</td>\n",
       "      <td>NaN</td>\n",
       "      <td>NaN</td>\n",
       "      <td>3706-0</td>\n",
       "    </tr>\n",
       "    <tr>\n",
       "      <th>1</th>\n",
       "      <td>1078</td>\n",
       "      <td>1964-01-01</td>\n",
       "      <td>2011-11-29</td>\n",
       "      <td>20K to 30K</td>\n",
       "      <td>M25  9</td>\n",
       "      <td>M</td>\n",
       "      <td>E01005038</td>\n",
       "      <td>E02001043</td>\n",
       "      <td>1078-0</td>\n",
       "    </tr>\n",
       "    <tr>\n",
       "      <th>2</th>\n",
       "      <td>232</td>\n",
       "      <td>1965-01-01</td>\n",
       "      <td>2010-09-09</td>\n",
       "      <td>30K to 40K</td>\n",
       "      <td>CM4  0</td>\n",
       "      <td>M</td>\n",
       "      <td>E01021551</td>\n",
       "      <td>E02004495</td>\n",
       "      <td>232-0</td>\n",
       "    </tr>\n",
       "    <tr>\n",
       "      <th>3</th>\n",
       "      <td>6133</td>\n",
       "      <td>1968-01-01</td>\n",
       "      <td>2012-10-21</td>\n",
       "      <td>10K to 20K</td>\n",
       "      <td>SK12 1</td>\n",
       "      <td>M</td>\n",
       "      <td>E01018665</td>\n",
       "      <td>E02003854</td>\n",
       "      <td>6133-0</td>\n",
       "    </tr>\n",
       "    <tr>\n",
       "      <th>4</th>\n",
       "      <td>7993</td>\n",
       "      <td>1961-01-01</td>\n",
       "      <td>2012-10-29</td>\n",
       "      <td>20K to 30K</td>\n",
       "      <td>LS17 8</td>\n",
       "      <td>M</td>\n",
       "      <td>E01011556</td>\n",
       "      <td>E02002344</td>\n",
       "      <td>7993-0</td>\n",
       "    </tr>\n",
       "  </tbody>\n",
       "</table>\n",
       "</div>"
      ],
      "text/plain": [
       "   user_id year_of_birth user_registration_date salary_range postcode gender  \\\n",
       "0     3706    1967-01-01             2012-09-30          NaN   XXXX 0      M   \n",
       "1     1078    1964-01-01             2011-11-29   20K to 30K   M25  9      M   \n",
       "2      232    1965-01-01             2010-09-09   30K to 40K   CM4  0      M   \n",
       "3     6133    1968-01-01             2012-10-21   10K to 20K   SK12 1      M   \n",
       "4     7993    1961-01-01             2012-10-29   20K to 30K   LS17 8      M   \n",
       "\n",
       "   soa_lower soa_middle user_uid  \n",
       "0        NaN        NaN   3706-0  \n",
       "1  E01005038  E02001043   1078-0  \n",
       "2  E01021551  E02004495    232-0  \n",
       "3  E01018665  E02003854   6133-0  \n",
       "4  E01011556  E02002344   7993-0  "
      ]
     },
     "execution_count": 8,
     "metadata": {},
     "output_type": "execute_result"
    }
   ],
   "source": [
    "# I can pass on variables from one notebook (3.0-fgu) to another\n",
    "%store -r var_to_pass_on\n",
    "var_to_pass_on"
   ]
  },
  {
   "cell_type": "code",
   "execution_count": 6,
   "metadata": {},
   "outputs": [
    {
     "name": "stdout",
     "output_type": "stream",
     "text": [
      "pandas                    1.0.1            py37h6c726b0_0  \n",
      "pandas-flavor             0.2.0                      py_0    conda-forge\n"
     ]
    }
   ],
   "source": [
    "!conda list | grep pandas\n"
   ]
  },
  {
   "cell_type": "markdown",
   "metadata": {},
   "source": [
    "## Code formatting"
   ]
  },
  {
   "cell_type": "markdown",
   "metadata": {},
   "source": [
    "Install the below\n",
    "\n",
    "```\n",
    "conda install -c conda-forge jupyterlab_code_formatter black isort\n",
    "```"
   ]
  },
  {
   "cell_type": "markdown",
   "metadata": {},
   "source": [
    "## Emojis\n",
    "\n",
    "Copy from [here](https://getemoji.com) and paste into markdown cell."
   ]
  },
  {
   "cell_type": "markdown",
   "metadata": {},
   "source": [
    "## === Older notes to integrate ==="
   ]
  },
  {
   "cell_type": "markdown",
   "metadata": {},
   "source": [
    "```\n",
    "\n",
    "###########################################################\n",
    "### Settings\n",
    "###########################################################\n",
    "\n",
    "# Print all statements rather than just the last one\n",
    "from IPython.core.interactiveshell import InteractiveShell\n",
    "InteractiveShell.ast_node_interactivity = \"all\"\n",
    "\n",
    "# High-resolution plot output for retina displays\n",
    "%config InlineBackend.figure_format ='retina'\n",
    "\n",
    "# Print entire table\n",
    "\n",
    "pd.set_option('display.max_columns', None)\n",
    "pd.reset_option(“max_columns”)\n",
    "\n",
    "pd.set_option(“max_colwidth”, None)\n",
    "\n",
    "pd.set_option(\"max_rows\", None)\n",
    "\n",
    "pd.set_option(‘precision’, 2)\n",
    "\n",
    "\n",
    "# Black auto formatting\n",
    "%load_ext lab_blacker\n",
    "\n",
    "# Figure settings\n",
    "sns.set_style('darkgrid')\n",
    "sns.mpl.rcParams['figure.figsize'] = (10.0, 6.0)\n",
    "\n",
    "\n",
    "###########################################################\n",
    "### Cool stuff\n",
    "###########################################################\n",
    "\n",
    "# Execute shell commands\n",
    "!conda list | grep pandas\n",
    "\n",
    "# Use wildcards to find objects in namespace\n",
    "*df*?\n",
    "\n",
    "# Use cached input and output values\n",
    "In[101], Out[101]\n",
    "\n",
    "# Syntactic sugar for glob\n",
    "notebooks = !ls * fgu*\n",
    "notebooks\n",
    "\n",
    "# (Then) shell out to subcommand (e.g. execute file from inside notebook)\n",
    "!echo {notebooks[1]}\n",
    "\n",
    "# Time function calls as they happen with tqdm\n",
    "#Replace .map() by .progress_map(), same for .apply() and .applymap()\n",
    "\n",
    "from tqdm import tqdm_notebook\n",
    "tqdm_notebook().pandas()\n",
    "\n",
    "data['column_1'].progress_map(lambda x: x.count('e'))\n",
    "\n",
    "\n",
    "###########################################################\n",
    "### Magic functions\n",
    "###########################################################\n",
    "\n",
    "# Info and brief info about magic function\n",
    "%magic\n",
    "%magic - brief\n",
    "\n",
    "# Debugging (instead of putting print statement throughout code)\n",
    "%debug\n",
    "%pdb\n",
    "\n",
    "# Install package using conda from current kernel\n",
    "%conda install < packagename >\n",
    "\n",
    "# Run different notebook from within notebook\n",
    "%run <path_to_notebook/name_of_notebook>\n",
    "\n",
    "# Write code to python file / read code from python file\n",
    "%%writefile pythoncode.py\n",
    "%pycat pythoncode.py\n",
    "\n",
    "# All objects in namespace displayed and as a list\n",
    "%who\n",
    "%who_ls\n",
    "\n",
    "# Run c or something else inside notebook\n",
    "%% cc\n",
    "\n",
    "\n",
    "\n",
    "# Time cell\n",
    "%% timeit   # Average of 100,000 runs\n",
    "%% time     # Time of single run\n",
    "```"
   ]
  },
  {
   "cell_type": "code",
   "execution_count": null,
   "metadata": {},
   "outputs": [],
   "source": []
  }
 ],
 "metadata": {
  "kernelspec": {
   "display_name": "Python 3 (ipykernel)",
   "language": "python",
   "name": "python3"
  },
  "language_info": {
   "codemirror_mode": {
    "name": "ipython",
    "version": 3
   },
   "file_extension": ".py",
   "mimetype": "text/x-python",
   "name": "python",
   "nbconvert_exporter": "python",
   "pygments_lexer": "ipython3",
   "version": "3.10.8"
  }
 },
 "nbformat": 4,
 "nbformat_minor": 4
}
