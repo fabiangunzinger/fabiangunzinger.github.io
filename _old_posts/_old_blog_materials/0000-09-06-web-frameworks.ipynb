{
 "cells": [
  {
   "cell_type": "markdown",
   "metadata": {},
   "source": [
    "# Web frameworks\n",
    "> Notes on web framework basics\n",
    "\n",
    "- hide: true\n",
    "- toc: false\n",
    "- badges: true\n",
    "- comments: true\n",
    "- categories: [python]"
   ]
  },
  {
   "cell_type": "markdown",
   "metadata": {},
   "source": [
    "- Every time I visit a website, an application called a web server who usually resides on a machine also called a web server sends HTML to my browser. HTML (Hypertext markup language) is used by browsers to describe the content and structure of a website.\n",
    "\n",
    "- The essence of every web application is to send HTML to a browser.\n",
    "\n",
    "- How does a web server know what data it needs to send? It sends what I request using the HTTP protocol. (HTTP means hypertext transfer protocol; a protocol is a universally agreed data format and sequence of steps to enable communication between two parties.)\n",
    "\n",
    "- So, a web application receives HTTP requests (e.g. get or post) and responds with an HTTP request, usually in the form of the HTML for the requested page."
   ]
  },
  {
   "cell_type": "markdown",
   "metadata": {},
   "source": [
    "## Main sources\n",
    "\n",
    "- [Jeff Knupp post](https://jeffknupp.com/blog/2014/03/03/what-is-a-web-framework/)\n",
    "- [Robert Chang post](https://medium.com/@rchang/learning-how-to-build-a-web-application-c5499bd15c8f)"
   ]
  }
 ],
 "metadata": {
  "kernelspec": {
   "display_name": "habits",
   "language": "python",
   "name": "habits"
  },
  "language_info": {
   "codemirror_mode": {
    "name": "ipython",
    "version": 3
   },
   "file_extension": ".py",
   "mimetype": "text/x-python",
   "name": "python",
   "nbconvert_exporter": "python",
   "pygments_lexer": "ipython3",
   "version": "3.9.2"
  }
 },
 "nbformat": 4,
 "nbformat_minor": 4
}
