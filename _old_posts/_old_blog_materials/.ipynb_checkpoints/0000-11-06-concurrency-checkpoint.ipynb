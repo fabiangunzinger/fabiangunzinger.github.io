{
 "cells": [
  {
   "cell_type": "markdown",
   "metadata": {},
   "source": [
    "# Concurrency\n",
    "\n",
    "- hide: true\n",
    "- toc: true\n",
    "- badges: true\n",
    "- comments: true\n",
    "- categories: [python]"
   ]
  },
  {
   "cell_type": "code",
   "execution_count": 1,
   "metadata": {},
   "outputs": [],
   "source": [
    "from imports import *\n",
    "\n",
    "%config InlineBackend.figure_format = 'retina'\n",
    "%load_ext autoreload\n",
    "%autoreload 2"
   ]
  },
  {
   "cell_type": "markdown",
   "metadata": {},
   "source": [
    "## Theory\n",
    "\n",
    "Elements:\n",
    "- RAM\n",
    "- memory controller (interface between cup and ram)\n",
    "- CPU\n",
    "- Kernel\n",
    "    - Lowest level of software. It manages cpu resources, file system, memory resources, drivers, networking, etc.\n",
    "\n",
    "- Program\n",
    "    - Code and data structures that can be executed (like newspaper)\n",
    "\n",
    "\n",
    "- Cores (units of cpu?)\n",
    "    - Multi core: instead of dividing up cpu time among different processes, can actually run stuff in parallel, but within each core, the process is exactly the same as with only one core.\n",
    "\n",
    "- Process\n",
    "    - A logical container that tells kernel what program to run. Process has id, priority, status, memory space, etc.. Kernel uses that info to allocate cpu time to each program. Because happens at milisecond level, creates illusion of concurrency (comic analogy).\n",
    "    - A program that competes for CPU resources (e.g. a web browser, or a bit of cleaning code)\n",
    "    - The program in execution. Given that program is composed of multiple threads, program is program + state of all threads executing the program \n",
    "    \n",
    "- Threads\n",
    "    - Threads run within a single process, to allow it to do multiple things at once (like a newspaper)\n",
    "    - They are lines of control cursing through the code and data structures of the program (called a thread of execution through the program). Akin to one reader scanning through a section of the newspaper.\n",
    "    - Multiple threads: different lines of control cursing through the program (multiple readers reading different sections of the newspaper).\n",
    "    - Potential conflict: threads operate on (read/update) same data structures. Solution: locks\n",
    "    - A ... running within a program (e.g. reading data, processing, writing to disk) \n",
    "\n",
    "\n",
    "Type of tasks: \n",
    "- CPU-bound tasks: using CPU to crunch numbers \n",
    "\n",
    "- I/O-bound tasks: waiting for some I/O operations to complete (downloading files from internet, reading and writing to file-system)\n",
    "\n",
    "Theading:\n",
    "- Gives speed ups for I/O-bound tasks\n",
    "\n",
    "\n",
    "Multiprocessing:\n",
    "- Run CPU-bound tasks in prallel "
   ]
  },
  {
   "cell_type": "markdown",
   "metadata": {},
   "source": [
    "## Usage"
   ]
  },
  {
   "cell_type": "code",
   "execution_count": 2,
   "metadata": {},
   "outputs": [
    {
     "data": {
      "text/plain": [
       "8"
      ]
     },
     "execution_count": 2,
     "metadata": {},
     "output_type": "execute_result"
    }
   ],
   "source": [
    "os.cpu_count()"
   ]
  },
  {
   "cell_type": "markdown",
   "metadata": {},
   "source": [
    "## Sources\n",
    "\n",
    "- [Udacity on process vs threads](https://www.youtube.com/watch?v=O3EyzlZxx3g)\n",
    "- [Gary explains - processes and threads](https://www.youtube.com/watch?v=h_HwkHobfs0)\n",
    "- [Gary explains - what is a kernel](https://www.youtube.com/watch?v=mycVSMyShk8)\n",
    "- [Corey Schafer on threading](https://www.youtube.com/watch?v=IEEhzQoKtQU)\n",
    "- [Fluent Python](https://www.oreilly.com/library/view/fluent-python/9781491946237/)\n",
    "- [Python Cookbook](https://www.oreilly.com/library/view/python-cookbook-3rd/9781449357337/)\n",
    "- [Learning Python](https://www.oreilly.com/library/view/learning-python-5th/9781449355722/)\n",
    "- [Python for Data Analysis](https://www.oreilly.com/library/view/python-for-data/9781491957653/)\n",
    "- [Python Data Science Handbook](https://www.oreilly.com/library/view/python-data-science/9781491912126/)"
   ]
  },
  {
   "cell_type": "code",
   "execution_count": null,
   "metadata": {},
   "outputs": [],
   "source": []
  }
 ],
 "metadata": {
  "kernelspec": {
   "display_name": "habits",
   "language": "python",
   "name": "habits"
  },
  "language_info": {
   "codemirror_mode": {
    "name": "ipython",
    "version": 3
   },
   "file_extension": ".py",
   "mimetype": "text/x-python",
   "name": "python",
   "nbconvert_exporter": "python",
   "pygments_lexer": "ipython3",
   "version": "3.7.7"
  }
 },
 "nbformat": 4,
 "nbformat_minor": 4
}
