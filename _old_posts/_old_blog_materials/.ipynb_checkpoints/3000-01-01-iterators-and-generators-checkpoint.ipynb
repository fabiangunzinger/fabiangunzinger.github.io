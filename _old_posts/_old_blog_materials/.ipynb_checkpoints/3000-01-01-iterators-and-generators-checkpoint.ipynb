{
 "cells": [
  {
   "cell_type": "markdown",
   "metadata": {},
   "source": [
    "# Iterators and generators\n",
    "\n",
    "- hide: true\n",
    "- toc: true\n",
    "- badges: true\n",
    "- comments: true\n",
    "- categories: [python]"
   ]
  },
  {
   "cell_type": "code",
   "execution_count": 2,
   "metadata": {},
   "outputs": [
    {
     "name": "stdout",
     "output_type": "stream",
     "text": [
      "<list_reverseiterator object at 0x7f8d3dfbecd0>\n",
      "<generator object <genexpr> at 0x7f8d3e08a3c0>\n"
     ]
    }
   ],
   "source": [
    "a = [1, 2, 3]\n",
    "print(reversed(a))\n",
    "print(i for i in reversed(a))"
   ]
  },
  {
   "cell_type": "markdown",
   "metadata": {},
   "source": [
    "## Writing my own iterator pattern\n",
    "\n",
    "(From the Python Cookbook recipee 4.3)"
   ]
  },
  {
   "cell_type": "code",
   "execution_count": 32,
   "metadata": {},
   "outputs": [
    {
     "data": {
      "text/plain": [
       "3"
      ]
     },
     "execution_count": 32,
     "metadata": {},
     "output_type": "execute_result"
    }
   ],
   "source": [
    "def frange(start, stop, increment):\n",
    "    x = start\n",
    "    while x < stop:\n",
    "        yield x\n",
    "        x += increment\n",
    "\n",
    "rng = frange(1, 10, 2)\n",
    "next(rng)\n",
    "next(rng)"
   ]
  },
  {
   "cell_type": "code",
   "execution_count": 33,
   "metadata": {},
   "outputs": [
    {
     "data": {
      "text/plain": [
       "[5, 7, 9]"
      ]
     },
     "execution_count": 33,
     "metadata": {},
     "output_type": "execute_result"
    }
   ],
   "source": [
    "list(rng)"
   ]
  },
  {
   "cell_type": "markdown",
   "metadata": {},
   "source": [
    "I'm a little confused by this still."
   ]
  },
  {
   "cell_type": "code",
   "execution_count": 18,
   "metadata": {},
   "outputs": [
    {
     "name": "stdout",
     "output_type": "stream",
     "text": [
      "0\n",
      "5\n",
      "10\n",
      "15\n"
     ]
    }
   ],
   "source": [
    "def aritprog(begin, step, end=None):\n",
    "    result = type(begin + step)(begin)\n",
    "    forever = end is None\n",
    "    index = 0\n",
    "    while forever or result < end:\n",
    "        yield result\n",
    "        index += 1\n",
    "        result = begin + step * index\n",
    "        \n",
    "a = aritprog(0, 5, 20)\n",
    "for a in a: \n",
    "    print(a)"
   ]
  },
  {
   "cell_type": "code",
   "execution_count": 5,
   "metadata": {},
   "outputs": [],
   "source": [
    "a = iter([1, 2, 3])"
   ]
  },
  {
   "cell_type": "code",
   "execution_count": 20,
   "metadata": {},
   "outputs": [
    {
     "name": "stdout",
     "output_type": "stream",
     "text": [
      "GEN_CREATED\n",
      "GEN_SUSPENDED\n",
      "GEN_CLOSED\n"
     ]
    }
   ],
   "source": [
    "import inspect\n",
    "\n",
    "def gen(x):\n",
    "    yield x\n",
    "    \n",
    "a = gen(5)\n",
    "print(inspect.getgeneratorstate(a))\n",
    "\n",
    "next(a)\n",
    "print(inspect.getgeneratorstate(a))\n",
    "\n",
    "try:\n",
    "    next(a)\n",
    "except StopIteration:\n",
    "    print(inspect.getgeneratorstate(a))\n",
    "\n"
   ]
  },
  {
   "cell_type": "markdown",
   "metadata": {},
   "source": [
    "## Using generators for line-by-line data processing for large files"
   ]
  },
  {
   "cell_type": "markdown",
   "metadata": {},
   "source": [
    "Example [here](https://github.com/fluentpython/isis2json/blob/master/isis2json.py), see \"Case Study: Generators in a Database Conversion Utility\" at end of Chap 14 in Fluent Python for context. "
   ]
  },
  {
   "cell_type": "markdown",
   "metadata": {},
   "source": [
    "## Sources\n",
    "\n",
    "- [Fluent Python](https://www.oreilly.com/library/view/fluent-python/9781491946237/)\n",
    "- [Python Cookbook](https://www.oreilly.com/library/view/python-cookbook-3rd/9781449357337/)\n",
    "- [Learning Python](https://www.oreilly.com/library/view/learning-python-5th/9781449355722/)\n",
    "- [Python for Data Analysis](https://www.oreilly.com/library/view/python-for-data/9781491957653/)\n",
    "- [Python Data Science Handbook](https://www.oreilly.com/library/view/python-data-science/9781491912126/)"
   ]
  }
 ],
 "metadata": {
  "kernelspec": {
   "display_name": "limo",
   "language": "python",
   "name": "limo"
  },
  "language_info": {
   "codemirror_mode": {
    "name": "ipython",
    "version": 3
   },
   "file_extension": ".py",
   "mimetype": "text/x-python",
   "name": "python",
   "nbconvert_exporter": "python",
   "pygments_lexer": "ipython3",
   "version": "3.9.1"
  }
 },
 "nbformat": 4,
 "nbformat_minor": 4
}
