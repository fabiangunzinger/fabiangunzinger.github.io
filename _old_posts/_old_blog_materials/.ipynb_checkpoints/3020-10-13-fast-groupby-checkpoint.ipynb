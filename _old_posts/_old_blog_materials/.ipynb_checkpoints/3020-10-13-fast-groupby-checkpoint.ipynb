{
 "cells": [
  {
   "cell_type": "markdown",
   "metadata": {},
   "source": [
    "# Fast groupby operations\n",
    "\n",
    "- hide: true\n",
    "- category: [python, pandas]"
   ]
  },
  {
   "cell_type": "code",
   "execution_count": 1,
   "metadata": {},
   "outputs": [],
   "source": [
    "from imports import *\n",
    "\n",
    "%config InlineBackend.figure_format = 'retina'\n",
    "%load_ext line_profiler\n",
    "%load_ext autoreload\n",
    "%autoreload 2"
   ]
  },
  {
   "cell_type": "code",
   "execution_count": 30,
   "metadata": {},
   "outputs": [
    {
     "name": "stdout",
     "output_type": "stream",
     "text": [
      "(157287, 22)\n"
     ]
    },
    {
     "data": {
      "text/html": [
       "<div>\n",
       "<style scoped>\n",
       "    .dataframe tbody tr th:only-of-type {\n",
       "        vertical-align: middle;\n",
       "    }\n",
       "\n",
       "    .dataframe tbody tr th {\n",
       "        vertical-align: top;\n",
       "    }\n",
       "\n",
       "    .dataframe thead th {\n",
       "        text-align: right;\n",
       "    }\n",
       "</style>\n",
       "<table border=\"1\" class=\"dataframe\">\n",
       "  <thead>\n",
       "    <tr style=\"text-align: right;\">\n",
       "      <th></th>\n",
       "      <th>user_id</th>\n",
       "      <th>transaction_date</th>\n",
       "      <th>amount</th>\n",
       "      <th>transaction_description</th>\n",
       "      <th>merchant_name</th>\n",
       "      <th>tag</th>\n",
       "      <th>gender</th>\n",
       "      <th>up_tag</th>\n",
       "      <th>account_id</th>\n",
       "      <th>year_of_birth</th>\n",
       "      <th>merchant_business_line</th>\n",
       "      <th>salary_range</th>\n",
       "      <th>latest_balance</th>\n",
       "      <th>account_type</th>\n",
       "      <th>credit_debit</th>\n",
       "      <th>transaction_id</th>\n",
       "      <th>bank</th>\n",
       "      <th>postcode</th>\n",
       "      <th>ym</th>\n",
       "      <th>account_created</th>\n",
       "      <th>user_registration_date</th>\n",
       "      <th>account_last_refreshed</th>\n",
       "    </tr>\n",
       "  </thead>\n",
       "  <tbody>\n",
       "    <tr>\n",
       "      <th>0</th>\n",
       "      <td>777</td>\n",
       "      <td>2012-01-03</td>\n",
       "      <td>3.03</td>\n",
       "      <td>aviva pa - d/d</td>\n",
       "      <td>aviva</td>\n",
       "      <td>life insurance</td>\n",
       "      <td>m</td>\n",
       "      <td>life insurance</td>\n",
       "      <td>262916</td>\n",
       "      <td>1969.0</td>\n",
       "      <td>aviva</td>\n",
       "      <td>20k to 30k</td>\n",
       "      <td>364.22</td>\n",
       "      <td>current</td>\n",
       "      <td>debit</td>\n",
       "      <td>688262</td>\n",
       "      <td>natwest bank</td>\n",
       "      <td>wa1 4</td>\n",
       "      <td>201201</td>\n",
       "      <td>2011-07-20</td>\n",
       "      <td>2011-07-20</td>\n",
       "      <td>2020-07-21 20:32:00</td>\n",
       "    </tr>\n",
       "    <tr>\n",
       "      <th>1</th>\n",
       "      <td>777</td>\n",
       "      <td>2012-01-03</td>\n",
       "      <td>6.68</td>\n",
       "      <td>9572 31dec11 , tesco stores 3345 , warrington gb - pos</td>\n",
       "      <td>tesco</td>\n",
       "      <td>food, groceries, household</td>\n",
       "      <td>m</td>\n",
       "      <td>food, groceries, household</td>\n",
       "      <td>262916</td>\n",
       "      <td>1969.0</td>\n",
       "      <td>tesco supermarket</td>\n",
       "      <td>20k to 30k</td>\n",
       "      <td>364.22</td>\n",
       "      <td>current</td>\n",
       "      <td>debit</td>\n",
       "      <td>688263</td>\n",
       "      <td>natwest bank</td>\n",
       "      <td>wa1 4</td>\n",
       "      <td>201201</td>\n",
       "      <td>2011-07-20</td>\n",
       "      <td>2011-07-20</td>\n",
       "      <td>2020-07-21 20:32:00</td>\n",
       "    </tr>\n",
       "    <tr>\n",
       "      <th>2</th>\n",
       "      <td>777</td>\n",
       "      <td>2012-01-03</td>\n",
       "      <td>10.27</td>\n",
       "      <td>9572 30dec11 , mcdonalds , restaurant , winwick road gb - pos</td>\n",
       "      <td>mcdonalds</td>\n",
       "      <td>dining and drinking</td>\n",
       "      <td>m</td>\n",
       "      <td>dining and drinking</td>\n",
       "      <td>262916</td>\n",
       "      <td>1969.0</td>\n",
       "      <td>mcdonalds</td>\n",
       "      <td>20k to 30k</td>\n",
       "      <td>364.22</td>\n",
       "      <td>current</td>\n",
       "      <td>debit</td>\n",
       "      <td>688264</td>\n",
       "      <td>natwest bank</td>\n",
       "      <td>wa1 4</td>\n",
       "      <td>201201</td>\n",
       "      <td>2011-07-20</td>\n",
       "      <td>2011-07-20</td>\n",
       "      <td>2020-07-21 20:32:00</td>\n",
       "    </tr>\n",
       "    <tr>\n",
       "      <th>3</th>\n",
       "      <td>777</td>\n",
       "      <td>2012-01-03</td>\n",
       "      <td>12.00</td>\n",
       "      <td>9572 31dec11 , tesco stores 3345 , warrington gb - pos</td>\n",
       "      <td>tesco</td>\n",
       "      <td>food, groceries, household</td>\n",
       "      <td>m</td>\n",
       "      <td>food, groceries, household</td>\n",
       "      <td>262916</td>\n",
       "      <td>1969.0</td>\n",
       "      <td>tesco supermarket</td>\n",
       "      <td>20k to 30k</td>\n",
       "      <td>364.22</td>\n",
       "      <td>current</td>\n",
       "      <td>debit</td>\n",
       "      <td>688265</td>\n",
       "      <td>natwest bank</td>\n",
       "      <td>wa1 4</td>\n",
       "      <td>201201</td>\n",
       "      <td>2011-07-20</td>\n",
       "      <td>2011-07-20</td>\n",
       "      <td>2020-07-21 20:32:00</td>\n",
       "    </tr>\n",
       "    <tr>\n",
       "      <th>4</th>\n",
       "      <td>777</td>\n",
       "      <td>2012-01-03</td>\n",
       "      <td>400.00</td>\n",
       "      <td>&lt;mdbremoved&gt; - s/o</td>\n",
       "      <td>no merchant</td>\n",
       "      <td>other account</td>\n",
       "      <td>m</td>\n",
       "      <td>other account</td>\n",
       "      <td>262916</td>\n",
       "      <td>1969.0</td>\n",
       "      <td>non merchant mbl</td>\n",
       "      <td>20k to 30k</td>\n",
       "      <td>364.22</td>\n",
       "      <td>current</td>\n",
       "      <td>debit</td>\n",
       "      <td>688261</td>\n",
       "      <td>natwest bank</td>\n",
       "      <td>wa1 4</td>\n",
       "      <td>201201</td>\n",
       "      <td>2011-07-20</td>\n",
       "      <td>2011-07-20</td>\n",
       "      <td>2020-07-21 20:32:00</td>\n",
       "    </tr>\n",
       "  </tbody>\n",
       "</table>\n",
       "</div>"
      ],
      "text/plain": [
       "   user_id transaction_date  amount  \\\n",
       "0      777       2012-01-03    3.03   \n",
       "1      777       2012-01-03    6.68   \n",
       "2      777       2012-01-03   10.27   \n",
       "3      777       2012-01-03   12.00   \n",
       "4      777       2012-01-03  400.00   \n",
       "\n",
       "                                         transaction_description  \\\n",
       "0                                                 aviva pa - d/d   \n",
       "1         9572 31dec11 , tesco stores 3345 , warrington gb - pos   \n",
       "2  9572 30dec11 , mcdonalds , restaurant , winwick road gb - pos   \n",
       "3         9572 31dec11 , tesco stores 3345 , warrington gb - pos   \n",
       "4                                             <mdbremoved> - s/o   \n",
       "\n",
       "  merchant_name                         tag gender  \\\n",
       "0         aviva              life insurance      m   \n",
       "1         tesco  food, groceries, household      m   \n",
       "2     mcdonalds         dining and drinking      m   \n",
       "3         tesco  food, groceries, household      m   \n",
       "4   no merchant               other account      m   \n",
       "\n",
       "                       up_tag  account_id  year_of_birth  \\\n",
       "0              life insurance      262916         1969.0   \n",
       "1  food, groceries, household      262916         1969.0   \n",
       "2         dining and drinking      262916         1969.0   \n",
       "3  food, groceries, household      262916         1969.0   \n",
       "4               other account      262916         1969.0   \n",
       "\n",
       "  merchant_business_line salary_range  latest_balance account_type  \\\n",
       "0                  aviva   20k to 30k          364.22      current   \n",
       "1      tesco supermarket   20k to 30k          364.22      current   \n",
       "2              mcdonalds   20k to 30k          364.22      current   \n",
       "3      tesco supermarket   20k to 30k          364.22      current   \n",
       "4       non merchant mbl   20k to 30k          364.22      current   \n",
       "\n",
       "  credit_debit  transaction_id          bank postcode      ym account_created  \\\n",
       "0        debit          688262  natwest bank    wa1 4  201201      2011-07-20   \n",
       "1        debit          688263  natwest bank    wa1 4  201201      2011-07-20   \n",
       "2        debit          688264  natwest bank    wa1 4  201201      2011-07-20   \n",
       "3        debit          688265  natwest bank    wa1 4  201201      2011-07-20   \n",
       "4        debit          688261  natwest bank    wa1 4  201201      2011-07-20   \n",
       "\n",
       "  user_registration_date account_last_refreshed  \n",
       "0             2011-07-20    2020-07-21 20:32:00  \n",
       "1             2011-07-20    2020-07-21 20:32:00  \n",
       "2             2011-07-20    2020-07-21 20:32:00  \n",
       "3             2011-07-20    2020-07-21 20:32:00  \n",
       "4             2011-07-20    2020-07-21 20:32:00  "
      ]
     },
     "execution_count": 30,
     "metadata": {},
     "output_type": "execute_result"
    }
   ],
   "source": [
    "path = '/Users/fgu/tmp/mdb/data_777.parquet'\n",
    "df = pd.read_parquet(path)\n",
    "print(df.shape)\n",
    "df.head()"
   ]
  },
  {
   "cell_type": "markdown",
   "metadata": {},
   "source": [
    "## Basics"
   ]
  },
  {
   "cell_type": "markdown",
   "metadata": {},
   "source": [
    "### Boolean comparisons"
   ]
  },
  {
   "cell_type": "code",
   "execution_count": 66,
   "metadata": {},
   "outputs": [],
   "source": [
    "df = sns.load_dataset('iris')"
   ]
  },
  {
   "cell_type": "code",
   "execution_count": 67,
   "metadata": {},
   "outputs": [
    {
     "name": "stdout",
     "output_type": "stream",
     "text": [
      "105 µs ± 2.61 µs per loop (mean ± std. dev. of 7 runs, 10000 loops each)\n"
     ]
    }
   ],
   "source": [
    "%timeit df.sepal_width > 3"
   ]
  },
  {
   "cell_type": "code",
   "execution_count": 68,
   "metadata": {},
   "outputs": [
    {
     "name": "stdout",
     "output_type": "stream",
     "text": [
      "6.11 µs ± 181 ns per loop (mean ± std. dev. of 7 runs, 100000 loops each)\n"
     ]
    }
   ],
   "source": [
    "%timeit df.sepal_width.values > 0"
   ]
  },
  {
   "cell_type": "markdown",
   "metadata": {},
   "source": [
    "Given the above, the below is rather surprising:"
   ]
  },
  {
   "cell_type": "code",
   "execution_count": 69,
   "metadata": {},
   "outputs": [
    {
     "name": "stdout",
     "output_type": "stream",
     "text": [
      "335 µs ± 23.3 µs per loop (mean ± std. dev. of 7 runs, 1000 loops each)\n"
     ]
    }
   ],
   "source": [
    "%timeit df[df.sepal_width > 3]"
   ]
  },
  {
   "cell_type": "code",
   "execution_count": 72,
   "metadata": {},
   "outputs": [
    {
     "name": "stdout",
     "output_type": "stream",
     "text": [
      "148 µs ± 6.14 µs per loop (mean ± std. dev. of 7 runs, 10000 loops each)\n"
     ]
    }
   ],
   "source": [
    "%timeit df[df.sepal_width.values > 3]"
   ]
  },
  {
   "cell_type": "markdown",
   "metadata": {},
   "source": [
    "### Group means\n",
    "\n",
    "From https://cmdlinetips.com/2019/05/how-to-implement-pandas-groupby-operation-with-numpy/\n",
    "\n"
   ]
  },
  {
   "cell_type": "code",
   "execution_count": 17,
   "metadata": {},
   "outputs": [],
   "source": [
    "df = sns.load_dataset('iris')"
   ]
  },
  {
   "cell_type": "code",
   "execution_count": 18,
   "metadata": {},
   "outputs": [
    {
     "name": "stdout",
     "output_type": "stream",
     "text": [
      "481 µs ± 11.1 µs per loop (mean ± std. dev. of 7 runs, 1000 loops each)\n"
     ]
    }
   ],
   "source": [
    "%timeit df.groupby('species').sepal_length.mean()"
   ]
  },
  {
   "cell_type": "code",
   "execution_count": 19,
   "metadata": {},
   "outputs": [
    {
     "name": "stdout",
     "output_type": "stream",
     "text": [
      "111 µs ± 7 µs per loop (mean ± std. dev. of 7 runs, 10000 loops each)\n"
     ]
    }
   ],
   "source": [
    "%%timeit\n",
    "\n",
    "spec = df.species.values\n",
    "sl = df.sepal_length.values\n",
    "groups = df.species.unique()\n",
    "[(group, np.mean(sl[spec == group])) for group in groups]"
   ]
  }
 ],
 "metadata": {
  "kernelspec": {
   "display_name": "habits",
   "language": "python",
   "name": "habits"
  },
  "language_info": {
   "codemirror_mode": {
    "name": "ipython",
    "version": 3
   },
   "file_extension": ".py",
   "mimetype": "text/x-python",
   "name": "python",
   "nbconvert_exporter": "python",
   "pygments_lexer": "ipython3",
   "version": "3.7.7"
  }
 },
 "nbformat": 4,
 "nbformat_minor": 4
}
