{
 "cells": [
  {
   "cell_type": "markdown",
   "metadata": {},
   "source": [
    "# Fast Pandas\n",
    "\n",
    "- hide: true\n",
    "- toc: true\n",
    "- badges: true\n",
    "- comments: true\n",
    "- categories: [python, pandas]\n",
    "\n",
    "Starting point:\n",
    "\n",
    "- Benchmark for 777 data in debug mode (no splitting): 24 seconds\n",
    "\n",
    "- Benchmark for 1, 2, 3, pieces of 777 data in debug mode: 6.2 seconds\n",
    "  \n",
    "\n",
    "- Improve speed\n",
    "    - Regex\n",
    "        - Pre-compile\n",
    "        - Match directly rather than extract from list of matches\n",
    "    - Pandas \n",
    "        - Avoid costly groupby operations\n",
    "        - Vectorise using Numpy\n",
    "   \n",
    "\n",
    "- Improve memory usage\n",
    "    - Read in chunks\n",
    "    - Use generators\n",
    "    - Parallelise using Dask\n",
    "    \n",
    "    \n",
    "## Improvement log\n",
    "\n",
    "Split file\n",
    "- Split file: open all files only once rather than for each line (10x boost)\n",
    "- Compile regex outside of loop (?)\n",
    "- Precise regex match rather than fetchall()[1] (3x boost)\n",
    "\n",
    "Make data\n",
    "- Use concurrent futures (3x speedup)\n"
   ]
  },
  {
   "cell_type": "code",
   "execution_count": 1,
   "metadata": {},
   "outputs": [],
   "source": [
    "from imports import *\n",
    "\n",
    "%load_ext snakeviz\n",
    "%load_ext line_profiler\n",
    "%load_ext memory_profiler\n",
    "%config InlineBackend.figure_format = 'retina'\n",
    "%load_ext autoreload\n",
    "%autoreload 2"
   ]
  },
  {
   "cell_type": "code",
   "execution_count": 15,
   "metadata": {},
   "outputs": [
    {
     "name": "stdout",
     "output_type": "stream",
     "text": [
      "(115197, 21)\n"
     ]
    },
    {
     "data": {
      "text/html": [
       "<div>\n",
       "<style scoped>\n",
       "    .dataframe tbody tr th:only-of-type {\n",
       "        vertical-align: middle;\n",
       "    }\n",
       "\n",
       "    .dataframe tbody tr th {\n",
       "        vertical-align: top;\n",
       "    }\n",
       "\n",
       "    .dataframe thead th {\n",
       "        text-align: right;\n",
       "    }\n",
       "</style>\n",
       "<table border=\"1\" class=\"dataframe\">\n",
       "  <thead>\n",
       "    <tr style=\"text-align: right;\">\n",
       "      <th></th>\n",
       "      <th>user_id</th>\n",
       "      <th>transaction_date</th>\n",
       "      <th>amount</th>\n",
       "      <th>transaction_description</th>\n",
       "      <th>merchant_name</th>\n",
       "      <th>tag</th>\n",
       "      <th>gender</th>\n",
       "      <th>transaction_id</th>\n",
       "      <th>bank</th>\n",
       "      <th>account_created</th>\n",
       "      <th>account_type</th>\n",
       "      <th>postcode</th>\n",
       "      <th>merchant_business_line</th>\n",
       "      <th>ym</th>\n",
       "      <th>account_id</th>\n",
       "      <th>year_of_birth</th>\n",
       "      <th>user_registration_date</th>\n",
       "      <th>salary_range</th>\n",
       "      <th>credit_debit</th>\n",
       "      <th>account_last_refreshed</th>\n",
       "      <th>latest_balance</th>\n",
       "    </tr>\n",
       "  </thead>\n",
       "  <tbody>\n",
       "    <tr>\n",
       "      <th>6553</th>\n",
       "      <td>14777</td>\n",
       "      <td>2012-10-10</td>\n",
       "      <td>5.00</td>\n",
       "      <td>new southern railw cd 7715</td>\n",
       "      <td>southern rail</td>\n",
       "      <td>public transport</td>\n",
       "      <td>m</td>\n",
       "      <td>2994290</td>\n",
       "      <td>lloyds bank</td>\n",
       "      <td>2013-01-07</td>\n",
       "      <td>current</td>\n",
       "      <td>sw11 5</td>\n",
       "      <td>southern rail</td>\n",
       "      <td>201210</td>\n",
       "      <td>247061</td>\n",
       "      <td>1986.0</td>\n",
       "      <td>2013-01-07</td>\n",
       "      <td>NaN</td>\n",
       "      <td>debit</td>\n",
       "      <td>2015-01-13 05:19:00</td>\n",
       "      <td>729.59</td>\n",
       "    </tr>\n",
       "    <tr>\n",
       "      <th>6554</th>\n",
       "      <td>14777</td>\n",
       "      <td>2012-10-10</td>\n",
       "      <td>11.10</td>\n",
       "      <td>new southern railw cd 7715</td>\n",
       "      <td>southern rail</td>\n",
       "      <td>public transport</td>\n",
       "      <td>m</td>\n",
       "      <td>2994291</td>\n",
       "      <td>lloyds bank</td>\n",
       "      <td>2013-01-07</td>\n",
       "      <td>current</td>\n",
       "      <td>sw11 5</td>\n",
       "      <td>southern rail</td>\n",
       "      <td>201210</td>\n",
       "      <td>247061</td>\n",
       "      <td>1986.0</td>\n",
       "      <td>2013-01-07</td>\n",
       "      <td>NaN</td>\n",
       "      <td>debit</td>\n",
       "      <td>2015-01-13 05:19:00</td>\n",
       "      <td>729.59</td>\n",
       "    </tr>\n",
       "    <tr>\n",
       "      <th>6555</th>\n",
       "      <td>14777</td>\n",
       "      <td>2012-10-10</td>\n",
       "      <td>26.91</td>\n",
       "      <td>ticketscript*14064 cd 7715</td>\n",
       "      <td>no merchant</td>\n",
       "      <td>public transport</td>\n",
       "      <td>m</td>\n",
       "      <td>2994292</td>\n",
       "      <td>lloyds bank</td>\n",
       "      <td>2013-01-07</td>\n",
       "      <td>current</td>\n",
       "      <td>sw11 5</td>\n",
       "      <td>unknown merchant</td>\n",
       "      <td>201210</td>\n",
       "      <td>247061</td>\n",
       "      <td>1986.0</td>\n",
       "      <td>2013-01-07</td>\n",
       "      <td>NaN</td>\n",
       "      <td>debit</td>\n",
       "      <td>2015-01-13 05:19:00</td>\n",
       "      <td>729.59</td>\n",
       "    </tr>\n",
       "  </tbody>\n",
       "</table>\n",
       "</div>"
      ],
      "text/plain": [
       "      user_id transaction_date  amount     transaction_description  \\\n",
       "6553    14777       2012-10-10    5.00  new southern railw cd 7715   \n",
       "6554    14777       2012-10-10   11.10  new southern railw cd 7715   \n",
       "6555    14777       2012-10-10   26.91  ticketscript*14064 cd 7715   \n",
       "\n",
       "      merchant_name               tag gender  transaction_id         bank  \\\n",
       "6553  southern rail  public transport      m         2994290  lloyds bank   \n",
       "6554  southern rail  public transport      m         2994291  lloyds bank   \n",
       "6555    no merchant  public transport      m         2994292  lloyds bank   \n",
       "\n",
       "     account_created account_type postcode merchant_business_line      ym  \\\n",
       "6553      2013-01-07      current   sw11 5          southern rail  201210   \n",
       "6554      2013-01-07      current   sw11 5          southern rail  201210   \n",
       "6555      2013-01-07      current   sw11 5       unknown merchant  201210   \n",
       "\n",
       "      account_id  year_of_birth user_registration_date salary_range  \\\n",
       "6553      247061         1986.0             2013-01-07          NaN   \n",
       "6554      247061         1986.0             2013-01-07          NaN   \n",
       "6555      247061         1986.0             2013-01-07          NaN   \n",
       "\n",
       "     credit_debit account_last_refreshed  latest_balance  \n",
       "6553        debit    2015-01-13 05:19:00          729.59  \n",
       "6554        debit    2015-01-13 05:19:00          729.59  \n",
       "6555        debit    2015-01-13 05:19:00          729.59  "
      ]
     },
     "execution_count": 15,
     "metadata": {},
     "output_type": "execute_result"
    }
   ],
   "source": [
    "df = pd.read_parquet(SAMPLEDATA)\n",
    "print(df.shape)\n",
    "df.head(3)"
   ]
  },
  {
   "cell_type": "code",
   "execution_count": 3,
   "metadata": {},
   "outputs": [
    {
     "name": "stdout",
     "output_type": "stream",
     "text": [
      "Users:        283\n",
      "Rows:     682,656\n",
      "Cols:          24\n"
     ]
    }
   ],
   "source": [
    "from src.data import read_raw\n",
    "from src.data.cleaners import sign_amount, add_variables, add_tag\n",
    "\n",
    "path = os.path.join(config.TEMPDIR, f'data_{SAMPLE}.csv')\n",
    "df = (\n",
    "    read_raw(path)\n",
    "    .pipe(sign_amount)\n",
    "    .pipe(add_variables)\n",
    "    .pipe(add_tag)\n",
    ")\n",
    "\n",
    "helpers.info(df)"
   ]
  },
  {
   "cell_type": "code",
   "execution_count": 4,
   "metadata": {},
   "outputs": [],
   "source": [
    "backup_df = df\n",
    "dft = df.loc[:10000]"
   ]
  },
  {
   "cell_type": "code",
   "execution_count": 5,
   "metadata": {},
   "outputs": [
    {
     "data": {
      "text/plain": [
       "\u001b[0;31mType:\u001b[0m        module\n",
       "\u001b[0;31mString form:\u001b[0m <module 'numpy' from '/Users/fgu/miniconda3/envs/habits/lib/python3.7/site-packages/numpy/__init__.py'>\n",
       "\u001b[0;31mFile:\u001b[0m        ~/miniconda3/envs/habits/lib/python3.7/site-packages/numpy/__init__.py\n",
       "\u001b[0;31mDocstring:\u001b[0m  \n",
       "NumPy\n",
       "=====\n",
       "\n",
       "Provides\n",
       "  1. An array object of arbitrary homogeneous items\n",
       "  2. Fast mathematical operations over arrays\n",
       "  3. Linear Algebra, Fourier Transforms, Random Number Generation\n",
       "\n",
       "How to use the documentation\n",
       "----------------------------\n",
       "Documentation is available in two forms: docstrings provided\n",
       "with the code, and a loose standing reference guide, available from\n",
       "`the NumPy homepage <https://www.scipy.org>`_.\n",
       "\n",
       "We recommend exploring the docstrings using\n",
       "`IPython <https://ipython.org>`_, an advanced Python shell with\n",
       "TAB-completion and introspection capabilities.  See below for further\n",
       "instructions.\n",
       "\n",
       "The docstring examples assume that `numpy` has been imported as `np`::\n",
       "\n",
       "  >>> import numpy as np\n",
       "\n",
       "Code snippets are indicated by three greater-than signs::\n",
       "\n",
       "  >>> x = 42\n",
       "  >>> x = x + 1\n",
       "\n",
       "Use the built-in ``help`` function to view a function's docstring::\n",
       "\n",
       "  >>> help(np.sort)\n",
       "  ... # doctest: +SKIP\n",
       "\n",
       "For some objects, ``np.info(obj)`` may provide additional help.  This is\n",
       "particularly true if you see the line \"Help on ufunc object:\" at the top\n",
       "of the help() page.  Ufuncs are implemented in C, not Python, for speed.\n",
       "The native Python help() does not know how to view their help, but our\n",
       "np.info() function does.\n",
       "\n",
       "To search for documents containing a keyword, do::\n",
       "\n",
       "  >>> np.lookfor('keyword')\n",
       "  ... # doctest: +SKIP\n",
       "\n",
       "General-purpose documents like a glossary and help on the basic concepts\n",
       "of numpy are available under the ``doc`` sub-module::\n",
       "\n",
       "  >>> from numpy import doc\n",
       "  >>> help(doc)\n",
       "  ... # doctest: +SKIP\n",
       "\n",
       "Available subpackages\n",
       "---------------------\n",
       "doc\n",
       "    Topical documentation on broadcasting, indexing, etc.\n",
       "lib\n",
       "    Basic functions used by several sub-packages.\n",
       "random\n",
       "    Core Random Tools\n",
       "linalg\n",
       "    Core Linear Algebra Tools\n",
       "fft\n",
       "    Core FFT routines\n",
       "polynomial\n",
       "    Polynomial tools\n",
       "testing\n",
       "    NumPy testing tools\n",
       "f2py\n",
       "    Fortran to Python Interface Generator.\n",
       "distutils\n",
       "    Enhancements to distutils with support for\n",
       "    Fortran compilers support and more.\n",
       "\n",
       "Utilities\n",
       "---------\n",
       "test\n",
       "    Run numpy unittests\n",
       "show_config\n",
       "    Show numpy build configuration\n",
       "dual\n",
       "    Overwrite certain functions with high-performance Scipy tools\n",
       "matlib\n",
       "    Make everything matrices.\n",
       "__version__\n",
       "    NumPy version string\n",
       "\n",
       "Viewing documentation using IPython\n",
       "-----------------------------------\n",
       "Start IPython with the NumPy profile (``ipython -p numpy``), which will\n",
       "import `numpy` under the alias `np`.  Then, use the ``cpaste`` command to\n",
       "paste examples into the shell.  To see which functions are available in\n",
       "`numpy`, type ``np.<TAB>`` (where ``<TAB>`` refers to the TAB key), or use\n",
       "``np.*cos*?<ENTER>`` (where ``<ENTER>`` refers to the ENTER key) to narrow\n",
       "down the list.  To view the docstring for a function, use\n",
       "``np.cos?<ENTER>`` (to view the docstring) and ``np.cos??<ENTER>`` (to view\n",
       "the source code).\n",
       "\n",
       "Copies vs. in-place operation\n",
       "-----------------------------\n",
       "Most of the functions in `numpy` return a copy of the array argument\n",
       "(e.g., `np.sort`).  In-place versions of these functions are often\n",
       "available as array methods, i.e. ``x = np.array([1,2,3]); x.sort()``.\n",
       "Exceptions to this rule are documented.\n"
      ]
     },
     "metadata": {},
     "output_type": "display_data"
    }
   ],
   "source": [
    "np?"
   ]
  },
  {
   "cell_type": "markdown",
   "metadata": {},
   "source": [
    "## Theory"
   ]
  },
  {
   "cell_type": "markdown",
   "metadata": {},
   "source": [
    "\n",
    "\n",
    "General tips\n",
    "\n",
    "- Avoid loops (use list comps, broadcasting, map)\n",
    "- If you need a loop, do everything that needs to be done once outside of it (incl. type conversions)\n",
    "\n",
    "Approach\n",
    "\n",
    "- Profile\n",
    "    - [Snakeviz](https://jiffyclub.github.io/snakeviz/) to find slow functions\n",
    "    - Line profiler for slow lines in slow functions"
   ]
  },
  {
   "cell_type": "markdown",
   "metadata": {},
   "source": [
    "### Timing and profiling code"
   ]
  },
  {
   "cell_type": "markdown",
   "metadata": {},
   "source": [
    "| symbol | name | unit (s) |\n",
    "| ------ | ---- | -------- |\n",
    "|ns|nanosecond|10^-9\n",
    "|µs (us)|microsecond|10^-6\n",
    "|ms|millisecond|10^-3\n",
    "|s|second|10^0"
   ]
  },
  {
   "cell_type": "markdown",
   "metadata": {},
   "source": [
    "### Profiling runtime"
   ]
  },
  {
   "cell_type": "code",
   "execution_count": 14,
   "metadata": {},
   "outputs": [],
   "source": [
    "heroes = 'batman superman spiderman'.split()\n",
    "heights = np.array([191, 180, 187])\n",
    "weights = np.array([90, 87, 85])"
   ]
  },
  {
   "cell_type": "code",
   "execution_count": 16,
   "metadata": {},
   "outputs": [
    {
     "data": {
      "text/plain": [
       "Timer unit: 1e-06 s\n",
       "\n",
       "Total time: 4.6e-05 s\n",
       "File: <ipython-input-16-b9e85e84fd5d>\n",
       "Function: converter at line 1\n",
       "\n",
       "Line #      Hits         Time  Per Hit   % Time  Line Contents\n",
       "==============================================================\n",
       "     1                                           def converter(heroes, heights, weights):\n",
       "     2                                           \n",
       "     3         1         33.0     33.0     71.7      new_hts = [ht * 0.39370  for ht in heights]\n",
       "     4         1          9.0      9.0     19.6      new_wts = [wt * 2.20462  for wt in weights]\n",
       "     5                                           \n",
       "     6         1          1.0      1.0      2.2      hero_data = {}\n",
       "     7                                           \n",
       "     8         4          2.0      0.5      4.3      for i,hero in enumerate(heroes):\n",
       "     9         3          1.0      0.3      2.2          hero_data[hero] = (new_hts[i], new_wts[i])\n",
       "    10                                           \n",
       "    11         1          0.0      0.0      0.0      return hero_data"
      ]
     },
     "metadata": {},
     "output_type": "display_data"
    }
   ],
   "source": [
    "def converter(heroes, heights, weights):\n",
    "\n",
    "    new_hts = [ht * 0.39370  for ht in heights]\n",
    "    new_wts = [wt * 2.20462  for wt in weights]\n",
    "\n",
    "    hero_data = {}\n",
    "\n",
    "    for i,hero in enumerate(heroes):\n",
    "        hero_data[hero] = (new_hts[i], new_wts[i])\n",
    "\n",
    "    return hero_data\n",
    "\n",
    "%lprun -f converter converter(heroes, heights, weights)"
   ]
  },
  {
   "cell_type": "code",
   "execution_count": 17,
   "metadata": {},
   "outputs": [
    {
     "data": {
      "text/plain": [
       "Timer unit: 1e-06 s\n",
       "\n",
       "Total time: 4.3e-05 s\n",
       "File: <ipython-input-17-3076bd66ab8b>\n",
       "Function: converter at line 1\n",
       "\n",
       "Line #      Hits         Time  Per Hit   % Time  Line Contents\n",
       "==============================================================\n",
       "     1                                           def converter(heroes, heights, weights):\n",
       "     2                                           \n",
       "     3         1         27.0     27.0     62.8      new_hts = heights * 0.39370\n",
       "     4         1         10.0     10.0     23.3      new_wts = weights * 2.20462\n",
       "     5                                           \n",
       "     6         1          1.0      1.0      2.3      hero_data = {}\n",
       "     7                                           \n",
       "     8         4          2.0      0.5      4.7      for i,hero in enumerate(heroes):\n",
       "     9         3          3.0      1.0      7.0          hero_data[hero] = (new_hts[i], new_wts[i])\n",
       "    10                                           \n",
       "    11         1          0.0      0.0      0.0      return hero_data"
      ]
     },
     "metadata": {},
     "output_type": "display_data"
    }
   ],
   "source": [
    "def converter(heroes, heights, weights):\n",
    "\n",
    "    new_hts = heights * 0.39370\n",
    "    new_wts = weights * 2.20462\n",
    "\n",
    "    hero_data = {}\n",
    "\n",
    "    for i,hero in enumerate(heroes):\n",
    "        hero_data[hero] = (new_hts[i], new_wts[i])\n",
    "\n",
    "    return hero_data\n",
    "\n",
    "%lprun -f converter converter(heroes, heights, weights)"
   ]
  },
  {
   "cell_type": "markdown",
   "metadata": {},
   "source": [
    "### Profiling memory usage"
   ]
  },
  {
   "cell_type": "markdown",
   "metadata": {},
   "source": [
    "Object-wise memory usage"
   ]
  },
  {
   "cell_type": "code",
   "execution_count": 18,
   "metadata": {},
   "outputs": [
    {
     "data": {
      "text/plain": [
       "9120"
      ]
     },
     "execution_count": 18,
     "metadata": {},
     "output_type": "execute_result"
    }
   ],
   "source": [
    "sys.getsizeof(list(range(1000)))"
   ]
  },
  {
   "cell_type": "code",
   "execution_count": 19,
   "metadata": {},
   "outputs": [
    {
     "data": {
      "text/plain": [
       "8096"
      ]
     },
     "execution_count": 19,
     "metadata": {},
     "output_type": "execute_result"
    }
   ],
   "source": [
    "sys.getsizeof(np.array(range(1000)))"
   ]
  },
  {
   "cell_type": "markdown",
   "metadata": {},
   "source": [
    "Line-by-line memory footprint"
   ]
  },
  {
   "cell_type": "code",
   "execution_count": 26,
   "metadata": {},
   "outputs": [
    {
     "data": {
      "text/plain": [
       "array([191, 180, 187])"
      ]
     },
     "execution_count": 26,
     "metadata": {},
     "output_type": "execute_result"
    }
   ],
   "source": [
    "heights"
   ]
  },
  {
   "cell_type": "code",
   "execution_count": 28,
   "metadata": {},
   "outputs": [
    {
     "name": "stdout",
     "output_type": "stream",
     "text": [
      "\n"
     ]
    },
    {
     "data": {
      "text/plain": [
       "Filename: /Users/fgu/Library/Mobile Documents/com~apple~CloudDocs/fab/projects/blog/_notebooks/hero_func.py\n",
       "\n",
       "Line #    Mem usage    Increment  Occurences   Line Contents\n",
       "============================================================\n",
       "     1     73.3 MiB     73.3 MiB           1   def converter(heroes, heights, weights):\n",
       "     2                                         \n",
       "     3     73.3 MiB      0.0 MiB           1       new_hts = heights * 0.39370\n",
       "     4     75.6 MiB      2.3 MiB           1       new_wts = weights * 2.20462\n",
       "     5                                         \n",
       "     6     75.6 MiB      0.0 MiB           1       hero_data = {}\n",
       "     7                                         \n",
       "     8     75.6 MiB      0.0 MiB      300001       for i,hero in enumerate(heroes):\n",
       "     9     75.6 MiB      0.0 MiB      300000           hero_data[hero] = (new_hts[i], new_wts[i])\n",
       "    10                                         \n",
       "    11     75.6 MiB      0.0 MiB           1       return hero_data"
      ]
     },
     "metadata": {},
     "output_type": "display_data"
    }
   ],
   "source": [
    "# Can only profile functions in files\n",
    "\n",
    "hro = 100000 * heroes\n",
    "hgt = np.array(100000 * list(heights))\n",
    "wgt = np.array(100000 * list(weights))\n",
    "\n",
    "from hero_func import converter\n",
    "\n",
    "%mprun -f converter converter(hro, hgt, wgt)"
   ]
  },
  {
   "cell_type": "code",
   "execution_count": null,
   "metadata": {},
   "outputs": [],
   "source": []
  },
  {
   "cell_type": "code",
   "execution_count": null,
   "metadata": {},
   "outputs": [],
   "source": []
  },
  {
   "cell_type": "markdown",
   "metadata": {},
   "source": [
    "# Applications"
   ]
  },
  {
   "cell_type": "markdown",
   "metadata": {},
   "source": [
    "## Current project"
   ]
  },
  {
   "cell_type": "code",
   "execution_count": 8,
   "metadata": {},
   "outputs": [
    {
     "name": "stdout",
     "output_type": "stream",
     "text": [
      "51.4 ms ± 1.97 ms per loop (mean ± std. dev. of 7 runs, 10 loops each)\n"
     ]
    }
   ],
   "source": [
    "#before\n",
    "\n",
    "def fill_tag(df):\n",
    "    \"\"\"Replace tag with up_tag if missing .\"\"\"\n",
    "    df['tag'] = df.tag.where(df.tag.notna(), df.up_tag)\n",
    "    return df\n",
    "\n",
    "%timeit fill_tag(df)"
   ]
  },
  {
   "cell_type": "code",
   "execution_count": 10,
   "metadata": {},
   "outputs": [
    {
     "name": "stdout",
     "output_type": "stream",
     "text": [
      "33.2 ms ± 2.09 ms per loop (mean ± std. dev. of 7 runs, 10 loops each)\n"
     ]
    }
   ],
   "source": [
    "# after\n",
    "\n",
    "def fill_tag(df):\n",
    "    \"\"\"Replace tag with up_tag if missing .\"\"\"\n",
    "    df['tag'] = np.where(df.tag.isna(), df.up_tag, df.tag)\n",
    "    return df\n",
    "\n",
    "%timeit fill_tag(df)"
   ]
  },
  {
   "cell_type": "markdown",
   "metadata": {},
   "source": [
    "## Profiling runtime and memory usage"
   ]
  },
  {
   "cell_type": "markdown",
   "metadata": {},
   "source": [
    "## Code optimisations"
   ]
  },
  {
   "cell_type": "markdown",
   "metadata": {},
   "source": [
    "### Vectorisation\n",
    "\n",
    "Vectorisation\n",
    "\n",
    "- [QuantEcon on vectorisation](https://python-programming.quantecon.org/need_for_speed.html)\n",
    "- [Numpy ufuncs](https://numpy.org/doc/stable/reference/ufuncs.html)\n",
    "- [JVDP on vectorised string operations](https://jakevdp.github.io/PythonDataScienceHandbook/03.10-working-with-strings.html)\n",
    "\n",
    "Pandas optimisations\n",
    "\n",
    "- [Enhancing performance of Pandas](https://pandas.pydata.org/pandas-docs/stable/user_guide/enhancingperf.html)\n",
    "- [Beginners guide to optimising Pandas code for speed](https://engineering.upside.com/a-beginners-guide-to-optimizing-pandas-code-for-speed-c09ef2c6a4d6)\n",
    "- [Avoiding apply](https://www.dunderdata.com/blog/dunder-data-challenge-3-optimal-solution)\n",
    "- [Datacamp - Writing efficient Python code](https://learn.datacamp.com/courses/writing-efficient-python-code)\n",
    "- [Optomising Pandas groupby](https://medium.com/@aivinsolatorio/optimizing-pandas-groupby-50x-using-numpy-to-speedup-an-agent-based-model-a-story-of-8b0d25614915)"
   ]
  },
  {
   "cell_type": "markdown",
   "metadata": {},
   "source": [
    "## Parallelisation"
   ]
  },
  {
   "cell_type": "markdown",
   "metadata": {},
   "source": [
    "## Application to financial transaction dataset"
   ]
  },
  {
   "cell_type": "markdown",
   "metadata": {},
   "source": [
    "### Current project"
   ]
  },
  {
   "cell_type": "code",
   "execution_count": 117,
   "metadata": {},
   "outputs": [
    {
     "name": "stdout",
     "output_type": "stream",
     "text": [
      "2.12 s ± 38.1 ms per loop (mean ± std. dev. of 7 runs, 1 loop each)\n"
     ]
    }
   ],
   "source": [
    "def test(df):    \n",
    "    spend = df.loc[df.amount > 0, ['user_id', 'transaction_date', 'amount']]\n",
    "    spend['ym'] = spend.transaction_date.dt.to_period('M')\n",
    "    spend = spend.set_index('transaction_date')\n",
    "    \n",
    "    g = spend.groupby('user_id')\n",
    "    spend['first_month'] = g.ym.transform(min)\n",
    "    spend['last_month'] = g.ym.transform(max)\n",
    "    spend = spend[(spend.ym != spend.first_month) & (spend.ym != spend.last_month)]\n",
    "\n",
    "    mins = g.resample('M').amount.agg(['count', 'sum']).groupby('user_id').min()\n",
    "    users = mins[mins >= (5, 200)].index\n",
    "    \n",
    "    return df[df.user_id.isin(users)]\n",
    "\n",
    "%timeit test(df)"
   ]
  },
  {
   "cell_type": "code",
   "execution_count": 209,
   "metadata": {},
   "outputs": [
    {
     "data": {
      "text/plain": [
       "array([504,   0,   0, ...,   0,   0, 474])"
      ]
     },
     "execution_count": 209,
     "metadata": {},
     "output_type": "execute_result"
    }
   ],
   "source": [
    "np.diff(dft.transaction_date.dt.to_period('M').astype(int), prepend=0, append=1000)"
   ]
  },
  {
   "cell_type": "code",
   "execution_count": 252,
   "metadata": {},
   "outputs": [
    {
     "name": "stdout",
     "output_type": "stream",
     "text": [
      "24.7 ms ± 754 µs per loop (mean ± std. dev. of 7 runs, 10 loops each)\n"
     ]
    }
   ],
   "source": [
    "%timeit dft.loc[df.amount > 0].groupby(df.transaction_date.dt.to_period('M')).amount.sum()"
   ]
  },
  {
   "cell_type": "code",
   "execution_count": 264,
   "metadata": {},
   "outputs": [
    {
     "data": {
      "text/plain": [
       "array([777, 777, 777, ..., 33777, 33777, 33777], dtype=object)"
      ]
     },
     "execution_count": 264,
     "metadata": {},
     "output_type": "execute_result"
    }
   ],
   "source": [
    "# refactor using this approach: https://medium.com/@aivinsolatorio/optimizing-pandas-groupby-50x-using-numpy-to-speedup-an-agent-based-model-a-story-of-8b0d25614915\n",
    "\n",
    "def test(df): \n",
    "    df = df.copy()\n",
    "    df['ym'] = df.transaction_date.dt.to_period('M')\n",
    "    df = df.loc[df.amount > 0, ['user_id', 'ym', 'amount']]\n",
    "    df = df.sort_values(['user_id', 'ym'])\n",
    "    users, ym, amount = df.values.T\n",
    "    \n",
    "    # break data up by user\n",
    "    \n",
    "    # cal stats by period by user\n",
    "    \n",
    "    \n",
    "#     df['ym'] = df.transaction_date.dt.to_period('M')\n",
    "    \n",
    "#     # break data up by user\n",
    "    \n",
    "#     d = np.diff(df.user_id, prepend=-np.inf, append=np.inf)\n",
    "#     breaks = np.asarray(d != 0).nonzero()[0]\n",
    "    \n",
    "#     user_data = {\n",
    "#         user: df.loc\n",
    "#     }\n",
    "\n",
    "    \n",
    "    \n",
    "    \n",
    "#     # counts per period\n",
    "#     d = np.diff(df.ym.astype(int), prepend=0, append=1000)\n",
    "#     grp = np.asarray(d != 0).nonzero()[0]\n",
    "    \n",
    "#     res = {\n",
    "#         period: np.sum(df.amount.to_numpy()[grp[idx]: grp[idx + 1]]) for idx, period in enumerate(np.unique(df.ym))\n",
    "#     }\n",
    "\n",
    "    return users\n",
    "\n",
    "test(dft)"
   ]
  },
  {
   "cell_type": "markdown",
   "metadata": {},
   "source": [
    "## Numba"
   ]
  },
  {
   "cell_type": "code",
   "execution_count": 13,
   "metadata": {},
   "outputs": [
    {
     "data": {
      "text/plain": [
       "Timer unit: 1e-06 s\n",
       "\n",
       "Total time: 0.13156 s\n",
       "File: <ipython-input-13-088cd5a1da2b>\n",
       "Function: first_month at line 1\n",
       "\n",
       "Line #      Hits         Time  Per Hit   % Time  Line Contents\n",
       "==============================================================\n",
       "     1                                           def first_month(df):\n",
       "     2                                               \n",
       "     3         1      86959.0  86959.0     66.1      df = df.copy()\n",
       "     4         1      29899.0  29899.0     22.7      df['ym'] = df.transaction_date.dt.to_period('M')\n",
       "     5         1      14702.0  14702.0     11.2      return df.groupby('user_id').ym.min()"
      ]
     },
     "metadata": {},
     "output_type": "display_data"
    }
   ],
   "source": [
    "def first_month(df):\n",
    "    df = df.copy()\n",
    "    df['ym'] = df.transaction_date.dt.to_period('M')\n",
    "    return df.groupby('user_id').ym.min()\n",
    "    \n",
    "%lprun -f first_month first_month(df)"
   ]
  },
  {
   "cell_type": "code",
   "execution_count": 21,
   "metadata": {},
   "outputs": [
    {
     "ename": "TypingError",
     "evalue": "Failed in nopython mode pipeline (step: nopython frontend)\n\u001b[1m\u001b[1mnon-precise type pyobject\u001b[0m\n\u001b[0m\u001b[1m[1] During: typing of argument at <ipython-input-21-aad2a22650bf> (5)\u001b[0m\n\u001b[1m\nFile \"<ipython-input-21-aad2a22650bf>\", line 5:\u001b[0m\n\u001b[1mdef first_month(df):\n\u001b[1m    df = df.copy()\n\u001b[0m    \u001b[1m^\u001b[0m\u001b[0m\n\nThis error may have been caused by the following argument(s):\n- argument 0: \u001b[1mcannot determine Numba type of <class 'pandas.core.frame.DataFrame'>\u001b[0m\n",
     "output_type": "error",
     "traceback": [
      "\u001b[0;31m---------------------------------------------------------------------------\u001b[0m",
      "\u001b[0;31mTypingError\u001b[0m                               Traceback (most recent call last)",
      "\u001b[0;32m<ipython-input-21-aad2a22650bf>\u001b[0m in \u001b[0;36m<module>\u001b[0;34m\u001b[0m\n\u001b[1;32m      7\u001b[0m     \u001b[0;32mreturn\u001b[0m \u001b[0mdf\u001b[0m\u001b[0;34m.\u001b[0m\u001b[0mgroupby\u001b[0m\u001b[0;34m(\u001b[0m\u001b[0;34m'user_id'\u001b[0m\u001b[0;34m)\u001b[0m\u001b[0;34m.\u001b[0m\u001b[0mym\u001b[0m\u001b[0;34m.\u001b[0m\u001b[0mmin\u001b[0m\u001b[0;34m(\u001b[0m\u001b[0;34m)\u001b[0m\u001b[0;34m\u001b[0m\u001b[0;34m\u001b[0m\u001b[0m\n\u001b[1;32m      8\u001b[0m \u001b[0;34m\u001b[0m\u001b[0m\n\u001b[0;32m----> 9\u001b[0;31m \u001b[0mfirst_month\u001b[0m\u001b[0;34m(\u001b[0m\u001b[0mdf\u001b[0m\u001b[0;34m)\u001b[0m\u001b[0;34m\u001b[0m\u001b[0;34m\u001b[0m\u001b[0m\n\u001b[0m",
      "\u001b[0;32m~/miniconda3/envs/habits/lib/python3.7/site-packages/numba/core/dispatcher.py\u001b[0m in \u001b[0;36m_compile_for_args\u001b[0;34m(self, *args, **kws)\u001b[0m\n\u001b[1;32m    399\u001b[0m                 \u001b[0me\u001b[0m\u001b[0;34m.\u001b[0m\u001b[0mpatch_message\u001b[0m\u001b[0;34m(\u001b[0m\u001b[0mmsg\u001b[0m\u001b[0;34m)\u001b[0m\u001b[0;34m\u001b[0m\u001b[0;34m\u001b[0m\u001b[0m\n\u001b[1;32m    400\u001b[0m \u001b[0;34m\u001b[0m\u001b[0m\n\u001b[0;32m--> 401\u001b[0;31m             \u001b[0merror_rewrite\u001b[0m\u001b[0;34m(\u001b[0m\u001b[0me\u001b[0m\u001b[0;34m,\u001b[0m \u001b[0;34m'typing'\u001b[0m\u001b[0;34m)\u001b[0m\u001b[0;34m\u001b[0m\u001b[0;34m\u001b[0m\u001b[0m\n\u001b[0m\u001b[1;32m    402\u001b[0m         \u001b[0;32mexcept\u001b[0m \u001b[0merrors\u001b[0m\u001b[0;34m.\u001b[0m\u001b[0mUnsupportedError\u001b[0m \u001b[0;32mas\u001b[0m \u001b[0me\u001b[0m\u001b[0;34m:\u001b[0m\u001b[0;34m\u001b[0m\u001b[0;34m\u001b[0m\u001b[0m\n\u001b[1;32m    403\u001b[0m             \u001b[0;31m# Something unsupported is present in the user code, add help info\u001b[0m\u001b[0;34m\u001b[0m\u001b[0;34m\u001b[0m\u001b[0;34m\u001b[0m\u001b[0m\n",
      "\u001b[0;32m~/miniconda3/envs/habits/lib/python3.7/site-packages/numba/core/dispatcher.py\u001b[0m in \u001b[0;36merror_rewrite\u001b[0;34m(e, issue_type)\u001b[0m\n\u001b[1;32m    342\u001b[0m                 \u001b[0;32mraise\u001b[0m \u001b[0me\u001b[0m\u001b[0;34m\u001b[0m\u001b[0;34m\u001b[0m\u001b[0m\n\u001b[1;32m    343\u001b[0m             \u001b[0;32melse\u001b[0m\u001b[0;34m:\u001b[0m\u001b[0;34m\u001b[0m\u001b[0;34m\u001b[0m\u001b[0m\n\u001b[0;32m--> 344\u001b[0;31m                 \u001b[0mreraise\u001b[0m\u001b[0;34m(\u001b[0m\u001b[0mtype\u001b[0m\u001b[0;34m(\u001b[0m\u001b[0me\u001b[0m\u001b[0;34m)\u001b[0m\u001b[0;34m,\u001b[0m \u001b[0me\u001b[0m\u001b[0;34m,\u001b[0m \u001b[0;32mNone\u001b[0m\u001b[0;34m)\u001b[0m\u001b[0;34m\u001b[0m\u001b[0;34m\u001b[0m\u001b[0m\n\u001b[0m\u001b[1;32m    345\u001b[0m \u001b[0;34m\u001b[0m\u001b[0m\n\u001b[1;32m    346\u001b[0m         \u001b[0margtypes\u001b[0m \u001b[0;34m=\u001b[0m \u001b[0;34m[\u001b[0m\u001b[0;34m]\u001b[0m\u001b[0;34m\u001b[0m\u001b[0;34m\u001b[0m\u001b[0m\n",
      "\u001b[0;32m~/miniconda3/envs/habits/lib/python3.7/site-packages/numba/core/utils.py\u001b[0m in \u001b[0;36mreraise\u001b[0;34m(tp, value, tb)\u001b[0m\n\u001b[1;32m     77\u001b[0m         \u001b[0mvalue\u001b[0m \u001b[0;34m=\u001b[0m \u001b[0mtp\u001b[0m\u001b[0;34m(\u001b[0m\u001b[0;34m)\u001b[0m\u001b[0;34m\u001b[0m\u001b[0;34m\u001b[0m\u001b[0m\n\u001b[1;32m     78\u001b[0m     \u001b[0;32mif\u001b[0m \u001b[0mvalue\u001b[0m\u001b[0;34m.\u001b[0m\u001b[0m__traceback__\u001b[0m \u001b[0;32mis\u001b[0m \u001b[0;32mnot\u001b[0m \u001b[0mtb\u001b[0m\u001b[0;34m:\u001b[0m\u001b[0;34m\u001b[0m\u001b[0;34m\u001b[0m\u001b[0m\n\u001b[0;32m---> 79\u001b[0;31m         \u001b[0;32mraise\u001b[0m \u001b[0mvalue\u001b[0m\u001b[0;34m.\u001b[0m\u001b[0mwith_traceback\u001b[0m\u001b[0;34m(\u001b[0m\u001b[0mtb\u001b[0m\u001b[0;34m)\u001b[0m\u001b[0;34m\u001b[0m\u001b[0;34m\u001b[0m\u001b[0m\n\u001b[0m\u001b[1;32m     80\u001b[0m     \u001b[0;32mraise\u001b[0m \u001b[0mvalue\u001b[0m\u001b[0;34m\u001b[0m\u001b[0;34m\u001b[0m\u001b[0m\n\u001b[1;32m     81\u001b[0m \u001b[0;34m\u001b[0m\u001b[0m\n",
      "\u001b[0;31mTypingError\u001b[0m: Failed in nopython mode pipeline (step: nopython frontend)\n\u001b[1m\u001b[1mnon-precise type pyobject\u001b[0m\n\u001b[0m\u001b[1m[1] During: typing of argument at <ipython-input-21-aad2a22650bf> (5)\u001b[0m\n\u001b[1m\nFile \"<ipython-input-21-aad2a22650bf>\", line 5:\u001b[0m\n\u001b[1mdef first_month(df):\n\u001b[1m    df = df.copy()\n\u001b[0m    \u001b[1m^\u001b[0m\u001b[0m\n\nThis error may have been caused by the following argument(s):\n- argument 0: \u001b[1mcannot determine Numba type of <class 'pandas.core.frame.DataFrame'>\u001b[0m\n"
     ]
    }
   ],
   "source": [
    "from numba import njit\n",
    "\n",
    "@njit\n",
    "def first_month(df):\n",
    "    df = df.copy()\n",
    "    df['ym'] = df.transaction_date.dt.to_period('M')\n",
    "    return df.groupby('user_id').ym.min()\n",
    "\n",
    "first_month(df)"
   ]
  },
  {
   "cell_type": "markdown",
   "metadata": {},
   "source": [
    "## General techniques"
   ]
  },
  {
   "cell_type": "markdown",
   "metadata": {},
   "source": [
    "### Avoiding groupby using `np.sort` and `np.diff`"
   ]
  },
  {
   "cell_type": "markdown",
   "metadata": {},
   "source": [
    "Based on [this](https://medium.com/@aivinsolatorio/optimizing-pandas-groupby-50x-using-numpy-to-speedup-an-agent-based-model-a-story-of-8b0d25614915) article."
   ]
  },
  {
   "cell_type": "markdown",
   "metadata": {},
   "source": [
    "Create dict with list of user ids by year of birth"
   ]
  },
  {
   "cell_type": "code",
   "execution_count": 78,
   "metadata": {},
   "outputs": [],
   "source": [
    "data = df[['year_of_birth', 'user_id']].drop_duplicates().dropna()"
   ]
  },
  {
   "cell_type": "code",
   "execution_count": 113,
   "metadata": {},
   "outputs": [
    {
     "name": "stdout",
     "output_type": "stream",
     "text": [
      "3.39 ms ± 123 µs per loop (mean ± std. dev. of 7 runs, 100 loops each)\n"
     ]
    }
   ],
   "source": [
    "%%timeit\n",
    "\n",
    "# Using Pandas apply\n",
    "r = data.groupby('year_of_birth').user_id.apply(lambda x: x.values)"
   ]
  },
  {
   "cell_type": "code",
   "execution_count": 115,
   "metadata": {},
   "outputs": [
    {
     "name": "stdout",
     "output_type": "stream",
     "text": [
      "128 µs ± 7.18 µs per loop (mean ± std. dev. of 7 runs, 10000 loops each)\n"
     ]
    }
   ],
   "source": [
    "%%timeit\n",
    "\n",
    "# Using numpy\n",
    "\n",
    "# cast to numpy\n",
    "yobs = data.year_of_birth.to_numpy()\n",
    "userids = data.user_id.to_numpy()\n",
    "\n",
    "# sort arrays\n",
    "yobs_order = np.argsort(yobs)\n",
    "sorted_yobs = yobs[yobs_order]\n",
    "sorted_userids = userids[yobs_order]\n",
    "\n",
    "# find group boundaries\n",
    "d = np.diff(sorted_yobs, prepend=-np.inf, append=np.inf)\n",
    "bdr = np.asarray(d != 0).nonzero()[0]\n",
    "\n",
    "# create results dictionary\n",
    "result = {\n",
    "    yob: [sorted_userids[bdr[idx]: bdr[idx + 1]]] for idx, yob in enumerate(np.unique(yobs))\n",
    "}\n",
    "result"
   ]
  },
  {
   "cell_type": "markdown",
   "metadata": {},
   "source": [
    "### Groupby on boolean series for vectorisation.\n",
    "\n",
    "From [here](https://realpython.com/pandas-groupby/)"
   ]
  },
  {
   "cell_type": "code",
   "execution_count": 153,
   "metadata": {},
   "outputs": [
    {
     "name": "stdout",
     "output_type": "stream",
     "text": [
      "1.7 s ± 50.8 ms per loop (mean ± std. dev. of 7 runs, 1 loop each)\n"
     ]
    }
   ],
   "source": [
    "%%timeit\n",
    "df.groupby(df.postcode.str[:2]).apply(lambda g: (g.gender == 'm').sum())"
   ]
  },
  {
   "cell_type": "code",
   "execution_count": 154,
   "metadata": {},
   "outputs": [
    {
     "name": "stdout",
     "output_type": "stream",
     "text": [
      "199 ms ± 6.98 ms per loop (mean ± std. dev. of 7 runs, 1 loop each)\n"
     ]
    }
   ],
   "source": [
    "%%timeit\n",
    "ismale = df.gender == 'm'\n",
    "ismale.groupby(df.postcode.str[:2]).sum()"
   ]
  },
  {
   "cell_type": "code",
   "execution_count": 150,
   "metadata": {},
   "outputs": [
    {
     "data": {
      "text/plain": [
       "{1: Int64Index([0, 2, 4, 6], dtype='int64'),\n",
       " 2: Int64Index([1, 3], dtype='int64'),\n",
       " 3: Int64Index([5], dtype='int64')}"
      ]
     },
     "execution_count": 150,
     "metadata": {},
     "output_type": "execute_result"
    }
   ],
   "source": [
    "a = pd.Series([True, False, True, False, False, False, True])\n",
    "b = [1, 2, 1, 2, 1, 3, 1]\n",
    "\n",
    "a.groupby(b).groups"
   ]
  },
  {
   "cell_type": "code",
   "execution_count": 143,
   "metadata": {
    "collapsed": true,
    "jupyter": {
     "outputs_hidden": true
    }
   },
   "outputs": [
    {
     "data": {
      "text/plain": [
       "{'ab': Int64Index([ 43765,  43766,  43768,  43962,  44018,  44139,  44175,  44197,\n",
       "              44314,  44629,\n",
       "             ...\n",
       "             351737, 351769, 351774, 351778, 352022, 352053, 352296, 352370,\n",
       "             352474, 352500],\n",
       "            dtype='int64', length=3381),\n",
       " 'al': Int64Index([ 17352,  17510,  17553,  17613,  17718,  17823,  18466,  18848,\n",
       "              19103,  19104,\n",
       "             ...\n",
       "             374704, 374705, 374713, 374722, 374747, 374755, 375157, 375833,\n",
       "             375834, 376410],\n",
       "            dtype='int64', length=1369),\n",
       " 'b3': Int64Index([14468, 14494, 14554, 14555, 14558, 14561, 14567, 14569, 14570,\n",
       "             14571,\n",
       "             ...\n",
       "             84888, 84889, 85013, 85018, 85039, 85040, 85041, 85072, 85200,\n",
       "             85204],\n",
       "            dtype='int64', length=937),\n",
       " 'b7': Int64Index([ 17552,  17641,  17697,  17698,  17796,  17887,  17947,  17963,\n",
       "              17968,  17976,\n",
       "             ...\n",
       "             682533, 682537, 682539, 682573, 682576, 682578, 682579, 682580,\n",
       "             682581, 682610],\n",
       "            dtype='int64', length=9212),\n",
       " 'ba': Int64Index([190038, 190346, 190347, 190374, 191807, 191808, 196817, 196818,\n",
       "             196819, 196822,\n",
       "             ...\n",
       "             667600, 667601, 667602, 667603, 667604, 669484, 669485, 669486,\n",
       "             669488, 669489],\n",
       "            dtype='int64', length=2418),\n",
       " 'bb': Int64Index([23431, 23464, 23473, 23493, 23495, 23561, 23821, 23940, 24080,\n",
       "             24125,\n",
       "             ...\n",
       "             37922, 37953, 38006, 38478, 38539, 38621, 38643, 39253, 39266,\n",
       "             39332],\n",
       "            dtype='int64', length=239),\n",
       " 'bd': Int64Index([193105, 196081, 200846, 200847, 201532, 201533, 203468, 204213,\n",
       "             205400, 205401,\n",
       "             ...\n",
       "             671623, 671837, 671842, 671843, 671851, 671945, 672187, 672956,\n",
       "             672987, 672988],\n",
       "            dtype='int64', length=1027),\n",
       " 'bh': Int64Index([ 43735,  43773,  44296,  44311,  44567,  44595,  44603,  45140,\n",
       "              45220,  45716,\n",
       "             ...\n",
       "             677899, 677900, 677946, 678032, 678141, 678144, 678189, 678356,\n",
       "             678357, 678925],\n",
       "            dtype='int64', length=5825),\n",
       " 'bl': Int64Index([214461, 216830, 217384, 218520, 218521, 219094, 219095, 219096,\n",
       "             219113, 219642,\n",
       "             ...\n",
       "             682483, 682499, 682500, 682501, 682504, 682538, 682541, 682585,\n",
       "             682616, 682629],\n",
       "            dtype='int64', length=4821),\n",
       " 'bn': Int64Index([   187,    188,    189,    191,    192,    193,    195,    196,\n",
       "                198,    200,\n",
       "             ...\n",
       "             676038, 676039, 676162, 676164, 676344, 676468, 676470, 676518,\n",
       "             677286, 677304],\n",
       "            dtype='int64', length=13360),\n",
       " 'bs': Int64Index([ 14037,  14040,  14104,  14107,  14108,  14109,  14110,  14119,\n",
       "              14124,  14132,\n",
       "             ...\n",
       "             620895, 620896, 621245, 621246, 621247, 621257, 622354, 622371,\n",
       "             622376, 622382],\n",
       "            dtype='int64', length=12104),\n",
       " 'bt': Int64Index([ 70868,  70902,  71035,  71048,  71071,  71339,  71346,  71374,\n",
       "              71377,  71385,\n",
       "             ...\n",
       "             678083, 678091, 678092, 678093, 678094, 678095, 678287, 678299,\n",
       "             678376, 678898],\n",
       "            dtype='int64', length=9413),\n",
       " 'ca': Int64Index([471458, 471855, 473539, 473541, 473694, 473695, 474172, 474275,\n",
       "             475307, 475699,\n",
       "             ...\n",
       "             682072, 682073, 682122, 682138, 682163, 682296, 682347, 682617,\n",
       "             682633, 682634],\n",
       "            dtype='int64', length=942),\n",
       " 'cb': Int64Index([  3365,   3460,   3472,   3474,   3475,   3490,   3491,   3495,\n",
       "               3501,   3548,\n",
       "             ...\n",
       "             365011, 365722, 365723, 366312, 366313, 366314, 366468, 367293,\n",
       "             367691, 370676],\n",
       "            dtype='int64', length=2026),\n",
       " 'cf': Int64Index([   569,    572,    573,    574,    576,    582,    587,    596,\n",
       "                600,    601,\n",
       "             ...\n",
       "             674055, 674056, 674057, 674058, 674062, 674064, 674065, 674066,\n",
       "             674067, 674800],\n",
       "            dtype='int64', length=12504),\n",
       " 'cm': Int64Index([ 17792,  17952,  17992,  18129,  18190,  18855,  18904,  18961,\n",
       "              18992,  19035,\n",
       "             ...\n",
       "             682587, 682588, 682590, 682593, 682594, 682607, 682608, 682625,\n",
       "             682632, 682638],\n",
       "            dtype='int64', length=16170),\n",
       " 'co': Int64Index([30099, 30188, 30222, 30231, 30318, 30319, 30320, 30333, 30431,\n",
       "             30524,\n",
       "             ...\n",
       "             83287, 83403, 83427, 83434, 83721, 83730, 84147, 84159, 84366,\n",
       "             84638],\n",
       "            dtype='int64', length=749),\n",
       " 'cr': Int64Index([  9716,   9748,   9805,   9806,   9807,   9837,   9880,   9881,\n",
       "               9903,   9906,\n",
       "             ...\n",
       "             233136, 233137, 233683, 233684, 246514, 251732, 254159, 254160,\n",
       "             264747, 267178],\n",
       "            dtype='int64', length=3058),\n",
       " 'ct': Int64Index([ 13299,  13361,  13363,  13417,  13465,  13467,  13656,  13717,\n",
       "              13767,  13770,\n",
       "             ...\n",
       "             646361, 649357, 649952, 649956, 650557, 651151, 658651, 659125,\n",
       "             660167, 663835],\n",
       "            dtype='int64', length=11843),\n",
       " 'cw': Int64Index([12809, 12961, 12971, 13270, 13280, 13311, 13481, 13858, 13859,\n",
       "             13862,\n",
       "             ...\n",
       "             93818, 93890, 93891, 93892, 94393, 94394, 97861, 97951, 97952,\n",
       "             98038],\n",
       "            dtype='int64', length=751),\n",
       " 'da': Int64Index([ 45559,  46584,  46915,  47327,  47338,  47339,  48683,  49715,\n",
       "              50974,  51008,\n",
       "             ...\n",
       "             677355, 677357, 677359, 677436, 677463, 677526, 678297, 678303,\n",
       "             678312, 678317],\n",
       "            dtype='int64', length=8261),\n",
       " 'dd': Int64Index([188722, 188733, 188734, 188735, 188981, 188984, 189864, 189865,\n",
       "             189866, 189867,\n",
       "             ...\n",
       "             671042, 671043, 671044, 671048, 671049, 671050, 671051, 671052,\n",
       "             671065, 671108],\n",
       "            dtype='int64', length=3980),\n",
       " 'de': Int64Index([  2298,   2394,   2494,   2558,   2574,   2576,   2609,   2618,\n",
       "               2625,   2712,\n",
       "             ...\n",
       "             682300, 682314, 682315, 682324, 682327, 682330, 682331, 682477,\n",
       "             682478, 682640],\n",
       "            dtype='int64', length=14626),\n",
       " 'dn': Int64Index([162351, 162578, 162579, 162580, 162584, 163029, 163030, 163031,\n",
       "             163032, 163033,\n",
       "             ...\n",
       "             682604, 682611, 682614, 682627, 682628, 682651, 682652, 682653,\n",
       "             682654, 682655],\n",
       "            dtype='int64', length=7398),\n",
       " 'dy': Int64Index([22821, 22956, 23117, 23395, 23848, 24045, 24222, 24225, 24232,\n",
       "             24242,\n",
       "             ...\n",
       "             35077, 35119, 35207, 35281, 35313, 36100, 36112, 36117, 36118,\n",
       "             36167],\n",
       "            dtype='int64', length=245),\n",
       " 'e1': Int64Index([146308, 148221, 148222, 148256, 148257, 148258, 148895, 149639,\n",
       "             149640, 149851,\n",
       "             ...\n",
       "             378993, 378994, 379062, 379063, 379078, 379119, 379121, 379207,\n",
       "             379479, 379494],\n",
       "            dtype='int64', length=5760),\n",
       " 'e8': Int64Index([253378, 255068, 255069, 255070, 255071, 256212, 256350, 257254,\n",
       "             257255, 257256,\n",
       "             ...\n",
       "             681776, 681847, 681850, 681856, 681876, 681887, 681894, 681895,\n",
       "             681896, 682084],\n",
       "            dtype='int64', length=6314),\n",
       " 'eh': Int64Index([  5964,   5989,   5994,   5995,   6003,   6007,   6011,   6012,\n",
       "               6046,   6089,\n",
       "             ...\n",
       "             670078, 670079, 670080, 670081, 671011, 671023, 671024, 671027,\n",
       "             671077, 671093],\n",
       "            dtype='int64', length=17927),\n",
       " 'en': Int64Index([190178, 190179, 190180, 191029, 191030, 191031, 191032, 191033,\n",
       "             191034, 191035,\n",
       "             ...\n",
       "             672932, 673009, 673010, 673018, 673019, 673409, 673412, 673414,\n",
       "             673415, 673416],\n",
       "            dtype='int64', length=4161),\n",
       " 'ex': Int64Index([181614, 181880, 182128, 183710, 183711, 184516, 184517, 184779,\n",
       "             184817, 185082,\n",
       "             ...\n",
       "             682531, 682546, 682551, 682556, 682562, 682566, 682577, 682595,\n",
       "             682621, 682635],\n",
       "            dtype='int64', length=5366),\n",
       " 'fk': Int64Index([205872, 205873, 205874, 206220, 206223, 206224, 206225, 206226,\n",
       "             206227, 206228,\n",
       "             ...\n",
       "             376589, 376859, 376880, 378997, 378999, 379194, 379462, 379476,\n",
       "             381061, 381247],\n",
       "            dtype='int64', length=1226),\n",
       " 'g1': Int64Index([272284, 272285, 272286, 272287, 272288, 272289, 272290, 272291,\n",
       "             272292, 272293,\n",
       "             ...\n",
       "             381657, 381658, 381659, 383621, 383622, 383623, 383624, 383625,\n",
       "             383626, 383627],\n",
       "            dtype='int64', length=1605),\n",
       " 'g2': Int64Index([ 49308,  49317,  49318,  49320,  49321,  49444,  49451,  49473,\n",
       "              49495,  49604,\n",
       "             ...\n",
       "              75365,  78767,  80893,  81330,  81976,  85245,  85528, 207946,\n",
       "             207947, 207949],\n",
       "            dtype='int64', length=539),\n",
       " 'g3': Int64Index([  8718,   8719,   8722,   8740,   8750,   8795,   8796,   8803,\n",
       "               8804,   8805,\n",
       "             ...\n",
       "             669790, 669796, 669797, 670063, 671007, 671019, 671026, 671086,\n",
       "             671105, 671134],\n",
       "            dtype='int64', length=10054),\n",
       " 'g4': Int64Index([247549, 249317, 249318, 249319, 250125, 250667, 250668, 250669,\n",
       "             251485, 251486,\n",
       "             ...\n",
       "             682507, 682548, 682549, 682557, 682569, 682570, 682605, 682606,\n",
       "             682612, 682615],\n",
       "            dtype='int64', length=3583),\n",
       " 'g5': Int64Index([282615, 282616, 282703, 283881, 284393, 284394, 284395, 285031,\n",
       "             285032, 285033,\n",
       "             ...\n",
       "             625141, 625499, 625512, 625513, 625514, 627511, 627729, 628958,\n",
       "             632682, 632685],\n",
       "            dtype='int64', length=2874),\n",
       " 'g7': Int64Index([176715, 176716, 176717, 176718, 176719, 177292, 177293, 177294,\n",
       "             177637, 177638,\n",
       "             ...\n",
       "             670351, 670354, 670444, 670458, 670954, 671966, 671967, 671968,\n",
       "             671973, 672951],\n",
       "            dtype='int64', length=4177),\n",
       " 'gl': Int64Index([ 59006,  59007,  59008,  59290,  59298,  59305,  59328,  59451,\n",
       "              59508,  59524,\n",
       "             ...\n",
       "             674716, 675118, 675119, 675120, 675317, 675318, 675319, 675321,\n",
       "             675523, 675531],\n",
       "            dtype='int64', length=5954),\n",
       " 'gu': Int64Index([   387,    420,    422,    442,    443,    447,    448,    450,\n",
       "                468,    469,\n",
       "             ...\n",
       "             668515, 668516, 668519, 668698, 668815, 669194, 669558, 671075,\n",
       "             671085, 671104],\n",
       "            dtype='int64', length=17396),\n",
       " 'ha': Int64Index([107626, 108025, 108303, 108452, 108549, 108649, 108652, 108686,\n",
       "             108898, 109627,\n",
       "             ...\n",
       "             314543, 314881, 315365, 318520, 318643, 318650, 319276, 319524,\n",
       "             321037, 321201],\n",
       "            dtype='int64', length=2337),\n",
       " 'hd': Int64Index([ 50117,  50203,  50242,  50358,  50380,  50537,  50542,  50543,\n",
       "              50544,  50568,\n",
       "             ...\n",
       "             660123, 660185, 660607, 660611, 660643, 660651, 660688, 661002,\n",
       "             661111, 663399],\n",
       "            dtype='int64', length=5489),\n",
       " 'hp': Int64Index([ 38741,  38751,  38753,  38756,  38882,  38889,  38890,  38893,\n",
       "              38997,  39004,\n",
       "             ...\n",
       "             682305, 682321, 682322, 682326, 682431, 682432, 682512, 682513,\n",
       "             682520, 682602],\n",
       "            dtype='int64', length=10934),\n",
       " 'ig': Int64Index([  2075,   2084,   2085,   2102,   2115,   2129,   2133,   2135,\n",
       "               2137,   2140,\n",
       "             ...\n",
       "             655021, 655624, 655628, 656116, 657004, 657885, 658368, 658655,\n",
       "             659058, 663485],\n",
       "            dtype='int64', length=11712),\n",
       " 'im': Int64Index([189855, 189856, 189857, 190149, 190152, 190375, 190376, 190377,\n",
       "             190378, 190379,\n",
       "             ...\n",
       "             515141, 516697, 516699, 516713, 517283, 517728, 518657, 518658,\n",
       "             519684, 520710],\n",
       "            dtype='int64', length=1357),\n",
       " 'ip': Int64Index([251187, 251188, 251195, 252235, 252248, 253783, 254521, 254522,\n",
       "             254523, 254527,\n",
       "             ...\n",
       "             659219, 659524, 659602, 659603, 660312, 660315, 660532, 660909,\n",
       "             660910, 663493],\n",
       "            dtype='int64', length=1529),\n",
       " 'kt': Int64Index([   337,    343,    346,    347,    351,    352,    354,    355,\n",
       "                357,    359,\n",
       "             ...\n",
       "             645355, 645854, 649949, 651191, 653112, 654146, 655993, 659141,\n",
       "             659974, 660238],\n",
       "            dtype='int64', length=2434),\n",
       " 'ky': Int64Index([ 35447,  35480,  35784,  35800,  35801,  35802,  35806,  35807,\n",
       "              35808,  35879,\n",
       "             ...\n",
       "             682358, 682359, 682422, 682427, 682457, 682510, 682553, 682567,\n",
       "             682568, 682636],\n",
       "            dtype='int64', length=8373),\n",
       " 'l1': Int64Index([ 23295,  23411,  23618,  23674,  23681,  23682,  23769,  23866,\n",
       "              23880,  23889,\n",
       "             ...\n",
       "             533079, 533137, 533138, 533151, 533496, 533602, 534073, 534093,\n",
       "             538265, 538292],\n",
       "            dtype='int64', length=5536),\n",
       " 'l2': Int64Index([157517, 157532, 157795, 157802, 157805, 158944, 158945, 158946,\n",
       "             158952, 158955,\n",
       "             ...\n",
       "             283174, 283186, 283187, 283692, 285582, 285583, 285587, 285593,\n",
       "             285594, 285595],\n",
       "            dtype='int64', length=700),\n",
       " 'l3': Int64Index([ 30984,  31256,  31287,  31537,  31546,  31559,  31575,  31601,\n",
       "              32224,  32225,\n",
       "             ...\n",
       "             470690, 470704, 470710, 471325, 471984, 471985, 472719, 473192,\n",
       "             473206, 474462],\n",
       "            dtype='int64', length=2058),\n",
       " 'l5': Int64Index([137735, 137744, 137766, 138158, 138403, 138408, 138409, 138424,\n",
       "             138425, 138433,\n",
       "             ...\n",
       "             461770, 462673, 462861, 462872, 463139, 463162, 463891, 466325,\n",
       "             466326, 466371],\n",
       "            dtype='int64', length=2704),\n",
       " 'la': Int64Index([315807, 315809, 316582, 316583, 316584, 316585, 316586, 316587,\n",
       "             316588, 316609,\n",
       "             ...\n",
       "             561204, 561759, 561760, 561761, 561762, 561769, 562134, 562138,\n",
       "             562543, 562544],\n",
       "            dtype='int64', length=1531),\n",
       " 'ln': Int64Index([ 14055,  14221,  14261,  14282,  14398,  14423,  14493,  14731,\n",
       "              14742,  14754,\n",
       "             ...\n",
       "             665857, 666080, 666154, 666155, 669423, 669814, 669817, 669818,\n",
       "             670452, 671357],\n",
       "            dtype='int64', length=7663),\n",
       " 'ls': Int64Index([   405,    407,    412,    414,    415,    416,    417,    419,\n",
       "                421,    423,\n",
       "             ...\n",
       "             682517, 682525, 682527, 682555, 682560, 682572, 682618, 682624,\n",
       "             682637, 682641],\n",
       "            dtype='int64', length=15681),\n",
       " 'lu': Int64Index([ 94746,  94855,  95111,  95112,  95113,  99008,  99009,  99676,\n",
       "              99903, 101229,\n",
       "             ...\n",
       "             117328, 117329, 117762, 117763, 118238, 118409, 118410, 118722,\n",
       "             118876, 118877],\n",
       "            dtype='int64', length=325),\n",
       " 'm1': Int64Index([ 32640,  32719,  32722,  32723,  32736,  32744,  32885,  32887,\n",
       "              33016,  33017,\n",
       "             ...\n",
       "             682455, 682492, 682493, 682494, 682574, 682575, 682582, 682584,\n",
       "             682601, 682603],\n",
       "            dtype='int64', length=7610),\n",
       " 'm2': Int64Index([ 56872,  56873,  56969,  57071,  57072,  57073,  57074,  57243,\n",
       "              57532,  57533,\n",
       "             ...\n",
       "             669365, 669460, 669465, 669466, 669469, 669470, 669481, 671076,\n",
       "             671084, 671101],\n",
       "            dtype='int64', length=2971),\n",
       " 'm3': Int64Index([300767, 300768, 300769, 301438, 301439, 301440, 301441, 301442,\n",
       "             302792, 302793,\n",
       "             ...\n",
       "             654374, 654387, 655212, 655432, 657680, 657925, 660094, 660166,\n",
       "             660974, 663414],\n",
       "            dtype='int64', length=1152),\n",
       " 'm4': Int64Index([ 22510,  22520,  22521,  22527,  22537,  22565,  22566,  22623,\n",
       "              22727,  22841,\n",
       "             ...\n",
       "             679621, 679622, 679623, 679679, 679695, 679733, 679827, 680292,\n",
       "             680316, 680331],\n",
       "            dtype='int64', length=4594),\n",
       " 'me': Int64Index([ 63035,  63082,  63083,  63084,  63333,  63552,  63761,  63791,\n",
       "              64072,  64419,\n",
       "             ...\n",
       "             667041, 668301, 668811, 668812, 669310, 669357, 669985, 670157,\n",
       "             671324, 671325],\n",
       "            dtype='int64', length=2387),\n",
       " 'mk': Int64Index([ 41031,  41313,  41398,  41399,  41400,  41401,  41402,  41615,\n",
       "              41617,  41626,\n",
       "             ...\n",
       "             679803, 679893, 680012, 680235, 680434, 680922, 681160, 681567,\n",
       "             681572, 681629],\n",
       "            dtype='int64', length=13067),\n",
       " 'ml': Int64Index([ 31183,  31184,  31366,  31375,  31410,  31415,  31417,  31643,\n",
       "              31727,  31876,\n",
       "             ...\n",
       "             669773, 669781, 670067, 670069, 670074, 671012, 671016, 671020,\n",
       "             671021, 671099],\n",
       "            dtype='int64', length=7083),\n",
       " 'n1': Int64Index([ 14264,  14284,  14294,  14335,  14341,  14345,  14386,  14387,\n",
       "              14399,  14403,\n",
       "             ...\n",
       "             669145, 669443, 669453, 669813, 669825, 669828, 669834, 669835,\n",
       "             670938, 670939],\n",
       "            dtype='int64', length=26040),\n",
       " 'n2': Int64Index([32761, 32863, 33124, 33167, 33217, 33259, 35435, 35474, 35475,\n",
       "             35478,\n",
       "             ...\n",
       "             46920, 46921, 46922, 46923, 46928, 47182, 47296, 47328, 47329,\n",
       "             48922],\n",
       "            dtype='int64', length=176),\n",
       " 'n4': Int64Index([164484, 164485, 164736, 165017, 165018, 165268, 165269, 165507,\n",
       "             165508, 165509,\n",
       "             ...\n",
       "             670495, 670496, 671046, 671054, 671056, 671057, 671058, 671361,\n",
       "             671362, 671363],\n",
       "            dtype='int64', length=4096),\n",
       " 'n5': Int64Index([345544, 345953, 345954, 346208, 347145, 347146, 347147, 347148,\n",
       "             347149, 348082,\n",
       "             ...\n",
       "             519340, 519341, 519342, 519721, 520193, 520194, 520199, 520200,\n",
       "             520201, 520325],\n",
       "            dtype='int64', length=1103),\n",
       " 'n7': Int64Index([392483, 392751, 392985, 393960, 393961, 393962, 394772, 395504,\n",
       "             399965, 401791,\n",
       "             ...\n",
       "             668603, 668776, 669039, 669042, 669097, 669420, 670034, 670035,\n",
       "             670036, 670981],\n",
       "            dtype='int64', length=1050),\n",
       " 'ne': Int64Index([ 18375,  18564,  18708,  18778,  18779,  18780,  18989,  19052,\n",
       "              19119,  19127,\n",
       "             ...\n",
       "             663679, 663805, 663806, 663821, 663822, 663823, 663824, 664553,\n",
       "             664554, 664555],\n",
       "            dtype='int64', length=8994),\n",
       " 'ng': Int64Index([ 13605,  13626,  13636,  13787,  14161,  14194,  14211,  14219,\n",
       "              14295,  14377,\n",
       "             ...\n",
       "             672978, 672990, 672991, 673087, 673406, 673438, 673442, 673787,\n",
       "             673793, 673869],\n",
       "            dtype='int64', length=15829),\n",
       " 'nn': Int64Index([ 10590,  10597,  11352,  11447,  11452,  11458,  11486,  11707,\n",
       "              12042,  12100,\n",
       "             ...\n",
       "             489278, 489347, 490024, 490037, 490106, 491471, 492813, 492848,\n",
       "             493201, 493230],\n",
       "            dtype='int64', length=2576),\n",
       " 'np': Int64Index([ 49256,  49492,  49515,  49523,  49527,  49556,  49562,  49822,\n",
       "              49823,  49835,\n",
       "             ...\n",
       "             379074, 379083, 379084, 379098, 379122, 379302, 379443, 379591,\n",
       "             381054, 381122],\n",
       "            dtype='int64', length=3103),\n",
       " 'nr': Int64Index([ 23494,  26594,  26628,  27255,  27402,  27403,  27404,  27405,\n",
       "              27406,  27407,\n",
       "             ...\n",
       "             682420, 682425, 682472, 682474, 682518, 682571, 682613, 682620,\n",
       "             682622, 682623],\n",
       "            dtype='int64', length=6786),\n",
       " 'nw': Int64Index([ 52887,  53271,  53276,  53302,  54095,  54178,  54196,  54264,\n",
       "              54663,  54767,\n",
       "             ...\n",
       "             566813, 566814, 566815, 566816, 566817, 566818, 566819, 566827,\n",
       "             566920, 566921],\n",
       "            dtype='int64', length=8537),\n",
       " 'ol': Int64Index([109767, 110125, 110915, 110936, 110963, 111009, 111322, 111327,\n",
       "             111471, 111497,\n",
       "             ...\n",
       "             249620, 249622, 250136, 250692, 251608, 251822, 252855, 253442,\n",
       "             253497, 253641],\n",
       "            dtype='int64', length=670),\n",
       " 'ox': Int64Index([ 32796,  32798,  32860,  32861,  32862, 155988, 155991, 156087,\n",
       "             156088, 156089,\n",
       "             ...\n",
       "             668923, 668935, 669026, 669183, 669200, 669360, 669784, 669815,\n",
       "             671010, 671367],\n",
       "            dtype='int64', length=6544),\n",
       " 'pa': Int64Index([163035, 163036, 163037, 163038, 163635, 163636, 163637, 163638,\n",
       "             163639, 163869,\n",
       "             ...\n",
       "             646277, 646278, 646279, 646396, 646506, 648171, 648196, 648236,\n",
       "             653814, 657713],\n",
       "            dtype='int64', length=7059),\n",
       " 'pe': Int64Index([  4617,   4632,   4642,   4647,   4650,   4651,   4665,   4682,\n",
       "               4752,   4753,\n",
       "             ...\n",
       "             663479, 663481, 663482, 663483, 663551, 663684, 663685, 667724,\n",
       "             668388, 669014],\n",
       "            dtype='int64', length=11789),\n",
       " 'ph': Int64Index([ 15036,  15056,  15074,  15083,  15084,  15085,  15086,  15087,\n",
       "              15088,  15097,\n",
       "             ...\n",
       "             663627, 664084, 664897, 666974, 668810, 669007, 669012, 669065,\n",
       "             669111, 669890],\n",
       "            dtype='int64', length=11963),\n",
       " 'pl': Int64Index([ 82118,  83820,  83890,  83893,  83894,  83895,  83922,  84060,\n",
       "              84070,  84073,\n",
       "             ...\n",
       "             681571, 681576, 681848, 681874, 681886, 682034, 682212, 682247,\n",
       "             682282, 682283],\n",
       "            dtype='int64', length=5349),\n",
       " 'po': Int64Index([42070, 42082, 44573, 44692, 46187, 46193, 46313, 46466, 47326,\n",
       "             48040, 49024, 49348, 49391, 49414, 49510, 49512, 49676, 49677,\n",
       "             49747, 49785, 49913, 49914, 49915, 50164, 50306, 50399, 50422,\n",
       "             50440, 50654, 50927, 50929, 50937, 50952, 51019, 51020, 51144,\n",
       "             51145, 51309, 51336, 51337, 51408, 51953, 51990, 52180, 52271,\n",
       "             52358, 52495, 52496, 52520, 52659, 52663, 52678, 52697, 52698,\n",
       "             52766, 52865, 52866, 53065, 53067, 53197, 53292, 53376, 53468,\n",
       "             53471, 53547, 53619, 53622, 53847, 53848, 54041, 54068, 54133,\n",
       "             54171, 54199, 54214, 54250, 54479, 54480, 54481, 54648, 54649,\n",
       "             54672, 54707, 54777, 54826, 54925, 54946, 55019, 55024, 55130,\n",
       "             55131, 55145, 55152, 55154, 55184, 55195, 55323, 55324],\n",
       "            dtype='int64'),\n",
       " 'pr': Int64Index([ 17484,  17496,  17497,  17498,  17500,  17509,  17550,  17723,\n",
       "              17768,  17800,\n",
       "             ...\n",
       "             633003, 633005, 633007, 633012, 633014, 633020, 633393, 633395,\n",
       "             634664, 634666],\n",
       "            dtype='int64', length=7102),\n",
       " 'rg': Int64Index([   719,    732,    733,    734,    736,    747,    750,    753,\n",
       "                759,    761,\n",
       "             ...\n",
       "             654135, 657669, 658230, 658650, 658652, 658703, 659382, 659579,\n",
       "             662831, 662835],\n",
       "            dtype='int64', length=16551),\n",
       " 'rh': Int64Index([ 20922,  20939,  20982,  20983,  20984,  20985,  21022,  21031,\n",
       "              21270,  21308,\n",
       "             ...\n",
       "             668021, 668278, 668460, 668717, 668818, 669264, 669467, 669482,\n",
       "             671092, 671106],\n",
       "            dtype='int64', length=3305),\n",
       " 'rm': Int64Index([ 19036,  19037,  19041,  19047,  19063,  19067,  19068,  19071,\n",
       "              19084,  19085,\n",
       "             ...\n",
       "             661099, 663425, 663428, 663434, 663435, 663439, 663441, 663544,\n",
       "             663680, 663811],\n",
       "            dtype='int64', length=3644),\n",
       " 's4': Int64Index([ 27481,  28450,  29473,  29823,  30145,  30267,  30270,  30486,\n",
       "              32886,  33770,\n",
       "             ...\n",
       "             132258, 132640, 132641, 132657, 133115, 136727, 136761, 136800,\n",
       "             136801, 207817],\n",
       "            dtype='int64', length=281),\n",
       " 's6': Int64Index([332046, 332047, 332526, 332632, 332939, 333673, 337667, 337668,\n",
       "             339014, 339015,\n",
       "             ...\n",
       "             497232, 497233, 498148, 498149, 498656, 498663, 498716, 498738,\n",
       "             498785, 499344],\n",
       "            dtype='int64', length=257),\n",
       " 'sa': Int64Index([ 17901,  17913,  17914,  18049,  18060,  18067,  18081,  18157,\n",
       "              18233,  18234,\n",
       "             ...\n",
       "             667967, 667973, 668275, 668452, 668547, 668720, 668721, 668722,\n",
       "             668814, 671103],\n",
       "            dtype='int64', length=8139),\n",
       " 'se': Int64Index([ 26818,  27117,  27386,  28038,  28081,  28338,  28357,  28515,\n",
       "              28543,  28570,\n",
       "             ...\n",
       "             682409, 682412, 682414, 682467, 682498, 682505, 682532, 682589,\n",
       "             682591, 682592],\n",
       "            dtype='int64', length=23527),\n",
       " 'sg': Int64Index([ 16850,  16853,  16940,  16946,  16997,  17106,  17109,  17238,\n",
       "              17264,  17290,\n",
       "             ...\n",
       "             660121, 660137, 660150, 660153, 660173, 663834, 663840, 665166,\n",
       "             666095, 666432],\n",
       "            dtype='int64', length=5150),\n",
       " 'sk': Int64Index([167905, 168102, 168266, 168267, 168268, 168269, 168329, 169307,\n",
       "             169366, 169367,\n",
       "             ...\n",
       "             343735, 343906, 344017, 344019, 344061, 344339, 344358, 352586,\n",
       "             361336, 373992],\n",
       "            dtype='int64', length=1458),\n",
       " 'sl': Int64Index([404103, 404104, 404267, 404268, 404269, 404370, 408497, 408498,\n",
       "             408499, 410586,\n",
       "             ...\n",
       "             671275, 671565, 671772, 671796, 671954, 672115, 672202, 672428,\n",
       "             672456, 673449],\n",
       "            dtype='int64', length=1148),\n",
       " 'sm': Int64Index([ 57685,  57934,  57936,  57937,  58136,  58286,  59431,  59435,\n",
       "              59437,  59754,\n",
       "             ...\n",
       "             415815, 416305, 417121, 417206, 418290, 418295, 421271, 421275,\n",
       "             421294, 421308],\n",
       "            dtype='int64', length=1855),\n",
       " 'sn': Int64Index([ 18283,  18286,  18313,  18432,  18438,  18462,  18615,  18647,\n",
       "              18712,  18738,\n",
       "             ...\n",
       "             680158, 680181, 680187, 680188, 680191, 680198, 680378, 681049,\n",
       "             681052, 681443],\n",
       "            dtype='int64', length=10880),\n",
       " 'so': Int64Index([ 44121,  44168,  44214,  44282,  44312,  44360,  44362,  44463,\n",
       "              44506,  44550,\n",
       "             ...\n",
       "             681345, 681620, 681893, 681906, 681940, 681954, 682394, 682440,\n",
       "             682534, 682544],\n",
       "            dtype='int64', length=12901),\n",
       " 'sp': Int64Index([385649, 391684, 392474, 392475, 392476, 393027, 394889, 394890,\n",
       "             395838, 395950,\n",
       "             ...\n",
       "             611251, 611255, 611256, 611257, 611259, 611260, 612316, 612317,\n",
       "             612384, 612385],\n",
       "            dtype='int64', length=1181),\n",
       " 'ss': Int64Index([ 25973,  26184,  26284,  26302,  26303,  26304,  26400,  26428,\n",
       "              26681,  26926,\n",
       "             ...\n",
       "             466049, 466050, 466051, 466052, 466066, 466067, 469259, 469350,\n",
       "             469358, 469368],\n",
       "            dtype='int64', length=4682),\n",
       " 'st': Int64Index([17674, 17675, 17679, 17687, 17688, 17878, 17897, 17900, 17915,\n",
       "             17921,\n",
       "             ...\n",
       "             39832, 39847, 39871, 39874, 41927, 41948, 41966, 41970, 41971,\n",
       "             42015],\n",
       "            dtype='int64', length=421),\n",
       " 'sw': Int64Index([   806,    807,    808,    810,    819,    820,    834,    861,\n",
       "                862,    863,\n",
       "             ...\n",
       "             670062, 670068, 670122, 670147, 670191, 670192, 670271, 670291,\n",
       "             671025, 671029],\n",
       "            dtype='int64', length=26051),\n",
       " 'ta': Int64Index([  2300,   2301,   2343,   2385,   2401,   2402,   2403,   2408,\n",
       "               2409,   2410,\n",
       "             ...\n",
       "             669473, 669474, 669475, 669476, 669559, 671079, 671088, 671089,\n",
       "             671091, 671102],\n",
       "            dtype='int64', length=10399),\n",
       " 'tn': Int64Index([ 47304,  47308,  47320,  47398,  47484,  47608,  47610,  47682,\n",
       "              47683,  47778,\n",
       "             ...\n",
       "             682101, 682107, 682108, 682183, 682184, 682185, 682186, 682389,\n",
       "             682423, 682583],\n",
       "            dtype='int64', length=9419),\n",
       " 'tq': Int64Index([280525, 280526, 280874, 280912, 282035, 282258, 283890, 285199,\n",
       "             285208, 285209,\n",
       "             ...\n",
       "             457190, 457191, 457398, 458846, 459581, 460179, 460488, 462343,\n",
       "             462344, 462685],\n",
       "            dtype='int64', length=625),\n",
       " 'ts': Int64Index([ 39772,  40024,  40077,  40161,  40189,  40196,  40250,  40318,\n",
       "              40319,  40352,\n",
       "             ...\n",
       "             673559, 673591, 673621, 673669, 673689, 673691, 673836, 673838,\n",
       "             673854, 673857],\n",
       "            dtype='int64', length=8770),\n",
       " 'ub': Int64Index([184280, 184281, 184288, 184545, 184754, 186311, 187371, 187372,\n",
       "             187379, 187384,\n",
       "             ...\n",
       "             682508, 682545, 682558, 682559, 682561, 682597, 682619, 682626,\n",
       "             682631, 682639],\n",
       "            dtype='int64', length=7826),\n",
       " 'w1': Int64Index([25210, 25518, 25519, 25522, 25523, 25700, 25701, 25728, 25856,\n",
       "             26001,\n",
       "             ...\n",
       "             37910, 38092, 38215, 38367, 38611, 38612, 38616, 38626, 39421,\n",
       "             39422],\n",
       "            dtype='int64', length=204),\n",
       " 'w7': Int64Index([245584, 245585, 246336, 246338, 247172, 247173, 247174, 247551,\n",
       "             247552, 247553,\n",
       "             ...\n",
       "             682488, 682523, 682526, 682550, 682564, 682596, 682598, 682599,\n",
       "             682609, 682630],\n",
       "            dtype='int64', length=5921),\n",
       " 'wa': Int64Index([     0,      1,      2,      3,      4,      5,      6,      7,\n",
       "                  8,      9,\n",
       "             ...\n",
       "             680526, 680620, 680751, 680752, 680753, 680761, 681097, 681101,\n",
       "             681102, 681188],\n",
       "            dtype='int64', length=13292),\n",
       " 'wd': Int64Index([176211, 176269, 176284, 176328, 176384, 176405, 176406, 176407,\n",
       "             176412, 176416,\n",
       "             ...\n",
       "             610692, 610695, 611186, 611187, 611198, 611201, 611204, 611206,\n",
       "             611207, 611208],\n",
       "            dtype='int64', length=2647),\n",
       " 'wf': Int64Index([209911, 209912, 209913, 209914, 209915, 209916, 209917, 210307,\n",
       "             210308, 210309,\n",
       "             ...\n",
       "             677350, 677353, 677354, 677459, 677460, 677461, 677465, 677645,\n",
       "             678326, 678327],\n",
       "            dtype='int64', length=4175),\n",
       " 'wn': Int64Index([ 49537,  49543,  49564,  49568,  49670,  49775,  49786,  49794,\n",
       "              49804,  49853,\n",
       "             ...\n",
       "             682466, 682642, 682643, 682644, 682645, 682646, 682647, 682648,\n",
       "             682649, 682650],\n",
       "            dtype='int64', length=5475),\n",
       " 'wr': Int64Index([ 54332,  54475,  54476,  54496,  54740,  54753,  54758,  55421,\n",
       "              55424,  55425,\n",
       "             ...\n",
       "             658394, 658395, 658396, 658961, 659215, 659216, 659327, 659482,\n",
       "             659483, 659828],\n",
       "            dtype='int64', length=2739),\n",
       " 'ws': Int64Index([20111, 20392, 22207, 23347, 25377, 25602, 25607, 25878, 25879,\n",
       "             25914,\n",
       "             ...\n",
       "             31625, 31628, 31640, 31641, 31642, 31658, 31686, 31688, 32025,\n",
       "             32102],\n",
       "            dtype='int64', length=106),\n",
       " 'wv': Int64Index([235814, 236166, 238236, 247378, 248199, 251532, 252610, 259104,\n",
       "             259883, 260509,\n",
       "             ...\n",
       "             658876, 658877, 658878, 659059, 659359, 659485, 659486, 659582,\n",
       "             659604, 659811],\n",
       "            dtype='int64', length=843),\n",
       " 'xx': Int64Index([ 15216,  16296,  16440,  17750,  18304,  18439,  18449,  18475,\n",
       "              18477,  18642,\n",
       "             ...\n",
       "             547854, 547855, 547856, 547857, 547858, 547859, 549393, 549802,\n",
       "             549804, 549805],\n",
       "            dtype='int64', length=4262),\n",
       " 'yo': Int64Index([215719, 216047, 216048, 216094, 217772, 217773, 217774, 217775,\n",
       "             217776, 217777,\n",
       "             ...\n",
       "             678883, 678893, 678904, 678926, 678962, 678966, 678967, 678973,\n",
       "             678978, 679001],\n",
       "            dtype='int64', length=2836)}"
      ]
     },
     "execution_count": 143,
     "metadata": {},
     "output_type": "execute_result"
    }
   ],
   "source": [
    "ismale.groupby(df.postcode.str[:2]).groups"
   ]
  },
  {
   "cell_type": "code",
   "execution_count": 121,
   "metadata": {},
   "outputs": [
    {
     "name": "stdout",
     "output_type": "stream",
     "text": [
      "CPU times: user 2.18 s, sys: 706 ms, total: 2.88 s\n",
      "Wall time: 2.95 s\n"
     ]
    },
    {
     "data": {
      "text/html": [
       "<div>\n",
       "<style scoped>\n",
       "    .dataframe tbody tr th:only-of-type {\n",
       "        vertical-align: middle;\n",
       "    }\n",
       "\n",
       "    .dataframe tbody tr th {\n",
       "        vertical-align: top;\n",
       "    }\n",
       "\n",
       "    .dataframe thead th {\n",
       "        text-align: right;\n",
       "    }\n",
       "</style>\n",
       "<table border=\"1\" class=\"dataframe\">\n",
       "  <thead>\n",
       "    <tr style=\"text-align: right;\">\n",
       "      <th></th>\n",
       "      <th>transaction_id</th>\n",
       "      <th>user_id</th>\n",
       "      <th>user_registration_date</th>\n",
       "      <th>year_of_birth</th>\n",
       "      <th>salary_range</th>\n",
       "      <th>postcode</th>\n",
       "      <th>gender</th>\n",
       "      <th>transaction_date</th>\n",
       "      <th>account_id</th>\n",
       "      <th>bank</th>\n",
       "      <th>account_type</th>\n",
       "      <th>latest_balance</th>\n",
       "      <th>transaction_description</th>\n",
       "      <th>credit_debit</th>\n",
       "      <th>amount</th>\n",
       "      <th>up_tag</th>\n",
       "      <th>manual_tag</th>\n",
       "      <th>auto_tag</th>\n",
       "      <th>merchant_name</th>\n",
       "      <th>merchant_business_line</th>\n",
       "      <th>account_created</th>\n",
       "      <th>account_last_refreshed</th>\n",
       "      <th>ym</th>\n",
       "    </tr>\n",
       "  </thead>\n",
       "  <tbody>\n",
       "    <tr>\n",
       "      <th>0</th>\n",
       "      <td>688293</td>\n",
       "      <td>777</td>\n",
       "      <td>2011-07-20</td>\n",
       "      <td>1969.0</td>\n",
       "      <td>20k to 30k</td>\n",
       "      <td>wa1 4</td>\n",
       "      <td>m</td>\n",
       "      <td>2012-01-25</td>\n",
       "      <td>262916</td>\n",
       "      <td>natwest bank</td>\n",
       "      <td>current</td>\n",
       "      <td>364.22</td>\n",
       "      <td>9572 24jan12 , tcs bowdon , bowdon gb - pos</td>\n",
       "      <td>debit</td>\n",
       "      <td>25.03</td>\n",
       "      <td>no tag</td>\n",
       "      <td>no tag</td>\n",
       "      <td>no tag</td>\n",
       "      <td>no merchant</td>\n",
       "      <td>unknown merchant</td>\n",
       "      <td>2011-07-20</td>\n",
       "      <td>2020-07-21 20:32:00</td>\n",
       "      <td>2012-01</td>\n",
       "    </tr>\n",
       "    <tr>\n",
       "      <th>1</th>\n",
       "      <td>688291</td>\n",
       "      <td>777</td>\n",
       "      <td>2011-07-20</td>\n",
       "      <td>1969.0</td>\n",
       "      <td>20k to 30k</td>\n",
       "      <td>wa1 4</td>\n",
       "      <td>m</td>\n",
       "      <td>2012-01-25</td>\n",
       "      <td>262916</td>\n",
       "      <td>natwest bank</td>\n",
       "      <td>current</td>\n",
       "      <td>364.22</td>\n",
       "      <td>warrington b.c. - d/d</td>\n",
       "      <td>debit</td>\n",
       "      <td>26.00</td>\n",
       "      <td>gym membership</td>\n",
       "      <td>gym membership</td>\n",
       "      <td>no tag</td>\n",
       "      <td>no merchant</td>\n",
       "      <td>unknown merchant</td>\n",
       "      <td>2011-07-20</td>\n",
       "      <td>2020-07-21 20:32:00</td>\n",
       "      <td>2012-01</td>\n",
       "    </tr>\n",
       "    <tr>\n",
       "      <th>2</th>\n",
       "      <td>688290</td>\n",
       "      <td>777</td>\n",
       "      <td>2011-07-20</td>\n",
       "      <td>1969.0</td>\n",
       "      <td>20k to 30k</td>\n",
       "      <td>wa1 4</td>\n",
       "      <td>m</td>\n",
       "      <td>2012-01-25</td>\n",
       "      <td>262916</td>\n",
       "      <td>natwest bank</td>\n",
       "      <td>current</td>\n",
       "      <td>364.22</td>\n",
       "      <td>9572 24jan12 , apple itunes store, gbp , london gb - pos</td>\n",
       "      <td>debit</td>\n",
       "      <td>6.97</td>\n",
       "      <td>mobile app</td>\n",
       "      <td>no tag</td>\n",
       "      <td>entertainment, tv, media</td>\n",
       "      <td>apple</td>\n",
       "      <td>apple</td>\n",
       "      <td>2011-07-20</td>\n",
       "      <td>2020-07-21 20:32:00</td>\n",
       "      <td>2012-01</td>\n",
       "    </tr>\n",
       "    <tr>\n",
       "      <th>3</th>\n",
       "      <td>688292</td>\n",
       "      <td>777</td>\n",
       "      <td>2011-07-20</td>\n",
       "      <td>1969.0</td>\n",
       "      <td>20k to 30k</td>\n",
       "      <td>wa1 4</td>\n",
       "      <td>m</td>\n",
       "      <td>2012-01-25</td>\n",
       "      <td>262916</td>\n",
       "      <td>natwest bank</td>\n",
       "      <td>current</td>\n",
       "      <td>364.22</td>\n",
       "      <td>&lt;mdbremoved&gt;</td>\n",
       "      <td>credit</td>\n",
       "      <td>-1901.33</td>\n",
       "      <td>salary or wages (main)</td>\n",
       "      <td>salary or wages (main)</td>\n",
       "      <td>salary or wages (main)</td>\n",
       "      <td>no merchant</td>\n",
       "      <td>no merchant business line</td>\n",
       "      <td>2011-07-20</td>\n",
       "      <td>2020-07-21 20:32:00</td>\n",
       "      <td>2012-01</td>\n",
       "    </tr>\n",
       "    <tr>\n",
       "      <th>4</th>\n",
       "      <td>688294</td>\n",
       "      <td>777</td>\n",
       "      <td>2011-07-20</td>\n",
       "      <td>1969.0</td>\n",
       "      <td>20k to 30k</td>\n",
       "      <td>wa1 4</td>\n",
       "      <td>m</td>\n",
       "      <td>2012-01-30</td>\n",
       "      <td>262916</td>\n",
       "      <td>natwest bank</td>\n",
       "      <td>current</td>\n",
       "      <td>364.22</td>\n",
       "      <td>legal &amp; gen mi c/l - d/d</td>\n",
       "      <td>debit</td>\n",
       "      <td>16.19</td>\n",
       "      <td>life insurance</td>\n",
       "      <td>no tag</td>\n",
       "      <td>insurance</td>\n",
       "      <td>legal &amp; general</td>\n",
       "      <td>legal &amp; general</td>\n",
       "      <td>2011-07-20</td>\n",
       "      <td>2020-07-21 20:32:00</td>\n",
       "      <td>2012-01</td>\n",
       "    </tr>\n",
       "    <tr>\n",
       "      <th>...</th>\n",
       "      <td>...</td>\n",
       "      <td>...</td>\n",
       "      <td>...</td>\n",
       "      <td>...</td>\n",
       "      <td>...</td>\n",
       "      <td>...</td>\n",
       "      <td>...</td>\n",
       "      <td>...</td>\n",
       "      <td>...</td>\n",
       "      <td>...</td>\n",
       "      <td>...</td>\n",
       "      <td>...</td>\n",
       "      <td>...</td>\n",
       "      <td>...</td>\n",
       "      <td>...</td>\n",
       "      <td>...</td>\n",
       "      <td>...</td>\n",
       "      <td>...</td>\n",
       "      <td>...</td>\n",
       "      <td>...</td>\n",
       "      <td>...</td>\n",
       "      <td>...</td>\n",
       "      <td>...</td>\n",
       "    </tr>\n",
       "    <tr>\n",
       "      <th>682651</th>\n",
       "      <td>807020573</td>\n",
       "      <td>576777</td>\n",
       "      <td>2020-03-11</td>\n",
       "      <td>1995.0</td>\n",
       "      <td>10k to 20k</td>\n",
       "      <td>dn5 9</td>\n",
       "      <td>m</td>\n",
       "      <td>2020-08-07</td>\n",
       "      <td>1634983</td>\n",
       "      <td>hsbc</td>\n",
       "      <td>current</td>\n",
       "      <td>1068.42</td>\n",
       "      <td>cash barclay &lt;mdbremoved&gt;</td>\n",
       "      <td>debit</td>\n",
       "      <td>20.00</td>\n",
       "      <td>cash</td>\n",
       "      <td>no tag</td>\n",
       "      <td>cash</td>\n",
       "      <td>no merchant</td>\n",
       "      <td>personal</td>\n",
       "      <td>2020-03-11</td>\n",
       "      <td>2020-08-14 14:50:00</td>\n",
       "      <td>2020-08</td>\n",
       "    </tr>\n",
       "    <tr>\n",
       "      <th>682652</th>\n",
       "      <td>807020571</td>\n",
       "      <td>576777</td>\n",
       "      <td>2020-03-11</td>\n",
       "      <td>1995.0</td>\n",
       "      <td>10k to 20k</td>\n",
       "      <td>dn5 9</td>\n",
       "      <td>m</td>\n",
       "      <td>2020-08-07</td>\n",
       "      <td>1634983</td>\n",
       "      <td>hsbc</td>\n",
       "      <td>current</td>\n",
       "      <td>1068.42</td>\n",
       "      <td>paypal *wetherspooxxxxxxxx001</td>\n",
       "      <td>debit</td>\n",
       "      <td>3.75</td>\n",
       "      <td>dining or going out</td>\n",
       "      <td>no tag</td>\n",
       "      <td>dining or going out</td>\n",
       "      <td>wetherspoon</td>\n",
       "      <td>wetherspoon</td>\n",
       "      <td>2020-03-11</td>\n",
       "      <td>2020-08-14 14:50:00</td>\n",
       "      <td>2020-08</td>\n",
       "    </tr>\n",
       "    <tr>\n",
       "      <th>682653</th>\n",
       "      <td>807020572</td>\n",
       "      <td>576777</td>\n",
       "      <td>2020-03-11</td>\n",
       "      <td>1995.0</td>\n",
       "      <td>10k to 20k</td>\n",
       "      <td>dn5 9</td>\n",
       "      <td>m</td>\n",
       "      <td>2020-08-07</td>\n",
       "      <td>1634983</td>\n",
       "      <td>hsbc</td>\n",
       "      <td>current</td>\n",
       "      <td>1068.42</td>\n",
       "      <td>amznmktplace      amazon.co.uk</td>\n",
       "      <td>debit</td>\n",
       "      <td>28.98</td>\n",
       "      <td>enjoyment</td>\n",
       "      <td>no tag</td>\n",
       "      <td>enjoyment</td>\n",
       "      <td>amazon</td>\n",
       "      <td>amazon</td>\n",
       "      <td>2020-03-11</td>\n",
       "      <td>2020-08-14 14:50:00</td>\n",
       "      <td>2020-08</td>\n",
       "    </tr>\n",
       "    <tr>\n",
       "      <th>682654</th>\n",
       "      <td>807020569</td>\n",
       "      <td>576777</td>\n",
       "      <td>2020-03-11</td>\n",
       "      <td>1995.0</td>\n",
       "      <td>10k to 20k</td>\n",
       "      <td>dn5 9</td>\n",
       "      <td>m</td>\n",
       "      <td>2020-08-07</td>\n",
       "      <td>1634983</td>\n",
       "      <td>hsbc</td>\n",
       "      <td>current</td>\n",
       "      <td>1068.42</td>\n",
       "      <td>asda store 4519   south elmsall</td>\n",
       "      <td>debit</td>\n",
       "      <td>11.15</td>\n",
       "      <td>food, groceries, household</td>\n",
       "      <td>no tag</td>\n",
       "      <td>food, groceries, household</td>\n",
       "      <td>asda</td>\n",
       "      <td>asda supermarket</td>\n",
       "      <td>2020-03-11</td>\n",
       "      <td>2020-08-14 14:50:00</td>\n",
       "      <td>2020-08</td>\n",
       "    </tr>\n",
       "    <tr>\n",
       "      <th>682655</th>\n",
       "      <td>807020570</td>\n",
       "      <td>576777</td>\n",
       "      <td>2020-03-11</td>\n",
       "      <td>1995.0</td>\n",
       "      <td>10k to 20k</td>\n",
       "      <td>dn5 9</td>\n",
       "      <td>m</td>\n",
       "      <td>2020-08-07</td>\n",
       "      <td>1634983</td>\n",
       "      <td>hsbc</td>\n",
       "      <td>current</td>\n",
       "      <td>1068.42</td>\n",
       "      <td>asda store 4519   south elmsall</td>\n",
       "      <td>debit</td>\n",
       "      <td>11.34</td>\n",
       "      <td>food, groceries, household</td>\n",
       "      <td>no tag</td>\n",
       "      <td>food, groceries, household</td>\n",
       "      <td>asda</td>\n",
       "      <td>asda supermarket</td>\n",
       "      <td>2020-03-11</td>\n",
       "      <td>2020-08-14 14:50:00</td>\n",
       "      <td>2020-08</td>\n",
       "    </tr>\n",
       "  </tbody>\n",
       "</table>\n",
       "<p>682651 rows × 23 columns</p>\n",
       "</div>"
      ],
      "text/plain": [
       "        transaction_id  user_id user_registration_date  year_of_birth  \\\n",
       "0               688293      777             2011-07-20         1969.0   \n",
       "1               688291      777             2011-07-20         1969.0   \n",
       "2               688290      777             2011-07-20         1969.0   \n",
       "3               688292      777             2011-07-20         1969.0   \n",
       "4               688294      777             2011-07-20         1969.0   \n",
       "...                ...      ...                    ...            ...   \n",
       "682651       807020573   576777             2020-03-11         1995.0   \n",
       "682652       807020571   576777             2020-03-11         1995.0   \n",
       "682653       807020572   576777             2020-03-11         1995.0   \n",
       "682654       807020569   576777             2020-03-11         1995.0   \n",
       "682655       807020570   576777             2020-03-11         1995.0   \n",
       "\n",
       "       salary_range postcode gender transaction_date  account_id  \\\n",
       "0        20k to 30k    wa1 4      m       2012-01-25      262916   \n",
       "1        20k to 30k    wa1 4      m       2012-01-25      262916   \n",
       "2        20k to 30k    wa1 4      m       2012-01-25      262916   \n",
       "3        20k to 30k    wa1 4      m       2012-01-25      262916   \n",
       "4        20k to 30k    wa1 4      m       2012-01-30      262916   \n",
       "...             ...      ...    ...              ...         ...   \n",
       "682651   10k to 20k    dn5 9      m       2020-08-07     1634983   \n",
       "682652   10k to 20k    dn5 9      m       2020-08-07     1634983   \n",
       "682653   10k to 20k    dn5 9      m       2020-08-07     1634983   \n",
       "682654   10k to 20k    dn5 9      m       2020-08-07     1634983   \n",
       "682655   10k to 20k    dn5 9      m       2020-08-07     1634983   \n",
       "\n",
       "                bank account_type  latest_balance  \\\n",
       "0       natwest bank      current          364.22   \n",
       "1       natwest bank      current          364.22   \n",
       "2       natwest bank      current          364.22   \n",
       "3       natwest bank      current          364.22   \n",
       "4       natwest bank      current          364.22   \n",
       "...              ...          ...             ...   \n",
       "682651          hsbc      current         1068.42   \n",
       "682652          hsbc      current         1068.42   \n",
       "682653          hsbc      current         1068.42   \n",
       "682654          hsbc      current         1068.42   \n",
       "682655          hsbc      current         1068.42   \n",
       "\n",
       "                                         transaction_description credit_debit  \\\n",
       "0                    9572 24jan12 , tcs bowdon , bowdon gb - pos        debit   \n",
       "1                                          warrington b.c. - d/d        debit   \n",
       "2       9572 24jan12 , apple itunes store, gbp , london gb - pos        debit   \n",
       "3                                                   <mdbremoved>       credit   \n",
       "4                                       legal & gen mi c/l - d/d        debit   \n",
       "...                                                          ...          ...   \n",
       "682651                                 cash barclay <mdbremoved>        debit   \n",
       "682652                             paypal *wetherspooxxxxxxxx001        debit   \n",
       "682653                            amznmktplace      amazon.co.uk        debit   \n",
       "682654                           asda store 4519   south elmsall        debit   \n",
       "682655                           asda store 4519   south elmsall        debit   \n",
       "\n",
       "         amount                      up_tag              manual_tag  \\\n",
       "0         25.03                      no tag                  no tag   \n",
       "1         26.00              gym membership          gym membership   \n",
       "2          6.97                  mobile app                  no tag   \n",
       "3      -1901.33      salary or wages (main)  salary or wages (main)   \n",
       "4         16.19              life insurance                  no tag   \n",
       "...         ...                         ...                     ...   \n",
       "682651    20.00                        cash                  no tag   \n",
       "682652     3.75         dining or going out                  no tag   \n",
       "682653    28.98                   enjoyment                  no tag   \n",
       "682654    11.15  food, groceries, household                  no tag   \n",
       "682655    11.34  food, groceries, household                  no tag   \n",
       "\n",
       "                          auto_tag    merchant_name  \\\n",
       "0                           no tag      no merchant   \n",
       "1                           no tag      no merchant   \n",
       "2         entertainment, tv, media            apple   \n",
       "3           salary or wages (main)      no merchant   \n",
       "4                        insurance  legal & general   \n",
       "...                            ...              ...   \n",
       "682651                        cash      no merchant   \n",
       "682652         dining or going out      wetherspoon   \n",
       "682653                   enjoyment           amazon   \n",
       "682654  food, groceries, household             asda   \n",
       "682655  food, groceries, household             asda   \n",
       "\n",
       "           merchant_business_line account_created account_last_refreshed  \\\n",
       "0                unknown merchant      2011-07-20    2020-07-21 20:32:00   \n",
       "1                unknown merchant      2011-07-20    2020-07-21 20:32:00   \n",
       "2                           apple      2011-07-20    2020-07-21 20:32:00   \n",
       "3       no merchant business line      2011-07-20    2020-07-21 20:32:00   \n",
       "4                 legal & general      2011-07-20    2020-07-21 20:32:00   \n",
       "...                           ...             ...                    ...   \n",
       "682651                   personal      2020-03-11    2020-08-14 14:50:00   \n",
       "682652                wetherspoon      2020-03-11    2020-08-14 14:50:00   \n",
       "682653                     amazon      2020-03-11    2020-08-14 14:50:00   \n",
       "682654           asda supermarket      2020-03-11    2020-08-14 14:50:00   \n",
       "682655           asda supermarket      2020-03-11    2020-08-14 14:50:00   \n",
       "\n",
       "             ym  \n",
       "0       2012-01  \n",
       "1       2012-01  \n",
       "2       2012-01  \n",
       "3       2012-01  \n",
       "4       2012-01  \n",
       "...         ...  \n",
       "682651  2020-08  \n",
       "682652  2020-08  \n",
       "682653  2020-08  \n",
       "682654  2020-08  \n",
       "682655  2020-08  \n",
       "\n",
       "[682651 rows x 23 columns]"
      ]
     },
     "execution_count": 121,
     "metadata": {},
     "output_type": "execute_result"
    }
   ],
   "source": [
    "def test(df):    \n",
    "    spend = df.loc[df.amount > 0, ['user_id', 'transaction_date', 'amount']]\n",
    "    spend['ym'] = spend.transaction_date.dt.to_period('M')\n",
    "    spend = spend.set_index('transaction_date')\n",
    "    \n",
    "    g = spend.groupby('user_id')\n",
    "    spend['first_month'] = g.ym.transform(min)\n",
    "    spend['last_month'] = g.ym.transform(max)\n",
    "    spend = spend[(spend.ym != spend.first_month) & (spend.ym != spend.last_month)]\n",
    "\n",
    "    mins = g.resample('M').amount.agg(['count', 'sum']).groupby('user_id').min()\n",
    "    users = mins[mins >= (5, 200)].index\n",
    "    \n",
    "    return df[df.user_id.isin(users)]\n",
    "\n",
    "%time test(df)"
   ]
  },
  {
   "cell_type": "markdown",
   "metadata": {},
   "source": [
    "## Done"
   ]
  },
  {
   "cell_type": "code",
   "execution_count": 156,
   "metadata": {},
   "outputs": [
    {
     "name": "stdout",
     "output_type": "stream",
     "text": [
      "418 ms ± 7.79 ms per loop (mean ± std. dev. of 7 runs, 1 loop each)\n"
     ]
    }
   ],
   "source": [
    "def income_pmts(df):\n",
    "    \"\"\"Income payments in 2/3 of all observed months.\"\"\"\n",
    "    def helper(g):\n",
    "        tot_months = g.transaction_date.nunique()\n",
    "        return tot_months > (2/3)\n",
    "    data = df[['user_id', 'transaction_date']].copy()\n",
    "    usrs = data.groupby('user_id').filter(helper).user_id.unique()\n",
    "    return df[df.user_id.isin(usrs)]\n",
    "\n",
    "%timeit income_pmts(df)"
   ]
  },
  {
   "cell_type": "code",
   "execution_count": 159,
   "metadata": {},
   "outputs": [
    {
     "name": "stdout",
     "output_type": "stream",
     "text": [
      "397 ms ± 2.9 ms per loop (mean ± std. dev. of 7 runs, 1 loop each)\n"
     ]
    }
   ],
   "source": [
    "def income_pmts(df):\n",
    "    \"\"\"Income payments in 2/3 of all observed months.\"\"\"\n",
    "    def helper(g):\n",
    "        tot_months = g.transaction_date.nunique()\n",
    "        return tot_months > (2/3)\n",
    "    data = df[['user_id', 'transaction_date']]\n",
    "    usrs = data.groupby('user_id').filter(helper).user_id.unique()\n",
    "    return df[df.user_id.isin(usrs)]\n",
    "\n",
    "%timeit income_pmts(df)"
   ]
  },
  {
   "cell_type": "code",
   "execution_count": 122,
   "metadata": {},
   "outputs": [
    {
     "name": "stdout",
     "output_type": "stream",
     "text": [
      "1.22 s ± 12.7 ms per loop (mean ± std. dev. of 7 runs, 1 loop each)\n"
     ]
    }
   ],
   "source": [
    "#before\n",
    "def current_account(df):\n",
    "    \"\"\"At least one current account.\"\"\"\n",
    "    def helper(g):\n",
    "        return 'current' in g.account_type.str.lower().unique()\n",
    "    return df.groupby('user_id').filter(helper)\n",
    "\n",
    "%timeit current_account(df)"
   ]
  },
  {
   "cell_type": "code",
   "execution_count": 149,
   "metadata": {},
   "outputs": [
    {
     "name": "stdout",
     "output_type": "stream",
     "text": [
      "377 ms ± 4.18 ms per loop (mean ± std. dev. of 7 runs, 1 loop each)\n"
     ]
    }
   ],
   "source": [
    "#after\n",
    "def current_account(df):\n",
    "    \"\"\"At least one current account.\"\"\"\n",
    "    mask = df.account_type.eq('current')\n",
    "    users = df[mask].user_id.unique()\n",
    "    return df[df.user_id.isin(users)]\n",
    "\n",
    "%timeit current_account(df)"
   ]
  },
  {
   "cell_type": "code",
   "execution_count": 85,
   "metadata": {},
   "outputs": [
    {
     "name": "stdout",
     "output_type": "stream",
     "text": [
      "1.07 s ± 26.1 ms per loop (mean ± std. dev. of 7 runs, 1 loop each)\n"
     ]
    }
   ],
   "source": [
    "# before\n",
    "def min_number_of_months(df, min_months=6):\n",
    "    \"\"\"At least 6 months of data.\"\"\"\n",
    "    def helper(g):\n",
    "        num_months = g.transaction_date.dt.to_period('M').nunique()\n",
    "        return num_months > min_months\n",
    "    return df.groupby('user_id').filter(helper)\n",
    "\n",
    "%timeit min_number_of_months(df)"
   ]
  },
  {
   "cell_type": "code",
   "execution_count": 121,
   "metadata": {},
   "outputs": [
    {
     "name": "stdout",
     "output_type": "stream",
     "text": [
      "257 ms ± 2.65 ms per loop (mean ± std. dev. of 7 runs, 1 loop each)\n"
     ]
    }
   ],
   "source": [
    "#after\n",
    "def min_number_of_months(df, min_months=6):\n",
    "    s = df.groupby('user_id').ym.nunique() >= min_months\n",
    "    s = s[s].index\n",
    "    return df[df.user_id.isin(s)]\n",
    "\n",
    "%timeit test(df)"
   ]
  },
  {
   "cell_type": "markdown",
   "metadata": {},
   "source": [
    "### Minimum transactions and spend\n",
    "\n",
    "Lessons:\n",
    "\n",
    "- Avoid `groupby()` with complex callables\n",
    "- Still looking for ways to optimise unavoidable `groupby()`"
   ]
  },
  {
   "cell_type": "code",
   "execution_count": 116,
   "metadata": {},
   "outputs": [
    {
     "name": "stdout",
     "output_type": "stream",
     "text": [
      "4.66 s ± 231 ms per loop (mean ± std. dev. of 7 runs, 1 loop each)\n"
     ]
    }
   ],
   "source": [
    "def min_txns_and_spend(df, min_txns=5, min_spend=200):\n",
    "    \"\"\"At least 5 transactions and spend of GBP200 per full month.\"\"\"\n",
    "    def helper(g):\n",
    "        txns = g.resample('M', on='transaction_date').transaction_id.size()\n",
    "        debits = g[g.amount > 0]\n",
    "        spend = debits.resample('M', on='transaction_date').amount.sum()\n",
    "        return txns[1:-1].min() >= min_txns and spend[1:-1].min() >= min_spend\n",
    "    return df.groupby('user_id').filter(helper).reset_index(drop=True)\n",
    "\n",
    "%timeit min_txns_and_spend(df)"
   ]
  },
  {
   "cell_type": "code",
   "execution_count": 309,
   "metadata": {},
   "outputs": [
    {
     "name": "stdout",
     "output_type": "stream",
     "text": [
      "5.06 s ± 124 ms per loop (mean ± std. dev. of 7 runs, 1 loop each)\n"
     ]
    }
   ],
   "source": [
    "def cond(df):\n",
    "    df = df.set_index('transaction_date')\n",
    "    debits = df[df.amount > 0]\n",
    "    \n",
    "    def drop_first_last(g):\n",
    "        return g[1:-1]\n",
    "    \n",
    "    txns = df.groupby('user_id').resample('M').size().groupby('user_id').apply(drop_first_last).groupby('user_id').min()\n",
    "    txns_users = txns[txns.ge(5)].index\n",
    "    \n",
    "    spend = debits.groupby('user_id').resample('M').amount.sum().groupby('user_id').apply(drop_first_last).groupby('user_id').min()\n",
    "    spend_users = spend[spend.ge(200)].index\n",
    "    \n",
    "    users = set(txns_users).intersection(spend_users)    \n",
    "    return df[df.user_id.isin(users)].reset_index()\n",
    "\n",
    "%timeit cond(df)"
   ]
  },
  {
   "cell_type": "code",
   "execution_count": 359,
   "metadata": {},
   "outputs": [
    {
     "name": "stdout",
     "output_type": "stream",
     "text": [
      "2.57 s ± 52.4 ms per loop (mean ± std. dev. of 7 runs, 1 loop each)\n"
     ]
    }
   ],
   "source": [
    "def cond(df):\n",
    "    \n",
    "    debits = df[df.amount > 0].set_index('transaction_date')\n",
    "    \n",
    "    def helper(g):\n",
    "        g = g[1:-1]\n",
    "        return (np.min(g['count']) > 5) & (np.min(g['sum']) > 200)\n",
    "    \n",
    "    users = debits.groupby('user_id').resample('M').amount.agg(['count', 'sum']).groupby('user_id').apply(helper)\n",
    "    users = users[users].index\n",
    "    return df[df.user_id.isin(users)]\n",
    "\n",
    "%timeit cond(df)"
   ]
  },
  {
   "cell_type": "code",
   "execution_count": 120,
   "metadata": {},
   "outputs": [
    {
     "name": "stdout",
     "output_type": "stream",
     "text": [
      "2.31 s ± 110 ms per loop (mean ± std. dev. of 7 runs, 1 loop each)\n"
     ]
    }
   ],
   "source": [
    "def test(df):    \n",
    "    spend = df.loc[df.amount > 0, ['user_id', 'transaction_date', 'amount']]\n",
    "    spend['ym'] = spend.transaction_date.dt.to_period('M')\n",
    "    spend = spend.set_index('transaction_date')\n",
    "    \n",
    "    g = spend.groupby('user_id')\n",
    "    spend['first_month'] = g.ym.transform(min)\n",
    "    spend['last_month'] = g.ym.transform(max)\n",
    "    spend = spend[(spend.ym != spend.first_month) & (spend.ym != spend.last_month)]\n",
    "\n",
    "    mins = g.resample('M').amount.agg(['count', 'sum']).groupby('user_id').min()\n",
    "    users = mins[mins >= (5, 200)].index\n",
    "    \n",
    "    return df[df.user_id.isin(users)]\n",
    "\n",
    "%timeit test(df)"
   ]
  },
  {
   "cell_type": "markdown",
   "metadata": {},
   "source": [
    "### Improving split file\n",
    "\n",
    "Lessons:\n",
    "\n",
    "- Using a regular expression that matches the first two digits of each line and extracts the second one using a capturing group is more than 10 times faster than extracting all digits for each line and then using the second one only.\n",
    "\n",
    "- Using names for capturing groups adds a bit of overhead, so don't use it when performing a large number of matches."
   ]
  },
  {
   "cell_type": "code",
   "execution_count": 196,
   "metadata": {},
   "outputs": [],
   "source": [
    "import re\n",
    "path = os.path.join(config.TEMPDIR, 'data_000.csv')"
   ]
  },
  {
   "cell_type": "code",
   "execution_count": 197,
   "metadata": {},
   "outputs": [
    {
     "name": "stdout",
     "output_type": "stream",
     "text": [
      "10.5 ms ± 242 µs per loop (mean ± std. dev. of 7 runs, 100 loops each)\n"
     ]
    }
   ],
   "source": [
    "%%timeit\n",
    "\n",
    "DIGITS_RE = re.compile(r'\\d+')\n",
    "\n",
    "ids = []\n",
    "with open(path) as f:\n",
    "    next(f)\n",
    "    for line in f:\n",
    "        user_id = DIGITS_RE.findall(line)[1]\n",
    "        ids.append(user_id)"
   ]
  },
  {
   "cell_type": "code",
   "execution_count": 200,
   "metadata": {},
   "outputs": [
    {
     "name": "stdout",
     "output_type": "stream",
     "text": [
      "780 µs ± 24.6 µs per loop (mean ± std. dev. of 7 runs, 1000 loops each)\n"
     ]
    }
   ],
   "source": [
    "%%timeit\n",
    "\n",
    "DIGITS_RE = re.compile(r'^\\d+\\|(\\d+)')\n",
    "\n",
    "ids = []\n",
    "with open(path) as f:\n",
    "    next(f)\n",
    "    for line in f:\n",
    "        user_id = DIGITS_RE.match(line).group(1)\n",
    "        ids.append(user_id)"
   ]
  },
  {
   "cell_type": "code",
   "execution_count": 201,
   "metadata": {},
   "outputs": [
    {
     "name": "stdout",
     "output_type": "stream",
     "text": [
      "865 µs ± 40 µs per loop (mean ± std. dev. of 7 runs, 1000 loops each)\n"
     ]
    }
   ],
   "source": [
    "%%timeit\n",
    "\n",
    "DIGITS_RE = re.compile(r'^(?P<txn_id>\\d+)\\|(?P<user_id>\\d+)')\n",
    "\n",
    "ids = []\n",
    "with open(path) as f:\n",
    "    next(f)\n",
    "    for line in f:\n",
    "        user_id = DIGITS_RE.match(line).group('user_id')\n",
    "        ids.append(user_id)"
   ]
  },
  {
   "cell_type": "markdown",
   "metadata": {},
   "source": [
    "## Best practices"
   ]
  },
  {
   "cell_type": "markdown",
   "metadata": {},
   "source": [
    "### Setting df index is costly"
   ]
  },
  {
   "cell_type": "code",
   "execution_count": 19,
   "metadata": {},
   "outputs": [
    {
     "name": "stdout",
     "output_type": "stream",
     "text": [
      "(682656, 22)\n",
      "137 ms ± 1.93 ms per loop (mean ± std. dev. of 7 runs, 10 loops each)\n"
     ]
    }
   ],
   "source": [
    "print(df.shape)\n",
    "%timeit df.set_index('user_id')"
   ]
  },
  {
   "cell_type": "markdown",
   "metadata": {},
   "source": [
    "### Creating a list of numbers"
   ]
  },
  {
   "cell_type": "markdown",
   "metadata": {},
   "source": [
    "I prefer the second approach, as it's much clearer than the first"
   ]
  },
  {
   "cell_type": "code",
   "execution_count": 53,
   "metadata": {},
   "outputs": [
    {
     "name": "stdout",
     "output_type": "stream",
     "text": [
      "545 ns ± 31.4 ns per loop (mean ± std. dev. of 7 runs, 1000 loops each)\n"
     ]
    }
   ],
   "source": [
    "%timeit -n1000 [*range(50)]"
   ]
  },
  {
   "cell_type": "code",
   "execution_count": 51,
   "metadata": {},
   "outputs": [
    {
     "name": "stdout",
     "output_type": "stream",
     "text": [
      "567 ns ± 5.29 ns per loop (mean ± std. dev. of 7 runs, 1000 loops each)\n"
     ]
    }
   ],
   "source": [
    "%timeit -n1000 list(range(50))"
   ]
  },
  {
   "cell_type": "code",
   "execution_count": 50,
   "metadata": {},
   "outputs": [
    {
     "name": "stdout",
     "output_type": "stream",
     "text": [
      "2.18 µs ± 326 ns per loop (mean ± std. dev. of 7 runs, 1000 loops each)\n"
     ]
    }
   ],
   "source": [
    "%timeit -n1000 [n for n in range(50)]"
   ]
  },
  {
   "cell_type": "markdown",
   "metadata": {},
   "source": [
    "### Numpy arrays"
   ]
  },
  {
   "cell_type": "markdown",
   "metadata": {},
   "source": [
    "Broadcasting"
   ]
  },
  {
   "cell_type": "code",
   "execution_count": 16,
   "metadata": {},
   "outputs": [
    {
     "name": "stdout",
     "output_type": "stream",
     "text": [
      "21.8 µs ± 407 ns per loop (mean ± std. dev. of 7 runs, 10000 loops each)\n"
     ]
    }
   ],
   "source": [
    "%%timeit\n",
    "\n",
    "nums = range(100)\n",
    "[x ** 2 for x in nums]"
   ]
  },
  {
   "cell_type": "code",
   "execution_count": 17,
   "metadata": {},
   "outputs": [
    {
     "name": "stdout",
     "output_type": "stream",
     "text": [
      "11 µs ± 35.5 ns per loop (mean ± std. dev. of 7 runs, 100000 loops each)\n"
     ]
    }
   ],
   "source": [
    "%%timeit\n",
    "\n",
    "nums = np.array(range(100))\n",
    "nums ** 2"
   ]
  },
  {
   "cell_type": "markdown",
   "metadata": {},
   "source": [
    "Boolean selection"
   ]
  },
  {
   "cell_type": "code",
   "execution_count": 24,
   "metadata": {},
   "outputs": [],
   "source": [
    "nums = np.array(range(-50, 50))\n",
    "pos = nums[nums > 0]"
   ]
  },
  {
   "cell_type": "markdown",
   "metadata": {},
   "source": [
    "### Creating data structures\n",
    "\n",
    "Literal syntax is faster"
   ]
  },
  {
   "cell_type": "markdown",
   "metadata": {},
   "source": [
    "Dict"
   ]
  },
  {
   "cell_type": "code",
   "execution_count": 46,
   "metadata": {},
   "outputs": [
    {
     "name": "stdout",
     "output_type": "stream",
     "text": [
      "36.4 ns ± 0.405 ns per loop (mean ± std. dev. of 5 runs, 1000 loops each)\n"
     ]
    }
   ],
   "source": [
    "%timeit -r5 -n1000 {}"
   ]
  },
  {
   "cell_type": "code",
   "execution_count": 45,
   "metadata": {},
   "outputs": [
    {
     "name": "stdout",
     "output_type": "stream",
     "text": [
      "99.8 ns ± 9.45 ns per loop (mean ± std. dev. of 5 runs, 1000 loops each)\n"
     ]
    }
   ],
   "source": [
    "%timeit -r5 -n1000 dict()"
   ]
  },
  {
   "cell_type": "markdown",
   "metadata": {},
   "source": [
    "Tuple"
   ]
  },
  {
   "cell_type": "code",
   "execution_count": 47,
   "metadata": {},
   "outputs": [
    {
     "name": "stdout",
     "output_type": "stream",
     "text": [
      "8.68 ns ± 0.112 ns per loop (mean ± std. dev. of 5 runs, 1000 loops each)\n"
     ]
    }
   ],
   "source": [
    "%timeit -r5 -n1000 ()"
   ]
  },
  {
   "cell_type": "code",
   "execution_count": 48,
   "metadata": {},
   "outputs": [
    {
     "name": "stdout",
     "output_type": "stream",
     "text": [
      "55.4 ns ± 0.202 ns per loop (mean ± std. dev. of 5 runs, 1000 loops each)\n"
     ]
    }
   ],
   "source": [
    "%timeit -r5 -n1000 tuple()"
   ]
  },
  {
   "cell_type": "markdown",
   "metadata": {},
   "source": [
    "#### Row-wise sums"
   ]
  },
  {
   "cell_type": "code",
   "execution_count": 135,
   "metadata": {},
   "outputs": [],
   "source": [
    "import timeit\n",
    "\n",
    "ROW_SIZE = 1_000\n",
    "\n",
    "data = [\n",
    "    list(np.random.rand(ROW_SIZE)),\n",
    "    list(np.random.rand(ROW_SIZE)),\n",
    "    list(np.random.rand(ROW_SIZE)),\n",
    "]\n",
    "\n",
    "TIMES = 10\n",
    "RUNS = 3\n",
    "\n",
    "def clock(label, cmd):\n",
    "    plusminus = '\\u00B1'\n",
    "    res = timeit.repeat(cmd, repeat=RUNS, number=TIMES, globals=globals())\n",
    "    print(f'{label} {np.mean(res):.3g} {plusminus} {np.std(res):.3g}' )"
   ]
  },
  {
   "cell_type": "code",
   "execution_count": 137,
   "metadata": {},
   "outputs": [
    {
     "name": "stdout",
     "output_type": "stream",
     "text": [
      "list comp               : 0.00251 ± 0.000141\n",
      "map                     : 0.00236 ± 0.000128\n",
      "np with type conversion : 0.00234 ± 0.000129\n",
      "np w/o type conversion  : 0.000303 ± 0.000372\n",
      "pandas df               : 0.0032 ± 0.00173\n",
      "pandas df to np to s    : 0.00103 ± 0.00023\n",
      "pandas df to np         : 0.000289 ± 7.24e-05\n"
     ]
    }
   ],
   "source": [
    "clock('list comp               :', '[sum(row) for row in data]')\n",
    "clock('map                     :', 'list(map(sum, data))')\n",
    "clock('np with type conversion :', 'np.array(data).sum(axis=1)')\n",
    "npdata = np.array(data)\n",
    "clock('np w/o type conversion  :', 'npdata.sum(axis=1)')\n",
    "df = pd.DataFrame(data)\n",
    "clock('pandas df               :', 'df.sum(axis=1)')\n",
    "clock('pandas df to np to s    :', 'pd.Series(df.values.sum(axis=1))')\n",
    "clock('pandas df to np         :', 'df.values.sum(axis=1)')"
   ]
  },
  {
   "cell_type": "markdown",
   "metadata": {},
   "source": [
    "### Pandas Creating a new variabe based on existing rows\n",
    "\n",
    "Create a new collumn with run differential (difference between scored and allowed runs).\n",
    "\n",
    "Lessons:\n",
    "\n",
    "- Vectorised computations with numpy arrays is king -- it's 350-times faster than using `apply()`.\n",
    "\n",
    "- Direct assignment to new column within the loop (or using apply) is costly except when used with vectorised computations.\n",
    "\n",
    "- `Itertuples()` is faster than `apply()` is faster than `iterrows()`"
   ]
  },
  {
   "cell_type": "code",
   "execution_count": 4,
   "metadata": {},
   "outputs": [
    {
     "name": "stdout",
     "output_type": "stream",
     "text": [
      "(1232, 15)\n"
     ]
    },
    {
     "data": {
      "text/html": [
       "<div>\n",
       "<style scoped>\n",
       "    .dataframe tbody tr th:only-of-type {\n",
       "        vertical-align: middle;\n",
       "    }\n",
       "\n",
       "    .dataframe tbody tr th {\n",
       "        vertical-align: top;\n",
       "    }\n",
       "\n",
       "    .dataframe thead th {\n",
       "        text-align: right;\n",
       "    }\n",
       "</style>\n",
       "<table border=\"1\" class=\"dataframe\">\n",
       "  <thead>\n",
       "    <tr style=\"text-align: right;\">\n",
       "      <th></th>\n",
       "      <th>team</th>\n",
       "      <th>league</th>\n",
       "      <th>year</th>\n",
       "      <th>rs</th>\n",
       "      <th>ra</th>\n",
       "      <th>w</th>\n",
       "      <th>obp</th>\n",
       "      <th>slg</th>\n",
       "      <th>ba</th>\n",
       "      <th>playoffs</th>\n",
       "      <th>rankseason</th>\n",
       "      <th>rankplayoffs</th>\n",
       "      <th>g</th>\n",
       "      <th>oobp</th>\n",
       "      <th>oslg</th>\n",
       "    </tr>\n",
       "  </thead>\n",
       "  <tbody>\n",
       "    <tr>\n",
       "      <th>0</th>\n",
       "      <td>ARI</td>\n",
       "      <td>NL</td>\n",
       "      <td>2012</td>\n",
       "      <td>734</td>\n",
       "      <td>688</td>\n",
       "      <td>81</td>\n",
       "      <td>0.328</td>\n",
       "      <td>0.418</td>\n",
       "      <td>0.259</td>\n",
       "      <td>0</td>\n",
       "      <td>NaN</td>\n",
       "      <td>NaN</td>\n",
       "      <td>162</td>\n",
       "      <td>0.317</td>\n",
       "      <td>0.415</td>\n",
       "    </tr>\n",
       "    <tr>\n",
       "      <th>1</th>\n",
       "      <td>ATL</td>\n",
       "      <td>NL</td>\n",
       "      <td>2012</td>\n",
       "      <td>700</td>\n",
       "      <td>600</td>\n",
       "      <td>94</td>\n",
       "      <td>0.320</td>\n",
       "      <td>0.389</td>\n",
       "      <td>0.247</td>\n",
       "      <td>1</td>\n",
       "      <td>4.0</td>\n",
       "      <td>5.0</td>\n",
       "      <td>162</td>\n",
       "      <td>0.306</td>\n",
       "      <td>0.378</td>\n",
       "    </tr>\n",
       "    <tr>\n",
       "      <th>2</th>\n",
       "      <td>BAL</td>\n",
       "      <td>AL</td>\n",
       "      <td>2012</td>\n",
       "      <td>712</td>\n",
       "      <td>705</td>\n",
       "      <td>93</td>\n",
       "      <td>0.311</td>\n",
       "      <td>0.417</td>\n",
       "      <td>0.247</td>\n",
       "      <td>1</td>\n",
       "      <td>5.0</td>\n",
       "      <td>4.0</td>\n",
       "      <td>162</td>\n",
       "      <td>0.315</td>\n",
       "      <td>0.403</td>\n",
       "    </tr>\n",
       "    <tr>\n",
       "      <th>3</th>\n",
       "      <td>BOS</td>\n",
       "      <td>AL</td>\n",
       "      <td>2012</td>\n",
       "      <td>734</td>\n",
       "      <td>806</td>\n",
       "      <td>69</td>\n",
       "      <td>0.315</td>\n",
       "      <td>0.415</td>\n",
       "      <td>0.260</td>\n",
       "      <td>0</td>\n",
       "      <td>NaN</td>\n",
       "      <td>NaN</td>\n",
       "      <td>162</td>\n",
       "      <td>0.331</td>\n",
       "      <td>0.428</td>\n",
       "    </tr>\n",
       "    <tr>\n",
       "      <th>4</th>\n",
       "      <td>CHC</td>\n",
       "      <td>NL</td>\n",
       "      <td>2012</td>\n",
       "      <td>613</td>\n",
       "      <td>759</td>\n",
       "      <td>61</td>\n",
       "      <td>0.302</td>\n",
       "      <td>0.378</td>\n",
       "      <td>0.240</td>\n",
       "      <td>0</td>\n",
       "      <td>NaN</td>\n",
       "      <td>NaN</td>\n",
       "      <td>162</td>\n",
       "      <td>0.335</td>\n",
       "      <td>0.424</td>\n",
       "    </tr>\n",
       "  </tbody>\n",
       "</table>\n",
       "</div>"
      ],
      "text/plain": [
       "  team league  year   rs   ra   w    obp    slg     ba  playoffs  rankseason  \\\n",
       "0  ARI     NL  2012  734  688  81  0.328  0.418  0.259         0         NaN   \n",
       "1  ATL     NL  2012  700  600  94  0.320  0.389  0.247         1         4.0   \n",
       "2  BAL     AL  2012  712  705  93  0.311  0.417  0.247         1         5.0   \n",
       "3  BOS     AL  2012  734  806  69  0.315  0.415  0.260         0         NaN   \n",
       "4  CHC     NL  2012  613  759  61  0.302  0.378  0.240         0         NaN   \n",
       "\n",
       "   rankplayoffs    g   oobp   oslg  \n",
       "0           NaN  162  0.317  0.415  \n",
       "1           5.0  162  0.306  0.378  \n",
       "2           4.0  162  0.315  0.403  \n",
       "3           NaN  162  0.331  0.428  \n",
       "4           NaN  162  0.335  0.424  "
      ]
     },
     "execution_count": 4,
     "metadata": {},
     "output_type": "execute_result"
    }
   ],
   "source": [
    "url = \"https://assets.datacamp.com/production/repositories/3581/datasets/779033fb8fb5021aee9ff46253980abcbc5851f3/baseball_stats.csv\"\n",
    "df = pd.read_csv(url).rename(columns=str.lower)\n",
    "print(df.shape)\n",
    "df.head()"
   ]
  },
  {
   "cell_type": "code",
   "execution_count": 173,
   "metadata": {},
   "outputs": [],
   "source": [
    "def run_diff(runs_scored, runs_allowed):\n",
    "    return runs_scored - runs_allowed"
   ]
  },
  {
   "cell_type": "code",
   "execution_count": 211,
   "metadata": {},
   "outputs": [
    {
     "name": "stdout",
     "output_type": "stream",
     "text": [
      "101 µs ± 1.46 µs per loop (mean ± std. dev. of 7 runs, 10000 loops each)\n"
     ]
    }
   ],
   "source": [
    "%%timeit\n",
    "# vectorized calculation with arrays\n",
    "\n",
    "rd = df.rs.values - df.ra.values\n",
    "df['rd'] = rd"
   ]
  },
  {
   "cell_type": "code",
   "execution_count": 5,
   "metadata": {},
   "outputs": [
    {
     "name": "stdout",
     "output_type": "stream",
     "text": [
      "97.9 µs ± 3.85 µs per loop (mean ± std. dev. of 7 runs, 10000 loops each)\n"
     ]
    }
   ],
   "source": [
    "%%timeit\n",
    "# vectorized calculation with arrays and direct assignment\n",
    "# (direct assignment makes no difference, so use from now on)\n",
    "\n",
    "df['rd'] = df.rs.values - df.ra.values"
   ]
  },
  {
   "cell_type": "code",
   "execution_count": 204,
   "metadata": {},
   "outputs": [
    {
     "name": "stdout",
     "output_type": "stream",
     "text": [
      "250 µs ± 6.91 µs per loop (mean ± std. dev. of 7 runs, 1000 loops each)\n"
     ]
    }
   ],
   "source": [
    "%%timeit\n",
    "# vectorized calculation with series and direct assignment\n",
    "\n",
    "df['rd'] = df.rs - df.ra"
   ]
  },
  {
   "cell_type": "code",
   "execution_count": 198,
   "metadata": {},
   "outputs": [
    {
     "name": "stdout",
     "output_type": "stream",
     "text": [
      "3.36 ms ± 90.7 µs per loop (mean ± std. dev. of 7 runs, 100 loops each)\n"
     ]
    }
   ],
   "source": [
    "%%timeit\n",
    "# itertuples\n",
    "\n",
    "diffs = []\n",
    "for row in df.itertuples():\n",
    "    rd = run_diff(row.rs, row.ra)\n",
    "    diffs.append(rd)\n",
    "df['rd'] = diffs"
   ]
  },
  {
   "cell_type": "code",
   "execution_count": 197,
   "metadata": {},
   "outputs": [
    {
     "name": "stdout",
     "output_type": "stream",
     "text": [
      "34.5 ms ± 1 ms per loop (mean ± std. dev. of 7 runs, 10 loops each)\n"
     ]
    }
   ],
   "source": [
    "%%timeit\n",
    "# apply with direct assignment\n",
    "\n",
    "df['rd'] = df.apply(lambda row: run_diff(row.rs, row.ra), axis=1)"
   ]
  },
  {
   "cell_type": "code",
   "execution_count": 196,
   "metadata": {},
   "outputs": [
    {
     "name": "stdout",
     "output_type": "stream",
     "text": [
      "43.9 ms ± 5.81 ms per loop (mean ± std. dev. of 7 runs, 10 loops each)\n"
     ]
    }
   ],
   "source": [
    "%%timeit\n",
    "# apply\n",
    "\n",
    "rd = df.apply(lambda row: run_diff(row.rs, row.ra), axis=1)\n",
    "df['rd'] = rd"
   ]
  },
  {
   "cell_type": "code",
   "execution_count": 199,
   "metadata": {},
   "outputs": [
    {
     "name": "stdout",
     "output_type": "stream",
     "text": [
      "66.1 ms ± 1.23 ms per loop (mean ± std. dev. of 7 runs, 10 loops each)\n"
     ]
    }
   ],
   "source": [
    "%%timeit\n",
    "# itertuples with direct assignment\n",
    "\n",
    "for row in df.itertuples():\n",
    "    df['rd'] = run_diff(row.rs, row.ra)"
   ]
  },
  {
   "cell_type": "code",
   "execution_count": 200,
   "metadata": {},
   "outputs": [
    {
     "name": "stdout",
     "output_type": "stream",
     "text": [
      "106 ms ± 3.69 ms per loop (mean ± std. dev. of 7 runs, 10 loops each)\n"
     ]
    }
   ],
   "source": [
    "%%timeit\n",
    "# iterrows\n",
    "\n",
    "diffs = []\n",
    "for idx, row in df.iterrows():\n",
    "    rd = run_diff(row['rs'], row['ra'])\n",
    "    diffs.append(rd)\n",
    "df['rd'] = diffs"
   ]
  },
  {
   "cell_type": "markdown",
   "metadata": {},
   "source": [
    "### Pandas Conditional column assignment"
   ]
  },
  {
   "cell_type": "code",
   "execution_count": 5,
   "metadata": {},
   "outputs": [
    {
     "data": {
      "text/plain": [
       "(3807657, 25)"
      ]
     },
     "execution_count": 5,
     "metadata": {},
     "output_type": "execute_result"
    }
   ],
   "source": [
    "path = os.path.join(TEMPDIR, 'data_X77.parquet')\n",
    "df = pd.read_parquet(path)\n",
    "df.shape"
   ]
  },
  {
   "cell_type": "code",
   "execution_count": 6,
   "metadata": {},
   "outputs": [],
   "source": [
    "mask = df.auto_tag.str.contains('salary')"
   ]
  },
  {
   "cell_type": "code",
   "execution_count": 10,
   "metadata": {},
   "outputs": [
    {
     "name": "stdout",
     "output_type": "stream",
     "text": [
      "32.1 ms ± 971 µs per loop (mean ± std. dev. of 7 runs, 10 loops each)\n"
     ]
    }
   ],
   "source": [
    "%%timeit\n",
    "df.loc[mask, 'tag'] = 'salary'"
   ]
  },
  {
   "cell_type": "code",
   "execution_count": 8,
   "metadata": {},
   "outputs": [
    {
     "name": "stdout",
     "output_type": "stream",
     "text": [
      "55.2 ms ± 1.39 ms per loop (mean ± std. dev. of 7 runs, 10 loops each)\n"
     ]
    }
   ],
   "source": [
    "%%timeit\n",
    "df['tag'] = df.tag.where(~mask, 'salary')"
   ]
  },
  {
   "cell_type": "code",
   "execution_count": 9,
   "metadata": {},
   "outputs": [
    {
     "name": "stdout",
     "output_type": "stream",
     "text": [
      "35.9 ms ± 1.66 ms per loop (mean ± std. dev. of 7 runs, 10 loops each)\n"
     ]
    }
   ],
   "source": [
    "%%timeit\n",
    "df['tag'] = np.where(mask, 'salary', df.tag)"
   ]
  },
  {
   "cell_type": "markdown",
   "metadata": {},
   "source": [
    "For simple assignment, `loc` is fastest, and is also considered to be idiomatic Pandas code -- clear win. If you need if-else assignment, then numpy where seems much faster than the Pandas implementation, while also being more readable (I find the Pandas implementation somewhat counterintuitive to read)."
   ]
  },
  {
   "cell_type": "markdown",
   "metadata": {},
   "source": [
    "### Select subset of group in df\n",
    "\n",
    "When working with panel-data I often want to select a subset of individuals based on an individual-level boolean series. For example, below I want to keep users who make at least 5 transactions worth GBP200 each month, as identified by `mask`."
   ]
  },
  {
   "cell_type": "code",
   "execution_count": 8,
   "metadata": {},
   "outputs": [
    {
     "data": {
      "text/html": [
       "<div>\n",
       "<style scoped>\n",
       "    .dataframe tbody tr th:only-of-type {\n",
       "        vertical-align: middle;\n",
       "    }\n",
       "\n",
       "    .dataframe tbody tr th {\n",
       "        vertical-align: top;\n",
       "    }\n",
       "\n",
       "    .dataframe thead th {\n",
       "        text-align: right;\n",
       "    }\n",
       "</style>\n",
       "<table border=\"1\" class=\"dataframe\">\n",
       "  <thead>\n",
       "    <tr style=\"text-align: right;\">\n",
       "      <th></th>\n",
       "      <th>user_id</th>\n",
       "      <th>ym</th>\n",
       "      <th>amount</th>\n",
       "    </tr>\n",
       "  </thead>\n",
       "  <tbody>\n",
       "    <tr>\n",
       "      <th>48123</th>\n",
       "      <td>476777</td>\n",
       "      <td>201902</td>\n",
       "      <td>4.74</td>\n",
       "    </tr>\n",
       "    <tr>\n",
       "      <th>88992</th>\n",
       "      <td>53777</td>\n",
       "      <td>201702</td>\n",
       "      <td>23.00</td>\n",
       "    </tr>\n",
       "    <tr>\n",
       "      <th>28655</th>\n",
       "      <td>414777</td>\n",
       "      <td>201810</td>\n",
       "      <td>238.93</td>\n",
       "    </tr>\n",
       "  </tbody>\n",
       "</table>\n",
       "</div>"
      ],
      "text/plain": [
       "       user_id      ym  amount\n",
       "48123   476777  201902    4.74\n",
       "88992    53777  201702   23.00\n",
       "28655   414777  201810  238.93"
      ]
     },
     "execution_count": 8,
     "metadata": {},
     "output_type": "execute_result"
    }
   ],
   "source": [
    "cols = ['user_id', 'ym', 'amount']\n",
    "df = pd.read_parquet(SAMPLEDATA, columns=cols)\n",
    "df.sample(3)"
   ]
  },
  {
   "cell_type": "code",
   "execution_count": 11,
   "metadata": {},
   "outputs": [
    {
     "data": {
      "text/plain": [
       "user_id\n",
       "536777    False\n",
       "542777    False\n",
       "554777    False\n",
       "562777    False\n",
       "567777    False\n",
       "573777    False\n",
       "579777    False\n",
       "Name: amount, dtype: bool"
      ]
     },
     "execution_count": 11,
     "metadata": {},
     "output_type": "execute_result"
    }
   ],
   "source": [
    "# calculate min spend and count per month per user\n",
    "g = df.groupby(['user_id', 'ym']).amount\n",
    "spend = g.sum()\n",
    "count = g.size()\n",
    "min_spend = spend.groupby('user_id').min()\n",
    "min_count = count.groupby('user_id').min()\n",
    "\n",
    "mask = (min_count >= 5) & (min_spend >= 100)\n",
    "mask[-7:]"
   ]
  },
  {
   "cell_type": "markdown",
   "metadata": {},
   "source": [
    "`isin()`:"
   ]
  },
  {
   "cell_type": "code",
   "execution_count": 46,
   "metadata": {},
   "outputs": [
    {
     "name": "stdout",
     "output_type": "stream",
     "text": [
      "2.79 ms ± 127 µs per loop (mean ± std. dev. of 7 runs, 100 loops each)\n"
     ]
    }
   ],
   "source": [
    "%%timeit\n",
    "users = mask[mask].index\n",
    "result = df[df.user_id.isin(users)]"
   ]
  },
  {
   "cell_type": "markdown",
   "metadata": {},
   "source": [
    "Indexing"
   ]
  },
  {
   "cell_type": "code",
   "execution_count": 58,
   "metadata": {},
   "outputs": [
    {
     "name": "stderr",
     "output_type": "stream",
     "text": [
      "/Users/fgu/miniconda3/envs/habits/lib/python3.7/site-packages/ipykernel_launcher.py:1: UserWarning: Boolean Series key will be reindexed to match DataFrame index.\n",
      "  \"\"\"Entry point for launching an IPython kernel.\n"
     ]
    },
    {
     "name": "stdout",
     "output_type": "stream",
     "text": [
      "3.26 ms ± 92.9 µs per loop (mean ± std. dev. of 7 runs, 100 loops each)\n"
     ]
    }
   ],
   "source": [
    "%%timeit\n",
    "df.set_index('user_id')[mask].reset_index()"
   ]
  },
  {
   "cell_type": "markdown",
   "metadata": {},
   "source": [
    "`query()`:"
   ]
  },
  {
   "cell_type": "code",
   "execution_count": 70,
   "metadata": {},
   "outputs": [
    {
     "name": "stdout",
     "output_type": "stream",
     "text": [
      "3.97 ms ± 91.5 µs per loop (mean ± std. dev. of 7 runs, 100 loops each)\n"
     ]
    }
   ],
   "source": [
    "%%timeit\n",
    "users = mask[mask].index\n",
    "df.query('user_id in @users')"
   ]
  },
  {
   "cell_type": "markdown",
   "metadata": {},
   "source": [
    "List comprehension:"
   ]
  },
  {
   "cell_type": "code",
   "execution_count": 82,
   "metadata": {},
   "outputs": [
    {
     "name": "stdout",
     "output_type": "stream",
     "text": [
      "34.4 ms ± 1.19 ms per loop (mean ± std. dev. of 7 runs, 10 loops each)\n"
     ]
    }
   ],
   "source": [
    "%%timeit\n",
    "users = mask[mask].index\n",
    "df[[x in users for x in df.user_id]]"
   ]
  },
  {
   "cell_type": "code",
   "execution_count": 76,
   "metadata": {},
   "outputs": [
    {
     "name": "stdout",
     "output_type": "stream",
     "text": [
      "35.3 ms ± 588 µs per loop (mean ± std. dev. of 7 runs, 10 loops each)\n"
     ]
    }
   ],
   "source": [
    "%%timeit\n",
    "users = mask[mask].index\n",
    "df[df.user_id.apply(lambda x: x in users)]"
   ]
  },
  {
   "cell_type": "markdown",
   "metadata": {},
   "source": [
    "Merge or join"
   ]
  },
  {
   "cell_type": "code",
   "execution_count": 110,
   "metadata": {},
   "outputs": [
    {
     "name": "stdout",
     "output_type": "stream",
     "text": [
      "5.87 ms ± 155 µs per loop (mean ± std. dev. of 7 runs, 100 loops each)\n"
     ]
    }
   ],
   "source": [
    "%%timeit\n",
    "users = mask[mask]\n",
    "df.join(users, how='inner', on='user_id', lsuffix='a', rsuffix='k')"
   ]
  },
  {
   "cell_type": "code",
   "execution_count": 128,
   "metadata": {},
   "outputs": [
    {
     "name": "stdout",
     "output_type": "stream",
     "text": [
      "5.62 ms ± 139 µs per loop (mean ± std. dev. of 7 runs, 100 loops each)\n"
     ]
    }
   ],
   "source": [
    "%%timeit\n",
    "users = mask[mask]\n",
    "df.merge(users, on='user_id')"
   ]
  },
  {
   "cell_type": "markdown",
   "metadata": {
    "toc-hr-collapsed": true,
    "toc-nb-collapsed": true
   },
   "source": [
    "# Parallel computing"
   ]
  },
  {
   "cell_type": "markdown",
   "metadata": {},
   "source": [
    "<img src=\"input/bytes.png\" alt=\"drawing\" width=\"500\"/>\n",
    "<img src=\"input/storage_time_scales.png\" alt=\"drawing\" width=\"500\"/>\n",
    "\n"
   ]
  },
  {
   "cell_type": "markdown",
   "metadata": {},
   "source": [
    "\"Big data\" means when data overflows from RAM into storage, resulting access and processing times to increase by orders of magnitudes."
   ]
  },
  {
   "cell_type": "markdown",
   "metadata": {},
   "source": [
    "## Checking memory footprint"
   ]
  },
  {
   "cell_type": "code",
   "execution_count": 267,
   "metadata": {},
   "outputs": [],
   "source": [
    "import psutil, os\n",
    "\n",
    "def memory_footprint():\n",
    "    \"\"\"Returns memory in MB used by Python process.\"\"\"\n",
    "    mem = psutil.Process(os.getpid()).memory_info().rss\n",
    "    return mem // 1024 ** 2"
   ]
  },
  {
   "cell_type": "code",
   "execution_count": 270,
   "metadata": {},
   "outputs": [
    {
     "data": {
      "text/plain": [
       "50"
      ]
     },
     "execution_count": 270,
     "metadata": {},
     "output_type": "execute_result"
    }
   ],
   "source": [
    "before = memory_footprint()\n",
    "N = (1024 ** 2) // 8         # floats per MB\n",
    "x = np.random.rand(50 * N)   # array filling 50 MB\n",
    "after = memory_footprint()\n",
    "after - before"
   ]
  },
  {
   "cell_type": "code",
   "execution_count": 272,
   "metadata": {},
   "outputs": [
    {
     "data": {
      "text/plain": [
       "50"
      ]
     },
     "execution_count": 272,
     "metadata": {},
     "output_type": "execute_result"
    }
   ],
   "source": [
    "x.nbytes // 1024 ** 2"
   ]
  },
  {
   "cell_type": "code",
   "execution_count": 275,
   "metadata": {},
   "outputs": [
    {
     "data": {
      "text/plain": [
       "0    50\n",
       "dtype: int64"
      ]
     },
     "execution_count": 275,
     "metadata": {},
     "output_type": "execute_result"
    }
   ],
   "source": [
    "df = pd.DataFrame(x)\n",
    "df.memory_usage(index=False) // 1024 ** 2"
   ]
  },
  {
   "cell_type": "markdown",
   "metadata": {},
   "source": [
    "## Reading data in chunks"
   ]
  },
  {
   "cell_type": "code",
   "execution_count": 301,
   "metadata": {},
   "outputs": [],
   "source": [
    "def long_trips(df):\n",
    "    long_trip = df.trip_distance > 1.7\n",
    "    return df[long_trip]\n",
    "\n",
    "path = './input/nyctaxi/yellow_tripdata_2015-03.csv'"
   ]
  },
  {
   "cell_type": "code",
   "execution_count": 302,
   "metadata": {},
   "outputs": [
    {
     "name": "stdout",
     "output_type": "stream",
     "text": [
      "202 ms ± 4.55 ms per loop (mean ± std. dev. of 7 runs, 1 loop each)\n"
     ]
    }
   ],
   "source": [
    "%%timeit\n",
    "\n",
    "chunks = []\n",
    "for chunk in pd.read_csv(path, chunksize=10_000):\n",
    "    clean_chunk = (\n",
    "        chunk\n",
    "        .pipe(long_trips)\n",
    "    )\n",
    "    chunks.append(clean_chunk)\n",
    "    \n",
    "df = pd.concat(chunks)"
   ]
  },
  {
   "cell_type": "code",
   "execution_count": 303,
   "metadata": {},
   "outputs": [
    {
     "name": "stdout",
     "output_type": "stream",
     "text": [
      "203 ms ± 15 ms per loop (mean ± std. dev. of 7 runs, 1 loop each)\n"
     ]
    }
   ],
   "source": [
    "%%timeit\n",
    "\n",
    "chunks = [\n",
    "    chunk\n",
    "    .pipe(long_trips)\n",
    "    for chunk in pd.read_csv(path, chunksize=10_000)\n",
    "]\n",
    "\n",
    "df = pd.concat(chunks)"
   ]
  },
  {
   "cell_type": "markdown",
   "metadata": {},
   "source": [
    "Alternatives, that aren't much faster, though"
   ]
  },
  {
   "cell_type": "code",
   "execution_count": 292,
   "metadata": {},
   "outputs": [
    {
     "name": "stdout",
     "output_type": "stream",
     "text": [
      "189 ms ± 4.88 ms per loop (mean ± std. dev. of 7 runs, 1 loop each)\n"
     ]
    }
   ],
   "source": [
    "%%timeit\n",
    "\n",
    "chunks = [long_trips(chunk) for chunk in pd.read_csv(path, chunksize=10_000)]\n",
    "df = pd.concat(chunks)"
   ]
  },
  {
   "cell_type": "code",
   "execution_count": 293,
   "metadata": {},
   "outputs": [
    {
     "name": "stdout",
     "output_type": "stream",
     "text": [
      "191 ms ± 2 ms per loop (mean ± std. dev. of 7 runs, 1 loop each)\n"
     ]
    }
   ],
   "source": [
    "%%timeit\n",
    "\n",
    "df = pd.concat([long_trips(chunk) for chunk in pd.read_csv(path, chunksize=10_000)])"
   ]
  },
  {
   "cell_type": "markdown",
   "metadata": {},
   "source": [
    "## Using generators\n",
    "\n",
    "To defer computation and control memory use (only one item in memory at any givne time)."
   ]
  },
  {
   "cell_type": "code",
   "execution_count": 341,
   "metadata": {},
   "outputs": [
    {
     "name": "stdout",
     "output_type": "stream",
     "text": [
      "621 ms ± 14 ms per loop (mean ± std. dev. of 7 runs, 1 loop each)\n"
     ]
    }
   ],
   "source": [
    "%%timeit\n",
    "\n",
    "def count_long_trips(df):\n",
    "    df['duration'] = (df.tpep_pickup_datetime \n",
    "                      - df.tpep_dropoff_datetime).dt.seconds\n",
    "    is_long_trip = df.duration > 1200\n",
    "    return  pd.DataFrame({'n_long': [np.sum(is_long_trip)],\n",
    "                          'n_total': [len(df)]})\n",
    "\n",
    "template = './input/nyctaxi/yellow_tripdata_2015-{:02d}.csv'\n",
    "filenames = (template.format(month) for month in range(1, 4))\n",
    "dataframes = (pd.read_csv(file, parse_dates=[1, 2]) for file in filenames)\n",
    "totals = (count_long_trips(df) for df in dataframes)\n",
    "\n",
    "total = sum(totals) # All computations happen at this point"
   ]
  },
  {
   "cell_type": "markdown",
   "metadata": {},
   "source": [
    "## Using Dask"
   ]
  },
  {
   "cell_type": "code",
   "execution_count": 342,
   "metadata": {},
   "outputs": [],
   "source": [
    "from dask import delayed"
   ]
  },
  {
   "cell_type": "code",
   "execution_count": 343,
   "metadata": {},
   "outputs": [
    {
     "name": "stdout",
     "output_type": "stream",
     "text": [
      "402 ms ± 9.79 ms per loop (mean ± std. dev. of 7 runs, 1 loop each)\n"
     ]
    }
   ],
   "source": [
    "%%timeit\n",
    "\n",
    "@delayed\n",
    "def count_long_trips(df):\n",
    "    df['duration'] = (df.tpep_pickup_datetime \n",
    "                      - df.tpep_dropoff_datetime).dt.seconds\n",
    "    is_long_trip = df.duration > 1200\n",
    "    return  pd.DataFrame({'n_long': [np.sum(is_long_trip)],\n",
    "                          'n_total': [len(df)]})\n",
    "\n",
    "@delayed\n",
    "def read_file(fname):\n",
    "    return pd.read_csv(fname, parse_dates=[1, 2])\n",
    "\n",
    "template = './input/nyctaxi/yellow_tripdata_2015-{:02d}.csv'\n",
    "filenames = (template.format(month) for month in range(1, 4))\n",
    "\n",
    "totals = (\n",
    "    read_file(fname)\n",
    "    .pipe(count_long_trips)\n",
    "    for fname in filenames\n",
    ")\n",
    "\n",
    "annual_total = sum(totals)\n",
    "annual_total = annual_total.compute()"
   ]
  },
  {
   "cell_type": "markdown",
   "metadata": {},
   "source": [
    "## Dask arrays"
   ]
  },
  {
   "cell_type": "code",
   "execution_count": 351,
   "metadata": {},
   "outputs": [
    {
     "data": {
      "text/html": [
       "<table>\n",
       "<tr>\n",
       "<td>\n",
       "<table>\n",
       "  <thead>\n",
       "    <tr><td> </td><th> Array </th><th> Chunk </th></tr>\n",
       "  </thead>\n",
       "  <tbody>\n",
       "    <tr><th> Bytes </th><td> 80.00 kB </td> <td> 20.00 kB </td></tr>\n",
       "    <tr><th> Shape </th><td> (10000,) </td> <td> (2500,) </td></tr>\n",
       "    <tr><th> Count </th><td> 5 Tasks </td><td> 4 Chunks </td></tr>\n",
       "    <tr><th> Type </th><td> float64 </td><td> numpy.ndarray </td></tr>\n",
       "  </tbody>\n",
       "</table>\n",
       "</td>\n",
       "<td>\n",
       "<svg width=\"170\" height=\"75\" style=\"stroke:rgb(0,0,0);stroke-width:1\" >\n",
       "\n",
       "  <!-- Horizontal lines -->\n",
       "  <line x1=\"0\" y1=\"0\" x2=\"120\" y2=\"0\" style=\"stroke-width:2\" />\n",
       "  <line x1=\"0\" y1=\"25\" x2=\"120\" y2=\"25\" style=\"stroke-width:2\" />\n",
       "\n",
       "  <!-- Vertical lines -->\n",
       "  <line x1=\"0\" y1=\"0\" x2=\"0\" y2=\"25\" style=\"stroke-width:2\" />\n",
       "  <line x1=\"30\" y1=\"0\" x2=\"30\" y2=\"25\" />\n",
       "  <line x1=\"60\" y1=\"0\" x2=\"60\" y2=\"25\" />\n",
       "  <line x1=\"90\" y1=\"0\" x2=\"90\" y2=\"25\" />\n",
       "  <line x1=\"120\" y1=\"0\" x2=\"120\" y2=\"25\" style=\"stroke-width:2\" />\n",
       "\n",
       "  <!-- Colored Rectangle -->\n",
       "  <polygon points=\"0.000000,0.000000 120.000000,0.000000 120.000000,25.412617 0.000000,25.412617\" style=\"fill:#ECB172A0;stroke-width:0\"/>\n",
       "\n",
       "  <!-- Text -->\n",
       "  <text x=\"60.000000\" y=\"45.412617\" font-size=\"1.0rem\" font-weight=\"100\" text-anchor=\"middle\" >10000</text>\n",
       "  <text x=\"140.000000\" y=\"12.706308\" font-size=\"1.0rem\" font-weight=\"100\" text-anchor=\"middle\" transform=\"rotate(0,140.000000,12.706308)\">1</text>\n",
       "</svg>\n",
       "</td>\n",
       "</tr>\n",
       "</table>"
      ],
      "text/plain": [
       "dask.array<array, shape=(10000,), dtype=float64, chunksize=(2500,), chunktype=numpy.ndarray>"
      ]
     },
     "execution_count": 351,
     "metadata": {},
     "output_type": "execute_result"
    }
   ],
   "source": [
    "import dask.array as da\n",
    "\n",
    "a = np.random.rand(10000)\n",
    "ada = da.from_array(a, chunks=len(a) // 4)\n",
    "ada"
   ]
  },
  {
   "cell_type": "markdown",
   "metadata": {},
   "source": [
    "Visualise the task graph"
   ]
  },
  {
   "cell_type": "code",
   "execution_count": 360,
   "metadata": {},
   "outputs": [
    {
     "data": {
      "image/png": "[encoded data removed]",
      "text/plain": [
       "<IPython.core.display.Image object>"
      ]
     },
     "execution_count": 360,
     "metadata": {},
     "output_type": "execute_result"
    }
   ],
   "source": [
    "result = ada.sum()\n",
    "result.visualize(rankdir='LR')"
   ]
  },
  {
   "cell_type": "code",
   "execution_count": 362,
   "metadata": {},
   "outputs": [
    {
     "name": "stdout",
     "output_type": "stream",
     "text": [
      "2.05 ms ± 78.2 µs per loop (mean ± std. dev. of 7 runs, 100 loops each)\n"
     ]
    }
   ],
   "source": [
    "%timeit ada.sum().compute()"
   ]
  },
  {
   "cell_type": "code",
   "execution_count": 363,
   "metadata": {},
   "outputs": [
    {
     "name": "stdout",
     "output_type": "stream",
     "text": [
      "4.63 µs ± 105 ns per loop (mean ± std. dev. of 7 runs, 100000 loops each)\n"
     ]
    }
   ],
   "source": [
    "%timeit a.sum()"
   ]
  },
  {
   "cell_type": "markdown",
   "metadata": {},
   "source": [
    "## Dask dataframes"
   ]
  },
  {
   "cell_type": "code",
   "execution_count": 1,
   "metadata": {},
   "outputs": [],
   "source": [
    "import dask.dataframe as dd"
   ]
  },
  {
   "cell_type": "code",
   "execution_count": 12,
   "metadata": {},
   "outputs": [
    {
     "data": {
      "text/html": [
       "<div>\n",
       "<style scoped>\n",
       "    .dataframe tbody tr th:only-of-type {\n",
       "        vertical-align: middle;\n",
       "    }\n",
       "\n",
       "    .dataframe tbody tr th {\n",
       "        vertical-align: top;\n",
       "    }\n",
       "\n",
       "    .dataframe thead th {\n",
       "        text-align: right;\n",
       "    }\n",
       "</style>\n",
       "<table border=\"1\" class=\"dataframe\">\n",
       "  <thead>\n",
       "    <tr style=\"text-align: right;\">\n",
       "      <th></th>\n",
       "      <th>VendorID</th>\n",
       "      <th>tpep_pickup_datetime</th>\n",
       "      <th>tpep_dropoff_datetime</th>\n",
       "      <th>passenger_count</th>\n",
       "      <th>trip_distance</th>\n",
       "      <th>pickup_longitude</th>\n",
       "      <th>pickup_latitude</th>\n",
       "      <th>RateCodeID</th>\n",
       "      <th>store_and_fwd_flag</th>\n",
       "      <th>dropoff_longitude</th>\n",
       "      <th>dropoff_latitude</th>\n",
       "      <th>payment_type</th>\n",
       "      <th>fare_amount</th>\n",
       "      <th>extra</th>\n",
       "      <th>mta_tax</th>\n",
       "      <th>tip_amount</th>\n",
       "      <th>tolls_amount</th>\n",
       "      <th>improvement_surcharge</th>\n",
       "      <th>total_amount</th>\n",
       "    </tr>\n",
       "  </thead>\n",
       "  <tbody>\n",
       "    <tr>\n",
       "      <th>0</th>\n",
       "      <td>1.0</td>\n",
       "      <td>2015-01-13 00:04:10</td>\n",
       "      <td>2015-01-13 00:16:13</td>\n",
       "      <td>2.0</td>\n",
       "      <td>2.00</td>\n",
       "      <td>-74.0044</td>\n",
       "      <td>40.7421</td>\n",
       "      <td>1.0</td>\n",
       "      <td>N</td>\n",
       "      <td>-73.9976</td>\n",
       "      <td>40.7231</td>\n",
       "      <td>2.0</td>\n",
       "      <td>10.0</td>\n",
       "      <td>0.5</td>\n",
       "      <td>0.5</td>\n",
       "      <td>0.0</td>\n",
       "      <td>0.0</td>\n",
       "      <td>0.3</td>\n",
       "      <td>11.3</td>\n",
       "    </tr>\n",
       "    <tr>\n",
       "      <th>1</th>\n",
       "      <td>1.0</td>\n",
       "      <td>2015-01-18 00:42:09</td>\n",
       "      <td>2015-01-18 00:57:40</td>\n",
       "      <td>1.0</td>\n",
       "      <td>4.00</td>\n",
       "      <td>-73.9565</td>\n",
       "      <td>40.7712</td>\n",
       "      <td>1.0</td>\n",
       "      <td>N</td>\n",
       "      <td>-73.9956</td>\n",
       "      <td>40.7269</td>\n",
       "      <td>1.0</td>\n",
       "      <td>14.5</td>\n",
       "      <td>0.5</td>\n",
       "      <td>0.5</td>\n",
       "      <td>1.0</td>\n",
       "      <td>0.0</td>\n",
       "      <td>0.3</td>\n",
       "      <td>16.8</td>\n",
       "    </tr>\n",
       "    <tr>\n",
       "      <th>2</th>\n",
       "      <td>1.0</td>\n",
       "      <td>2015-01-07 00:41:31</td>\n",
       "      <td>2015-01-07 00:43:42</td>\n",
       "      <td>1.0</td>\n",
       "      <td>0.70</td>\n",
       "      <td>-73.9785</td>\n",
       "      <td>40.7450</td>\n",
       "      <td>1.0</td>\n",
       "      <td>N</td>\n",
       "      <td>-73.9713</td>\n",
       "      <td>40.7549</td>\n",
       "      <td>2.0</td>\n",
       "      <td>4.5</td>\n",
       "      <td>0.5</td>\n",
       "      <td>0.5</td>\n",
       "      <td>0.0</td>\n",
       "      <td>0.0</td>\n",
       "      <td>0.3</td>\n",
       "      <td>5.8</td>\n",
       "    </tr>\n",
       "    <tr>\n",
       "      <th>3</th>\n",
       "      <td>2.0</td>\n",
       "      <td>2015-01-11 00:31:11</td>\n",
       "      <td>2015-01-11 00:35:55</td>\n",
       "      <td>1.0</td>\n",
       "      <td>0.86</td>\n",
       "      <td>-74.0025</td>\n",
       "      <td>40.7199</td>\n",
       "      <td>1.0</td>\n",
       "      <td>N</td>\n",
       "      <td>-73.9912</td>\n",
       "      <td>40.7174</td>\n",
       "      <td>2.0</td>\n",
       "      <td>5.5</td>\n",
       "      <td>0.5</td>\n",
       "      <td>0.5</td>\n",
       "      <td>0.0</td>\n",
       "      <td>0.0</td>\n",
       "      <td>0.3</td>\n",
       "      <td>6.8</td>\n",
       "    </tr>\n",
       "    <tr>\n",
       "      <th>4</th>\n",
       "      <td>2.0</td>\n",
       "      <td>2015-01-03 00:25:40</td>\n",
       "      <td>2015-01-03 00:37:06</td>\n",
       "      <td>1.0</td>\n",
       "      <td>2.67</td>\n",
       "      <td>-74.0011</td>\n",
       "      <td>40.7316</td>\n",
       "      <td>1.0</td>\n",
       "      <td>N</td>\n",
       "      <td>-73.9735</td>\n",
       "      <td>40.7555</td>\n",
       "      <td>2.0</td>\n",
       "      <td>11.0</td>\n",
       "      <td>0.5</td>\n",
       "      <td>0.5</td>\n",
       "      <td>0.0</td>\n",
       "      <td>0.0</td>\n",
       "      <td>0.3</td>\n",
       "      <td>12.3</td>\n",
       "    </tr>\n",
       "  </tbody>\n",
       "</table>\n",
       "</div>"
      ],
      "text/plain": [
       "   VendorID tpep_pickup_datetime tpep_dropoff_datetime  passenger_count  \\\n",
       "0       1.0  2015-01-13 00:04:10   2015-01-13 00:16:13              2.0   \n",
       "1       1.0  2015-01-18 00:42:09   2015-01-18 00:57:40              1.0   \n",
       "2       1.0  2015-01-07 00:41:31   2015-01-07 00:43:42              1.0   \n",
       "3       2.0  2015-01-11 00:31:11   2015-01-11 00:35:55              1.0   \n",
       "4       2.0  2015-01-03 00:25:40   2015-01-03 00:37:06              1.0   \n",
       "\n",
       "   trip_distance  pickup_longitude  pickup_latitude  RateCodeID  \\\n",
       "0           2.00          -74.0044          40.7421         1.0   \n",
       "1           4.00          -73.9565          40.7712         1.0   \n",
       "2           0.70          -73.9785          40.7450         1.0   \n",
       "3           0.86          -74.0025          40.7199         1.0   \n",
       "4           2.67          -74.0011          40.7316         1.0   \n",
       "\n",
       "  store_and_fwd_flag  dropoff_longitude  dropoff_latitude  payment_type  \\\n",
       "0                  N           -73.9976           40.7231           2.0   \n",
       "1                  N           -73.9956           40.7269           1.0   \n",
       "2                  N           -73.9713           40.7549           2.0   \n",
       "3                  N           -73.9912           40.7174           2.0   \n",
       "4                  N           -73.9735           40.7555           2.0   \n",
       "\n",
       "   fare_amount  extra  mta_tax  tip_amount  tolls_amount  \\\n",
       "0         10.0    0.5      0.5         0.0           0.0   \n",
       "1         14.5    0.5      0.5         1.0           0.0   \n",
       "2          4.5    0.5      0.5         0.0           0.0   \n",
       "3          5.5    0.5      0.5         0.0           0.0   \n",
       "4         11.0    0.5      0.5         0.0           0.0   \n",
       "\n",
       "   improvement_surcharge  total_amount  \n",
       "0                    0.3          11.3  \n",
       "1                    0.3          16.8  \n",
       "2                    0.3           5.8  \n",
       "3                    0.3           6.8  \n",
       "4                    0.3          12.3  "
      ]
     },
     "execution_count": 12,
     "metadata": {},
     "output_type": "execute_result"
    }
   ],
   "source": [
    "df = dd.read_csv('./input/nyctaxi/*.csv', assume_missing=True)\n",
    "df.head()"
   ]
  },
  {
   "cell_type": "markdown",
   "metadata": {},
   "source": [
    "Need to know:\n",
    "\n",
    "- Vectorise groupby"
   ]
  },
  {
   "cell_type": "markdown",
   "metadata": {},
   "source": [
    "## Main sources"
   ]
  },
  {
   "cell_type": "markdown",
   "metadata": {},
   "source": [
    "Workflow\n",
    "- [Tom Augspurger - Maintaining performance](https://tomaugspurger.github.io/maintaing-performance.html)\n",
    "- [Clock function inspired by Luciano Ramalho](https://github.com/fluentpython/example-code/blob/master/02-array-seq/listcomp_speed.py)\n",
    "\n",
    "\n",
    "Single thread parallelisation\n",
    "- [QuantEcon intro to paralellisation](https://python-programming.quantecon.org/parallelization.html)\n",
    "- [Speed up your algorithms](https://towardsdatascience.com/speed-up-your-algorithms-part-3-parallelization-4d95c0888748)\n",
    "\n",
    "Multi-thread and cloud parallelisation\n",
    "- [Dask example](https://towardsdatascience.com/speeding-up-your-algorithms-part-4-dask-7c6ed79994ef)\n",
    "- [Datacamp - Parallel programming with Dask](https://learn.datacamp.com/courses/parallel-programming-with-dask-in-python)"
   ]
  },
  {
   "cell_type": "code",
   "execution_count": null,
   "metadata": {},
   "outputs": [],
   "source": []
  }
 ],
 "metadata": {
  "kernelspec": {
   "display_name": "habits",
   "language": "python",
   "name": "habits"
  },
  "language_info": {
   "codemirror_mode": {
    "name": "ipython",
    "version": 3
   },
   "file_extension": ".py",
   "mimetype": "text/x-python",
   "name": "python",
   "nbconvert_exporter": "python",
   "pygments_lexer": "ipython3",
   "version": "3.7.7"
  },
  "toc-autonumbering": false,
  "toc-showcode": false,
  "toc-showmarkdowntxt": false,
  "toc-showtags": false
 },
 "nbformat": 4,
 "nbformat_minor": 4
}
