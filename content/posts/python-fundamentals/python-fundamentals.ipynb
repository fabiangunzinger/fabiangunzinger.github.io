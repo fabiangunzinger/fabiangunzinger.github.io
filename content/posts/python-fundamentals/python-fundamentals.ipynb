{
 "cells": [
  {
   "cell_type": "markdown",
   "id": "8c2d65d4-cdd5-42f5-91b6-5779bf9d0f61",
   "metadata": {},
   "source": [
    "---\n",
    "title: \"Python fundamentals\"\n",
    "date: \"2021-10-10\"\n",
    "tags:\n",
    "    - python\n",
    "execute:\n",
    "    enabled: false\n",
    "---"
   ]
  },
  {
   "cell_type": "markdown",
   "id": "2835f4b6-1f4c-4e0e-b21c-48f2176433b6",
   "metadata": {},
   "source": [
    "## Data model - everything is an object"
   ]
  },
  {
   "cell_type": "code",
   "execution_count": null,
   "id": "78c75ac7-f478-4b74-a68b-d1c349743acd",
   "metadata": {},
   "outputs": [],
   "source": [
    "# Everything is an object\n",
    "isinstance(4, object)  # => True\n",
    "isinstance([1, 2], object)  # => True\n",
    "\n",
    "# Objects have identity\n",
    "id(4)  # => 4501558496 (e.g.)\n",
    "\n",
    "# Objects have type\n",
    "type(4)  # => int\n",
    "isinstance(type(4), object)  # => Types are also objects\n",
    "\n",
    "# Objects have value\n",
    "(41).__sizeof__()  # => 28 (bytes)\n",
    "\n",
    "# Variables are references to objects\n",
    "x = 4\n",
    "y = x\n",
    "x == y  # => True (both refer to object 4)\n",
    "\n",
    "# Duck typing (if it walks, swims, and quacks like a duck...)\n",
    "def compute(a, b, c):\n",
    "    return (a + b) * c\n",
    "\n",
    "\n",
    "compute(1, 2, 3)\n",
    "compute([1], [2, 3], 4)\n",
    "compute(\"lo\", \"la\", 3)"
   ]
  },
  {
   "cell_type": "markdown",
   "id": "8baeccb9-ae33-4562-b01a-84f6426d79bf",
   "metadata": {},
   "source": [
    "## Lexical analysis"
   ]
  },
  {
   "cell_type": "markdown",
   "id": "ff66d4fe-9e49-45ec-8e39-040546520562",
   "metadata": {},
   "source": [
    "- What is a Python program read by? A *parser*, which reads a sequence of tokens produced by a lexical analyser.\n",
    "\n",
    "- What is a legixal analyser? A program that performs lexical analysis.\n",
    "\n",
    "- What is lexical analysis, and what's the etymology of the term? Lexical analysis, also called lexing or tokenizing, is the process of converting a sequence of characters into a sequence of tokens ([src](https://en.wikipedia.org/wiki/Lexical_analysis)). The root of the term is the Greek *lexis*, meaning *word*.\n",
    "\n",
    "- What is a *token*? A string with an identified meaning, structured as a name-value tuple. Common token names (aking to parts of speech in linguistics) are *identifier*, *keyword*, *separator*, *operator*, *literal*, *comment*. For the expression `a = b + 2`, lexical analysis would yield the sequence of tokens `[(identifier, a), (operator, =), (identifier, b), (operator, +), (literal, 2)]` ([src](https://en.wikipedia.org/wiki/Lexical_analysis#Token)).\n",
    "\n",
    "- What's the difference between lexical and syntactic definitions? The former operates on the individual characters of the input source (during tokenizing), the latter on the stream of tokens created by lexial analysis (during parsing). \n",
    "\n",
    "- By default, Python reads text as Unicode code points. Hence, [encoding declarations](https://docs.python.org/3/reference/lexical_analysis.html#encoding-declarations) are only needed if some other encoding is required."
   ]
  },
  {
   "cell_type": "markdown",
   "id": "00ea18f9-d902-408c-ad9a-5081af95e43c",
   "metadata": {},
   "source": [
    "# References\n",
    "\n",
    "- [Python Language Reference](https://docs.python.org/3/reference/index.html)"
   ]
  }
 ],
 "metadata": {
  "kernelspec": {
   "display_name": "blog",
   "language": "python",
   "name": "blog"
  },
  "language_info": {
   "codemirror_mode": {
    "name": "ipython",
    "version": 3
   },
   "file_extension": ".py",
   "mimetype": "text/x-python",
   "name": "python",
   "nbconvert_exporter": "python",
   "pygments_lexer": "ipython3",
   "version": "3.9.9"
  }
 },
 "nbformat": 4,
 "nbformat_minor": 5
}
