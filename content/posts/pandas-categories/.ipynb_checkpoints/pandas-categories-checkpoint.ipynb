{
 "cells": [
  {
   "cell_type": "markdown",
   "id": "55c8884f-6604-4ca9-bd9f-dec9ceedead7",
   "metadata": {},
   "source": [
    "---\n",
    "title: \"Pandas categories\"\n",
    "date: \"2021-11-11\"\n",
    "tags:\n",
    "    - python\n",
    "execute:\n",
    "    enabled: false\n",
    "---"
   ]
  },
  {
   "cell_type": "markdown",
   "id": "63a162f9-0a1c-43b6-bffe-fef8f8be4ea9",
   "metadata": {},
   "source": [
    "## Basics\n",
    "\n",
    "Values and order:\n",
    "\n",
    "- All values of a categorical valiable are either in `categories` or are `np.nan`.\n",
    "\n",
    "- Order is defined by the order of `categories`, not the lexical order of the values.\n",
    "\n",
    "Memory structure:\n",
    "\n",
    "- Internally, the data structure consists of a `categories` array and an integer arrays of `codes`, which point to the values in the `categories` array.\n",
    "\n",
    "- The memory usage of a categorical variable is proportional to the number of categories plus the length of the data, while that for an object dtype is a constant times the length of the data. As the number of categories approaches the length of the data, memory usage approaches that of object type.\n",
    "\n",
    "Use cases:\n",
    "\n",
    "- To save memory (if number of categories is small relative to the number of rows)\n",
    "\n",
    "- If logical order differs from lexical order (e.g. 'small', 'medium', 'large')\n",
    "\n",
    "- To signal to libraries that column should be treated as a category (e.g. for plotting)"
   ]
  },
  {
   "cell_type": "markdown",
   "id": "98dde232-7a84-4e12-9e69-61fc29b1cebb",
   "metadata": {
    "tags": []
   },
   "source": [
    "## General best practices\n",
    "\n",
    "Operating on categories:\n",
    "\n",
    "- Operate on category values directly rather than column elements (e.g. to rename categories use `df.catvar.cat.rename_rategories(*args, **kwargs)`).\n",
    "\n",
    "- If there is no `cat` method available, consider operating on categories directly with `df.catvar.cat.categories`.\n",
    "\n",
    "Merging: \n",
    "\n",
    "- Pandas treats categorical variables with different categories as different data types\n",
    "    \n",
    "- Category merge keys will only be categories in the merged dataframe if they are of the same data types (i.e. have the same categories), otherwise they will be converted back to objects\n",
    "    \n",
    "\n",
    "Grouping:\n",
    "\n",
    "- By default, we group on all categories, not just those present in the data.\n",
    "\n",
    "- More often than not, you'll want to use `df.groupby(catvar, observed=True)` to only use categories observed in the data."
   ]
  },
  {
   "cell_type": "markdown",
   "id": "8deaa407-ce9d-45ab-bf1f-21e0fcebb604",
   "metadata": {},
   "source": [
    "## Operations I frequently use"
   ]
  },
  {
   "cell_type": "code",
   "execution_count": 2,
   "id": "bad551bd-a28f-4cb7-b3e9-a2c8e676d461",
   "metadata": {},
   "outputs": [],
   "source": [
    "import numpy as np\n",
    "import pandas as pd\n",
    "import seaborn as sns"
   ]
  },
  {
   "cell_type": "code",
   "execution_count": 116,
   "id": "44595b6f-9234-4898-ac16-3d375c81ff85",
   "metadata": {},
   "outputs": [
    {
     "data": {
      "text/html": [
       "<div>\n",
       "<style scoped>\n",
       "    .dataframe tbody tr th:only-of-type {\n",
       "        vertical-align: middle;\n",
       "    }\n",
       "\n",
       "    .dataframe tbody tr th {\n",
       "        vertical-align: top;\n",
       "    }\n",
       "\n",
       "    .dataframe thead th {\n",
       "        text-align: right;\n",
       "    }\n",
       "</style>\n",
       "<table border=\"1\" class=\"dataframe\">\n",
       "  <thead>\n",
       "    <tr style=\"text-align: right;\">\n",
       "      <th></th>\n",
       "      <th>pickup</th>\n",
       "      <th>dropoff</th>\n",
       "      <th>passengers</th>\n",
       "      <th>distance</th>\n",
       "      <th>fare</th>\n",
       "      <th>tip</th>\n",
       "      <th>tolls</th>\n",
       "      <th>total</th>\n",
       "      <th>color</th>\n",
       "      <th>payment</th>\n",
       "      <th>pickup_zone</th>\n",
       "      <th>dropoff_zone</th>\n",
       "      <th>pickup_borough</th>\n",
       "      <th>dropoff_borough</th>\n",
       "    </tr>\n",
       "  </thead>\n",
       "  <tbody>\n",
       "    <tr>\n",
       "      <th>0</th>\n",
       "      <td>2019-03-23 20:21:09</td>\n",
       "      <td>2019-03-23 20:27:24</td>\n",
       "      <td>1</td>\n",
       "      <td>1.60</td>\n",
       "      <td>7.0</td>\n",
       "      <td>2.15</td>\n",
       "      <td>0.0</td>\n",
       "      <td>12.95</td>\n",
       "      <td>yellow</td>\n",
       "      <td>credit card</td>\n",
       "      <td>Lenox Hill West</td>\n",
       "      <td>UN/Turtle Bay South</td>\n",
       "      <td>Manhattan</td>\n",
       "      <td>Manhattan</td>\n",
       "    </tr>\n",
       "    <tr>\n",
       "      <th>1</th>\n",
       "      <td>2019-03-04 16:11:55</td>\n",
       "      <td>2019-03-04 16:19:00</td>\n",
       "      <td>1</td>\n",
       "      <td>0.79</td>\n",
       "      <td>5.0</td>\n",
       "      <td>0.00</td>\n",
       "      <td>0.0</td>\n",
       "      <td>9.30</td>\n",
       "      <td>yellow</td>\n",
       "      <td>cash</td>\n",
       "      <td>Upper West Side South</td>\n",
       "      <td>Upper West Side South</td>\n",
       "      <td>Manhattan</td>\n",
       "      <td>Manhattan</td>\n",
       "    </tr>\n",
       "  </tbody>\n",
       "</table>\n",
       "</div>"
      ],
      "text/plain": [
       "               pickup             dropoff  passengers  distance  fare   tip  \\\n",
       "0 2019-03-23 20:21:09 2019-03-23 20:27:24           1      1.60   7.0  2.15   \n",
       "1 2019-03-04 16:11:55 2019-03-04 16:19:00           1      0.79   5.0  0.00   \n",
       "\n",
       "   tolls  total   color      payment            pickup_zone  \\\n",
       "0    0.0  12.95  yellow  credit card        Lenox Hill West   \n",
       "1    0.0   9.30  yellow         cash  Upper West Side South   \n",
       "\n",
       "            dropoff_zone pickup_borough dropoff_borough  \n",
       "0    UN/Turtle Bay South      Manhattan       Manhattan  \n",
       "1  Upper West Side South      Manhattan       Manhattan  "
      ]
     },
     "execution_count": 116,
     "metadata": {},
     "output_type": "execute_result"
    }
   ],
   "source": [
    "df = sns.load_dataset(\"taxis\")\n",
    "df[\"pickup\"] = pd.to_datetime(df.pickup)\n",
    "df[\"dropoff\"] = pd.to_datetime(df.dropoff)\n",
    "df.head(2)"
   ]
  },
  {
   "cell_type": "markdown",
   "id": "359d8e9b-3b48-47e4-8d69-05a4d5e86ca8",
   "metadata": {},
   "source": [
    "### Convert all string variables to categories"
   ]
  },
  {
   "cell_type": "code",
   "execution_count": 118,
   "id": "b32458c5-8568-4685-8aa5-8ffd66509315",
   "metadata": {
    "tags": []
   },
   "outputs": [],
   "source": [
    "str_cols = df.select_dtypes(\"object\")\n",
    "df[str_cols.columns] = str_cols.astype(\"category\")"
   ]
  },
  {
   "cell_type": "markdown",
   "id": "c4227126-fb2e-48c1-89a7-0727085ebc0b",
   "metadata": {},
   "source": [
    "### Convert labels of all categorical variables to lowercase"
   ]
  },
  {
   "cell_type": "code",
   "execution_count": 119,
   "id": "d7bd0ec5-630d-4e62-8e0c-f6be43f33bc4",
   "metadata": {},
   "outputs": [],
   "source": [
    "cat_cols = df.select_dtypes(\"category\")\n",
    "df[cat_cols.columns] = cat_cols.apply(lambda col: col.cat.rename_categories(str.lower))"
   ]
  },
  {
   "cell_type": "markdown",
   "id": "289d0017-b500-4e80-9a9a-9b53b83645dd",
   "metadata": {},
   "source": [
    "### String and datetime accessors"
   ]
  },
  {
   "cell_type": "markdown",
   "id": "c8282e7a-c9a2-440c-b240-2b1a49662df3",
   "metadata": {},
   "source": [
    "- When using the `str` and `dt` accessors on a variable of type `category`, pandas applies the operation on the `categories` rather than the entire array (which is nice) and then creates and returns a new string or date array (which is often not helpful for me)."
   ]
  },
  {
   "cell_type": "code",
   "execution_count": 120,
   "id": "cdaaa85a-af7b-49e4-ae04-e239b64da90d",
   "metadata": {},
   "outputs": [
    {
     "data": {
      "text/plain": [
       "0    CREDIT CARD\n",
       "1           CASH\n",
       "2    CREDIT CARD\n",
       "Name: payment, dtype: object"
      ]
     },
     "execution_count": 120,
     "metadata": {},
     "output_type": "execute_result"
    }
   ],
   "source": [
    "df.payment.str.upper().head(3)"
   ]
  },
  {
   "cell_type": "markdown",
   "id": "2a203907-87a4-40ce-af94-c9a2fa68dd30",
   "metadata": {},
   "source": [
    "- For operations that `cat` provides methods for (e.g. renaming as used above), the solution is to use those methods.\n",
    "\n",
    "- For others (e.g. regex searches) the solution is to operate on the categories directly myself."
   ]
  },
  {
   "cell_type": "markdown",
   "id": "7ae06418-1933-40c5-982e-81ada21c84e8",
   "metadata": {},
   "source": [
    "## Object creation"
   ]
  },
  {
   "cell_type": "markdown",
   "id": "c59408c7-1cf3-4f64-8406-6a095052c9b2",
   "metadata": {},
   "source": [
    "Convert *sex* and *class* to the same categorical type, with categories being the union of all unique values of both columns."
   ]
  },
  {
   "cell_type": "code",
   "execution_count": 11,
   "id": "2a406fdf-20f5-4ef3-bdbc-970031d0c910",
   "metadata": {},
   "outputs": [
    {
     "name": "stdout",
     "output_type": "stream",
     "text": [
      "Index(['child', 'female', 'male', 'man', 'woman'], dtype='object')\n",
      "Index(['child', 'female', 'male', 'man', 'woman'], dtype='object')\n"
     ]
    }
   ],
   "source": [
    "cols = [\"sex\", \"who\"]\n",
    "unique_values = np.unique(titanic[cols].to_numpy().ravel())\n",
    "categories = pd.CategoricalDtype(categories=unique_values)\n",
    "titanic[cols] = titanic[cols].astype(categories)\n",
    "print(titanic.sex.cat.categories)\n",
    "print(titanic.who.cat.categories)"
   ]
  },
  {
   "cell_type": "code",
   "execution_count": 12,
   "id": "14c73c93-40ee-4ebc-98e4-bc6a8d3dd9bd",
   "metadata": {},
   "outputs": [],
   "source": [
    "# restore sex and who to object types\n",
    "titanic[cols] = titanic[cols].astype(\"object\")"
   ]
  },
  {
   "cell_type": "markdown",
   "id": "b035cc93-6bfa-41aa-bd06-b72984428911",
   "metadata": {},
   "source": [
    "## Custom order "
   ]
  },
  {
   "cell_type": "code",
   "execution_count": 13,
   "id": "3a227991-98bd-4b94-b313-674d20d4a08d",
   "metadata": {},
   "outputs": [
    {
     "data": {
      "text/html": [
       "<div>\n",
       "<style scoped>\n",
       "    .dataframe tbody tr th:only-of-type {\n",
       "        vertical-align: middle;\n",
       "    }\n",
       "\n",
       "    .dataframe tbody tr th {\n",
       "        vertical-align: top;\n",
       "    }\n",
       "\n",
       "    .dataframe thead th {\n",
       "        text-align: right;\n",
       "    }\n",
       "</style>\n",
       "<table border=\"1\" class=\"dataframe\">\n",
       "  <thead>\n",
       "    <tr style=\"text-align: right;\">\n",
       "      <th></th>\n",
       "      <th>quality</th>\n",
       "    </tr>\n",
       "  </thead>\n",
       "  <tbody>\n",
       "    <tr>\n",
       "      <th>1</th>\n",
       "      <td>excellent</td>\n",
       "    </tr>\n",
       "    <tr>\n",
       "      <th>0</th>\n",
       "      <td>good</td>\n",
       "    </tr>\n",
       "    <tr>\n",
       "      <th>2</th>\n",
       "      <td>very good</td>\n",
       "    </tr>\n",
       "  </tbody>\n",
       "</table>\n",
       "</div>"
      ],
      "text/plain": [
       "     quality\n",
       "1  excellent\n",
       "0       good\n",
       "2  very good"
      ]
     },
     "execution_count": 13,
     "metadata": {},
     "output_type": "execute_result"
    }
   ],
   "source": [
    "df = pd.DataFrame({\"quality\": [\"good\", \"excellent\", \"very good\"]})\n",
    "df.sort_values(\"quality\")"
   ]
  },
  {
   "cell_type": "code",
   "execution_count": 14,
   "id": "8aedd68f-f194-4b88-832a-f2aa217e5646",
   "metadata": {},
   "outputs": [
    {
     "data": {
      "text/html": [
       "<div>\n",
       "<style scoped>\n",
       "    .dataframe tbody tr th:only-of-type {\n",
       "        vertical-align: middle;\n",
       "    }\n",
       "\n",
       "    .dataframe tbody tr th {\n",
       "        vertical-align: top;\n",
       "    }\n",
       "\n",
       "    .dataframe thead th {\n",
       "        text-align: right;\n",
       "    }\n",
       "</style>\n",
       "<table border=\"1\" class=\"dataframe\">\n",
       "  <thead>\n",
       "    <tr style=\"text-align: right;\">\n",
       "      <th></th>\n",
       "      <th>quality</th>\n",
       "    </tr>\n",
       "  </thead>\n",
       "  <tbody>\n",
       "    <tr>\n",
       "      <th>0</th>\n",
       "      <td>good</td>\n",
       "    </tr>\n",
       "    <tr>\n",
       "      <th>2</th>\n",
       "      <td>very good</td>\n",
       "    </tr>\n",
       "    <tr>\n",
       "      <th>1</th>\n",
       "      <td>excellent</td>\n",
       "    </tr>\n",
       "  </tbody>\n",
       "</table>\n",
       "</div>"
      ],
      "text/plain": [
       "     quality\n",
       "0       good\n",
       "2  very good\n",
       "1  excellent"
      ]
     },
     "execution_count": 14,
     "metadata": {},
     "output_type": "execute_result"
    }
   ],
   "source": [
    "ordered_quality = pd.CategoricalDtype([\"good\", \"very good\", \"excellent\"], ordered=True)\n",
    "df.quality = df.quality.astype(ordered_quality)\n",
    "df.sort_values(\"quality\")"
   ]
  },
  {
   "cell_type": "markdown",
   "id": "b2628b69-a3ef-456f-b1bc-7ebf5072fa6e",
   "metadata": {},
   "source": [
    "## Unique values"
   ]
  },
  {
   "cell_type": "markdown",
   "id": "aa952889-4196-4dac-b6b4-9e856c33d92c",
   "metadata": {},
   "source": [
    "`Series.unique` returns values in order of appearance, and only returns values that are present in the data."
   ]
  },
  {
   "cell_type": "code",
   "execution_count": 123,
   "id": "4d99761f-2db1-4ada-a0bd-09e98e34badd",
   "metadata": {},
   "outputs": [],
   "source": [
    "dfs = df.head(5)"
   ]
  },
  {
   "cell_type": "code",
   "execution_count": 136,
   "id": "58fa37e8-97ba-4d6e-9ee6-55e0583b01fe",
   "metadata": {},
   "outputs": [],
   "source": [
    "assert not len(dfs.pickup_zone.unique()) == len(dfs.pickup_zone.cat.categories)"
   ]
  },
  {
   "cell_type": "markdown",
   "id": "5f348553-5713-4713-ba5d-f97bb41b7a63",
   "metadata": {},
   "source": [
    "## References\n",
    "\n",
    "- [Docs](https://pandas.pydata.org/pandas-docs/stable/user_guide/categorical.html#object-creation)\n",
    "\n",
    "- [Useful Medium article](https://towardsdatascience.com/staying-sane-while-adopting-pandas-categorical-datatypes-78dbd19dcd8a)"
   ]
  }
 ],
 "metadata": {
  "kernelspec": {
   "display_name": "blog",
   "language": "python",
   "name": "blog"
  },
  "language_info": {
   "codemirror_mode": {
    "name": "ipython",
    "version": 3
   },
   "file_extension": ".py",
   "mimetype": "text/x-python",
   "name": "python",
   "nbconvert_exporter": "python",
   "pygments_lexer": "ipython3",
   "version": "3.9.9"
  }
 },
 "nbformat": 4,
 "nbformat_minor": 5
}
