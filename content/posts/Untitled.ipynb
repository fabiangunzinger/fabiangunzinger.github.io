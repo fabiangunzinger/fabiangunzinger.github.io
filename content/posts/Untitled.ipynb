{
 "cells": [
  {
   "cell_type": "markdown",
   "id": "843e68b2-49f1-451f-8d95-9f93d2b74b5b",
   "metadata": {},
   "source": [
    "# Pandas"
   ]
  },
  {
   "cell_type": "code",
   "execution_count": null,
   "id": "eb543fa5-015f-46a3-9ae6-a71f57457ec9",
   "metadata": {},
   "outputs": [],
   "source": []
  }
 ],
 "metadata": {
  "kernelspec": {
   "display_name": "mdb_eval",
   "language": "python",
   "name": "mdb_eval"
  },
  "language_info": {
   "codemirror_mode": {
    "name": "ipython",
    "version": 3
   },
   "file_extension": ".py",
   "mimetype": "text/x-python",
   "name": "python",
   "nbconvert_exporter": "python",
   "pygments_lexer": "ipython3",
   "version": "3.9.7"
  }
 },
 "nbformat": 4,
 "nbformat_minor": 5
}
