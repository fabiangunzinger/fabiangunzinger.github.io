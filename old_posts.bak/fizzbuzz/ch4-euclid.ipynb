{
 "cells": [
  {
   "cell_type": "markdown",
   "id": "44148326-8b3b-490d-8a2c-2ed4cfd432e1",
   "metadata": {},
   "source": [
    "# Chapter 4 - Euclid's solution"
   ]
  },
  {
   "cell_type": "code",
   "execution_count": 1,
   "id": "6cbf5918-5892-4624-b20d-1f186072e172",
   "metadata": {},
   "outputs": [],
   "source": [
    "import checks"
   ]
  },
  {
   "cell_type": "markdown",
   "id": "55815637-ac3c-485f-ba1f-c815b669953d",
   "metadata": {},
   "source": [
    "## Finding primes"
   ]
  },
  {
   "cell_type": "markdown",
   "id": "3c00ea30-56a8-43e3-a717-bb47d933559b",
   "metadata": {},
   "source": [
    "- A prime number is any positive number larger than 1 that cannot be written as a product of two smaller numbers.\n",
    "\n",
    "- Here I want to compare the performance of three different functions to compare prime numbers."
   ]
  },
  {
   "cell_type": "markdown",
   "id": "fd5cabf0-a207-490c-b291-fef5e9e56b89",
   "metadata": {},
   "source": [
    "### v1 - basic prime finder"
   ]
  },
  {
   "cell_type": "code",
   "execution_count": 2,
   "id": "578d7e09-4cb5-4989-8a86-da014034721f",
   "metadata": {},
   "outputs": [],
   "source": [
    "def is_prime1(n: int) -> bool:\n",
    "    \"\"\"\n",
    "    n is prime if it's larger than 2 and not\n",
    "    divisible by any smaller number other than 1.\n",
    "    \"\"\" \n",
    "    return n >= 2 and all(n % d != 0 for d in range(2, n))\n",
    "\n",
    "\n",
    "assert all(is_prime1(n) for n in [2, 3, 5, 7, 11, 13, 17, 19, 23])\n",
    "assert all(not is_prime1(n) for n in [4, 6, 8, 9, 10])"
   ]
  },
  {
   "cell_type": "markdown",
   "id": "440ee7d3-dd66-4594-ae23-7e23216e531f",
   "metadata": {},
   "source": [
    "A helper function to find primes up to `n` with a given prime finder function."
   ]
  },
  {
   "cell_type": "code",
   "execution_count": 3,
   "id": "fe700552-219b-4a1c-975a-d904d4dd362d",
   "metadata": {},
   "outputs": [],
   "source": [
    "from typing import List\n",
    "\n",
    "def primes_up_to1(n: int) -> List[int]:\n",
    "    return [i for i in range(2, n + 1) if is_prime1(i)]\n",
    "\n",
    "assert primes_up_to1(20) == [2, 3, 5, 7, 11, 13, 17, 19]\n",
    "assert primes_up_to1(100)[-3:] == [83, 89, 97]"
   ]
  },
  {
   "cell_type": "markdown",
   "id": "dd227af1-3ccc-42d6-b458-aded2336e237",
   "metadata": {},
   "source": [
    "Let's check how this scales."
   ]
  },
  {
   "cell_type": "code",
   "execution_count": 4,
   "id": "dac8d07d-f1b5-4f26-a67b-b5faa66771ff",
   "metadata": {},
   "outputs": [
    {
     "name": "stdout",
     "output_type": "stream",
     "text": [
      "        n          time\n",
      "      100:      0.130ms\n",
      "    1,000:      7.308ms\n",
      "   10,000:    477.183ms\n",
      "  100,000:  34922.543ms\n"
     ]
    }
   ],
   "source": [
    "import time\n",
    "from typing import Callable\n",
    "\n",
    "def prime_timings(func: Callable[[int], list[int]], power_max: int = 6):\n",
    "    left_cell_width = power_max + 3\n",
    "    print(f\"{'n':>{left_cell_width}}  {'time':>12}\")\n",
    "    for power in range(2, power_max):\n",
    "        n = 10 ** power\n",
    "        start = time.perf_counter()\n",
    "        func(n)\n",
    "        end = time.perf_counter()\n",
    "        time_in_ms = (end - start) * 1000        \n",
    "        print(f\"{n:>{left_cell_width},}: {time_in_ms:>10.3f}ms\")\n",
    "    \n",
    "prime_timings(primes_up_to1)"
   ]
  },
  {
   "cell_type": "markdown",
   "id": "25b53851-2de3-40c4-a58e-dc13100821fd",
   "metadata": {},
   "source": [
    "### v2 - check up to sqrt(n) only"
   ]
  },
  {
   "cell_type": "markdown",
   "id": "508888a8-9f86-408d-b533-30129eb845fa",
   "metadata": {},
   "source": [
    "Improved finder checking only up to sqrt(n)\n",
    "\n",
    "- This uses the fact that if a and b > sqrt(n), then a x b > n.\n",
    "\n",
    "- This implies that for a > sqrt(n), all solutions will be mirror images of earlier solutions.\n",
    "\n",
    "- For example: if n = 36, all solutions for a > 6 will have already been checked but with a and b reversed - 36/2=18 will come up as 36/18=2, and similar for a = 3 and a = 4\n",
    "\n",
    "- Python creates ranges with integer boundaries. So, to implement this, we check all values up to `int(sqrt(n)) + 1`, which rounds the sqrt value down to the nearest integer and adds 1. Why do we need to add 1?\n",
    "    \n",
    "    - It is *not* because we cound the sqrt result down to the next integer. This makes no difference. Because given that we want to check whether there are solutions where n can be written as the product of two integers, there are only two possible cases of interest here: either sqrt(n) is an integer, in which case the rounding has no effect, or it is a non-integer digit, in which case we care about its integer part only. Hence, rounding away the decimal part of non-integer square roots is no loss.\n",
    "    \n",
    "    - It *is* to ensure that `range(2, ...)` generates the correct sequence of potential primes to check. For values of sqrt(n) < 4, range is an empty list (because `range(2, 2)` and `range(2, 3)` are both empty). For sqrt(n) >= 4, things work as intended. (Note, however, that we still don't properly implement our logic, since `range(2, sqrt(16))` returns `[2, 3]`, and the only reason multiples of 4 are eliminated from the returned list is because they are also multiples of 2, and similar for all higher values.\n",
    "    \n",
    "    - Actually, the even simpler way to think about it is that it's nothing else than ensuring that if we want to create a range from a to b, both inclusive, we need to call `range(a, b + 1)`."
   ]
  },
  {
   "cell_type": "code",
   "execution_count": 5,
   "id": "1cb5c217-a06a-4770-a6ac-fdffc754e44b",
   "metadata": {},
   "outputs": [],
   "source": [
    "import math\n",
    "\n",
    "def int_sqrt(n: int) -> int:\n",
    "    return int(math.sqrt(n))\n",
    "\n",
    "def is_prime2(n: int) -> bool:\n",
    "    return n >= 2 and all(n % d != 0 for d in range(2, int_sqrt(n) + 1))\n",
    "\n",
    "\n",
    "assert all(is_prime2(n) for n in [2, 3, 5, 7, 11, 13, 17, 19, 23])\n",
    "assert all(not is_prime2(n) for n in [4, 6, 8, 9, 10])"
   ]
  },
  {
   "cell_type": "code",
   "execution_count": 6,
   "id": "349fde40-3e09-4748-8d67-dc05bde2e202",
   "metadata": {},
   "outputs": [],
   "source": [
    "def primes_up_to2(n: int) -> List[int]:\n",
    "    return [i for i in range(2, n + 1) if is_prime2(i)]\n",
    "\n",
    "assert primes_up_to2(20) == [2, 3, 5, 7, 11, 13, 17, 19]\n",
    "assert primes_up_to2(100)[-3:] == [83, 89, 97]"
   ]
  },
  {
   "cell_type": "code",
   "execution_count": 7,
   "id": "d7fa97c3-5d46-440b-80d0-1c04a20e967e",
   "metadata": {},
   "outputs": [
    {
     "name": "stdout",
     "output_type": "stream",
     "text": [
      "        n          time\n",
      "      100:      0.095ms\n",
      "    1,000:      1.342ms\n",
      "   10,000:     15.906ms\n",
      "  100,000:    250.009ms\n"
     ]
    }
   ],
   "source": [
    "prime_timings(primes_up_to2)"
   ]
  },
  {
   "cell_type": "markdown",
   "id": "4cff7c40-1d8c-41b7-93cd-374454d6cc04",
   "metadata": {},
   "source": [
    "- This is already much faster than the above. It's the difference in complexity of `n*n` vs `n * sqrt(n)`.\n",
    "- But it still doesn't scale very well -- try finding all primes up to 1,000,000,000...!"
   ]
  },
  {
   "cell_type": "markdown",
   "id": "63f05ab4-7ad0-4986-a61f-9c3709977c1f",
   "metadata": {},
   "source": [
    "### v3 - sieve"
   ]
  },
  {
   "cell_type": "markdown",
   "id": "e0917ce8-17b7-4a3b-8bfc-41875425327f",
   "metadata": {},
   "source": [
    "- Each number that isn't prime is necessarily divisible by a number that is prime."
   ]
  },
  {
   "cell_type": "code",
   "execution_count": 8,
   "id": "6c3d18fe-d6a0-496c-a0b1-279f7bc36054",
   "metadata": {},
   "outputs": [
    {
     "name": "stdout",
     "output_type": "stream",
     "text": [
      "        n          time\n",
      "      100:      0.066ms\n",
      "    1,000:      1.012ms\n",
      "   10,000:     52.278ms\n",
      "  100,000:   2546.478ms\n"
     ]
    }
   ],
   "source": [
    "def primes_up_to3(n: int) -> List[int]: \n",
    "    candidates = range(2, n + 1)\n",
    "    primes = []\n",
    "    \n",
    "    while candidates:\n",
    "        # The smallest remaining element must be prime, since it\n",
    "        # wasn't divisible by any prime smaller than itself.\n",
    "        p = candidates[0]\n",
    "        primes.append(p)\n",
    "        \n",
    "        # Remove all multiples of p as not-prime\n",
    "        candidates = [c for c in candidates if c % p > 0]\n",
    "        \n",
    "    return primes\n",
    "\n",
    "\n",
    "# Testing\n",
    "assert primes_up_to3(10) == [2, 3, 5, 7]\n",
    "assert primes_up_to3(100)[-3:] == [83, 89, 97]\n",
    "\n",
    "\n",
    "# Timing\n",
    "prime_timings(primes_up_to3)"
   ]
  },
  {
   "cell_type": "markdown",
   "id": "5d5addd6-279a-4eda-a854-da76d34d5540",
   "metadata": {},
   "source": [
    "- This is slower than v2 - what's going on?\n",
    "- Profiling shows that we spend most time inside the list comprehension.\n",
    "- Let's eliminate unnecessary work there."
   ]
  },
  {
   "cell_type": "code",
   "execution_count": 9,
   "id": "143b3aba-9624-4941-b1c2-5a5aac5bf241",
   "metadata": {},
   "outputs": [
    {
     "name": "stdout",
     "output_type": "stream",
     "text": [
      "         19188 function calls in 3.264 seconds\n",
      "\n",
      "   Ordered by: standard name\n",
      "\n",
      "   ncalls  tottime  percall  cumtime  percall filename:lineno(function)\n",
      "        1    0.095    0.095    3.264    3.264 3434994521.py:1(primes_up_to3)\n",
      "     9592    3.167    0.000    3.167    0.000 3434994521.py:12(<listcomp>)\n",
      "        1    0.000    0.000    3.264    3.264 <string>:1(<module>)\n",
      "        1    0.000    0.000    3.264    3.264 {built-in method builtins.exec}\n",
      "     9592    0.001    0.000    0.001    0.000 {method 'append' of 'list' objects}\n",
      "        1    0.000    0.000    0.000    0.000 {method 'disable' of '_lsprof.Profiler' objects}\n",
      "\n",
      "\n"
     ]
    }
   ],
   "source": [
    "import cProfile\n",
    "cProfile.run('primes_up_to3(100_000)')"
   ]
  },
  {
   "cell_type": "code",
   "execution_count": 10,
   "id": "99ffefb6-95f5-4a1e-a3e8-c26e2977e988",
   "metadata": {},
   "outputs": [
    {
     "name": "stdout",
     "output_type": "stream",
     "text": [
      "        n          time\n",
      "      100:      0.031ms\n",
      "    1,000:      0.117ms\n",
      "   10,000:      1.075ms\n",
      "  100,000:     13.205ms\n"
     ]
    }
   ],
   "source": [
    "def primes_up_to4(n: int) -> List[int]:\n",
    "    # Make indices correspond to numeric value of item\n",
    "    candidates = [False, False] + [True] * (n - 1)\n",
    "    \n",
    "    for p in range(2, int_sqrt(n) + 1):\n",
    "        # If we haven't eliminated p as prime yet\n",
    "        if candidates[p]:\n",
    "            for m in range(p * p, n + 1, p):\n",
    "                candidates[m] = False\n",
    "                \n",
    "    # Return indices we haven't eliminated\n",
    "    return [n for n, prime in enumerate(candidates) if prime]\n",
    "\n",
    "\n",
    "# Testing\n",
    "assert primes_up_to4(10) == [2, 3, 5, 7]\n",
    "assert primes_up_to4(100)[-3:] == [83, 89, 97]\n",
    "\n",
    "# Timing\n",
    "prime_timings(primes_up_to4)"
   ]
  },
  {
   "cell_type": "markdown",
   "id": "2ca41604-6014-4fb1-b54e-0cb483190691",
   "metadata": {},
   "source": [
    "- This is *much* faster!"
   ]
  },
  {
   "cell_type": "markdown",
   "id": "1f63683b-4251-46af-be13-1bffcda27cc0",
   "metadata": {},
   "source": [
    "### Finding prime factors"
   ]
  },
  {
   "cell_type": "markdown",
   "id": "b21e3f1c-db30-4f02-8d8f-b50f6f54ab80",
   "metadata": {},
   "source": [
    "- Every number can be written uniquely as the product of prime numbers. This is called \"prime factorisation\".\n",
    "- Using the sieve, finding the prime factors is straightforward. The only thing to remember that each prime factor might divide the number more than once."
   ]
  },
  {
   "cell_type": "code",
   "execution_count": 11,
   "id": "276f9dc6-199e-4d6f-9975-4405b4a320c7",
   "metadata": {},
   "outputs": [],
   "source": [
    "def factorise(n: int) -> List[int]:\n",
    "    primes = primes_up_to4(n)\n",
    "    factors = []\n",
    "    for p in primes:      \n",
    "        # A prime might divide n more than once\n",
    "        while n % p == 0:\n",
    "            factors.append(p)\n",
    "            n /= p\n",
    "        # If we reach 1, there are no more prime factors.\n",
    "        if n == 1:\n",
    "            break\n",
    "        \n",
    "    return factors\n",
    "\n",
    "assert factorise(19) == [19]\n",
    "assert factorise(33) == [3, 11]\n",
    "assert factorise(150) == [2, 3, 5, 5]"
   ]
  },
  {
   "cell_type": "markdown",
   "id": "fcc1a56d-25f1-4a1f-9e40-8d52eac32e00",
   "metadata": {},
   "source": [
    "## GCD and LCM"
   ]
  },
  {
   "cell_type": "code",
   "execution_count": 12,
   "id": "4fd548a0-a1cb-4967-b542-b81436a530ba",
   "metadata": {},
   "outputs": [],
   "source": [
    "import functools\n",
    "import operator\n",
    "\n",
    "def gcd_factorise(n: int, m: int) -> int:\n",
    "    factors_n = factorise(n)\n",
    "    factors_m = factorise(m)\n",
    "    gcd = 1\n",
    "    \n",
    "    while factors_n and factors_m:\n",
    "        # Largest factors are equal, multiply gcd by that factor\n",
    "        if factors_n[-1] == factors_m[-1]:\n",
    "            gcd *= factors_n.pop()\n",
    "            factors_m.pop()\n",
    "        # Largest factor of n is not a factor of m\n",
    "        elif factors_n[-1] > factors_m[-1]:\n",
    "            factors_n.pop()\n",
    "        # Largest factor of m is not a factor of n\n",
    "        else:\n",
    "            factors_m.pop()\n",
    "    \n",
    "    return gcd\n",
    "        \n",
    "    \n",
    "\n",
    "assert gcd_factorise(3, 12) == 3\n",
    "assert gcd_factorise(11, 21) == 1\n",
    "assert gcd_factorise(555, 225) == 15\n"
   ]
  },
  {
   "cell_type": "code",
   "execution_count": 13,
   "id": "b43c3feb-46b0-486e-9da6-136095f3ce61",
   "metadata": {},
   "outputs": [],
   "source": [
    "def lcm_factorise(n: int, m: int) -> int:\n",
    "    factors_n = factorise(n)\n",
    "    factors_m = factorise(m)\n",
    "    lcm = 1\n",
    "    \n",
    "    while factors_n or factors_m:\n",
    "        if not factors_n:\n",
    "            lcm *= factors_m.pop()\n",
    "        elif not factors_m:\n",
    "            lcm *= factors_n.pop()\n",
    "        elif factors_n[-1] == factors_m[-1]:\n",
    "            lcm *= factors_n.pop()\n",
    "            factors_m.pop()\n",
    "        elif factors_n[-1] < factors_m[-1]:\n",
    "            lcm *= factors_m.pop()\n",
    "        else:\n",
    "            lcm *= factors_n.pop()\n",
    "    \n",
    "    return lcm\n",
    "\n",
    "\n",
    "assert lcm_factorise(1, 5) == 5\n",
    "assert lcm_factorise(2, 7) == 14\n",
    "assert lcm_factorise(7, 9) == 63"
   ]
  },
  {
   "cell_type": "markdown",
   "id": "b8c0ae51-9021-4d9c-be28-855af5e1aa4e",
   "metadata": {},
   "source": [
    "- The factors of 15 are [3, 5].\n",
    "- `gcd(n, m)` returns the product of the common factors of n and m.\n",
    "- Hence, `gcd(n, 15)` is 1 if neither 3 nor 15 are factors of n, 3 if 3 but not 5 is a factor of n, 5 if 5 but not 3 is a factor of n, and 15 if both are factors of n.\n",
    "- m is divisible by n iff n is a factor of m.\n",
    "- This leads to the solution below.\n"
   ]
  },
  {
   "cell_type": "code",
   "execution_count": 14,
   "id": "fc37e24a-2787-4743-89fd-8f1393836135",
   "metadata": {},
   "outputs": [],
   "source": [
    "def fizz_buzz(n):\n",
    "    choices = {1: str(n), 3: 'fizz', 5: 'buzz', 15: 'fizzbuzz'}\n",
    "    return choices[math.gcd(n, 15)]"
   ]
  },
  {
   "cell_type": "markdown",
   "id": "0853b3c0-4684-4daf-a8a8-3cd01155d62e",
   "metadata": {},
   "source": [
    "- What if we didn't have access to `math.gcd` and needed a fast way to calculate the gcd?\n",
    "- This is where Euclid comes in."
   ]
  },
  {
   "cell_type": "markdown",
   "id": "60392621-5aa9-4d3c-8174-97a29605a56c",
   "metadata": {},
   "source": [
    "## Euclids solution"
   ]
  },
  {
   "cell_type": "markdown",
   "id": "66aedc85-6685-4019-b78a-93329876b64b",
   "metadata": {},
   "source": [
    "Euclid's gcd algorithm is mighty clever. It relies on the following:\n",
    "\n",
    "- For n >= m, where n = cm + r, we have: gcd(n, m) = gcd(m, n%m). To convince yourself intuitively, think of n and m being composed of LEGO bricks, and notice that as we form the reminder, we take a number of complete bricks (cm) away from another number of complete bricks (n), so that what is left over is necessarily a full number of bricks (hence, the remainder shares that divisor of n and m). Notice also that we didn't specify anything about the \"width\" of the bricks, so that this is true for all possible brick. Mathematically, using n = cm + r, it can be shown that and number that divides n and m also divides r, and that any number that divides m and r also divides n, so that {divisors of n and m} = {divisors of m and r}, which implies that the largest element of the two sets, the gcd, is also equal.\n",
    "\n",
    "- The above statement is recursively true: gcd(n, m) = gcd(m, n%m) = gcd(n%m, m%(n%m)) = ...\n",
    "\n",
    "- In the above recursive applicatioin of the statement, n and m keep getting smaller, since, necessarily, n%m < m (if that weren't true, we can increase c).\n",
    "\n",
    "- The process comes to a stop once n%m = 0, in which case m divides n without a reminder, is -- of course -- the largest divisor of itself, and is thus the gcd.\n",
    "\n",
    "- The above happens either once m = 1 or earlier."
   ]
  },
  {
   "cell_type": "code",
   "execution_count": 17,
   "id": "1c9734ff-f914-449c-b9e5-0ee25fef47de",
   "metadata": {},
   "outputs": [],
   "source": [
    "def gcd(n: int, m: int) -> int:\n",
    "    \"\"\"Euclid's algorithm.\"\"\"\n",
    "    # Ensure that n >= m\n",
    "    n, m = max(n, m), min(n, m)\n",
    "    \n",
    "    # Recursively apply gcm(n, m) = gcm(m, n % m) until n % m == 0\n",
    "    while n % m > 0:\n",
    "        n, m = m, n % m\n",
    "        \n",
    "    # If n % m is 0, m is the gcd\n",
    "    return m\n",
    "\n",
    "\n",
    "assert gcd(4, 2) == 2\n",
    "assert gcd(25, 5) == 5\n",
    "assert gcd(75, 45) == 15"
   ]
  },
  {
   "cell_type": "markdown",
   "id": "5af6dd05-bf46-4d3d-b15f-a819824b8d3c",
   "metadata": {},
   "source": [
    "We can use that for our fizzbuzz solution above."
   ]
  },
  {
   "cell_type": "code",
   "execution_count": 18,
   "id": "7e685f28-9f99-4b82-8e1e-d4531446be18",
   "metadata": {},
   "outputs": [],
   "source": [
    "def fizz_buzz(n: int) -> str:\n",
    "    choices = {1: str(n), 3: 'fizz', 5: 'buzz', 15: 'fizzbuzz'}\n",
    "    return choices[gcd(n, 15)]\n",
    "\n",
    "\n",
    "# Tests\n",
    "checks.check_function(fizz_buzz)"
   ]
  }
 ],
 "metadata": {
  "kernelspec": {
   "display_name": "wow",
   "language": "python",
   "name": "wow"
  },
  "language_info": {
   "codemirror_mode": {
    "name": "ipython",
    "version": 3
   },
   "file_extension": ".py",
   "mimetype": "text/x-python",
   "name": "python",
   "nbconvert_exporter": "python",
   "pygments_lexer": "ipython3",
   "version": "3.10.4"
  }
 },
 "nbformat": 4,
 "nbformat_minor": 5
}
