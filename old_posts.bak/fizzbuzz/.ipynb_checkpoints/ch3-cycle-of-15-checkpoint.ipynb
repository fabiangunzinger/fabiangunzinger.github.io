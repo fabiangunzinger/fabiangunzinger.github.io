{
 "cells": [
  {
   "cell_type": "markdown",
   "id": "8f60e8a4-5fa4-4491-b372-aea0f0afe609",
   "metadata": {},
   "source": [
    "# Chapter 3 - The Cycle of 15"
   ]
  },
  {
   "cell_type": "markdown",
   "id": "6c75c158-fc35-4794-8f74-2f7dffb0f1d8",
   "metadata": {},
   "source": [
    "## Sentinel values and the sentinel object pattern\n",
    "\n",
    "- Mainly based on [The Sentinel Object Pattern](https://python-patterns.guide/python/sentinel-object/) by Brandon Rhodes.\n",
    "\n",
    "- A sentinel value is a placeholder that signifies the absence of data (e.g. object attribute, entire object, unsupplied argument in a function, etc.).\n",
    "\n",
    "- The challenge is how to choose that placeholder so that it is distinguishable from useful data.\n",
    "\n",
    "- The standard Python sentinel is the built-in `None` object."
   ]
  },
  {
   "cell_type": "markdown",
   "id": "e358a940-3c99-44b5-8e04-d0d958a38a97",
   "metadata": {},
   "source": [
    "- **Example**: `index(\"pattern\")` tries to return the first occurrence of \"pattern\" in string and returns a `ValueError` on failure. In contrast, `find()` tries to do the same but returns `-1` on failuere - `-1` is a sentinel value."
   ]
  },
  {
   "cell_type": "code",
   "execution_count": 2,
   "id": "b4cc42e0-f628-4f77-b274-bb774b1a3dd8",
   "metadata": {},
   "outputs": [],
   "source": [
    "import checks"
   ]
  },
  {
   "cell_type": "code",
   "execution_count": 3,
   "id": "a4d3575c-396b-4bcc-b2ec-c26926300f5d",
   "metadata": {},
   "outputs": [
    {
     "name": "stdout",
     "output_type": "stream",
     "text": [
      "substring not found\n"
     ]
    }
   ],
   "source": [
    "try:\n",
    "    'ab'.index('c')\n",
    "except ValueError as e:\n",
    "    print(e)"
   ]
  },
  {
   "cell_type": "code",
   "execution_count": 4,
   "id": "0cf95423-105a-4978-bd56-ab81365bfaca",
   "metadata": {},
   "outputs": [
    {
     "data": {
      "text/plain": [
       "-1"
      ]
     },
     "execution_count": 4,
     "metadata": {},
     "output_type": "execute_result"
    }
   ],
   "source": [
    "'ab'.find('c')"
   ]
  },
  {
   "cell_type": "markdown",
   "id": "3692917b-6d14-46db-b3c7-c1cdcb7919ce",
   "metadata": {},
   "source": [
    "- There are two cases where this is not possible, in which case we use the can sentinel object pattern, which involves creating a featureless [object](https://docs.python.org/3/library/functions.html#object) that is the dedicated sentinel value. "
   ]
  },
  {
   "cell_type": "markdown",
   "id": "3efea3e9-e873-4bcb-a367-782b092aca20",
   "metadata": {},
   "source": [
    "### `None` is useful data.\n",
    "\n",
    "- Example: The standard library's `functools.lru_cache` needs to distinguish between cases where a value was cached and was `None` and cases where no value has been cached yet. The below achieves this. (`cache_get` is an alias for `dict.get()`.)"
   ]
  },
  {
   "cell_type": "code",
   "execution_count": null,
   "id": "c5cd1cb0-2bfa-4087-a105-b8785a95c3db",
   "metadata": {},
   "outputs": [],
   "source": [
    "sentinel = object()\n",
    "result = cache_get(key, sentinel)\n",
    "if result is not sentinel:\n",
    "    ..."
   ]
  },
  {
   "cell_type": "markdown",
   "id": "2e303f45-dce4-4d4d-9858-9c961ce32930",
   "metadata": {},
   "source": [
    "### `None` is a function argument.\n",
    "\n",
    "\n",
    "- Sometimes, a function call needs to differentiate between no value supplied for given argument or `None` supplied for said argument.\n",
    "- Example: in below greeting function, we want to distinguish case were no titel is supplied and where caller passes in `None` for the title."
   ]
  },
  {
   "cell_type": "code",
   "execution_count": 6,
   "id": "1200b873-ab55-4736-866e-334ec6da75d2",
   "metadata": {},
   "outputs": [],
   "source": [
    "sentinel = object()\n",
    "\n",
    "def greet(name: str, title = sentinel) -> str:\n",
    "    if title is sentinel:\n",
    "        # No title supplied\n",
    "        return f\"Hello {name}\"\n",
    "    elif title is None:\n",
    "        # Caller explicitly provided None\n",
    "        return f\"Hello {name} with no title\"\n",
    "    else:\n",
    "        return f\"Hello {title} {name}\"\n",
    "\n",
    "\n",
    "assert greet('Joel') == \"Hello Joel\"\n",
    "assert greet(\"Joel\", None) == \"Hello Joel with no title\"\n",
    "assert greet(\"Joel\", \"Mr.\") == \"Hello Mr. Joel\""
   ]
  },
  {
   "cell_type": "markdown",
   "id": "09ab8445-0ada-49d1-aa2d-8e332545a934",
   "metadata": {},
   "source": [
    "## Printing result in groups of 15"
   ]
  },
  {
   "cell_type": "markdown",
   "id": "88550a3f-8bd8-4834-aa5a-bdec5e734b8e",
   "metadata": {},
   "source": [
    "Basic solution"
   ]
  },
  {
   "cell_type": "code",
   "execution_count": 16,
   "id": "639cab8d-a4f3-4852-9aa1-46f8c294b61e",
   "metadata": {},
   "outputs": [],
   "source": [
    "def fizzbuzz(n: int) -> str:\n",
    "    if n % 15 == 0:\n",
    "        return \"fizzbuzz\"\n",
    "    elif n % 5 == 0:\n",
    "        return \"buzz\"\n",
    "    elif n % 3 == 0:\n",
    "        return \"fizz\"\n",
    "    else:\n",
    "        return str(n)"
   ]
  },
  {
   "cell_type": "code",
   "execution_count": 17,
   "id": "c603c062-48ae-4e28-9e31-61d9965fdee5",
   "metadata": {},
   "outputs": [
    {
     "name": "stdout",
     "output_type": "stream",
     "text": [
      "- - f - b f - - f b - f - - fb\n",
      "- - f - b f - - f b - f - - fb\n",
      "- - f - b f - - f b - f - - fb\n",
      "- - f - b f - - f b - f - - fb\n",
      "- - f - b f - - f b - f - - fb\n",
      "- - f - b f - - f b - f - - fb\n",
      "- - f - b f - - f b\n"
     ]
    }
   ],
   "source": [
    "# Remap to shorter outputs\n",
    "remap = {'fizz': 'f', 'buzz': 'b', 'fizzbuzz': 'fb'}\n",
    "output = [remap.get(fizzbuzz(n), '-') for n in range(1, 101)]\n",
    "\n",
    "for start in range(0, 100, 15):\n",
    "    group = output[start:start+15]\n",
    "    print(' '.join(group))"
   ]
  },
  {
   "cell_type": "markdown",
   "id": "1810c890-170b-48f9-9dae-8d750386c293",
   "metadata": {},
   "source": [
    "## `dict.get()` solution"
   ]
  },
  {
   "cell_type": "code",
   "execution_count": 18,
   "id": "d018e27e-89c3-40f7-a52f-1052b790f8b6",
   "metadata": {},
   "outputs": [],
   "source": [
    "DICT_OF_15 = {\n",
    "    3: 'fizz', 6: 'fizz', 9: 'fizz', 12: 'fizz',\n",
    "    5: 'buzz', 10: 'buzz',\n",
    "    0: 'fizzbuzz',\n",
    "}\n",
    "\n",
    "def fizzbuzz_15(n: int) -> str:\n",
    "    return DICT_OF_15.get(n % 15, str(n))\n",
    "\n",
    "\n",
    "checks.check_function(fizzbuzz_15)"
   ]
  },
  {
   "cell_type": "markdown",
   "id": "c53955ce-213e-4fc2-80d5-43de27a927f4",
   "metadata": {},
   "source": [
    "## Truthiness and logic"
   ]
  },
  {
   "cell_type": "markdown",
   "id": "8725c889-d94b-4459-8324-76fc4ba708d9",
   "metadata": {},
   "source": [
    "**Falsy or Truthy**"
   ]
  },
  {
   "cell_type": "code",
   "execution_count": 9,
   "id": "7d7c9341-aa9a-40e5-96c0-bd3946acf72b",
   "metadata": {},
   "outputs": [
    {
     "data": {
      "text/plain": [
       "[1]"
      ]
     },
     "execution_count": 9,
     "metadata": {},
     "output_type": "execute_result"
    }
   ],
   "source": [
    "[] or [1]"
   ]
  },
  {
   "cell_type": "markdown",
   "id": "f2806b8d-c082-496e-ad67-1d786465d13d",
   "metadata": {},
   "source": [
    "**Falsy and Truthy**"
   ]
  },
  {
   "cell_type": "code",
   "execution_count": 10,
   "id": "e4ea0a74-89fd-4f38-a75b-0f59c75609e9",
   "metadata": {},
   "outputs": [
    {
     "data": {
      "text/plain": [
       "[]"
      ]
     },
     "execution_count": 10,
     "metadata": {},
     "output_type": "execute_result"
    }
   ],
   "source": [
    "[] and [1]"
   ]
  },
  {
   "cell_type": "markdown",
   "id": "3c2048d1-b2b3-4958-abc7-0930c73297c7",
   "metadata": {},
   "source": [
    "**Truthy or Falsy**"
   ]
  },
  {
   "cell_type": "code",
   "execution_count": 11,
   "id": "1dd92645-49bc-417d-8ee3-3367d174a12f",
   "metadata": {},
   "outputs": [
    {
     "data": {
      "text/plain": [
       "[1]"
      ]
     },
     "execution_count": 11,
     "metadata": {},
     "output_type": "execute_result"
    }
   ],
   "source": [
    "[1] or []"
   ]
  },
  {
   "cell_type": "markdown",
   "id": "d916bf81-a094-429c-92b2-30f4055ca1de",
   "metadata": {},
   "source": [
    "**Truthy and Falsy**"
   ]
  },
  {
   "cell_type": "code",
   "execution_count": 12,
   "id": "5c80fad0-01be-45c1-bb1c-bba4207efa70",
   "metadata": {},
   "outputs": [
    {
     "data": {
      "text/plain": [
       "[]"
      ]
     },
     "execution_count": 12,
     "metadata": {},
     "output_type": "execute_result"
    }
   ],
   "source": [
    "[1] and []"
   ]
  },
  {
   "cell_type": "markdown",
   "id": "10b4b723-a91a-46f6-87d3-d334680cc94f",
   "metadata": {},
   "source": [
    "**Truthy and Truthy**"
   ]
  },
  {
   "cell_type": "code",
   "execution_count": 13,
   "id": "2486fc15-0b4d-43a0-ad77-ac9f66155421",
   "metadata": {},
   "outputs": [
    {
     "data": {
      "text/plain": [
       "[2]"
      ]
     },
     "execution_count": 13,
     "metadata": {},
     "output_type": "execute_result"
    }
   ],
   "source": [
    "[1] and [2]"
   ]
  },
  {
   "cell_type": "markdown",
   "id": "3b457cea-cdd9-499e-99c7-5cfa87625559",
   "metadata": {},
   "source": [
    "**Truthy or Truthy**"
   ]
  },
  {
   "cell_type": "code",
   "execution_count": 14,
   "id": "6d57383e-e66c-408a-9b79-0b72667a8fba",
   "metadata": {},
   "outputs": [
    {
     "data": {
      "text/plain": [
       "[1]"
      ]
     },
     "execution_count": 14,
     "metadata": {},
     "output_type": "execute_result"
    }
   ],
   "source": [
    "[1] or [2]"
   ]
  },
  {
   "cell_type": "markdown",
   "id": "8bdbd05a-9767-48b4-8799-eca6fb571a1a",
   "metadata": {},
   "source": [
    "Way to remember the Truthy/Falsy or Falsy/Truthy above: if statement evaluates to what you'd expect."
   ]
  },
  {
   "cell_type": "code",
   "execution_count": 15,
   "id": "44788179-11b2-4f00-81f6-1cc49431c75b",
   "metadata": {},
   "outputs": [],
   "source": [
    "if [] and [1]:\n",
    "    print('Nevery printed')"
   ]
  }
 ],
 "metadata": {
  "kernelspec": {
   "display_name": "wow",
   "language": "python",
   "name": "wow"
  },
  "language_info": {
   "codemirror_mode": {
    "name": "ipython",
    "version": 3
   },
   "file_extension": ".py",
   "mimetype": "text/x-python",
   "name": "python",
   "nbconvert_exporter": "python",
   "pygments_lexer": "ipython3",
   "version": "3.10.4"
  }
 },
 "nbformat": 4,
 "nbformat_minor": 5
}
