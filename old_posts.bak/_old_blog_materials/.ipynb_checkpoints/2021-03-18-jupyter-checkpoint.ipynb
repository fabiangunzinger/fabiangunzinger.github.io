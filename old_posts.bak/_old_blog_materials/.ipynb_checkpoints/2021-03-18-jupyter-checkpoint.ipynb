{
 "cells": [
  {
   "cell_type": "markdown",
   "metadata": {},
   "source": [
    "# Jupyter\n",
    "\n",
    "- hide: false\n",
    "- toc: true\n",
    "- comments: true\n",
    "- categories: [python, jupyter, tools]"
   ]
  },
  {
   "cell_type": "markdown",
   "metadata": {},
   "source": [
    "https://www.youtube.com/watch?v=pJ05omgQCMw&list=PLewNEVDy7gq2g8vdvniTaFj0WsaN4QCk_&index=2&t=396s"
   ]
  },
  {
   "cell_type": "markdown",
   "metadata": {},
   "source": [
    "# Kernels"
   ]
  },
  {
   "cell_type": "code",
   "execution_count": 10,
   "metadata": {},
   "outputs": [
    {
     "name": "stdout",
     "output_type": "stream",
     "text": [
      "Available kernels:\n",
      "  basics       /Users/fgu/Library/Jupyter/kernels/basics\n",
      "  blog         /Users/fgu/Library/Jupyter/kernels/blog\n",
      "  foods        /Users/fgu/Library/Jupyter/kernels/foods\n",
      "  habits       /Users/fgu/Library/Jupyter/kernels/habits\n",
      "  limo         /Users/fgu/Library/Jupyter/kernels/limo\n",
      "  london       /Users/fgu/Library/Jupyter/kernels/london\n",
      "  myenv        /Users/fgu/Library/Jupyter/kernels/myenv\n",
      "  pottering    /Users/fgu/Library/Jupyter/kernels/pottering\n",
      "  python3.9    /Users/fgu/Library/Jupyter/kernels/python3.9\n",
      "  tracker      /Users/fgu/Library/Jupyter/kernels/tracker\n",
      "  python3      /Users/fgu/miniconda3/envs/blog/share/jupyter/kernels/python3\n"
     ]
    }
   ],
   "source": [
    "# List all available kernels\n",
    "\n",
    "!jupyter kernelspec list\n",
    "# !jupyter kernelspec list --json   # show additional details"
   ]
  },
  {
   "cell_type": "code",
   "execution_count": 12,
   "metadata": {},
   "outputs": [
    {
     "name": "stdout",
     "output_type": "stream",
     "text": [
      "/Users/fgu/miniconda3/envs/blog/bin/python\n"
     ]
    }
   ],
   "source": [
    "# show python that's being run by default?\n",
    "\n",
    "!which python"
   ]
  },
  {
   "cell_type": "code",
   "execution_count": 13,
   "metadata": {},
   "outputs": [
    {
     "name": "stdout",
     "output_type": "stream",
     "text": [
      "/Users/fgu/miniconda3/envs/blog/bin/python\n",
      "/usr/bin/python\n"
     ]
    }
   ],
   "source": [
    "# list all python installations\n",
    "\n",
    "!which -a python"
   ]
  },
  {
   "cell_type": "markdown",
   "metadata": {},
   "source": [
    "# Options\n",
    "\n",
    "Below a list of options I frequently use (and often forget)."
   ]
  },
  {
   "cell_type": "code",
   "execution_count": null,
   "metadata": {},
   "outputs": [],
   "source": [
    "# pandas settings\n",
    "pd.set_option('display.max_rows', 120)\n",
    "pd.set_option('display.max_columns', 120)\n",
    "pd.set_option('max_colwidth', None)\n",
    "pd.set_option('precision', 4)\n",
    "\n",
    "# seaborn settings\n",
    "sns.set_context(\"notebook\")\n",
    "sns.set(rc={'figure.figsize': (16, 9.)})\n",
    "sns.set_style(\"whitegrid\")\n",
    "\n",
    "# ipython magic\n",
    "%load_ext snakeviz\n",
    "%load_ext line_profiler\n",
    "%load_ext memory_profiler\n",
    "%config InlineBackend.figure_format = 'retina'\n",
    "%load_ext autoreload\n",
    "%autoreload 2"
   ]
  },
  {
   "cell_type": "markdown",
   "metadata": {},
   "source": [
    "## Emojis\n",
    "\n",
    "Copy from [here](https://getemoji.com) and paste into markdown cell."
   ]
  },
  {
   "cell_type": "markdown",
   "metadata": {},
   "source": [
    "## Sources\n",
    "\n",
    "- [Fluent Python](https://www.oreilly.com/library/view/fluent-python/9781491946237/)\n",
    "- [Python Cookbook](https://www.oreilly.com/library/view/python-cookbook-3rd/9781449357337/)\n",
    "- [Learning Python](https://www.oreilly.com/library/view/learning-python-5th/9781449355722/)\n",
    "- [The Hitchhiker's Guide to Python](https://docs.python-guide.org/writing/structure/)\n",
    "- [Effective Python](https://effectivepython.com)\n",
    "- [Python for Data Analysis](https://www.oreilly.com/library/view/python-for-data/9781491957653/)\n",
    "- [Python Data Science Handbook](https://www.oreilly.com/library/view/python-data-science/9781491912126/)\n",
    "- [Pandas cookbook](https://pandas.pydata.org/pandas-docs/stable/user_guide/cookbook.html)\n",
    "- [Numpy docs](https://numpy.org/doc/stable/)"
   ]
  },
  {
   "cell_type": "code",
   "execution_count": null,
   "metadata": {},
   "outputs": [],
   "source": []
  }
 ],
 "metadata": {
  "kernelspec": {
   "display_name": "habits",
   "language": "python",
   "name": "habits"
  },
  "language_info": {
   "codemirror_mode": {
    "name": "ipython",
    "version": 3
   },
   "file_extension": ".py",
   "mimetype": "text/x-python",
   "name": "python",
   "nbconvert_exporter": "python",
   "pygments_lexer": "ipython3",
   "version": "3.9.2"
  }
 },
 "nbformat": 4,
 "nbformat_minor": 4
}
