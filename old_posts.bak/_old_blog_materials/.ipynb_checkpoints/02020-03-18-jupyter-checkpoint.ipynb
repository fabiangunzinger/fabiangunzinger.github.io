{
 "cells": [
  {
   "cell_type": "markdown",
   "metadata": {},
   "source": [
    "# Jupyter\n",
    "\n",
    "- hide: true\n",
    "- toc: true\n",
    "- comments: true\n",
    "- categories: [tools]"
   ]
  },
  {
   "cell_type": "markdown",
   "metadata": {},
   "source": [
    "My Jupyter cheatsheet."
   ]
  },
  {
   "cell_type": "markdown",
   "metadata": {},
   "source": [
    "# Kernels"
   ]
  },
  {
   "cell_type": "code",
   "execution_count": 10,
   "metadata": {},
   "outputs": [
    {
     "name": "stdout",
     "output_type": "stream",
     "text": [
      "Available kernels:\n",
      "  basics       /Users/fgu/Library/Jupyter/kernels/basics\n",
      "  blog         /Users/fgu/Library/Jupyter/kernels/blog\n",
      "  foods        /Users/fgu/Library/Jupyter/kernels/foods\n",
      "  habits       /Users/fgu/Library/Jupyter/kernels/habits\n",
      "  limo         /Users/fgu/Library/Jupyter/kernels/limo\n",
      "  london       /Users/fgu/Library/Jupyter/kernels/london\n",
      "  myenv        /Users/fgu/Library/Jupyter/kernels/myenv\n",
      "  pottering    /Users/fgu/Library/Jupyter/kernels/pottering\n",
      "  python3.9    /Users/fgu/Library/Jupyter/kernels/python3.9\n",
      "  tracker      /Users/fgu/Library/Jupyter/kernels/tracker\n",
      "  python3      /Users/fgu/miniconda3/envs/blog/share/jupyter/kernels/python3\n"
     ]
    }
   ],
   "source": [
    "# List all available kernels\n",
    "\n",
    "!jupyter kernelspec list\n",
    "# !jupyter kernelspec list --json   # show additional details"
   ]
  },
  {
   "cell_type": "code",
   "execution_count": 12,
   "metadata": {},
   "outputs": [
    {
     "name": "stdout",
     "output_type": "stream",
     "text": [
      "/Users/fgu/miniconda3/envs/blog/bin/python\n"
     ]
    }
   ],
   "source": [
    "# show python that's being run by default?\n",
    "\n",
    "!which python"
   ]
  },
  {
   "cell_type": "code",
   "execution_count": 13,
   "metadata": {},
   "outputs": [
    {
     "name": "stdout",
     "output_type": "stream",
     "text": [
      "/Users/fgu/miniconda3/envs/blog/bin/python\n",
      "/usr/bin/python\n"
     ]
    }
   ],
   "source": [
    "# list all python installations\n",
    "\n",
    "!which -a python"
   ]
  },
  {
   "cell_type": "markdown",
   "metadata": {},
   "source": [
    "# Options\n",
    "\n",
    "Below a list of options I frequently use (and often forget)."
   ]
  },
  {
   "cell_type": "code",
   "execution_count": null,
   "metadata": {},
   "outputs": [],
   "source": [
    "# pandas settings\n",
    "pd.set_option(\"display.max_rows\", 120)\n",
    "pd.set_option(\"display.max_columns\", 120)\n",
    "pd.set_option(\"max_colwidth\", None)\n",
    "pd.set_option(\"precision\", 4)\n",
    "\n",
    "# seaborn settings\n",
    "sns.set_context(\"notebook\")\n",
    "sns.set(rc={\"figure.figsize\": (16, 9.0)})\n",
    "sns.set_style(\"whitegrid\")\n",
    "\n",
    "# ipython magic\n",
    "%load_ext snakeviz\n",
    "%load_ext line_profiler\n",
    "%load_ext memory_profiler\n",
    "%config InlineBackend.figure_format = 'retina'\n",
    "%load_ext autoreload\n",
    "%autoreload 2"
   ]
  },
  {
   "cell_type": "markdown",
   "metadata": {},
   "source": [
    "## Formatting"
   ]
  },
  {
   "cell_type": "markdown",
   "metadata": {},
   "source": [
    "To install black, just install the below and restart Jupyterlab.\n",
    "\n",
    "``\n",
    "conda install -c conda-forge jupyterlab_code_formatter black isort\n",
    "``"
   ]
  },
  {
   "cell_type": "markdown",
   "metadata": {},
   "source": [
    "## Emojis\n",
    "\n",
    "Copy from [here](https://getemoji.com) and paste into markdown cell."
   ]
  },
  {
   "cell_type": "markdown",
   "metadata": {},
   "source": [
    "## Sources\n",
    "\n",
    "- [Fluent Python](https://www.oreilly.com/library/view/fluent-python/9781491946237/)\n",
    "- [Python Cookbook](https://www.oreilly.com/library/view/python-cookbook-3rd/9781449357337/)\n",
    "- [Learning Python](https://www.oreilly.com/library/view/learning-python-5th/9781449355722/)\n",
    "- [The Hitchhiker's Guide to Python](https://docs.python-guide.org/writing/structure/)\n",
    "- [Effective Python](https://effectivepython.com)\n",
    "- [Python for Data Analysis](https://www.oreilly.com/library/view/python-for-data/9781491957653/)\n",
    "- [Python Data Science Handbook](https://www.oreilly.com/library/view/python-data-science/9781491912126/)\n",
    "- [Pandas cookbook](https://pandas.pydata.org/pandas-docs/stable/user_guide/cookbook.html)\n",
    "- [Numpy docs](https://numpy.org/doc/stable/)"
   ]
  },
  {
   "cell_type": "markdown",
   "metadata": {},
   "source": [
    "## === Older notes to integrate ==="
   ]
  },
  {
   "cell_type": "markdown",
   "metadata": {},
   "source": [
    "```\n",
    "\n",
    "###########################################################\n",
    "### Settings\n",
    "###########################################################\n",
    "\n",
    "# Print all statements rather than just the last one\n",
    "from IPython.core.interactiveshell import InteractiveShell\n",
    "InteractiveShell.ast_node_interactivity = \"all\"\n",
    "\n",
    "# High-resolution plot output for retina displays\n",
    "%config InlineBackend.figure_format ='retina'\n",
    "\n",
    "# Print entire table\n",
    "\n",
    "pd.set_option('display.max_columns', None)\n",
    "pd.reset_option(“max_columns”)\n",
    "\n",
    "pd.set_option(“max_colwidth”, None)\n",
    "\n",
    "pd.set_option(\"max_rows\", None)\n",
    "\n",
    "pd.set_option(‘precision’, 2)\n",
    "\n",
    "\n",
    "# Black auto formatting\n",
    "%load_ext lab_blacker\n",
    "\n",
    "# Figure settings\n",
    "sns.set_style('darkgrid')\n",
    "sns.mpl.rcParams['figure.figsize'] = (10.0, 6.0)\n",
    "\n",
    "\n",
    "###########################################################\n",
    "### Cool stuff\n",
    "###########################################################\n",
    "\n",
    "# Execute shell commands\n",
    "!conda list | grep pandas\n",
    "\n",
    "# Use wildcards to find objects in namespace\n",
    "*df*?\n",
    "\n",
    "# Use cached input and output values\n",
    "In[101], Out[101]\n",
    "\n",
    "# Syntactic sugar for glob\n",
    "notebooks = !ls * fgu*\n",
    "notebooks\n",
    "\n",
    "# (Then) shell out to subcommand (e.g. execute file from inside notebook)\n",
    "!echo {notebooks[1]}\n",
    "\n",
    "# Time function calls as they happen with tqdm\n",
    "#Replace .map() by .progress_map(), same for .apply() and .applymap()\n",
    "\n",
    "from tqdm import tqdm_notebook\n",
    "tqdm_notebook().pandas()\n",
    "\n",
    "data['column_1'].progress_map(lambda x: x.count('e'))\n",
    "\n",
    "\n",
    "###########################################################\n",
    "### Magic functions\n",
    "###########################################################\n",
    "\n",
    "# Info and brief info about magic function\n",
    "%magic\n",
    "%magic - brief\n",
    "\n",
    "# Debugging (instead of putting print statement throughout code)\n",
    "%debug\n",
    "%pdb\n",
    "\n",
    "# Install package using conda from current kernel\n",
    "%conda install < packagename >\n",
    "\n",
    "# Run different notebook from within notebook\n",
    "%run <path_to_notebook/name_of_notebook>\n",
    "\n",
    "# Write code to python file / read code from python file\n",
    "%%writefile pythoncode.py\n",
    "%pycat pythoncode.py\n",
    "\n",
    "# All objects in namespace displayed and as a list\n",
    "%who\n",
    "%who_ls\n",
    "\n",
    "# Run c or something else inside notebook\n",
    "%% cc\n",
    "\n",
    "\n",
    "\n",
    "# Time cell\n",
    "%% timeit   # Average of 100,000 runs\n",
    "%% time     # Time of single run\n",
    "```"
   ]
  },
  {
   "cell_type": "code",
   "execution_count": null,
   "metadata": {},
   "outputs": [],
   "source": []
  }
 ],
 "metadata": {
  "kernelspec": {
   "display_name": "blog",
   "language": "python",
   "name": "blog"
  },
  "language_info": {
   "codemirror_mode": {
    "name": "ipython",
    "version": 3
   },
   "file_extension": ".py",
   "mimetype": "text/x-python",
   "name": "python",
   "nbconvert_exporter": "python",
   "pygments_lexer": "ipython3",
   "version": "3.9.9"
  }
 },
 "nbformat": 4,
 "nbformat_minor": 4
}
