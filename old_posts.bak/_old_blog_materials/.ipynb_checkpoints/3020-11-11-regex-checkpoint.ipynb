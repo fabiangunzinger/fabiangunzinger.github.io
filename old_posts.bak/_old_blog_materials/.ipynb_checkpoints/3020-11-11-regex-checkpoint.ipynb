{
 "cells": [
  {
   "cell_type": "markdown",
   "metadata": {},
   "source": [
    "# Regular expressions in Python\n",
    "\n",
    "- hide: true\n",
    "- toc: true\n",
    "- badges: true\n",
    "- comments: true\n",
    "- categories: [python]"
   ]
  },
  {
   "cell_type": "markdown",
   "metadata": {},
   "source": [
    "## Preliminaries"
   ]
  },
  {
   "cell_type": "markdown",
   "metadata": {},
   "source": [
    "### Raw strings\n",
    "\n",
    "> Raw string notation keeps regular expressions sane. [`re` tutorial](https://docs.python.org/3/library/re.html#raw-string-notation)"
   ]
  },
  {
   "cell_type": "markdown",
   "metadata": {},
   "source": [
    "Just like the regex engine, Python uses `\\` to [escape](https://docs.python.org/3/reference/lexical_analysis.html#string-and-bytes-literals) characters in strings that otherwise have special meaning (e.g. `'` and `\\`) and to create tokens with special meaning (e.g. `\\n`)."
   ]
  },
  {
   "cell_type": "code",
   "execution_count": 26,
   "metadata": {},
   "outputs": [
    {
     "ename": "SyntaxError",
     "evalue": "invalid syntax (3769801028.py, line 1)",
     "output_type": "error",
     "traceback": [
      "\u001b[0;36m  File \u001b[0;32m\"/var/folders/xg/n9p73cf50s52twlnz7z778vr0000gn/T/ipykernel_1133/3769801028.py\"\u001b[0;36m, line \u001b[0;32m1\u001b[0m\n\u001b[0;31m    'It's raining'\u001b[0m\n\u001b[0m        ^\u001b[0m\n\u001b[0;31mSyntaxError\u001b[0m\u001b[0;31m:\u001b[0m invalid syntax\n"
     ]
    }
   ],
   "source": [
    "'It's raining'"
   ]
  },
  {
   "cell_type": "code",
   "execution_count": 27,
   "metadata": {},
   "outputs": [
    {
     "data": {
      "text/plain": [
       "\"It's raining\""
      ]
     },
     "execution_count": 27,
     "metadata": {},
     "output_type": "execute_result"
    }
   ],
   "source": [
    "'It\\'s raining'"
   ]
  },
  {
   "cell_type": "code",
   "execution_count": 21,
   "metadata": {},
   "outputs": [
    {
     "name": "stdout",
     "output_type": "stream",
     "text": [
      "Hello\n",
      "World\n"
     ]
    }
   ],
   "source": [
    "print('Hello\\nWorld')"
   ]
  },
  {
   "cell_type": "markdown",
   "metadata": {},
   "source": [
    "A string is processed by the interpreter before being passed on to the regex engine. This means that to search for a single literal backslash, `\\`, we need to escape twice and search for the regex `\\\\\\\\`. The interpreter reads this as `\\\\` and passes it to the regex engine, which then reads it as `\\` as desired."
   ]
  },
  {
   "cell_type": "code",
   "execution_count": 34,
   "metadata": {},
   "outputs": [
    {
     "name": "stdout",
     "output_type": "stream",
     "text": [
      "\\\n"
     ]
    }
   ],
   "source": [
    "s = 'a \\ b'\n",
    "m = re.search('\\\\\\\\', s)\n",
    "print(m.group())"
   ]
  },
  {
   "cell_type": "markdown",
   "metadata": {},
   "source": [
    "A useful alternative is to use raw strings `r''`, which make the interpreter read special characters as literals, obviating the first set of escapes. Hence, it's a good idea to use raw strings in Python regex expressions."
   ]
  },
  {
   "cell_type": "code",
   "execution_count": 26,
   "metadata": {},
   "outputs": [
    {
     "name": "stdout",
     "output_type": "stream",
     "text": [
      "\\\n"
     ]
    }
   ],
   "source": [
    "m = re.search(r'\\\\', s)\n",
    "print(m.group())"
   ]
  },
  {
   "cell_type": "markdown",
   "metadata": {},
   "source": [
    "## `re` module"
   ]
  },
  {
   "cell_type": "code",
   "execution_count": 3,
   "metadata": {},
   "outputs": [],
   "source": [
    "import re"
   ]
  },
  {
   "cell_type": "markdown",
   "metadata": {},
   "source": [
    "Overview of search methods"
   ]
  },
  {
   "cell_type": "code",
   "execution_count": 3,
   "metadata": {},
   "outputs": [
    {
     "name": "stdout",
     "output_type": "stream",
     "text": [
      "re.match (start of string)               -> None\n",
      "re.search (anywhere in string)           -> <re.Match object; span=(1, 2), match='a'>\n",
      "re.findall (all matches)                 -> ['a', 'a']\n",
      "re.finditer (all matches as iterator)    -> <callable_iterator object at 0x11236d2e0>\n"
     ]
    }
   ],
   "source": [
    "pattern = 'a'\n",
    "string = 'Jack is a boy'\n",
    "\n",
    "methods = [\n",
    "    ('re.match (start of string)', re.match(pattern, string)),\n",
    "    ('re.search (anywhere in string)', re.search(pattern, string)),\n",
    "    ('re.findall (all matches)', re.findall(pattern, string)),\n",
    "    ('re.finditer (all matches as iterator)', re.finditer(pattern, string))\n",
    "]\n",
    "\n",
    "for desc, result in methods:\n",
    "    print('{:40} -> {}'.format(desc, result))"
   ]
  },
  {
   "cell_type": "markdown",
   "metadata": {},
   "source": [
    "### `re.findall()`\n",
    "\n",
    "Returns list of all matches if no capturing groups specified, and a list of capturing groups otherwise."
   ]
  },
  {
   "cell_type": "code",
   "execution_count": 4,
   "metadata": {},
   "outputs": [
    {
     "data": {
      "text/plain": [
       "'\\n 012\\nfoo34 \\n     56\\n78bar\\n9\\n a10b\\n'"
      ]
     },
     "execution_count": 4,
     "metadata": {},
     "output_type": "execute_result"
    }
   ],
   "source": [
    "data = \"\"\"\n",
    " 012\n",
    "foo34 \n",
    "     56\n",
    "78bar\n",
    "9\n",
    " a10b\n",
    "\"\"\"\n",
    "\n",
    "data"
   ]
  },
  {
   "cell_type": "code",
   "execution_count": 5,
   "metadata": {},
   "outputs": [
    {
     "data": {
      "text/plain": [
       "['\\n 012\\n', ' \\n     56\\n', '\\n9\\n ']"
      ]
     },
     "execution_count": 5,
     "metadata": {},
     "output_type": "execute_result"
    }
   ],
   "source": [
    "# no capturing groups\n",
    "proper_digits = '\\s+\\d+\\s+'\n",
    "re.findall(proper_digits, data, flags=re.MULTILINE)"
   ]
  },
  {
   "cell_type": "code",
   "execution_count": 6,
   "metadata": {},
   "outputs": [
    {
     "data": {
      "text/plain": [
       "['012', '56', '9']"
      ]
     },
     "execution_count": 6,
     "metadata": {},
     "output_type": "execute_result"
    }
   ],
   "source": [
    "# single capturing group\n",
    "proper_digits = '(?m)\\s+(\\d+)\\s+'\n",
    "re.findall(proper_digits, data, flags=re.MULTILINE)"
   ]
  },
  {
   "cell_type": "code",
   "execution_count": 7,
   "metadata": {},
   "outputs": [
    {
     "data": {
      "text/plain": [
       "[('0', '12'), ('5', '6'), ('9', '')]"
      ]
     },
     "execution_count": 7,
     "metadata": {},
     "output_type": "execute_result"
    }
   ],
   "source": [
    "# mutiple capturing group\n",
    "proper_digits = '\\s+(\\d)(\\d+)?\\s+'\n",
    "re.findall(proper_digits, data, flags=re.MULTILINE)"
   ]
  },
  {
   "cell_type": "markdown",
   "metadata": {
    "tags": []
   },
   "source": [
    "### `re.match()`\n",
    "\n",
    "Find pattern at the beginning of a string"
   ]
  },
  {
   "cell_type": "code",
   "execution_count": 15,
   "metadata": {},
   "outputs": [
    {
     "name": "stdout",
     "output_type": "stream",
     "text": [
      "\"688293\"|\"777\"|\"2011-07-20\"|\"1969\"|\"20K to 30K\"|\"WA1 4\"|\"E01012553\"|\"E02002603\"|\"M\"|\"2012-01-25\"|\"262916\"|\"NatWest Bank\"|\"Current\"|\"364.22\"|\"9572 24jan12 , tcs bowdon , bowdon gb - pos\"|\"Debit\"|\"25.03\"|\"No Tag\"|\"No Tag\"|\"No Tag\"|\"No Merchant\"|\"Unknown Merchant\"|\"2011-07-20\"|\"2020-07-21 20:32:00\"|\"2014-07-18\"|\"2017-10-24\"|\"U\"\n",
      "\n",
      "<re.Match object; span=(0, 14), match='\"688293\"|\"777\"'>\n",
      "777\n"
     ]
    }
   ],
   "source": [
    "line = '\"688293\"|\"777\"|\"2011-07-20\"|\"1969\"|\"20K to 30K\"|\"WA1 4\"|\"E01012553\"|\"E02002603\"|\"M\"|\"2012-01-25\"|\"262916\"|\"NatWest Bank\"|\"Current\"|\"364.22\"|\"9572 24jan12 , tcs bowdon , bowdon gb - pos\"|\"Debit\"|\"25.03\"|\"No Tag\"|\"No Tag\"|\"No Tag\"|\"No Merchant\"|\"Unknown Merchant\"|\"2011-07-20\"|\"2020-07-21 20:32:00\"|\"2014-07-18\"|\"2017-10-24\"|\"U\"'\n",
    "\n",
    "pattern = '\"\\d+\"\\|\"(?P<user_id>\\d+)\"'\n",
    "match = re.match(pattern, line)\n",
    "print(line, end='\\n\\n')\n",
    "print(match)\n",
    "print(match.group('user_id'))"
   ]
  },
  {
   "cell_type": "code",
   "execution_count": null,
   "metadata": {},
   "outputs": [],
   "source": [
    "match."
   ]
  },
  {
   "cell_type": "code",
   "execution_count": 11,
   "metadata": {},
   "outputs": [
    {
     "data": {
      "text/plain": [
       "['5412 N CLARK',\n",
       " '5148 N CLARK',\n",
       " '5800 E 58TH',\n",
       " '2122 N CLARK5645 N RAVENSWOOD',\n",
       " '4801 N BROADWAY']"
      ]
     },
     "execution_count": 11,
     "metadata": {},
     "output_type": "execute_result"
    }
   ],
   "source": [
    "from itertools import compress\n",
    "\n",
    "addresses = [\n",
    "    '5412 N CLARK',\n",
    "    '5148 N CLARK',\n",
    "    '5800 E 58TH',\n",
    "    '2122 N CLARK'\n",
    "    '5645 N RAVENSWOOD',\n",
    "    '1060 W ADDISON',\n",
    "    '4801 N BROADWAY',\n",
    "    '1039 W GRANVILLE',\n",
    "]\n",
    "\n",
    "def large_house_number(address, threshold=2000):\n",
    "    house_number = int(re.search('\\d+', address)[0])\n",
    "    return house_number > threshold\n",
    "\n",
    "large_number = [large_house_number(x) for x in addresses]\n",
    "list(compress(addresses, large_number))"
   ]
  },
  {
   "cell_type": "code",
   "execution_count": 13,
   "metadata": {},
   "outputs": [
    {
     "data": {
      "text/plain": [
       "'\"688293\"|\"777\"'"
      ]
     },
     "execution_count": 13,
     "metadata": {},
     "output_type": "execute_result"
    }
   ],
   "source": [
    "match.group()"
   ]
  },
  {
   "cell_type": "markdown",
   "metadata": {},
   "source": [
    "### `re.sub()`"
   ]
  },
  {
   "cell_type": "code",
   "execution_count": 12,
   "metadata": {},
   "outputs": [],
   "source": [
    "import string"
   ]
  },
  {
   "cell_type": "markdown",
   "metadata": {},
   "source": [
    "Stip a string of whitespace and punctuation."
   ]
  },
  {
   "cell_type": "code",
   "execution_count": 15,
   "metadata": {},
   "outputs": [
    {
     "data": {
      "text/plain": [
       "'StringWithPunctutionandwhitespace'"
      ]
     },
     "execution_count": 15,
     "metadata": {},
     "output_type": "execute_result"
    }
   ],
   "source": [
    "s = 'String. With! Punctu@tion# and _whitespace'\n",
    "re.sub(r'[\\W_]', '', s)"
   ]
  },
  {
   "cell_type": "markdown",
   "metadata": {},
   "source": [
    "### `re.escape()`"
   ]
  },
  {
   "cell_type": "markdown",
   "metadata": {},
   "source": [
    "I want to match \"(other)\". To match the parentheses literally, I'd have to escape them. If I don't, the regex engine interpres them as a capturing group."
   ]
  },
  {
   "cell_type": "code",
   "execution_count": 19,
   "metadata": {},
   "outputs": [
    {
     "name": "stdout",
     "output_type": "stream",
     "text": [
      "<re.Match object; span=(6, 11), match='other'>\n"
     ]
    },
    {
     "data": {
      "text/plain": [
       "'other'"
      ]
     },
     "execution_count": 19,
     "metadata": {},
     "output_type": "execute_result"
    }
   ],
   "source": [
    "m = re.search('(other)', 'some (other) word')\n",
    "print(m)\n",
    "m.group()"
   ]
  },
  {
   "cell_type": "markdown",
   "metadata": {},
   "source": [
    "I can escape manually."
   ]
  },
  {
   "cell_type": "code",
   "execution_count": 20,
   "metadata": {},
   "outputs": [
    {
     "data": {
      "text/plain": [
       "<re.Match object; span=(5, 12), match='(other)'>"
      ]
     },
     "execution_count": 20,
     "metadata": {},
     "output_type": "execute_result"
    }
   ],
   "source": [
    "re.search('\\(other\\)', 'some (other) word')"
   ]
  },
  {
   "cell_type": "markdown",
   "metadata": {},
   "source": [
    "But if I have many fields with metacharacters (e.g. variable values that contain parentheses) this is a massive pain. The solution is to just use `re.escape()`, which does all the work for me."
   ]
  },
  {
   "cell_type": "code",
   "execution_count": 10,
   "metadata": {},
   "outputs": [
    {
     "data": {
      "text/plain": [
       "<re.Match object; span=(5, 12), match='(other)'>"
      ]
     },
     "execution_count": 10,
     "metadata": {},
     "output_type": "execute_result"
    }
   ],
   "source": [
    "re.search(re.escape('(other)'), 'some (other) word')"
   ]
  },
  {
   "cell_type": "markdown",
   "metadata": {},
   "source": [
    "## `regex` module\n",
    "\n",
    "Awesome [comparison](https://github.com/rexdwyer/Splitsville/blob/master/Splitsville.ipynb) between `re` and `regex`."
   ]
  },
  {
   "cell_type": "code",
   "execution_count": 8,
   "metadata": {},
   "outputs": [],
   "source": [
    "import regex as re"
   ]
  },
  {
   "cell_type": "code",
   "execution_count": 11,
   "metadata": {},
   "outputs": [
    {
     "data": {
      "text/plain": [
       "<regex.Match object; span=(11, 12), match='e'>"
      ]
     },
     "execution_count": 11,
     "metadata": {},
     "output_type": "execute_result"
    }
   ],
   "source": [
    "pattern = 'e\\Z'\n",
    "subject = 'apple\\norange'\n",
    "re.search(pattern, subject)"
   ]
  },
  {
   "cell_type": "markdown",
   "metadata": {},
   "source": [
    "## Pandas"
   ]
  },
  {
   "cell_type": "code",
   "execution_count": null,
   "metadata": {},
   "outputs": [],
   "source": [
    "re.Match.group"
   ]
  },
  {
   "cell_type": "code",
   "execution_count": 40,
   "metadata": {},
   "outputs": [
    {
     "data": {
      "text/html": [
       "<div>\n",
       "<style scoped>\n",
       "    .dataframe tbody tr th:only-of-type {\n",
       "        vertical-align: middle;\n",
       "    }\n",
       "\n",
       "    .dataframe tbody tr th {\n",
       "        vertical-align: top;\n",
       "    }\n",
       "\n",
       "    .dataframe thead th {\n",
       "        text-align: right;\n",
       "    }\n",
       "</style>\n",
       "<table border=\"1\" class=\"dataframe\">\n",
       "  <thead>\n",
       "    <tr style=\"text-align: right;\">\n",
       "      <th></th>\n",
       "      <th>title</th>\n",
       "      <th>us gross</th>\n",
       "      <th>worldwide gross</th>\n",
       "      <th>us dvd sales</th>\n",
       "      <th>production budget</th>\n",
       "      <th>release date</th>\n",
       "      <th>mpaa rating</th>\n",
       "      <th>running time min</th>\n",
       "      <th>distributor</th>\n",
       "      <th>source</th>\n",
       "      <th>major genre</th>\n",
       "      <th>creative type</th>\n",
       "      <th>director</th>\n",
       "      <th>rotten tomatoes rating</th>\n",
       "      <th>imdb rating</th>\n",
       "      <th>imdb votes</th>\n",
       "    </tr>\n",
       "  </thead>\n",
       "  <tbody>\n",
       "    <tr>\n",
       "      <th>0</th>\n",
       "      <td>the land girls</td>\n",
       "      <td>146083.0</td>\n",
       "      <td>146083.0</td>\n",
       "      <td>NaN</td>\n",
       "      <td>8000000.0</td>\n",
       "      <td>jun 12 1998</td>\n",
       "      <td>r</td>\n",
       "      <td>NaN</td>\n",
       "      <td>gramercy</td>\n",
       "      <td>None</td>\n",
       "      <td>None</td>\n",
       "      <td>None</td>\n",
       "      <td>None</td>\n",
       "      <td>NaN</td>\n",
       "      <td>6.1</td>\n",
       "      <td>1071.0</td>\n",
       "    </tr>\n",
       "    <tr>\n",
       "      <th>1</th>\n",
       "      <td>first love, last rites</td>\n",
       "      <td>10876.0</td>\n",
       "      <td>10876.0</td>\n",
       "      <td>NaN</td>\n",
       "      <td>300000.0</td>\n",
       "      <td>aug 07 1998</td>\n",
       "      <td>r</td>\n",
       "      <td>NaN</td>\n",
       "      <td>strand</td>\n",
       "      <td>None</td>\n",
       "      <td>drama</td>\n",
       "      <td>None</td>\n",
       "      <td>None</td>\n",
       "      <td>NaN</td>\n",
       "      <td>6.9</td>\n",
       "      <td>207.0</td>\n",
       "    </tr>\n",
       "  </tbody>\n",
       "</table>\n",
       "</div>"
      ],
      "text/plain": [
       "                    title  us gross  worldwide gross  us dvd sales  \\\n",
       "0          the land girls  146083.0         146083.0           NaN   \n",
       "1  first love, last rites   10876.0          10876.0           NaN   \n",
       "\n",
       "   production budget release date mpaa rating  running time min distributor  \\\n",
       "0          8000000.0  jun 12 1998           r               NaN    gramercy   \n",
       "1           300000.0  aug 07 1998           r               NaN      strand   \n",
       "\n",
       "  source major genre creative type director  rotten tomatoes rating  \\\n",
       "0   None        None          None     None                     NaN   \n",
       "1   None       drama          None     None                     NaN   \n",
       "\n",
       "   imdb rating  imdb votes  \n",
       "0          6.1      1071.0  \n",
       "1          6.9       207.0  "
      ]
     },
     "execution_count": 40,
     "metadata": {},
     "output_type": "execute_result"
    }
   ],
   "source": [
    "def colname_cleaner(df):\n",
    "    \"\"\"Convert column names to stripped lowercase with underscores.\"\"\"\n",
    "    df.columns = df.columns.str.lower().str.strip()\n",
    "    return df\n",
    "\n",
    "def str_cleaner(df):\n",
    "    \"\"\"Convert string values to stripped lowercase.\"\"\"\n",
    "    str_cols = df.select_dtypes('object')\n",
    "    for col in str_cols:\n",
    "        df[col] = df[col].str.lower().str.strip()\n",
    "    return df\n",
    "    \n",
    "movies = (data.movies()\n",
    "          .pipe(colname_cleaner)\n",
    "          .pipe(str_cleaner))\n",
    "movies.head(2)"
   ]
  },
  {
   "cell_type": "code",
   "execution_count": 48,
   "metadata": {},
   "outputs": [],
   "source": [
    "import re"
   ]
  },
  {
   "cell_type": "markdown",
   "metadata": {},
   "source": [
    "### Finding a single pattern in text"
   ]
  },
  {
   "cell_type": "code",
   "execution_count": 63,
   "metadata": {},
   "outputs": [
    {
     "data": {
      "text/plain": [
       "(0, 5, 'hello')"
      ]
     },
     "execution_count": 63,
     "metadata": {},
     "output_type": "execute_result"
    }
   ],
   "source": [
    "pattern = 'hello'\n",
    "text = 'hello world it is a beautiful day.'\n",
    "\n",
    "match = re.search(pattern, text)\n",
    "match.start(), match.end(), match.group()"
   ]
  },
  {
   "cell_type": "markdown",
   "metadata": {},
   "source": [
    "In Pandas"
   ]
  },
  {
   "cell_type": "code",
   "execution_count": 67,
   "metadata": {},
   "outputs": [
    {
     "data": {
      "text/html": [
       "<div>\n",
       "<style scoped>\n",
       "    .dataframe tbody tr th:only-of-type {\n",
       "        vertical-align: middle;\n",
       "    }\n",
       "\n",
       "    .dataframe tbody tr th {\n",
       "        vertical-align: top;\n",
       "    }\n",
       "\n",
       "    .dataframe thead th {\n",
       "        text-align: right;\n",
       "    }\n",
       "</style>\n",
       "<table border=\"1\" class=\"dataframe\">\n",
       "  <thead>\n",
       "    <tr style=\"text-align: right;\">\n",
       "      <th></th>\n",
       "      <th>0</th>\n",
       "    </tr>\n",
       "  </thead>\n",
       "  <tbody>\n",
       "    <tr>\n",
       "      <th>0</th>\n",
       "      <td>NaN</td>\n",
       "    </tr>\n",
       "    <tr>\n",
       "      <th>1</th>\n",
       "      <td>love</td>\n",
       "    </tr>\n",
       "    <tr>\n",
       "      <th>2</th>\n",
       "      <td>NaN</td>\n",
       "    </tr>\n",
       "    <tr>\n",
       "      <th>3</th>\n",
       "      <td>NaN</td>\n",
       "    </tr>\n",
       "    <tr>\n",
       "      <th>4</th>\n",
       "      <td>NaN</td>\n",
       "    </tr>\n",
       "    <tr>\n",
       "      <th>...</th>\n",
       "      <td>...</td>\n",
       "    </tr>\n",
       "    <tr>\n",
       "      <th>3196</th>\n",
       "      <td>NaN</td>\n",
       "    </tr>\n",
       "    <tr>\n",
       "      <th>3197</th>\n",
       "      <td>NaN</td>\n",
       "    </tr>\n",
       "    <tr>\n",
       "      <th>3198</th>\n",
       "      <td>NaN</td>\n",
       "    </tr>\n",
       "    <tr>\n",
       "      <th>3199</th>\n",
       "      <td>NaN</td>\n",
       "    </tr>\n",
       "    <tr>\n",
       "      <th>3200</th>\n",
       "      <td>NaN</td>\n",
       "    </tr>\n",
       "  </tbody>\n",
       "</table>\n",
       "<p>3201 rows × 1 columns</p>\n",
       "</div>"
      ],
      "text/plain": [
       "         0\n",
       "0      NaN\n",
       "1     love\n",
       "2      NaN\n",
       "3      NaN\n",
       "4      NaN\n",
       "...    ...\n",
       "3196   NaN\n",
       "3197   NaN\n",
       "3198   NaN\n",
       "3199   NaN\n",
       "3200   NaN\n",
       "\n",
       "[3201 rows x 1 columns]"
      ]
     },
     "execution_count": 67,
     "metadata": {},
     "output_type": "execute_result"
    }
   ],
   "source": [
    "movies.title.str.extract('(love)')"
   ]
  },
  {
   "cell_type": "markdown",
   "metadata": {},
   "source": [
    "- `contains()`: Test if pattern or regex is contained within a string of a Series or Index.\n",
    "- `match()`: Determine if each string starts with a match of a regular expression.\n",
    "- `fullmatch()`: \n",
    "- `extract()`: Extract capture groups in the regex pat as columns in a DataFrame.\n",
    "- `extractall()`: Returns all matches (not just the first match).\n",
    "- `find()`: \n",
    "- `findall()`:\n",
    "- `replace()`:"
   ]
  },
  {
   "cell_type": "code",
   "execution_count": 47,
   "metadata": {},
   "outputs": [
    {
     "data": {
      "text/plain": [
       "0                   the land girls\n",
       "1           first love, last rites\n",
       "2       i married a strange person\n",
       "3             let's talk about sex\n",
       "4                             slam\n",
       "                   ...            \n",
       "3196    zack and miri make a porno\n",
       "3197                        zodiac\n",
       "3198                          zoom\n",
       "3199           the legend of zorro\n",
       "3200             the mask of zorro\n",
       "Name: title, Length: 3201, dtype: object"
      ]
     },
     "execution_count": 47,
     "metadata": {},
     "output_type": "execute_result"
    }
   ],
   "source": [
    "movies.title.replace('girls', 'hello')"
   ]
  },
  {
   "cell_type": "code",
   "execution_count": null,
   "metadata": {},
   "outputs": [],
   "source": []
  },
  {
   "cell_type": "markdown",
   "metadata": {},
   "source": [
    "Let's drop all movies by distributors with \"Pictures\" and \"Universal\" in their title."
   ]
  },
  {
   "cell_type": "code",
   "execution_count": 108,
   "metadata": {},
   "outputs": [
    {
     "data": {
      "text/html": [
       "<div>\n",
       "<style scoped>\n",
       "    .dataframe tbody tr th:only-of-type {\n",
       "        vertical-align: middle;\n",
       "    }\n",
       "\n",
       "    .dataframe tbody tr th {\n",
       "        vertical-align: top;\n",
       "    }\n",
       "\n",
       "    .dataframe thead th {\n",
       "        text-align: right;\n",
       "    }\n",
       "</style>\n",
       "<table border=\"1\" class=\"dataframe\">\n",
       "  <thead>\n",
       "    <tr style=\"text-align: right;\">\n",
       "      <th></th>\n",
       "      <th>title</th>\n",
       "      <th>us_gross</th>\n",
       "      <th>worldwide_gross</th>\n",
       "      <th>us_dvd_sales</th>\n",
       "      <th>production_budget</th>\n",
       "      <th>release_date</th>\n",
       "      <th>mpaa_rating</th>\n",
       "      <th>running_time_min</th>\n",
       "      <th>distributor</th>\n",
       "      <th>source</th>\n",
       "      <th>major_genre</th>\n",
       "      <th>creative_type</th>\n",
       "      <th>director</th>\n",
       "      <th>rotten_tomatoes_rating</th>\n",
       "      <th>imdb_rating</th>\n",
       "      <th>imdb_votes</th>\n",
       "    </tr>\n",
       "  </thead>\n",
       "  <tbody>\n",
       "    <tr>\n",
       "      <th>0</th>\n",
       "      <td>The Land Girls</td>\n",
       "      <td>146083.0</td>\n",
       "      <td>146083.0</td>\n",
       "      <td>NaN</td>\n",
       "      <td>8000000.0</td>\n",
       "      <td>Jun 12 1998</td>\n",
       "      <td>R</td>\n",
       "      <td>NaN</td>\n",
       "      <td>Gramercy</td>\n",
       "      <td>None</td>\n",
       "      <td>None</td>\n",
       "      <td>None</td>\n",
       "      <td>None</td>\n",
       "      <td>NaN</td>\n",
       "      <td>6.1</td>\n",
       "      <td>1071.0</td>\n",
       "    </tr>\n",
       "    <tr>\n",
       "      <th>1</th>\n",
       "      <td>First Love, Last Rites</td>\n",
       "      <td>10876.0</td>\n",
       "      <td>10876.0</td>\n",
       "      <td>NaN</td>\n",
       "      <td>300000.0</td>\n",
       "      <td>Aug 07 1998</td>\n",
       "      <td>R</td>\n",
       "      <td>NaN</td>\n",
       "      <td>Strand</td>\n",
       "      <td>None</td>\n",
       "      <td>Drama</td>\n",
       "      <td>None</td>\n",
       "      <td>None</td>\n",
       "      <td>NaN</td>\n",
       "      <td>6.9</td>\n",
       "      <td>207.0</td>\n",
       "    </tr>\n",
       "  </tbody>\n",
       "</table>\n",
       "</div>"
      ],
      "text/plain": [
       "                    title  us_gross  worldwide_gross  us_dvd_sales  \\\n",
       "0          The Land Girls  146083.0         146083.0           NaN   \n",
       "1  First Love, Last Rites   10876.0          10876.0           NaN   \n",
       "\n",
       "   production_budget release_date mpaa_rating  running_time_min distributor  \\\n",
       "0          8000000.0  Jun 12 1998           R               NaN    Gramercy   \n",
       "1           300000.0  Aug 07 1998           R               NaN      Strand   \n",
       "\n",
       "  source major_genre creative_type director  rotten_tomatoes_rating  \\\n",
       "0   None        None          None     None                     NaN   \n",
       "1   None       Drama          None     None                     NaN   \n",
       "\n",
       "   imdb_rating  imdb_votes  \n",
       "0          6.1      1071.0  \n",
       "1          6.9       207.0  "
      ]
     },
     "execution_count": 108,
     "metadata": {},
     "output_type": "execute_result"
    }
   ],
   "source": [
    "# inverted masking\n",
    "\n",
    "names = ['Universal', 'Pictures']\n",
    "pattern = '|'.join(names)\n",
    "mask = movies.distributor.str.contains(pattern, na=True)\n",
    "result = movies[~mask]\n",
    "result.head(2)"
   ]
  },
  {
   "cell_type": "code",
   "execution_count": 112,
   "metadata": {},
   "outputs": [],
   "source": [
    "# negated regex\n",
    "\n",
    "names = ['Universal', 'Pictures']\n",
    "pattern = '\\|'.join(names)\n",
    "neg_pattern = f'[^{pattern}]'\n",
    "neg_pattern\n",
    "mask = movies.distributor.str.contains(neg_pattern, na=False)\n",
    "result2 =movies[mask]"
   ]
  },
  {
   "cell_type": "code",
   "execution_count": 113,
   "metadata": {},
   "outputs": [
    {
     "data": {
      "text/plain": [
       "'[^Universal\\\\|Pictures]'"
      ]
     },
     "execution_count": 113,
     "metadata": {},
     "output_type": "execute_result"
    }
   ],
   "source": [
    "neg_pattern"
   ]
  },
  {
   "cell_type": "code",
   "execution_count": 114,
   "metadata": {},
   "outputs": [
    {
     "ename": "ValueError",
     "evalue": "Can only compare identically-labeled DataFrame objects",
     "output_type": "error",
     "traceback": [
      "\u001b[0;31m---------------------------------------------------------------------------\u001b[0m",
      "\u001b[0;31mValueError\u001b[0m                                Traceback (most recent call last)",
      "\u001b[0;32m<ipython-input-114-1dac580d3c6f>\u001b[0m in \u001b[0;36m<module>\u001b[0;34m\u001b[0m\n\u001b[0;32m----> 1\u001b[0;31m \u001b[0mresult\u001b[0m \u001b[0;34m==\u001b[0m \u001b[0mresult2\u001b[0m\u001b[0;34m\u001b[0m\u001b[0;34m\u001b[0m\u001b[0m\n\u001b[0m",
      "\u001b[0;32m~/miniconda3/envs/habits/lib/python3.7/site-packages/pandas/core/ops/__init__.py\u001b[0m in \u001b[0;36mf\u001b[0;34m(self, other)\u001b[0m\n\u001b[1;32m    837\u001b[0m             \u001b[0;32mif\u001b[0m \u001b[0;32mnot\u001b[0m \u001b[0mself\u001b[0m\u001b[0;34m.\u001b[0m\u001b[0m_indexed_same\u001b[0m\u001b[0;34m(\u001b[0m\u001b[0mother\u001b[0m\u001b[0;34m)\u001b[0m\u001b[0;34m:\u001b[0m\u001b[0;34m\u001b[0m\u001b[0;34m\u001b[0m\u001b[0m\n\u001b[1;32m    838\u001b[0m                 raise ValueError(\n\u001b[0;32m--> 839\u001b[0;31m                     \u001b[0;34m\"Can only compare identically-labeled DataFrame objects\"\u001b[0m\u001b[0;34m\u001b[0m\u001b[0;34m\u001b[0m\u001b[0m\n\u001b[0m\u001b[1;32m    840\u001b[0m                 )\n\u001b[1;32m    841\u001b[0m             \u001b[0mnew_data\u001b[0m \u001b[0;34m=\u001b[0m \u001b[0mdispatch_to_series\u001b[0m\u001b[0;34m(\u001b[0m\u001b[0mself\u001b[0m\u001b[0;34m,\u001b[0m \u001b[0mother\u001b[0m\u001b[0;34m,\u001b[0m \u001b[0mop\u001b[0m\u001b[0;34m,\u001b[0m \u001b[0mstr_rep\u001b[0m\u001b[0;34m)\u001b[0m\u001b[0;34m\u001b[0m\u001b[0;34m\u001b[0m\u001b[0m\n",
      "\u001b[0;31mValueError\u001b[0m: Can only compare identically-labeled DataFrame objects"
     ]
    }
   ],
   "source": [
    "result == result2"
   ]
  },
  {
   "cell_type": "code",
   "execution_count": null,
   "metadata": {},
   "outputs": [],
   "source": [
    "def drop_card_repayments(df):\n",
    "    \"\"\"Drop card repayment transactions from current accounts.\"\"\"\n",
    "    tags = ['credit card repayment', 'credit card payment', 'credit card']\n",
    "    pattern = '|'.join(tags)\n",
    "    mask = df.auto_tag.str.contains(pattern) & df.account_type.eq('current')\n",
    "    return df[~mask]\n"
   ]
  },
  {
   "cell_type": "markdown",
   "metadata": {
    "tags": []
   },
   "source": [
    "## Sources\n",
    "\n",
    "- [Python string documentation](https://docs.python.org/3/library/string.html#string-formatting)\n",
    "- [Pyformat](https://pyformat.info)\n",
    "- [Fluent Python](https://www.oreilly.com/library/view/fluent-python/9781491946237/)\n",
    "- [Python Cookbook](https://www.oreilly.com/library/view/python-cookbook-3rd/9781449357337/)\n",
    "- [Learning Python](https://www.oreilly.com/library/view/learning-python-5th/9781449355722/)\n",
    "- [Python for Data Analysis](https://www.oreilly.com/library/view/python-for-data/9781491957653/)\n",
    "- [Python Data Science Handbook](https://www.oreilly.com/library/view/python-data-science/9781491912126/)"
   ]
  },
  {
   "cell_type": "code",
   "execution_count": null,
   "metadata": {},
   "outputs": [],
   "source": []
  }
 ],
 "metadata": {
  "kernelspec": {
   "display_name": "blog",
   "language": "python",
   "name": "blog"
  },
  "language_info": {
   "codemirror_mode": {
    "name": "ipython",
    "version": 3
   },
   "file_extension": ".py",
   "mimetype": "text/x-python",
   "name": "python",
   "nbconvert_exporter": "python",
   "pygments_lexer": "ipython3",
   "version": "3.9.6"
  }
 },
 "nbformat": 4,
 "nbformat_minor": 4
}
