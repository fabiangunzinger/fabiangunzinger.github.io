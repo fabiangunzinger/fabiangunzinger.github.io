{
 "cells": [
  {
   "cell_type": "markdown",
   "metadata": {},
   "source": [
    "# Simulations\n",
    "\n",
    "- hide: true\n",
    "- toc: true\n",
    "- badges: true\n",
    "- comments: true\n",
    "- categories: [stats]"
   ]
  },
  {
   "cell_type": "code",
   "execution_count": 1,
   "metadata": {},
   "outputs": [],
   "source": [
    "import numpy as np"
   ]
  },
  {
   "cell_type": "markdown",
   "metadata": {},
   "source": [
    "## Simulating loan repayments using Monte Carlo simulation\n",
    "\n",
    "Entirely based on [this](https://datascience.quantecon.org/scientific/randomness.html) excellent QuantEcon tutorial."
   ]
  },
  {
   "cell_type": "markdown",
   "metadata": {},
   "source": [
    "A small company makes loans of up to 25k to be repaid a year later. 75 percent of loans are repaid in full, 20 percent of loans are repaid in half, the rest are not repaid. The company discounts the future at an annual rate of 5 percent. How much would the company be willing to loan if it wants to break even on average?\n",
    "\n",
    "We can calculate this by hand. One year from now, the average repayment is 0.75(25000) + 0.2(12500) + 0.05(0) = 21250. Because that repayment occurs a year from now while the loan is made today, the company calculates the repayment's present value as: (1/1.05)21250 = 20238.1. Assuming that loan repayment is independent of loan size, then this is the loan size for which the company will break even on average (if it makes enough loans).\n",
    "\n",
    "We can verify this using a simulation:"
   ]
  },
  {
   "cell_type": "code",
   "execution_count": 110,
   "metadata": {},
   "outputs": [
    {
     "data": {
      "text/plain": [
       "20237.311904761867"
      ]
     },
     "execution_count": 110,
     "metadata": {},
     "output_type": "execute_result"
    }
   ],
   "source": [
    "def repayment_simulator(n, r=0.05, full_repayment=25_000, partial_repayment=12_500):\n",
    "    \"\"\"Simulate present value of repayments for N loans.\"\"\"\n",
    "    repayments = np.zeros(n)\n",
    "    outcome = np.random.rand(n)\n",
    "    \n",
    "    full_repayments = outcome <= 0.75\n",
    "    repayments[full_repayments] = full_repayment\n",
    "    partial_repayments = (outcome <= 0.95) & ~full_repayments\n",
    "    repayments[partial_repayments] = partial_repayment\n",
    "    \n",
    "    return (1 / (1 + r)) * repayments\n",
    "\n",
    "np.mean(repayment_simulator(10_000_000))"
   ]
  },
  {
   "cell_type": "markdown",
   "metadata": {},
   "source": [
    "Instead of breaking even, the company is now looking for the largest loan size that will give it a 95 percent chance of being profitable in a year it makes 250 loans."
   ]
  },
  {
   "cell_type": "code",
   "execution_count": 120,
   "metadata": {},
   "outputs": [
    {
     "data": {
      "text/plain": [
       "array([19523.80952381, 20238.0952381 , 20904.76190476])"
      ]
     },
     "execution_count": 120,
     "metadata": {},
     "output_type": "execute_result"
    }
   ],
   "source": [
    "def simulate_year(n, k):\n",
    "    \"\"\"Simulate a year with N loans k times.\"\"\"\n",
    "    year_avgs = np.zeros(k)\n",
    "    for year in range(k):\n",
    "        year_avgs[year] = np.mean(repayment_simulator(n))\n",
    "    \n",
    "    return year_avgs\n",
    "    \n",
    "np.percentile(simulate_year(250, 10_000), [5, 50, 95])"
   ]
  },
  {
   "cell_type": "markdown",
   "metadata": {},
   "source": [
    "The result tells us that in 95 percent of simulated years, the average repayment is larger than 19,523. Hence, if the company wants to make a profit with 95 percent probability, it should loan no more than this amount."
   ]
  },
  {
   "cell_type": "markdown",
   "metadata": {},
   "source": [
    "## Sources\n",
    "\n",
    "- [QuantEcon](https://datascience.quantecon.org/scientific/randomness.html)"
   ]
  }
 ],
 "metadata": {
  "kernelspec": {
   "display_name": "limo",
   "language": "python",
   "name": "limo"
  },
  "language_info": {
   "codemirror_mode": {
    "name": "ipython",
    "version": 3
   },
   "file_extension": ".py",
   "mimetype": "text/x-python",
   "name": "python",
   "nbconvert_exporter": "python",
   "pygments_lexer": "ipython3",
   "version": "3.9.9"
  }
 },
 "nbformat": 4,
 "nbformat_minor": 4
}
