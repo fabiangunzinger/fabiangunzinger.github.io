{
 "cells": [
  {
   "cell_type": "markdown",
   "metadata": {},
   "source": [
    "# Python file and directory access\n",
    "\n",
    "- hide: false\n",
    "- toc: true\n",
    "- badges: true\n",
    "- comments: true\n",
    "- categories: [python]"
   ]
  },
  {
   "cell_type": "markdown",
   "metadata": {},
   "source": [
    "A cheatsheet to remind myself of my favourite ways to nagivate the file system from within Python."
   ]
  },
  {
   "cell_type": "code",
   "execution_count": 16,
   "metadata": {},
   "outputs": [],
   "source": [
    "import os\n",
    "\n",
    "fp = '/Users/fgu/tmp'"
   ]
  },
  {
   "cell_type": "markdown",
   "metadata": {},
   "source": [
    "Listing filenames in a directory"
   ]
  },
  {
   "cell_type": "code",
   "execution_count": 9,
   "metadata": {},
   "outputs": [
    {
     "data": {
      "text/plain": [
       "['a.py', 'b.py', 'a.md']"
      ]
     },
     "execution_count": 9,
     "metadata": {},
     "output_type": "execute_result"
    }
   ],
   "source": [
    "os.listdir(fp)"
   ]
  },
  {
   "cell_type": "markdown",
   "metadata": {},
   "source": [
    "This works well for simple cases. A more general approach is to use [`scandir()`](https://docs.python.org/3/library/os.html#os.scandir)"
   ]
  },
  {
   "cell_type": "code",
   "execution_count": 18,
   "metadata": {},
   "outputs": [
    {
     "name": "stdout",
     "output_type": "stream",
     "text": [
      "<DirEntry 'a.py'>\n",
      "<DirEntry 'b.py'>\n",
      "<DirEntry 'a.md'>\n"
     ]
    }
   ],
   "source": [
    "for f in os.scandir(fp):\n",
    "    print(f)"
   ]
  },
  {
   "cell_type": "markdown",
   "metadata": {},
   "source": [
    "The [`os.DirEntry`](https://docs.python.org/3/library/os.html#os.DirEntry) object returned by `scandir()` offers a range of methods:"
   ]
  },
  {
   "cell_type": "code",
   "execution_count": 27,
   "metadata": {},
   "outputs": [
    {
     "name": "stdout",
     "output_type": "stream",
     "text": [
      "a.py\n",
      "/Users/fgu/tmp/a.py\n",
      "True\n",
      "False\n",
      "\n"
     ]
    }
   ],
   "source": [
    "for f in list(os.scandir(fp))[:1]:\n",
    "    print(f.name)\n",
    "    print(f.path)\n",
    "    print(f.is_file())\n",
    "    print(f.is_dir(), end='\\n\\n')"
   ]
  },
  {
   "cell_type": "markdown",
   "metadata": {
    "tags": []
   },
   "source": [
    "References\n",
    "\n",
    "- There are [many](https://stackoverflow.com/questions/3207219/how-do-i-list-all-files-of-a-directory) other ways to nagivate directories\n",
    "- [os](https://docs.python.org/3/library/os.html#module-os)"
   ]
  }
 ],
 "metadata": {
  "kernelspec": {
   "display_name": "blog",
   "language": "python",
   "name": "blog"
  },
  "language_info": {
   "codemirror_mode": {
    "name": "ipython",
    "version": 3
   },
   "file_extension": ".py",
   "mimetype": "text/x-python",
   "name": "python",
   "nbconvert_exporter": "python",
   "pygments_lexer": "ipython3",
   "version": "3.9.9"
  }
 },
 "nbformat": 4,
 "nbformat_minor": 4
}
