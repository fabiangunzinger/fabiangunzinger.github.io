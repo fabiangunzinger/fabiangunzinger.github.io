{
 "cells": [
  {
   "cell_type": "markdown",
   "id": "8c2d65d4-cdd5-42f5-91b6-5779bf9d0f61",
   "metadata": {},
   "source": [
    "# Data science design patterns\n",
    "\n",
    "- hide: true\n",
    "- toc: true\n",
    "- badges: true\n",
    "- comments: true\n",
    "- categories: [datascience]"
   ]
  },
  {
   "cell_type": "markdown",
   "id": "9dfd79ee-8168-4532-b584-90265feee447",
   "metadata": {},
   "source": [
    "Design patterns to solve frequently occurring problems."
   ]
  },
  {
   "cell_type": "markdown",
   "id": "8fe3a4f3-7745-426d-8bbe-172c9452135d",
   "metadata": {},
   "source": [
    "todo:\n",
    "- [Machine learning design patterns](https://www.oreilly.com/library/view/machine-learning-design/9781098115777/)\n",
    "- [Data pipelines design patterns](https://towardsdatascience.com/data-pipelines-design-patterns-for-reusability-extensibility-3df0af020c64)\n",
    "- [3 great design patterns for data science](https://towardsdatascience.com/3-great-design-patterns-for-data-science-workflows-d3bf162d74e6)"
   ]
  },
  {
   "cell_type": "code",
   "execution_count": 1,
   "id": "9ffbff5a-dd9d-4437-bbc2-3fd497d663f1",
   "metadata": {},
   "outputs": [
    {
     "name": "stdout",
     "output_type": "stream",
     "text": [
      "ho\n"
     ]
    }
   ],
   "source": [
    "{\n",
    "    \"tags\": [\n",
    "        \"hide-input\",\n",
    "    ]\n",
    "}\n",
    "\n",
    "print('ho')"
   ]
  },
  {
   "cell_type": "code",
   "execution_count": null,
   "id": "841af424-9f60-4b72-b5f2-e465577678c8",
   "metadata": {},
   "outputs": [],
   "source": []
  }
 ],
 "metadata": {
  "kernelspec": {
   "display_name": "blog",
   "language": "python",
   "name": "blog"
  },
  "language_info": {
   "codemirror_mode": {
    "name": "ipython",
    "version": 3
   },
   "file_extension": ".py",
   "mimetype": "text/x-python",
   "name": "python",
   "nbconvert_exporter": "python",
   "pygments_lexer": "ipython3",
   "version": "3.9.9"
  }
 },
 "nbformat": 4,
 "nbformat_minor": 5
}
