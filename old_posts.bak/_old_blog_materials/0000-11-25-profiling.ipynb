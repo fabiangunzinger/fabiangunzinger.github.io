{
 "cells": [
  {
   "cell_type": "markdown",
   "metadata": {},
   "source": [
    "# Profiling\n",
    "\n",
    "- hide: true\n",
    "- toc: true\n",
    "- comments: true\n",
    "- categories: [python, pandas]"
   ]
  },
  {
   "cell_type": "markdown",
   "metadata": {},
   "source": [
    "> We should forget about small efficiencies, say about 97% of the time: premature optimization is the root of all evil. Yet we should not pass up our opportunities in that critical 3%. -- Donald Knuth\n",
    "\n",
    "Takeaway: optimise where it matters. And to know where it matters, you need to profile your code."
   ]
  },
  {
   "cell_type": "code",
   "execution_count": 1,
   "metadata": {},
   "outputs": [],
   "source": [
    "from imports import *\n",
    "\n",
    "%config InlineBackend.figure_format = 'retina'\n",
    "%load_ext autoreload\n",
    "%autoreload 2"
   ]
  },
  {
   "cell_type": "markdown",
   "metadata": {},
   "source": [
    "## Intro\n",
    "\n",
    "What's efficient code?\n",
    "\n",
    "- Fast (minimal completion time)\n",
    "- Has no unnecessary memory overhead (minimal resource consumption)"
   ]
  },
  {
   "cell_type": "markdown",
   "metadata": {},
   "source": [
    "\n",
    "## Profiling runtime\n",
    "\n",
    "- Optimise slow lines inside slow function.\n",
    "\n",
    "\n",
    "- Finding slow functions (IPython implementation):\n",
    "    - time.time() decorator (%time, or %timeit for more precision)\n",
    "    - cProfile (%prun)\n",
    "    - [Snakeviz](https://jiffyclub.github.io/snakeviz/) is helpful for cProfile results visualisation\n",
    "\n",
    "\n",
    "- Finding slow lines:\n",
    "    - line_profiler (%lprun)\n",
    "\n",
    "\n",
    "- Best practices:\n",
    "    - Check overall CPU usage during profiling (e.g. use activity monitor on Mac) to make sure that no other processes are influencing my results (e.g. Dropbox update).\n",
    "    \n",
    "    - Form a hypothesis about what parts of the code are slow and then compare to the profiling results to improve your intuition over time.\n",
    "    \n",
    "    - Start with quick and dirty profiling to zoom into the relevant area (e.g. use a timer decorator, use %time instead of %timeit in Jupyter) before doing more costly profiling.\n",
    "    \n",
    "    - \n",
    "    \n",
    " \n",
    "Useful:\n",
    "- https://www.machinelearningplus.com/python/cprofile-how-to-profile-your-python-code/"
   ]
  },
  {
   "cell_type": "markdown",
   "metadata": {},
   "source": [
    "## Things to know\n",
    "\n",
    "- `cProfile()` doesn't seem to work with [multiprocessing](https://stackoverflow.com/questions/41892297/error-when-profiling-an-otherwise-perfectly-working-multiprocessing-python-scrip)."
   ]
  },
  {
   "cell_type": "markdown",
   "metadata": {},
   "source": [
    "## Sources\n",
    "\n",
    "- [High Performance Python](https://www.oreilly.com/library/view/high-performance-python/9781449361747/)\n",
    "- [Effective Python](https://effectivepython.com)\n",
    "- [Fluent Python](https://www.oreilly.com/library/view/fluent-python/9781491946237/)\n",
    "- [Python Cookbook](https://www.oreilly.com/library/view/python-cookbook-3rd/9781449357337/)\n",
    "- [Learning Python](https://www.oreilly.com/library/view/learning-python-5th/9781449355722/)\n",
    "- [Python for Data Analysis](https://www.oreilly.com/library/view/python-for-data/9781491957653/)\n",
    "- [Python Data Science Handbook](https://www.oreilly.com/library/view/python-data-science/9781491912126/)"
   ]
  },
  {
   "cell_type": "code",
   "execution_count": null,
   "metadata": {},
   "outputs": [],
   "source": []
  }
 ],
 "metadata": {
  "kernelspec": {
   "display_name": "habits",
   "language": "python",
   "name": "habits"
  },
  "language_info": {
   "codemirror_mode": {
    "name": "ipython",
    "version": 3
   },
   "file_extension": ".py",
   "mimetype": "text/x-python",
   "name": "python",
   "nbconvert_exporter": "python",
   "pygments_lexer": "ipython3",
   "version": "3.7.7"
  }
 },
 "nbformat": 4,
 "nbformat_minor": 4
}
