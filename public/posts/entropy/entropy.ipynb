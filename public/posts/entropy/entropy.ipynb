{
 "cells": [
  {
   "cell_type": "markdown",
   "id": "3c6719fd-aec5-49b7-9ac9-089e951a2921",
   "metadata": {},
   "source": [
    "---\n",
    "title: \"Entropy\"\n",
    "date: \"2022-01-09\"\n",
    "tags:\n",
    "    - cs, stats\n",
    "---"
   ]
  },
  {
   "cell_type": "code",
   "execution_count": 2,
   "id": "0a9a3515-0bdf-4096-9732-f1784d585536",
   "metadata": {},
   "outputs": [],
   "source": [
    "import math\n",
    "\n",
    "import matplotlib.pyplot as plt\n",
    "import numpy as np"
   ]
  },
  {
   "cell_type": "markdown",
   "id": "918e0813-226f-4dd3-9012-acc6b598e8fc",
   "metadata": {},
   "source": [
    "## Intro"
   ]
  },
  {
   "cell_type": "markdown",
   "id": "7b84b135-e6be-4a6a-a229-580957aae6de",
   "metadata": {},
   "source": [
    "- Entropy is a measure of the amount of information contained in an event or a random variable. It is a cornerstone of information theory, a subfield of mathematics concerned with the transmission of data across a noisy channel."
   ]
  },
  {
   "cell_type": "markdown",
   "id": "75694172-2cda-4188-956b-c3acca4f8927",
   "metadata": {},
   "source": [
    "## Information of an event"
   ]
  },
  {
   "cell_type": "markdown",
   "id": "9dfd79ee-8168-4532-b584-90265feee447",
   "metadata": {},
   "source": [
    "- Key intuition: learning that a low probability event has occurred is more informative than learning that a high probability event has occurred. Hence, the information of an event $E$ is inversely proportional to its probability $p(E)$.\n",
    "\n",
    "- We could capture this using $I(E) = \\frac{1}{p(E)}$. But this implied that when $E$ is certain to occur (and thus $p(E) = 1$), the information would be 1, when it would make more sense for it to be 0.\n",
    "\n",
    "- A way to achieve this is to use $log\\left(\\frac{1}{p(E)}\\right)$ (the log is actually the only function that also satisfies a number of other desirable characteristics).\n",
    "\n",
    "- Hence, the information (or surprise) of E, often called *Shannon information*, *self-information*, or just *information*, is defined as\n",
    "\n",
    "$$I(E) = log\\left(\\frac{1}{p(E)}\\right) = -log(p(E)).$$\n",
    "\n",
    "- As a reminder to myself: the second equality holds because $log(\\frac{1}{p(E)}) = log(p(E)^{-1}) = -log(p(E))$, where the second step is true because (using base $e$ for simplicity of notation) $e^{ln(a^b)} = a^b = (e^{ln(a)})^b = e^{bln(a)}$, where the last step is true because $(e^a)^b = e^{ab}$, and which implies that $ln(a^b) = bln(a)$.\n",
    "\n",
    "- The choice of the base for the logarithm varies by application and determines the units of $I(E)$. Base 2 means that information is expressed in bits. The natural logarithm, another popular choice, expresses information in *nats*."
   ]
  },
  {
   "cell_type": "markdown",
   "id": "b8d45dac-8b9b-4447-8978-6d95bc567d44",
   "metadata": {},
   "source": [
    "### Tossing a head example"
   ]
  },
  {
   "cell_type": "code",
   "execution_count": 3,
   "id": "607c6a08-423c-47fb-8270-576fd8733432",
   "metadata": {},
   "outputs": [
    {
     "name": "stdout",
     "output_type": "stream",
     "text": [
      "If p(head) is 0.50, the amount of information of flipping a head is 1.00 bit.\n"
     ]
    }
   ],
   "source": [
    "p = 0.5\n",
    "I = -math.log2(p)\n",
    "print(\n",
    "    f\"If p(head) is {p:.2f}, the amount of information of flipping a head is {I:.2f} bit.\"\n",
    ")"
   ]
  },
  {
   "cell_type": "markdown",
   "id": "8fc34ac6-cf93-4120-abda-18dba8e36ab2",
   "metadata": {},
   "source": [
    "Getting head when it is unlikely is more informative."
   ]
  },
  {
   "cell_type": "code",
   "execution_count": 4,
   "id": "b4526d70-692f-4262-81e9-530c59168aa0",
   "metadata": {},
   "outputs": [
    {
     "name": "stdout",
     "output_type": "stream",
     "text": [
      "If p(head) is 0.10, the information conveyed by flipping a head is 3.32 bit.\n"
     ]
    }
   ],
   "source": [
    "p = 0.1\n",
    "I = -math.log2(p)\n",
    "print(\n",
    "    f\"If p(head) is {p:.2f}, the information conveyed by flipping a head is {I:.2f} bit.\"\n",
    ")"
   ]
  },
  {
   "cell_type": "markdown",
   "id": "f91bc7c2-e412-419b-82c9-5e3c04b72cd9",
   "metadata": {},
   "source": [
    "### Rolling a *6* example"
   ]
  },
  {
   "cell_type": "code",
   "execution_count": 5,
   "id": "6cfc5d5b-b266-46ab-9ee4-b994b888c699",
   "metadata": {},
   "outputs": [
    {
     "name": "stdout",
     "output_type": "stream",
     "text": [
      "Rolling a 6 with a fair die has 2.58 bits of information.\n"
     ]
    }
   ],
   "source": [
    "p = 1 / 6\n",
    "I = -math.log2(p)\n",
    "print(f\"Rolling a 6 with a fair die has {I:.2f} bits of information.\")"
   ]
  },
  {
   "cell_type": "markdown",
   "id": "f4011889-b5c0-4d57-ae4f-450c45c452ae",
   "metadata": {},
   "source": [
    "### Probability vs information"
   ]
  },
  {
   "cell_type": "markdown",
   "id": "c2284f4c-acf8-4df8-8198-0b0d11e14d3b",
   "metadata": {},
   "source": [
    "Generally, the higher the probability of an event $E$, the lower the information content revealed when it comes to pass."
   ]
  },
  {
   "cell_type": "code",
   "execution_count": 6,
   "id": "b31372af-af41-4f9e-91ec-20df14fcdd9f",
   "metadata": {},
   "outputs": [
    {
     "data": {
      "image/png": "[encoded data removed]",
      "text/plain": [
       "<Figure size 640x480 with 1 Axes>"
      ]
     },
     "metadata": {},
     "output_type": "display_data"
    }
   ],
   "source": [
    "probs = np.linspace(0.1, 1, 10)\n",
    "info = [-math.log2(p) for p in probs]\n",
    "\n",
    "fig, ax = plt.subplots()\n",
    "ax.plot(probs, info, marker=\".\")\n",
    "ax.set(xlabel=\"p(E)\", ylabel=\"I(E)\");"
   ]
  },
  {
   "cell_type": "markdown",
   "id": "53a3b32d-a19f-4bd0-ac84-99f4fbb1c60a",
   "metadata": {},
   "source": [
    "## Information of a random variable"
   ]
  },
  {
   "cell_type": "markdown",
   "id": "ae53a1f9-9bc9-4a16-86ba-3d7f2db545db",
   "metadata": {},
   "source": [
    "- The information of a random variable *X* is called *Information entropy*, *Shannon entropy*, or just *entropy*, and denoted by $H(X)$ (named, by Shannon, after Boltzmann's H-theorem in statistical mechanics).\n",
    "\n",
    "- Calculating the information of a random variable is the same as calculating the information of the probability distribution of the events for the random variables. It is calculated as \n",
    "\n",
    "$$H(X) = -\\sum_x p(x) \\times log(p(x)) = \\sum_x p(x)I(x) = \\mathbb{E} I(x).$$\n",
    "\n",
    "- Intuitively, the entropy of a random variable captures the expected amount of information conveyed by an event drawn from the probability distribution of the random variable. Hence, it's the expected value of self-information of a variable, which can be seen by the last equality above.\n",
    "\n",
    "- Why does entropy (when calculated using base 2 logarithms) also represent the number of bits required to convey the average outcome of a distribution? [Wikipedia](https://en.wikipedia.org/wiki/Entropy_&28information_theory%29#Introduction) (in the second to last paragraph of the introduction) explains this well. Basically, its because if there are some events with very high probability, then these events could be transmitted with short codes of only a few bits, so that most of the time, only a few bits have to be transmitted to send the message."
   ]
  },
  {
   "cell_type": "markdown",
   "id": "a605f876-5bd7-47b6-aa0b-64b9d8867464",
   "metadata": {},
   "source": [
    "### Fair die example"
   ]
  },
  {
   "cell_type": "markdown",
   "id": "1a6b14bd-c42e-43e0-b505-2e8ca6992ff2",
   "metadata": {},
   "source": [
    "Given that all six sides of a fair die have equal probability of being thrown, and given that the entropy for a random variable captures the average amount of information of its events, we'd expect the entropy of throwing a fair die to be identical to the amount of information of throwing a *6*, as calculated above. The below shows that this is indeed the case."
   ]
  },
  {
   "cell_type": "code",
   "execution_count": 7,
   "id": "236134ea-d45f-4751-8b7c-716b17cbc8de",
   "metadata": {},
   "outputs": [
    {
     "name": "stdout",
     "output_type": "stream",
     "text": [
      "Entropy of rolling a fair die is 2.58.\n"
     ]
    }
   ],
   "source": [
    "probs = [1 / 6] * 6\n",
    "H = -sum(p * math.log2(p) for p in probs)\n",
    "print(f\"Entropy of rolling a fair die is {H:.2f}.\")"
   ]
  },
  {
   "cell_type": "markdown",
   "id": "e89a3976-ea61-4557-8983-37bef932bc8b",
   "metadata": {},
   "source": [
    "We can also use the `entropy()` function from `scipy`."
   ]
  },
  {
   "cell_type": "code",
   "execution_count": 9,
   "id": "1d4e8c91-20a9-467f-967e-1a01d214f9ad",
   "metadata": {},
   "outputs": [],
   "source": [
    "from scipy.stats import entropy\n",
    "\n",
    "H1 = entropy(probs, base=2)\n",
    "assert H == H1"
   ]
  },
  {
   "cell_type": "markdown",
   "id": "4cecf2e7-6d01-4b91-bf71-5635461d8da1",
   "metadata": {},
   "source": [
    "### Skewness vs information"
   ]
  },
  {
   "cell_type": "markdown",
   "id": "8be87f08-1474-4d2f-b60f-24b45d549824",
   "metadata": {},
   "source": [
    "The below shows the [binary entropy function](https://en.wikipedia.org/wiki/Binary_entropy_function), the relationship between entropy and the binary outcome probability in a Bernoulli process."
   ]
  },
  {
   "cell_type": "code",
   "execution_count": 10,
   "id": "d694c3b4-76b2-48d4-a2b7-427cff5ecb50",
   "metadata": {},
   "outputs": [
    {
     "data": {
      "image/png": "[encoded data removed]",
      "text/plain": [
       "<Figure size 640x480 with 1 Axes>"
      ]
     },
     "metadata": {},
     "output_type": "display_data"
    }
   ],
   "source": [
    "probs = np.linspace(0, 1, 11)\n",
    "H = [entropy([p, 1 - p], base=2) for p in probs]\n",
    "\n",
    "fig, ax = plt.subplots()\n",
    "ax.plot(probs, H, marker=\".\")\n",
    "ax.set(xlabel=\"p\", ylabel=\"Entropy\");"
   ]
  },
  {
   "cell_type": "markdown",
   "id": "8011b2e8-e7e4-4740-94ec-70d8a75c06a4",
   "metadata": {},
   "source": [
    "## References\n",
    "\n",
    "- [Claude E. Shannon, A mathematical theory of communication](http://www.all.net/refs/shannon1948.pdf)\n",
    "- [Wikipedia, Entropy](https://en.wikipedia.org/wiki/Entropy_%28information_theory%29)\n",
    "- [Machine Learning Mastery, A gentle introduction to information entropy](https://machinelearningmastery.com/what-is-information-entropy/)\n",
    "- [Aerin Kim, The intuition behind Shannon's entropy](https://towardsdatascience.com/the-intuition-behind-shannons-entropy-e74820fe9800)"
   ]
  }
 ],
 "metadata": {
  "kernelspec": {
   "display_name": ".venv",
   "language": "python",
   "name": "python3"
  },
  "language_info": {
   "codemirror_mode": {
    "name": "ipython",
    "version": 3
   },
   "file_extension": ".py",
   "mimetype": "text/x-python",
   "name": "python",
   "nbconvert_exporter": "python",
   "pygments_lexer": "ipython3",
   "version": "3.10.8"
  }
 },
 "nbformat": 4,
 "nbformat_minor": 5
}
