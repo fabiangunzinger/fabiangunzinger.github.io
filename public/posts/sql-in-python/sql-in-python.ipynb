{
 "cells": [
  {
   "cell_type": "markdown",
   "metadata": {},
   "source": [
    "---\n",
    "title: \"SQL in Python\"\n",
    "date: \"2020-09-12\"\n",
    "tags:\n",
    "    - tools\n",
    "execute:\n",
    "    enabled: false\n",
    "---"
   ]
  },
  {
   "cell_type": "markdown",
   "metadata": {},
   "source": [
    "## SQLite\n",
    "\n",
    "Based on [docs](https://docs.python.org/3/library/sqlite3.html)."
   ]
  },
  {
   "cell_type": "code",
   "execution_count": 25,
   "metadata": {},
   "outputs": [],
   "source": [
    "import os\n",
    "import sys\n",
    "\n",
    "src_path = os.path.abspath(os.path.join(\"..\"))\n",
    "sys.path.append(src_path)\n",
    "import sqlite3\n",
    "\n",
    "import pandas as pd\n",
    "from src import config"
   ]
  },
  {
   "cell_type": "code",
   "execution_count": 2,
   "metadata": {},
   "outputs": [],
   "source": [
    "# parameters\n",
    "\n",
    "SAMPLE = \"777\""
   ]
  },
  {
   "cell_type": "code",
   "execution_count": 3,
   "metadata": {},
   "outputs": [
    {
     "name": "stdout",
     "output_type": "stream",
     "text": [
      "(562996, 22)\n"
     ]
    },
    {
     "data": {
      "text/html": [
       "<div>\n",
       "<style scoped>\n",
       "    .dataframe tbody tr th:only-of-type {\n",
       "        vertical-align: middle;\n",
       "    }\n",
       "\n",
       "    .dataframe tbody tr th {\n",
       "        vertical-align: top;\n",
       "    }\n",
       "\n",
       "    .dataframe thead th {\n",
       "        text-align: right;\n",
       "    }\n",
       "</style>\n",
       "<table border=\"1\" class=\"dataframe\">\n",
       "  <thead>\n",
       "    <tr style=\"text-align: right;\">\n",
       "      <th></th>\n",
       "      <th>user_id</th>\n",
       "      <th>transaction_date</th>\n",
       "      <th>amount</th>\n",
       "      <th>transaction_description</th>\n",
       "      <th>merchant_name</th>\n",
       "      <th>auto_tag</th>\n",
       "      <th>tag</th>\n",
       "      <th>manual_tag</th>\n",
       "      <th>postcode</th>\n",
       "      <th>credit_debit</th>\n",
       "      <th>...</th>\n",
       "      <th>account_created</th>\n",
       "      <th>user_registration_date</th>\n",
       "      <th>year_of_birth</th>\n",
       "      <th>account_id</th>\n",
       "      <th>merchant_business_line</th>\n",
       "      <th>latest_balance</th>\n",
       "      <th>transaction_id</th>\n",
       "      <th>account_last_refreshed</th>\n",
       "      <th>account_type</th>\n",
       "      <th>gender</th>\n",
       "    </tr>\n",
       "  </thead>\n",
       "  <tbody>\n",
       "    <tr>\n",
       "      <th>0</th>\n",
       "      <td>60777</td>\n",
       "      <td>2014-11-27</td>\n",
       "      <td>100.0</td>\n",
       "      <td>xxxxxx xxxx5014 internet transfer</td>\n",
       "      <td>no merchant</td>\n",
       "      <td>transfers</td>\n",
       "      <td>broadband</td>\n",
       "      <td>no tag</td>\n",
       "      <td>n16 0</td>\n",
       "      <td>debit</td>\n",
       "      <td>...</td>\n",
       "      <td>2015-02-12</td>\n",
       "      <td>2014-05-23</td>\n",
       "      <td>1988.0</td>\n",
       "      <td>378967</td>\n",
       "      <td>personal</td>\n",
       "      <td>0.0</td>\n",
       "      <td>58866450</td>\n",
       "      <td>2017-04-04 07:33:00</td>\n",
       "      <td>savings</td>\n",
       "      <td>m</td>\n",
       "    </tr>\n",
       "    <tr>\n",
       "      <th>1</th>\n",
       "      <td>60777</td>\n",
       "      <td>2014-11-27</td>\n",
       "      <td>-250.0</td>\n",
       "      <td>&lt;mdbremoved&gt;</td>\n",
       "      <td>no merchant</td>\n",
       "      <td>savings (general)</td>\n",
       "      <td>savings (general)</td>\n",
       "      <td>no tag</td>\n",
       "      <td>n16 0</td>\n",
       "      <td>credit</td>\n",
       "      <td>...</td>\n",
       "      <td>2015-02-12</td>\n",
       "      <td>2014-05-23</td>\n",
       "      <td>1988.0</td>\n",
       "      <td>378968</td>\n",
       "      <td>no merchant business line</td>\n",
       "      <td>3000.0</td>\n",
       "      <td>58866344</td>\n",
       "      <td>2017-04-04 07:33:00</td>\n",
       "      <td>savings</td>\n",
       "      <td>m</td>\n",
       "    </tr>\n",
       "  </tbody>\n",
       "</table>\n",
       "<p>2 rows × 22 columns</p>\n",
       "</div>"
      ],
      "text/plain": [
       "   user_id transaction_date  amount            transaction_description  \\\n",
       "0    60777       2014-11-27   100.0  xxxxxx xxxx5014 internet transfer   \n",
       "1    60777       2014-11-27  -250.0                       <mdbremoved>   \n",
       "\n",
       "  merchant_name           auto_tag                tag manual_tag postcode  \\\n",
       "0   no merchant          transfers          broadband     no tag    n16 0   \n",
       "1   no merchant  savings (general)  savings (general)     no tag    n16 0   \n",
       "\n",
       "  credit_debit  ... account_created user_registration_date year_of_birth  \\\n",
       "0        debit  ...      2015-02-12             2014-05-23        1988.0   \n",
       "1       credit  ...      2015-02-12             2014-05-23        1988.0   \n",
       "\n",
       "  account_id     merchant_business_line  latest_balance transaction_id  \\\n",
       "0     378967                   personal             0.0       58866450   \n",
       "1     378968  no merchant business line          3000.0       58866344   \n",
       "\n",
       "   account_last_refreshed  account_type gender  \n",
       "0     2017-04-04 07:33:00       savings      m  \n",
       "1     2017-04-04 07:33:00       savings      m  \n",
       "\n",
       "[2 rows x 22 columns]"
      ]
     },
     "execution_count": 3,
     "metadata": {},
     "output_type": "execute_result"
    }
   ],
   "source": [
    "df = pd.read_parquet(os.path.join(config.TEMPDIR, f\"data_{SAMPLE}.parquet\"))\n",
    "print(df.shape)\n",
    "df.head(2)"
   ]
  },
  {
   "cell_type": "code",
   "execution_count": 58,
   "metadata": {},
   "outputs": [
    {
     "data": {
      "text/plain": [
       "array(['user_id'], dtype=object)"
      ]
     },
     "execution_count": 58,
     "metadata": {},
     "output_type": "execute_result"
    }
   ],
   "source": [
    "pd.read_sql(\"select * from pragma_table_info('outcomes')\", conn).name.values"
   ]
  },
  {
   "cell_type": "markdown",
   "metadata": {},
   "source": [
    "### Connect to database"
   ]
  },
  {
   "cell_type": "code",
   "execution_count": 68,
   "metadata": {},
   "outputs": [],
   "source": [
    "db_path = os.path.join(config.DATADIR, f\"{SAMPLE}.db\")\n",
    "conn = sqlite3.connect(db_path)\n",
    "c = conn.cursor()"
   ]
  },
  {
   "cell_type": "code",
   "execution_count": null,
   "metadata": {},
   "outputs": [],
   "source": [
    "def create_user_list(sample):\n",
    "    \"\"\"Create list of users of sample.\"\"\"\n",
    "    file_name = f'data_{sample}.parquet'\n",
    "    file_path = os.path.join(config.TEMPDIR, file_name)\n",
    "    df = pd.read_parquet(file_path)\n",
    "    return df.user_id.unique()drop_duplicates().sort_values()\n",
    "\n",
    "samples = ['XX7', 'X77', '777']\n",
    "for sample in ['777']:\n",
    "    create_user_list(sample).to_csv('/Users/fgu/tmp/test.csv', index=False)"
   ]
  },
  {
   "cell_type": "code",
   "execution_count": 52,
   "metadata": {},
   "outputs": [
    {
     "data": {
      "text/html": [
       "<div>\n",
       "<style scoped>\n",
       "    .dataframe tbody tr th:only-of-type {\n",
       "        vertical-align: middle;\n",
       "    }\n",
       "\n",
       "    .dataframe tbody tr th {\n",
       "        vertical-align: top;\n",
       "    }\n",
       "\n",
       "    .dataframe thead th {\n",
       "        text-align: right;\n",
       "    }\n",
       "</style>\n",
       "<table border=\"1\" class=\"dataframe\">\n",
       "  <thead>\n",
       "    <tr style=\"text-align: right;\">\n",
       "      <th></th>\n",
       "      <th>Unnamed: 0</th>\n",
       "      <th>user_id</th>\n",
       "    </tr>\n",
       "  </thead>\n",
       "  <tbody>\n",
       "    <tr>\n",
       "      <th>0</th>\n",
       "      <td>0</td>\n",
       "      <td>777</td>\n",
       "    </tr>\n",
       "    <tr>\n",
       "      <th>1</th>\n",
       "      <td>0</td>\n",
       "      <td>1777</td>\n",
       "    </tr>\n",
       "    <tr>\n",
       "      <th>2</th>\n",
       "      <td>7116</td>\n",
       "      <td>7777</td>\n",
       "    </tr>\n",
       "    <tr>\n",
       "      <th>3</th>\n",
       "      <td>0</td>\n",
       "      <td>8777</td>\n",
       "    </tr>\n",
       "    <tr>\n",
       "      <th>4</th>\n",
       "      <td>1228</td>\n",
       "      <td>10777</td>\n",
       "    </tr>\n",
       "    <tr>\n",
       "      <th>...</th>\n",
       "      <td>...</td>\n",
       "      <td>...</td>\n",
       "    </tr>\n",
       "    <tr>\n",
       "      <th>179</th>\n",
       "      <td>129064</td>\n",
       "      <td>578777</td>\n",
       "    </tr>\n",
       "    <tr>\n",
       "      <th>180</th>\n",
       "      <td>133470</td>\n",
       "      <td>579777</td>\n",
       "    </tr>\n",
       "    <tr>\n",
       "      <th>181</th>\n",
       "      <td>135176</td>\n",
       "      <td>582777</td>\n",
       "    </tr>\n",
       "    <tr>\n",
       "      <th>182</th>\n",
       "      <td>136885</td>\n",
       "      <td>586777</td>\n",
       "    </tr>\n",
       "    <tr>\n",
       "      <th>183</th>\n",
       "      <td>139404</td>\n",
       "      <td>587777</td>\n",
       "    </tr>\n",
       "  </tbody>\n",
       "</table>\n",
       "<p>184 rows × 2 columns</p>\n",
       "</div>"
      ],
      "text/plain": [
       "     Unnamed: 0  user_id\n",
       "0             0      777\n",
       "1             0     1777\n",
       "2          7116     7777\n",
       "3             0     8777\n",
       "4          1228    10777\n",
       "..          ...      ...\n",
       "179      129064   578777\n",
       "180      133470   579777\n",
       "181      135176   582777\n",
       "182      136885   586777\n",
       "183      139404   587777\n",
       "\n",
       "[184 rows x 2 columns]"
      ]
     },
     "execution_count": 52,
     "metadata": {},
     "output_type": "execute_result"
    }
   ],
   "source": [
    "path = os.path.join(config.DATADIR, \"users_777.csv\")\n",
    "pd.read_csv(path)"
   ]
  },
  {
   "cell_type": "markdown",
   "metadata": {},
   "source": [
    "### Create tables"
   ]
  },
  {
   "cell_type": "markdown",
   "metadata": {},
   "source": [
    "Create tables with user_ids"
   ]
  },
  {
   "cell_type": "code",
   "execution_count": null,
   "metadata": {},
   "outputs": [],
   "source": [
    "ids = pd.Series({\"user_id\": df.user_id.unique()})\n",
    "\n",
    "tables = [\"targets\", \"predictions\", \"outcomes\"]\n",
    "for table in tables:\n",
    "    ids.to_sql(table, conn, index=False)\n",
    "    conn.execute(f\"create index idx_{table}_user_id on {table}(user_id)\")"
   ]
  },
  {
   "cell_type": "code",
   "execution_count": 22,
   "metadata": {},
   "outputs": [
    {
     "data": {
      "text/plain": [
       "user_id    [60777, 64777, 777, 7777, 71777, 76777, 50777,...\n",
       "dtype: object"
      ]
     },
     "execution_count": 22,
     "metadata": {},
     "output_type": "execute_result"
    }
   ],
   "source": [
    "pd.Series({\"user_id\": df.user_id.unique()})"
   ]
  },
  {
   "cell_type": "code",
   "execution_count": 14,
   "metadata": {},
   "outputs": [
    {
     "data": {
      "text/html": [
       "<div>\n",
       "<style scoped>\n",
       "    .dataframe tbody tr th:only-of-type {\n",
       "        vertical-align: middle;\n",
       "    }\n",
       "\n",
       "    .dataframe tbody tr th {\n",
       "        vertical-align: top;\n",
       "    }\n",
       "\n",
       "    .dataframe thead th {\n",
       "        text-align: right;\n",
       "    }\n",
       "</style>\n",
       "<table border=\"1\" class=\"dataframe\">\n",
       "  <thead>\n",
       "    <tr style=\"text-align: right;\">\n",
       "      <th></th>\n",
       "      <th>type</th>\n",
       "      <th>name</th>\n",
       "      <th>tbl_name</th>\n",
       "      <th>rootpage</th>\n",
       "      <th>sql</th>\n",
       "    </tr>\n",
       "  </thead>\n",
       "  <tbody>\n",
       "    <tr>\n",
       "      <th>0</th>\n",
       "      <td>table</td>\n",
       "      <td>targets</td>\n",
       "      <td>targets</td>\n",
       "      <td>2</td>\n",
       "      <td>CREATE TABLE \"targets\" (\\n\"user_id\" INTEGER\\n)</td>\n",
       "    </tr>\n",
       "    <tr>\n",
       "      <th>1</th>\n",
       "      <td>index</td>\n",
       "      <td>idx_targets_user_id</td>\n",
       "      <td>targets</td>\n",
       "      <td>3</td>\n",
       "      <td>CREATE INDEX idx_targets_user_id on targets(us...</td>\n",
       "    </tr>\n",
       "    <tr>\n",
       "      <th>2</th>\n",
       "      <td>table</td>\n",
       "      <td>predictions</td>\n",
       "      <td>predictions</td>\n",
       "      <td>4</td>\n",
       "      <td>CREATE TABLE \"predictions\" (\\n\"user_id\" INTEGE...</td>\n",
       "    </tr>\n",
       "    <tr>\n",
       "      <th>3</th>\n",
       "      <td>index</td>\n",
       "      <td>idx_predictions_user_id</td>\n",
       "      <td>predictions</td>\n",
       "      <td>5</td>\n",
       "      <td>CREATE INDEX idx_predictions_user_id on predic...</td>\n",
       "    </tr>\n",
       "    <tr>\n",
       "      <th>4</th>\n",
       "      <td>table</td>\n",
       "      <td>outcomes</td>\n",
       "      <td>outcomes</td>\n",
       "      <td>6</td>\n",
       "      <td>CREATE TABLE \"outcomes\" (\\n\"user_id\" INTEGER\\n)</td>\n",
       "    </tr>\n",
       "    <tr>\n",
       "      <th>5</th>\n",
       "      <td>index</td>\n",
       "      <td>idx_outcomes_user_id</td>\n",
       "      <td>outcomes</td>\n",
       "      <td>7</td>\n",
       "      <td>CREATE INDEX idx_outcomes_user_id on outcomes(...</td>\n",
       "    </tr>\n",
       "  </tbody>\n",
       "</table>\n",
       "</div>"
      ],
      "text/plain": [
       "    type                     name     tbl_name  rootpage  \\\n",
       "0  table                  targets      targets         2   \n",
       "1  index      idx_targets_user_id      targets         3   \n",
       "2  table              predictions  predictions         4   \n",
       "3  index  idx_predictions_user_id  predictions         5   \n",
       "4  table                 outcomes     outcomes         6   \n",
       "5  index     idx_outcomes_user_id     outcomes         7   \n",
       "\n",
       "                                                 sql  \n",
       "0     CREATE TABLE \"targets\" (\\n\"user_id\" INTEGER\\n)  \n",
       "1  CREATE INDEX idx_targets_user_id on targets(us...  \n",
       "2  CREATE TABLE \"predictions\" (\\n\"user_id\" INTEGE...  \n",
       "3  CREATE INDEX idx_predictions_user_id on predic...  \n",
       "4    CREATE TABLE \"outcomes\" (\\n\"user_id\" INTEGER\\n)  \n",
       "5  CREATE INDEX idx_outcomes_user_id on outcomes(...  "
      ]
     },
     "execution_count": 14,
     "metadata": {},
     "output_type": "execute_result"
    }
   ],
   "source": [
    "pd.read_sql(\"select * from sqlite_master\", conn)"
   ]
  },
  {
   "cell_type": "code",
   "execution_count": 59,
   "metadata": {},
   "outputs": [
    {
     "data": {
      "text/html": [
       "<div>\n",
       "<style scoped>\n",
       "    .dataframe tbody tr th:only-of-type {\n",
       "        vertical-align: middle;\n",
       "    }\n",
       "\n",
       "    .dataframe tbody tr th {\n",
       "        vertical-align: top;\n",
       "    }\n",
       "\n",
       "    .dataframe thead th {\n",
       "        text-align: right;\n",
       "    }\n",
       "</style>\n",
       "<table border=\"1\" class=\"dataframe\">\n",
       "  <thead>\n",
       "    <tr style=\"text-align: right;\">\n",
       "      <th></th>\n",
       "      <th>user_id</th>\n",
       "    </tr>\n",
       "  </thead>\n",
       "  <tbody>\n",
       "    <tr>\n",
       "      <th>0</th>\n",
       "      <td>777</td>\n",
       "    </tr>\n",
       "    <tr>\n",
       "      <th>1</th>\n",
       "      <td>1777</td>\n",
       "    </tr>\n",
       "    <tr>\n",
       "      <th>2</th>\n",
       "      <td>7777</td>\n",
       "    </tr>\n",
       "    <tr>\n",
       "      <th>3</th>\n",
       "      <td>8777</td>\n",
       "    </tr>\n",
       "    <tr>\n",
       "      <th>4</th>\n",
       "      <td>10777</td>\n",
       "    </tr>\n",
       "    <tr>\n",
       "      <th>...</th>\n",
       "      <td>...</td>\n",
       "    </tr>\n",
       "    <tr>\n",
       "      <th>179</th>\n",
       "      <td>578777</td>\n",
       "    </tr>\n",
       "    <tr>\n",
       "      <th>180</th>\n",
       "      <td>579777</td>\n",
       "    </tr>\n",
       "    <tr>\n",
       "      <th>181</th>\n",
       "      <td>582777</td>\n",
       "    </tr>\n",
       "    <tr>\n",
       "      <th>182</th>\n",
       "      <td>586777</td>\n",
       "    </tr>\n",
       "    <tr>\n",
       "      <th>183</th>\n",
       "      <td>587777</td>\n",
       "    </tr>\n",
       "  </tbody>\n",
       "</table>\n",
       "<p>184 rows × 1 columns</p>\n",
       "</div>"
      ],
      "text/plain": [
       "     user_id\n",
       "0        777\n",
       "1       1777\n",
       "2       7777\n",
       "3       8777\n",
       "4      10777\n",
       "..       ...\n",
       "179   578777\n",
       "180   579777\n",
       "181   582777\n",
       "182   586777\n",
       "183   587777\n",
       "\n",
       "[184 rows x 1 columns]"
      ]
     },
     "execution_count": 59,
     "metadata": {},
     "output_type": "execute_result"
    }
   ],
   "source": [
    "pd.read_sql(\"select * from targets\", conn)"
   ]
  },
  {
   "cell_type": "markdown",
   "metadata": {},
   "source": [
    "### Add tables"
   ]
  },
  {
   "cell_type": "code",
   "execution_count": 263,
   "metadata": {},
   "outputs": [
    {
     "data": {
      "text/plain": [
       "['targets', 'predictions', 'outcomes', 'tmp']"
      ]
     },
     "execution_count": 263,
     "metadata": {},
     "output_type": "execute_result"
    }
   ],
   "source": [
    "def db_tables():\n",
    "    res = conn.execute(\"select name from sqlite_master where type = 'table'\")\n",
    "    return [r[0] for r in res.fetchall()]\n",
    "\n",
    "\n",
    "db_tables()"
   ]
  },
  {
   "cell_type": "code",
   "execution_count": 272,
   "metadata": {},
   "outputs": [
    {
     "data": {
      "text/plain": [
       "array(['targets', 'predictions', 'outcomes', 'tmp'], dtype=object)"
      ]
     },
     "execution_count": 272,
     "metadata": {},
     "output_type": "execute_result"
    }
   ],
   "source": [
    "def db_tables():\n",
    "    query = \"select name from sqlite_master where type = 'table'\"\n",
    "    return pd.read_sql(query, conn).name.values\n",
    "\n",
    "\n",
    "db_tables()"
   ]
  },
  {
   "cell_type": "code",
   "execution_count": null,
   "metadata": {},
   "outputs": [],
   "source": [
    "def add_table(table, table_name):\n",
    "    \"\"\"Add table to database.\"\"\"\n",
    "    if table_name not in db_tables():\n",
    "        table.to_sql(table_name, conn, index=False)"
   ]
  },
  {
   "cell_type": "markdown",
   "metadata": {},
   "source": [
    "### Add columns"
   ]
  },
  {
   "cell_type": "code",
   "execution_count": 226,
   "metadata": {},
   "outputs": [
    {
     "data": {
      "text/plain": [
       "[('targets',), ('predictions',), ('outcomes',), ('tmp',)]"
      ]
     },
     "execution_count": 226,
     "metadata": {},
     "output_type": "execute_result"
    }
   ],
   "source": [
    "conn.execute(\"select name from sqlite_master\").fetchall()"
   ]
  },
  {
   "cell_type": "code",
   "execution_count": 277,
   "metadata": {},
   "outputs": [
    {
     "data": {
      "text/plain": [
       "array(['user_id', 'spendmax', 'spendmin', 'spendmean'], dtype=object)"
      ]
     },
     "execution_count": 277,
     "metadata": {},
     "output_type": "execute_result"
    }
   ],
   "source": [
    "def tab_cols(table, conn):\n",
    "    query = \"select name from pragma_table_info(?)\"\n",
    "    return pd.read_sql(query, conn, params=(table,)).name.values\n",
    "\n",
    "\n",
    "tab_cols(\"outcomes\", conn)"
   ]
  },
  {
   "cell_type": "code",
   "execution_count": 250,
   "metadata": {},
   "outputs": [
    {
     "data": {
      "text/plain": [
       "['user_id', 'spendmax', 'spendmin', 'spendmean']"
      ]
     },
     "execution_count": 250,
     "metadata": {},
     "output_type": "execute_result"
    }
   ],
   "source": [
    "def tab_cols(table):\n",
    "    \"\"\"List table columns.\"\"\"\n",
    "    res = c.execute(\"select name from pragma_table_info(?)\", (table,))\n",
    "    return [n[0] for n in res.fetchall()]\n",
    "\n",
    "\n",
    "tab_cols(\"outcomes\")"
   ]
  },
  {
   "cell_type": "code",
   "execution_count": 251,
   "metadata": {},
   "outputs": [],
   "source": [
    "def add_column(df, table):\n",
    "    \"\"\"Add column to table.\n",
    "\n",
    "    Input:\n",
    "        pd.DataFrame with columns ['user_id', 'col_name'].\n",
    "    \"\"\"\n",
    "    col_name = df.columns[1]\n",
    "    if col_name not in tab_cols(table):\n",
    "        df.to_sql(\"tmp\", conn, index=False)\n",
    "        conn.executescript(\n",
    "            f\"\"\"\n",
    "            alter table {table} add column {col_name};\n",
    "\n",
    "            update {table}\n",
    "            set {col_name} = (\n",
    "                select {col_name} from tmp\n",
    "                where {table}.user_id = tmp.user_id);\n",
    "\n",
    "            drop table tmp;\n",
    "            \"\"\"\n",
    "        )"
   ]
  },
  {
   "cell_type": "code",
   "execution_count": null,
   "metadata": {},
   "outputs": [],
   "source": [
    "def add_table(table):\n",
    "    \"\"\"Add table to database.\"\"\""
   ]
  },
  {
   "cell_type": "code",
   "execution_count": 252,
   "metadata": {},
   "outputs": [],
   "source": [
    "def spendmax(df):\n",
    "    return (\n",
    "        df.groupby(\"user_id\")\n",
    "        .apply(lambda u: u[u.amount > 0].amount.max())\n",
    "        .rename(\"spendmax\")\n",
    "        .reset_index()\n",
    "    )\n",
    "\n",
    "\n",
    "def spendmin(df):\n",
    "    return (\n",
    "        df.groupby(\"user_id\")\n",
    "        .apply(lambda u: u[u.amount > 0].amount.min())\n",
    "        .rename(\"spendmin\")\n",
    "        .reset_index()\n",
    "    )\n",
    "\n",
    "\n",
    "def spendmean(df):\n",
    "    return (\n",
    "        df.groupby(\"user_id\")\n",
    "        .apply(lambda u: u[u.amount > 0].amount.mean())\n",
    "        .rename(\"spendmean\")\n",
    "        .reset_index()\n",
    "    )"
   ]
  },
  {
   "cell_type": "code",
   "execution_count": 253,
   "metadata": {},
   "outputs": [
    {
     "data": {
      "text/html": [
       "<div>\n",
       "<style scoped>\n",
       "    .dataframe tbody tr th:only-of-type {\n",
       "        vertical-align: middle;\n",
       "    }\n",
       "\n",
       "    .dataframe tbody tr th {\n",
       "        vertical-align: top;\n",
       "    }\n",
       "\n",
       "    .dataframe thead th {\n",
       "        text-align: right;\n",
       "    }\n",
       "</style>\n",
       "<table border=\"1\" class=\"dataframe\">\n",
       "  <thead>\n",
       "    <tr style=\"text-align: right;\">\n",
       "      <th></th>\n",
       "      <th>user_id</th>\n",
       "      <th>spendmax</th>\n",
       "      <th>spendmin</th>\n",
       "      <th>spendmean</th>\n",
       "    </tr>\n",
       "  </thead>\n",
       "  <tbody>\n",
       "    <tr>\n",
       "      <th>0</th>\n",
       "      <td>60777</td>\n",
       "      <td>47885.449219</td>\n",
       "      <td>0.02</td>\n",
       "      <td>92.656956</td>\n",
       "    </tr>\n",
       "    <tr>\n",
       "      <th>1</th>\n",
       "      <td>64777</td>\n",
       "      <td>10000.000000</td>\n",
       "      <td>0.01</td>\n",
       "      <td>51.317209</td>\n",
       "    </tr>\n",
       "    <tr>\n",
       "      <th>2</th>\n",
       "      <td>777</td>\n",
       "      <td>4898.879883</td>\n",
       "      <td>0.01</td>\n",
       "      <td>54.275365</td>\n",
       "    </tr>\n",
       "    <tr>\n",
       "      <th>3</th>\n",
       "      <td>7777</td>\n",
       "      <td>22300.000000</td>\n",
       "      <td>0.07</td>\n",
       "      <td>111.685793</td>\n",
       "    </tr>\n",
       "    <tr>\n",
       "      <th>4</th>\n",
       "      <td>71777</td>\n",
       "      <td>4000.000000</td>\n",
       "      <td>0.01</td>\n",
       "      <td>146.197356</td>\n",
       "    </tr>\n",
       "    <tr>\n",
       "      <th>...</th>\n",
       "      <td>...</td>\n",
       "      <td>...</td>\n",
       "      <td>...</td>\n",
       "      <td>...</td>\n",
       "    </tr>\n",
       "    <tr>\n",
       "      <th>179</th>\n",
       "      <td>299777</td>\n",
       "      <td>20265.000000</td>\n",
       "      <td>0.10</td>\n",
       "      <td>79.127393</td>\n",
       "    </tr>\n",
       "    <tr>\n",
       "      <th>180</th>\n",
       "      <td>8777</td>\n",
       "      <td>14998.000000</td>\n",
       "      <td>0.01</td>\n",
       "      <td>378.858950</td>\n",
       "    </tr>\n",
       "    <tr>\n",
       "      <th>181</th>\n",
       "      <td>80777</td>\n",
       "      <td>17633.800781</td>\n",
       "      <td>0.03</td>\n",
       "      <td>130.221119</td>\n",
       "    </tr>\n",
       "    <tr>\n",
       "      <th>182</th>\n",
       "      <td>83777</td>\n",
       "      <td>35000.000000</td>\n",
       "      <td>0.01</td>\n",
       "      <td>86.623218</td>\n",
       "    </tr>\n",
       "    <tr>\n",
       "      <th>183</th>\n",
       "      <td>86777</td>\n",
       "      <td>8000.000000</td>\n",
       "      <td>0.04</td>\n",
       "      <td>93.136604</td>\n",
       "    </tr>\n",
       "  </tbody>\n",
       "</table>\n",
       "<p>184 rows × 4 columns</p>\n",
       "</div>"
      ],
      "text/plain": [
       "     user_id      spendmax  spendmin   spendmean\n",
       "0      60777  47885.449219      0.02   92.656956\n",
       "1      64777  10000.000000      0.01   51.317209\n",
       "2        777   4898.879883      0.01   54.275365\n",
       "3       7777  22300.000000      0.07  111.685793\n",
       "4      71777   4000.000000      0.01  146.197356\n",
       "..       ...           ...       ...         ...\n",
       "179   299777  20265.000000      0.10   79.127393\n",
       "180     8777  14998.000000      0.01  378.858950\n",
       "181    80777  17633.800781      0.03  130.221119\n",
       "182    83777  35000.000000      0.01   86.623218\n",
       "183    86777   8000.000000      0.04   93.136604\n",
       "\n",
       "[184 rows x 4 columns]"
      ]
     },
     "metadata": {},
     "output_type": "display_data"
    },
    {
     "data": {
      "text/html": [
       "<div>\n",
       "<style scoped>\n",
       "    .dataframe tbody tr th:only-of-type {\n",
       "        vertical-align: middle;\n",
       "    }\n",
       "\n",
       "    .dataframe tbody tr th {\n",
       "        vertical-align: top;\n",
       "    }\n",
       "\n",
       "    .dataframe thead th {\n",
       "        text-align: right;\n",
       "    }\n",
       "</style>\n",
       "<table border=\"1\" class=\"dataframe\">\n",
       "  <thead>\n",
       "    <tr style=\"text-align: right;\">\n",
       "      <th></th>\n",
       "      <th>user_id</th>\n",
       "      <th>spendmax</th>\n",
       "      <th>spendmin</th>\n",
       "      <th>spendmean</th>\n",
       "    </tr>\n",
       "  </thead>\n",
       "  <tbody>\n",
       "    <tr>\n",
       "      <th>0</th>\n",
       "      <td>60777</td>\n",
       "      <td>47885.449219</td>\n",
       "      <td>0.02</td>\n",
       "      <td>92.656956</td>\n",
       "    </tr>\n",
       "    <tr>\n",
       "      <th>1</th>\n",
       "      <td>64777</td>\n",
       "      <td>10000.000000</td>\n",
       "      <td>0.01</td>\n",
       "      <td>51.317209</td>\n",
       "    </tr>\n",
       "    <tr>\n",
       "      <th>2</th>\n",
       "      <td>777</td>\n",
       "      <td>4898.879883</td>\n",
       "      <td>0.01</td>\n",
       "      <td>54.275365</td>\n",
       "    </tr>\n",
       "    <tr>\n",
       "      <th>3</th>\n",
       "      <td>7777</td>\n",
       "      <td>22300.000000</td>\n",
       "      <td>0.07</td>\n",
       "      <td>111.685793</td>\n",
       "    </tr>\n",
       "    <tr>\n",
       "      <th>4</th>\n",
       "      <td>71777</td>\n",
       "      <td>4000.000000</td>\n",
       "      <td>0.01</td>\n",
       "      <td>146.197356</td>\n",
       "    </tr>\n",
       "    <tr>\n",
       "      <th>...</th>\n",
       "      <td>...</td>\n",
       "      <td>...</td>\n",
       "      <td>...</td>\n",
       "      <td>...</td>\n",
       "    </tr>\n",
       "    <tr>\n",
       "      <th>179</th>\n",
       "      <td>299777</td>\n",
       "      <td>20265.000000</td>\n",
       "      <td>0.10</td>\n",
       "      <td>79.127393</td>\n",
       "    </tr>\n",
       "    <tr>\n",
       "      <th>180</th>\n",
       "      <td>8777</td>\n",
       "      <td>14998.000000</td>\n",
       "      <td>0.01</td>\n",
       "      <td>378.858950</td>\n",
       "    </tr>\n",
       "    <tr>\n",
       "      <th>181</th>\n",
       "      <td>80777</td>\n",
       "      <td>17633.800781</td>\n",
       "      <td>0.03</td>\n",
       "      <td>130.221119</td>\n",
       "    </tr>\n",
       "    <tr>\n",
       "      <th>182</th>\n",
       "      <td>83777</td>\n",
       "      <td>35000.000000</td>\n",
       "      <td>0.01</td>\n",
       "      <td>86.623218</td>\n",
       "    </tr>\n",
       "    <tr>\n",
       "      <th>183</th>\n",
       "      <td>86777</td>\n",
       "      <td>8000.000000</td>\n",
       "      <td>0.04</td>\n",
       "      <td>93.136604</td>\n",
       "    </tr>\n",
       "  </tbody>\n",
       "</table>\n",
       "<p>184 rows × 4 columns</p>\n",
       "</div>"
      ],
      "text/plain": [
       "     user_id      spendmax  spendmin   spendmean\n",
       "0      60777  47885.449219      0.02   92.656956\n",
       "1      64777  10000.000000      0.01   51.317209\n",
       "2        777   4898.879883      0.01   54.275365\n",
       "3       7777  22300.000000      0.07  111.685793\n",
       "4      71777   4000.000000      0.01  146.197356\n",
       "..       ...           ...       ...         ...\n",
       "179   299777  20265.000000      0.10   79.127393\n",
       "180     8777  14998.000000      0.01  378.858950\n",
       "181    80777  17633.800781      0.03  130.221119\n",
       "182    83777  35000.000000      0.01   86.623218\n",
       "183    86777   8000.000000      0.04   93.136604\n",
       "\n",
       "[184 rows x 4 columns]"
      ]
     },
     "metadata": {},
     "output_type": "display_data"
    },
    {
     "data": {
      "text/html": [
       "<div>\n",
       "<style scoped>\n",
       "    .dataframe tbody tr th:only-of-type {\n",
       "        vertical-align: middle;\n",
       "    }\n",
       "\n",
       "    .dataframe tbody tr th {\n",
       "        vertical-align: top;\n",
       "    }\n",
       "\n",
       "    .dataframe thead th {\n",
       "        text-align: right;\n",
       "    }\n",
       "</style>\n",
       "<table border=\"1\" class=\"dataframe\">\n",
       "  <thead>\n",
       "    <tr style=\"text-align: right;\">\n",
       "      <th></th>\n",
       "      <th>user_id</th>\n",
       "      <th>spendmax</th>\n",
       "      <th>spendmin</th>\n",
       "      <th>spendmean</th>\n",
       "    </tr>\n",
       "  </thead>\n",
       "  <tbody>\n",
       "    <tr>\n",
       "      <th>0</th>\n",
       "      <td>60777</td>\n",
       "      <td>47885.449219</td>\n",
       "      <td>0.02</td>\n",
       "      <td>92.656956</td>\n",
       "    </tr>\n",
       "    <tr>\n",
       "      <th>1</th>\n",
       "      <td>64777</td>\n",
       "      <td>10000.000000</td>\n",
       "      <td>0.01</td>\n",
       "      <td>51.317209</td>\n",
       "    </tr>\n",
       "    <tr>\n",
       "      <th>2</th>\n",
       "      <td>777</td>\n",
       "      <td>4898.879883</td>\n",
       "      <td>0.01</td>\n",
       "      <td>54.275365</td>\n",
       "    </tr>\n",
       "    <tr>\n",
       "      <th>3</th>\n",
       "      <td>7777</td>\n",
       "      <td>22300.000000</td>\n",
       "      <td>0.07</td>\n",
       "      <td>111.685793</td>\n",
       "    </tr>\n",
       "    <tr>\n",
       "      <th>4</th>\n",
       "      <td>71777</td>\n",
       "      <td>4000.000000</td>\n",
       "      <td>0.01</td>\n",
       "      <td>146.197356</td>\n",
       "    </tr>\n",
       "    <tr>\n",
       "      <th>...</th>\n",
       "      <td>...</td>\n",
       "      <td>...</td>\n",
       "      <td>...</td>\n",
       "      <td>...</td>\n",
       "    </tr>\n",
       "    <tr>\n",
       "      <th>179</th>\n",
       "      <td>299777</td>\n",
       "      <td>20265.000000</td>\n",
       "      <td>0.10</td>\n",
       "      <td>79.127393</td>\n",
       "    </tr>\n",
       "    <tr>\n",
       "      <th>180</th>\n",
       "      <td>8777</td>\n",
       "      <td>14998.000000</td>\n",
       "      <td>0.01</td>\n",
       "      <td>378.858950</td>\n",
       "    </tr>\n",
       "    <tr>\n",
       "      <th>181</th>\n",
       "      <td>80777</td>\n",
       "      <td>17633.800781</td>\n",
       "      <td>0.03</td>\n",
       "      <td>130.221119</td>\n",
       "    </tr>\n",
       "    <tr>\n",
       "      <th>182</th>\n",
       "      <td>83777</td>\n",
       "      <td>35000.000000</td>\n",
       "      <td>0.01</td>\n",
       "      <td>86.623218</td>\n",
       "    </tr>\n",
       "    <tr>\n",
       "      <th>183</th>\n",
       "      <td>86777</td>\n",
       "      <td>8000.000000</td>\n",
       "      <td>0.04</td>\n",
       "      <td>93.136604</td>\n",
       "    </tr>\n",
       "  </tbody>\n",
       "</table>\n",
       "<p>184 rows × 4 columns</p>\n",
       "</div>"
      ],
      "text/plain": [
       "     user_id      spendmax  spendmin   spendmean\n",
       "0      60777  47885.449219      0.02   92.656956\n",
       "1      64777  10000.000000      0.01   51.317209\n",
       "2        777   4898.879883      0.01   54.275365\n",
       "3       7777  22300.000000      0.07  111.685793\n",
       "4      71777   4000.000000      0.01  146.197356\n",
       "..       ...           ...       ...         ...\n",
       "179   299777  20265.000000      0.10   79.127393\n",
       "180     8777  14998.000000      0.01  378.858950\n",
       "181    80777  17633.800781      0.03  130.221119\n",
       "182    83777  35000.000000      0.01   86.623218\n",
       "183    86777   8000.000000      0.04   93.136604\n",
       "\n",
       "[184 rows x 4 columns]"
      ]
     },
     "metadata": {},
     "output_type": "display_data"
    }
   ],
   "source": [
    "outcomes = [spendmax, spendmin, spendmean]\n",
    "\n",
    "for outcome in outcomes:\n",
    "    add_column(outcome(df), \"outcomes\")\n",
    "    display(pd.read_sql(\"select * from outcomes\", conn))"
   ]
  },
  {
   "cell_type": "markdown",
   "metadata": {},
   "source": [
    "### Connection info"
   ]
  },
  {
   "cell_type": "markdown",
   "metadata": {},
   "source": [
    "[PRAGMA](https://www.sqlite.org/pragma.html) is your friend for this and many other pieces of metadata."
   ]
  },
  {
   "cell_type": "markdown",
   "metadata": {},
   "source": [
    "List databases attached to the current connection"
   ]
  },
  {
   "cell_type": "code",
   "execution_count": 35,
   "metadata": {},
   "outputs": [
    {
     "data": {
      "text/html": [
       "<div>\n",
       "<style scoped>\n",
       "    .dataframe tbody tr th:only-of-type {\n",
       "        vertical-align: middle;\n",
       "    }\n",
       "\n",
       "    .dataframe tbody tr th {\n",
       "        vertical-align: top;\n",
       "    }\n",
       "\n",
       "    .dataframe thead th {\n",
       "        text-align: right;\n",
       "    }\n",
       "</style>\n",
       "<table border=\"1\" class=\"dataframe\">\n",
       "  <thead>\n",
       "    <tr style=\"text-align: right;\">\n",
       "      <th></th>\n",
       "      <th>seq</th>\n",
       "      <th>name</th>\n",
       "      <th>file</th>\n",
       "    </tr>\n",
       "  </thead>\n",
       "  <tbody>\n",
       "    <tr>\n",
       "      <th>0</th>\n",
       "      <td>0</td>\n",
       "      <td>main</td>\n",
       "      <td>/Users/fgu/Library/Mobile Documents/com~apple~...</td>\n",
       "    </tr>\n",
       "  </tbody>\n",
       "</table>\n",
       "</div>"
      ],
      "text/plain": [
       "   seq  name                                               file\n",
       "0    0  main  /Users/fgu/Library/Mobile Documents/com~apple~..."
      ]
     },
     "execution_count": 35,
     "metadata": {},
     "output_type": "execute_result"
    }
   ],
   "source": [
    "pd.read_sql_query(\"select * from pragma_database_list\", conn)"
   ]
  },
  {
   "cell_type": "markdown",
   "metadata": {},
   "source": [
    "### Database info"
   ]
  },
  {
   "cell_type": "markdown",
   "metadata": {},
   "source": [
    "List tables attached to a database"
   ]
  },
  {
   "cell_type": "code",
   "execution_count": 46,
   "metadata": {},
   "outputs": [
    {
     "data": {
      "text/html": [
       "<div>\n",
       "<style scoped>\n",
       "    .dataframe tbody tr th:only-of-type {\n",
       "        vertical-align: middle;\n",
       "    }\n",
       "\n",
       "    .dataframe tbody tr th {\n",
       "        vertical-align: top;\n",
       "    }\n",
       "\n",
       "    .dataframe thead th {\n",
       "        text-align: right;\n",
       "    }\n",
       "</style>\n",
       "<table border=\"1\" class=\"dataframe\">\n",
       "  <thead>\n",
       "    <tr style=\"text-align: right;\">\n",
       "      <th></th>\n",
       "      <th>type</th>\n",
       "      <th>name</th>\n",
       "      <th>tbl_name</th>\n",
       "      <th>rootpage</th>\n",
       "      <th>sql</th>\n",
       "    </tr>\n",
       "  </thead>\n",
       "  <tbody>\n",
       "    <tr>\n",
       "      <th>0</th>\n",
       "      <td>table</td>\n",
       "      <td>targets</td>\n",
       "      <td>targets</td>\n",
       "      <td>2</td>\n",
       "      <td>CREATE TABLE targets(\\n            user_id int...</td>\n",
       "    </tr>\n",
       "    <tr>\n",
       "      <th>1</th>\n",
       "      <td>table</td>\n",
       "      <td>predict</td>\n",
       "      <td>predict</td>\n",
       "      <td>3</td>\n",
       "      <td>CREATE TABLE predict(\\n            user_id int...</td>\n",
       "    </tr>\n",
       "    <tr>\n",
       "      <th>2</th>\n",
       "      <td>table</td>\n",
       "      <td>outcomes</td>\n",
       "      <td>outcomes</td>\n",
       "      <td>4</td>\n",
       "      <td>CREATE TABLE outcomes(\\n            user_id in...</td>\n",
       "    </tr>\n",
       "  </tbody>\n",
       "</table>\n",
       "</div>"
      ],
      "text/plain": [
       "    type      name  tbl_name  rootpage  \\\n",
       "0  table   targets   targets         2   \n",
       "1  table   predict   predict         3   \n",
       "2  table  outcomes  outcomes         4   \n",
       "\n",
       "                                                 sql  \n",
       "0  CREATE TABLE targets(\\n            user_id int...  \n",
       "1  CREATE TABLE predict(\\n            user_id int...  \n",
       "2  CREATE TABLE outcomes(\\n            user_id in...  "
      ]
     },
     "execution_count": 46,
     "metadata": {},
     "output_type": "execute_result"
    }
   ],
   "source": [
    "pd.read_sql_query(\n",
    "    \"\"\"\n",
    "    select\n",
    "        *\n",
    "    from\n",
    "        sqlite_master\n",
    "    where\n",
    "        type = 'table' and\n",
    "        name not like 'sqlite_%'\n",
    "    \"\"\",\n",
    "    conn,\n",
    ")"
   ]
  },
  {
   "cell_type": "markdown",
   "metadata": {},
   "source": [
    "List indices attached to database"
   ]
  },
  {
   "cell_type": "code",
   "execution_count": 69,
   "metadata": {},
   "outputs": [
    {
     "data": {
      "text/html": [
       "<div>\n",
       "<style scoped>\n",
       "    .dataframe tbody tr th:only-of-type {\n",
       "        vertical-align: middle;\n",
       "    }\n",
       "\n",
       "    .dataframe tbody tr th {\n",
       "        vertical-align: top;\n",
       "    }\n",
       "\n",
       "    .dataframe thead th {\n",
       "        text-align: right;\n",
       "    }\n",
       "</style>\n",
       "<table border=\"1\" class=\"dataframe\">\n",
       "  <thead>\n",
       "    <tr style=\"text-align: right;\">\n",
       "      <th></th>\n",
       "      <th>type</th>\n",
       "      <th>name</th>\n",
       "      <th>tbl_name</th>\n",
       "      <th>rootpage</th>\n",
       "      <th>sql</th>\n",
       "    </tr>\n",
       "  </thead>\n",
       "  <tbody>\n",
       "  </tbody>\n",
       "</table>\n",
       "</div>"
      ],
      "text/plain": [
       "Empty DataFrame\n",
       "Columns: [type, name, tbl_name, rootpage, sql]\n",
       "Index: []"
      ]
     },
     "execution_count": 69,
     "metadata": {},
     "output_type": "execute_result"
    }
   ],
   "source": [
    "pd.read_sql_query(\n",
    "    \"\"\"\n",
    "select\n",
    "    *\n",
    "from\n",
    "    sqlite_master\n",
    "where\n",
    "    type = 'index'\n",
    "\"\"\",\n",
    "    conn,\n",
    ")"
   ]
  },
  {
   "cell_type": "markdown",
   "metadata": {},
   "source": [
    "### Table info"
   ]
  },
  {
   "cell_type": "markdown",
   "metadata": {},
   "source": [
    "List columns attached to a table"
   ]
  },
  {
   "cell_type": "code",
   "execution_count": 13,
   "metadata": {},
   "outputs": [
    {
     "data": {
      "text/html": [
       "<div>\n",
       "<style scoped>\n",
       "    .dataframe tbody tr th:only-of-type {\n",
       "        vertical-align: middle;\n",
       "    }\n",
       "\n",
       "    .dataframe tbody tr th {\n",
       "        vertical-align: top;\n",
       "    }\n",
       "\n",
       "    .dataframe thead th {\n",
       "        text-align: right;\n",
       "    }\n",
       "</style>\n",
       "<table border=\"1\" class=\"dataframe\">\n",
       "  <thead>\n",
       "    <tr style=\"text-align: right;\">\n",
       "      <th></th>\n",
       "      <th>cid</th>\n",
       "      <th>name</th>\n",
       "      <th>type</th>\n",
       "      <th>notnull</th>\n",
       "      <th>dflt_value</th>\n",
       "      <th>pk</th>\n",
       "    </tr>\n",
       "  </thead>\n",
       "  <tbody>\n",
       "    <tr>\n",
       "      <th>0</th>\n",
       "      <td>0</td>\n",
       "      <td>user_id</td>\n",
       "      <td>integer</td>\n",
       "      <td>0</td>\n",
       "      <td>None</td>\n",
       "      <td>1</td>\n",
       "    </tr>\n",
       "  </tbody>\n",
       "</table>\n",
       "</div>"
      ],
      "text/plain": [
       "   cid     name     type  notnull dflt_value  pk\n",
       "0    0  user_id  integer        0       None   1"
      ]
     },
     "execution_count": 13,
     "metadata": {},
     "output_type": "execute_result"
    }
   ],
   "source": [
    "table = (\"targets\",)\n",
    "pd.read_sql_query(\"select * from pragma_table_info(?)\", conn, params=table)"
   ]
  },
  {
   "cell_type": "markdown",
   "metadata": {},
   "source": [
    "Get structure of a table"
   ]
  },
  {
   "cell_type": "code",
   "execution_count": 58,
   "metadata": {},
   "outputs": [
    {
     "name": "stdout",
     "output_type": "stream",
     "text": [
      "CREATE TABLE targets(\n",
      "            user_id integer primary key\n",
      "        )\n"
     ]
    }
   ],
   "source": [
    "print(c.execute(\"select sql from sqlite_master where name = ?\", table).fetchall()[0][0])"
   ]
  },
  {
   "cell_type": "markdown",
   "metadata": {},
   "source": [
    "Indices associated with a table"
   ]
  },
  {
   "cell_type": "code",
   "execution_count": 67,
   "metadata": {},
   "outputs": [
    {
     "data": {
      "text/plain": [
       "[]"
      ]
     },
     "execution_count": 67,
     "metadata": {},
     "output_type": "execute_result"
    }
   ],
   "source": [
    "c.execute(\"pragma index_list('targets')\").fetchall()"
   ]
  },
  {
   "cell_type": "markdown",
   "metadata": {},
   "source": [
    "## Misc usefuls stuff"
   ]
  },
  {
   "cell_type": "markdown",
   "metadata": {},
   "source": [
    "Move content of one table to another table"
   ]
  },
  {
   "cell_type": "code",
   "execution_count": null,
   "metadata": {},
   "outputs": [],
   "source": [
    "c.execute(\"\"\"insert into new_table select * from old_table\"\"\")"
   ]
  },
  {
   "cell_type": "markdown",
   "metadata": {},
   "source": [
    "Vacuum database regularly after altering tables or columns to free up overhead and reduce disk space."
   ]
  },
  {
   "cell_type": "code",
   "execution_count": 64,
   "metadata": {},
   "outputs": [
    {
     "data": {
      "text/plain": [
       "<sqlite3.Cursor at 0x11c74a650>"
      ]
     },
     "execution_count": 64,
     "metadata": {},
     "output_type": "execute_result"
    }
   ],
   "source": [
    "c.execute(\"vacuum;\")"
   ]
  },
  {
   "cell_type": "markdown",
   "metadata": {},
   "source": [
    "### Enable foreign key constraints"
   ]
  },
  {
   "cell_type": "code",
   "execution_count": 9,
   "metadata": {},
   "outputs": [
    {
     "data": {
      "text/plain": [
       "[(0,)]"
      ]
     },
     "execution_count": 9,
     "metadata": {},
     "output_type": "execute_result"
    }
   ],
   "source": [
    "c.execute(\"select * from pragma_foreign_keys\").fetchall()"
   ]
  },
  {
   "cell_type": "code",
   "execution_count": 10,
   "metadata": {},
   "outputs": [
    {
     "data": {
      "text/plain": [
       "[(1,)]"
      ]
     },
     "execution_count": 10,
     "metadata": {},
     "output_type": "execute_result"
    }
   ],
   "source": [
    "c.execute(\"pragma foreign_keys=on\")\n",
    "c.execute(\"select * from pragma_foreign_keys\").fetchall()"
   ]
  },
  {
   "cell_type": "code",
   "execution_count": 11,
   "metadata": {},
   "outputs": [
    {
     "data": {
      "text/plain": [
       "[(0,)]"
      ]
     },
     "execution_count": 11,
     "metadata": {},
     "output_type": "execute_result"
    }
   ],
   "source": [
    "c.execute(\"pragma foreign_keys=off\")\n",
    "c.execute(\"select * from pragma_foreign_keys\").fetchall()"
   ]
  },
  {
   "cell_type": "markdown",
   "metadata": {},
   "source": [
    "### Use `namedtuple()`"
   ]
  },
  {
   "cell_type": "code",
   "execution_count": 111,
   "metadata": {},
   "outputs": [
    {
     "data": {
      "text/plain": [
       "[('user_id', 'integer', 1)]"
      ]
     },
     "execution_count": 111,
     "metadata": {},
     "output_type": "execute_result"
    }
   ],
   "source": [
    "from collections import namedtuple\n",
    "\n",
    "TableInfo = namedtuple(\"TableInfo\", \"cid, name, type, notnull, dflt_value, pk\")\n",
    "\n",
    "\n",
    "def tab_cols(table):\n",
    "    \"\"\"List table columns.\"\"\"\n",
    "    raw_cols = c.execute(\"select * from pragma_table_info(?)\", (table,)).fetchall()\n",
    "    named_cols = map(TableInfo._make, raw_cols)\n",
    "    return [(c.name, c.type, c.pk) for c in named_cols]\n",
    "\n",
    "\n",
    "tab_cols(\"outcomes\")"
   ]
  },
  {
   "cell_type": "markdown",
   "metadata": {},
   "source": [
    "The above deliberately overuses `namedtuple` for practice."
   ]
  },
  {
   "cell_type": "markdown",
   "metadata": {},
   "source": [
    "### Use namedtuple"
   ]
  },
  {
   "cell_type": "markdown",
   "metadata": {},
   "source": [
    "This is useful, and we can guess that the second element in each tuple is the column name. But it would be nice to know what the remaining information is, and then to be able to refer to different pieces of information by their name."
   ]
  },
  {
   "cell_type": "markdown",
   "metadata": {},
   "source": [
    "To find out what each piece of information is, we can either check out the [PRAGMA docs](https://sqlite.org/pragma.html#pragma_table_info) or, what I find even more useful, can use Pandas like so: (ideally, there would be a way to retrieve column names directly from the query, but I haven't been able to find any way to do so.)"
   ]
  },
  {
   "cell_type": "code",
   "execution_count": 62,
   "metadata": {},
   "outputs": [
    {
     "data": {
      "text/html": [
       "<div>\n",
       "<style scoped>\n",
       "    .dataframe tbody tr th:only-of-type {\n",
       "        vertical-align: middle;\n",
       "    }\n",
       "\n",
       "    .dataframe tbody tr th {\n",
       "        vertical-align: top;\n",
       "    }\n",
       "\n",
       "    .dataframe thead th {\n",
       "        text-align: right;\n",
       "    }\n",
       "</style>\n",
       "<table border=\"1\" class=\"dataframe\">\n",
       "  <thead>\n",
       "    <tr style=\"text-align: right;\">\n",
       "      <th></th>\n",
       "      <th>cid</th>\n",
       "      <th>name</th>\n",
       "      <th>type</th>\n",
       "      <th>notnull</th>\n",
       "      <th>dflt_value</th>\n",
       "      <th>pk</th>\n",
       "    </tr>\n",
       "  </thead>\n",
       "  <tbody>\n",
       "    <tr>\n",
       "      <th>0</th>\n",
       "      <td>0</td>\n",
       "      <td>name</td>\n",
       "      <td>text</td>\n",
       "      <td>0</td>\n",
       "      <td>None</td>\n",
       "      <td>0</td>\n",
       "    </tr>\n",
       "    <tr>\n",
       "      <th>1</th>\n",
       "      <td>1</td>\n",
       "      <td>quantity</td>\n",
       "      <td>real</td>\n",
       "      <td>0</td>\n",
       "      <td>None</td>\n",
       "      <td>0</td>\n",
       "    </tr>\n",
       "    <tr>\n",
       "      <th>2</th>\n",
       "      <td>2</td>\n",
       "      <td>price</td>\n",
       "      <td>real</td>\n",
       "      <td>0</td>\n",
       "      <td>None</td>\n",
       "      <td>0</td>\n",
       "    </tr>\n",
       "  </tbody>\n",
       "</table>\n",
       "</div>"
      ],
      "text/plain": [
       "   cid      name  type  notnull dflt_value  pk\n",
       "0    0      name  text        0       None   0\n",
       "1    1  quantity  real        0       None   0\n",
       "2    2     price  real        0       None   0"
      ]
     },
     "execution_count": 62,
     "metadata": {},
     "output_type": "execute_result"
    }
   ],
   "source": [
    "import pandas as pd\n",
    "\n",
    "tabinf = pd.read_sql_query(\"select * from pragma_table_info('stocks')\", conn)\n",
    "tabinf"
   ]
  },
  {
   "cell_type": "markdown",
   "metadata": {},
   "source": [
    "To label the pieces in the `table_cols` function, we can store the column names and create a `namedtuple()` ([docs](https://docs.python.org/3/library/collections.html#namedtuple-factory-function-for-tuples-with-named-fields))."
   ]
  },
  {
   "cell_type": "code",
   "execution_count": 114,
   "metadata": {},
   "outputs": [],
   "source": [
    "from collections import namedtuple\n",
    "\n",
    "TableInfo = namedtuple(\"TableInfo\", \"cid, name, type, notnull, dflt_value, pk\")"
   ]
  },
  {
   "cell_type": "markdown",
   "metadata": {},
   "source": [
    "Mapping each tuple in the list that `table_info()` returns to our named tuple, we get the following:"
   ]
  },
  {
   "cell_type": "code",
   "execution_count": 106,
   "metadata": {},
   "outputs": [
    {
     "name": "stdout",
     "output_type": "stream",
     "text": [
      "TableInfo(cid=0, name='name', type='text', notnull=0, dflt_value=None, pk=0)\n",
      "TableInfo(cid=1, name='quantity', type='real', notnull=0, dflt_value=None, pk=0)\n",
      "TableInfo(cid=2, name='price', type='real', notnull=0, dflt_value=None, pk=0)\n"
     ]
    }
   ],
   "source": [
    "for a in map(TableInfo._make, table_cols(table)):\n",
    "    print(a)"
   ]
  },
  {
   "cell_type": "markdown",
   "metadata": {},
   "source": [
    "Or, what we really want:"
   ]
  },
  {
   "cell_type": "code",
   "execution_count": 107,
   "metadata": {},
   "outputs": [
    {
     "name": "stdout",
     "output_type": "stream",
     "text": [
      "name\n",
      "quantity\n",
      "price\n"
     ]
    }
   ],
   "source": [
    "for a in map(TableInfo._make, table_cols(table)):\n",
    "    print(a.name)"
   ]
  },
  {
   "cell_type": "markdown",
   "metadata": {},
   "source": [
    "We can now update our `table_cols` function."
   ]
  },
  {
   "cell_type": "markdown",
   "metadata": {},
   "source": [
    "### Adding a table with a row of data"
   ]
  },
  {
   "cell_type": "code",
   "execution_count": null,
   "metadata": {},
   "outputs": [],
   "source": [
    "# Create cursor\n",
    "c = conn.cursor()\n",
    "\n",
    "# Create table\n",
    "c.execute(\n",
    "    \"\"\"CREATE TABLE stocks\n",
    "             (date text, trans text, symbol text, qty real, price real)\"\"\"\n",
    ")\n",
    "\n",
    "# Insert a row of data\n",
    "c.execute(\"INSERT INTO stocks VALUES ('2006-01-05','BUY','RHAT',100,35.14)\")\n",
    "\n",
    "# Save (commit) changes\n",
    "conn.commit()\n",
    "\n",
    "# Close connection\n",
    "conn.close()"
   ]
  },
  {
   "cell_type": "markdown",
   "metadata": {},
   "source": [
    "To check that the database now contains our stocks table, list all its tables."
   ]
  },
  {
   "cell_type": "code",
   "execution_count": 102,
   "metadata": {},
   "outputs": [
    {
     "data": {
      "text/plain": [
       "[('stocks',)]"
      ]
     },
     "execution_count": 102,
     "metadata": {},
     "output_type": "execute_result"
    }
   ],
   "source": [
    "conn = sqlite3.connect(db_path)\n",
    "c = conn.cursor()\n",
    "c.execute(\"select name from sqlite_master where type = 'table'\").fetchall()"
   ]
  },
  {
   "cell_type": "markdown",
   "metadata": {},
   "source": [
    "### Retrieving data"
   ]
  },
  {
   "cell_type": "code",
   "execution_count": 83,
   "metadata": {},
   "outputs": [
    {
     "data": {
      "text/plain": [
       "[('2006-01-05', 'BUY', 'RHAT', 100.0, 35.14)]"
      ]
     },
     "execution_count": 83,
     "metadata": {},
     "output_type": "execute_result"
    }
   ],
   "source": [
    "conn = sqlite3.connect(db_path)\n",
    "c = conn.cursor()\n",
    "c.execute(\"SELECT * FROM stocks\").fetchall()"
   ]
  },
  {
   "cell_type": "markdown",
   "metadata": {},
   "source": [
    "When adding Python variables to the query, never use string substitution directly like so:"
   ]
  },
  {
   "cell_type": "code",
   "execution_count": 89,
   "metadata": {},
   "outputs": [
    {
     "data": {
      "text/plain": [
       "[('2006-01-05', 'BUY', 'RHAT', 100.0, 35.14)]"
      ]
     },
     "execution_count": 89,
     "metadata": {},
     "output_type": "execute_result"
    }
   ],
   "source": [
    "symbol = \"RHAT\"\n",
    "c.execute(f\"select * from stocks where symbol = '{symbol}'\").fetchall()"
   ]
  },
  {
   "cell_type": "markdown",
   "metadata": {},
   "source": [
    "While this works, it's vulnerable to [injection attacks](https://xkcd.com/327/). Use parameter substition instead. Either using question marks like so"
   ]
  },
  {
   "cell_type": "code",
   "execution_count": 91,
   "metadata": {},
   "outputs": [
    {
     "data": {
      "text/plain": [
       "[('2006-01-05', 'BUY', 'RHAT', 100.0, 35.14)]"
      ]
     },
     "execution_count": 91,
     "metadata": {},
     "output_type": "execute_result"
    }
   ],
   "source": [
    "symbol = (\"RHAT\",)\n",
    "c.execute(\"select * from stocks where symbol = ?\", symbol).fetchall()"
   ]
  },
  {
   "cell_type": "markdown",
   "metadata": {},
   "source": [
    "or using named placedholders like so"
   ]
  },
  {
   "cell_type": "code",
   "execution_count": 96,
   "metadata": {},
   "outputs": [
    {
     "data": {
      "text/plain": [
       "[('2006-01-05', 'BUY', 'RHAT', 100.0, 35.14)]"
      ]
     },
     "execution_count": 96,
     "metadata": {},
     "output_type": "execute_result"
    }
   ],
   "source": [
    "c.execute(\"select * from stocks where symbol = :symbol\", {\"symbol\": \"RHAT\"}).fetchall()"
   ]
  },
  {
   "cell_type": "markdown",
   "metadata": {},
   "source": [
    "### Why do I need `fetchall()` after `cursor.execute()`?"
   ]
  },
  {
   "cell_type": "markdown",
   "metadata": {},
   "source": [
    "Because the `curse.execute()` returns an iterater object containing all query results."
   ]
  },
  {
   "cell_type": "markdown",
   "metadata": {},
   "source": [
    "### Using namedtuples"
   ]
  },
  {
   "cell_type": "code",
   "execution_count": null,
   "metadata": {},
   "outputs": [],
   "source": [
    "EmployeeRecord = namedtuple(\"EmployeeRecord\", \"name, age, title, department, paygrade\")\n",
    "\n",
    "import csv\n",
    "\n",
    "for emp in map(EmployeeRecord._make, csv.reader(open(\"employees.csv\", \"rb\"))):\n",
    "    print emp.name, emp.title\n",
    "\n",
    "import sqlite3\n",
    "\n",
    "conn = sqlite3.connect(\"/companydata\")\n",
    "cursor = conn.cursor()\n",
    "cursor.execute(\"SELECT name, age, title, department, paygrade FROM employees\")\n",
    "for emp in map(EmployeeRecord._make, cursor.fetchall()):\n",
    "    print emp.name, emp.title"
   ]
  },
  {
   "cell_type": "markdown",
   "metadata": {},
   "source": [
    "## Using Pandas"
   ]
  },
  {
   "cell_type": "markdown",
   "metadata": {},
   "source": [
    "Pandas is a very handy way to interact with databased in Python, as it makes dumping and retrieving dataframes very easy."
   ]
  },
  {
   "cell_type": "code",
   "execution_count": 39,
   "metadata": {},
   "outputs": [
    {
     "data": {
      "text/html": [
       "<div>\n",
       "<style scoped>\n",
       "    .dataframe tbody tr th:only-of-type {\n",
       "        vertical-align: middle;\n",
       "    }\n",
       "\n",
       "    .dataframe tbody tr th {\n",
       "        vertical-align: top;\n",
       "    }\n",
       "\n",
       "    .dataframe thead th {\n",
       "        text-align: right;\n",
       "    }\n",
       "</style>\n",
       "<table border=\"1\" class=\"dataframe\">\n",
       "  <thead>\n",
       "    <tr style=\"text-align: right;\">\n",
       "      <th></th>\n",
       "      <th>date</th>\n",
       "      <th>trans</th>\n",
       "      <th>symbol</th>\n",
       "      <th>qty</th>\n",
       "      <th>price</th>\n",
       "      <th>newcol</th>\n",
       "    </tr>\n",
       "  </thead>\n",
       "  <tbody>\n",
       "    <tr>\n",
       "      <th>0</th>\n",
       "      <td>2006-01-05</td>\n",
       "      <td>BUY</td>\n",
       "      <td>RHAT</td>\n",
       "      <td>100.0</td>\n",
       "      <td>35.14</td>\n",
       "      <td>None</td>\n",
       "    </tr>\n",
       "  </tbody>\n",
       "</table>\n",
       "</div>"
      ],
      "text/plain": [
       "         date trans symbol    qty  price newcol\n",
       "0  2006-01-05   BUY   RHAT  100.0  35.14   None"
      ]
     },
     "execution_count": 39,
     "metadata": {},
     "output_type": "execute_result"
    }
   ],
   "source": [
    "import pandas as pd\n",
    "\n",
    "pd.read_sql_query(\"SELECT * FROM stocks\", conn)"
   ]
  },
  {
   "cell_type": "markdown",
   "metadata": {},
   "source": [
    "## SQLAlchemy"
   ]
  },
  {
   "cell_type": "markdown",
   "metadata": {},
   "source": [
    "Summary of [this](https://www.youtube.com/watch?time_continue=1481&v=woKYyhLCcnU&feature=emb_logo) video."
   ]
  },
  {
   "cell_type": "markdown",
   "metadata": {},
   "source": [
    "## SQL best practices\n",
    "\n",
    "- Avoid * in queries to have full control of returned columns (e.g. in case where table changes).\n",
    "\n"
   ]
  },
  {
   "cell_type": "markdown",
   "metadata": {},
   "source": [
    "## Sources\n",
    "\n",
    "- [SQLite docs](https://www.sqlite.org/docs.html)\n",
    "- [sqite3 docs](https://docs.python.org/3/library/sqlite3.html)\n",
    "- [sqlite tutorial](https://www.sqlitetutorial.net)"
   ]
  },
  {
   "cell_type": "markdown",
   "metadata": {},
   "source": [
    "## === Old notes to integrate ==="
   ]
  },
  {
   "cell_type": "markdown",
   "metadata": {},
   "source": [
    "```\n",
    "# Selecting rows from a table\n",
    "\n",
    "SELECT col FROM table;\n",
    "SELECT col1, col2 FROM table;\n",
    "SELECT * FROM table LIMIT 10;\n",
    "SELECT DISTINCT col_values FROM table;\n",
    "\n",
    "\n",
    "# Counting\n",
    "\n",
    "SELECT COUNT(*) FROM table;\t\t\t\t# Count rows of table\n",
    "SELECT COUNT(col) FROM table;\t\t\t# Count non-missing values in col\n",
    "SELECT COUNT(DISTINCT col) FROM table;\t# Count distinct values in col\n",
    "\n",
    "\n",
    "# Filtering\n",
    "\n",
    "SELECT * FROM table WHERE col1 > 2010:\t# Get rows for which col1 > 2010\n",
    "SELECT COUNT(*) FROM table WHERE x < y\t# Count number of rows for which x < y\n",
    "SELECT * FROM table WHERE x > Y AND y < z\n",
    "SELECT * FROM table WHERE x > Y OR y < z\n",
    "SELECT * FROM table WHERE x BETWEEN a AND b \t# between a and b inclusive\n",
    "SELECT * FROM table WHERE x IN (a, b, c)\n",
    "\n",
    "SELECT title FROM films\n",
    "WHERE (release_year = 1994 OR release_year = 1995)\n",
    "AND (certification = 'PG' OR certification = 'R');\n",
    "\n",
    "\n",
    "# Filter based on results from aggregate function\n",
    "\n",
    "SELECT release_year\n",
    "FROM films\n",
    "GROUP BY release_year\n",
    "HAVING COUNT(title) > 10;\n",
    "\n",
    "\n",
    "# Missing values\n",
    "\n",
    "SELECT COUNT(*)\n",
    "FROM people\n",
    "WHERE birthdate IS NULL;\n",
    "\n",
    "SELECT name\n",
    "FROM people\n",
    "WHERE birthdate IS NOT NULL;\n",
    "\n",
    "\n",
    "# Wildcards\n",
    "\n",
    "SELECT name\n",
    "FROM companies\n",
    "WHERE name LIKE 'Data%';\t\t# % matches zero, one, or many characters\n",
    "\n",
    "SELECT name\n",
    "FROM companies\n",
    "WHERE name LIKE 'DataC_mp';\t\t# _ matches exactly one character\n",
    "\n",
    "SELECT name\n",
    "FROM people\n",
    "WHERE name NOT LIKE 'A%';\n",
    "\n",
    "\n",
    "# Aggregate functions\n",
    "\n",
    "SELECT AVG(budget)\t\t# Also MAX, MIN, SUM,\n",
    "FROM films;\n",
    "\n",
    "\n",
    "# Aliasing\n",
    "\n",
    "SELECT MAX(budget) AS max_budget,\n",
    "       MAX(duration) AS max_duration\n",
    "FROM films;\n",
    "\n",
    "\n",
    "# Arithmetic\n",
    "\n",
    "SELECT COUNT(deathdate) * 100.0 / COUNT(*) AS percentage_dead\n",
    "FROM people\n",
    "\n",
    "\n",
    "# Order by\n",
    "\n",
    "SELECT title\n",
    "FROM films\n",
    "ORDER BY release_year;\n",
    "\n",
    "SELECT title\n",
    "FROM films\n",
    "ORDER BY release_year DESC;\n",
    "\n",
    "\n",
    "# Group by\n",
    "\n",
    "SELECT sex, count(*)\n",
    "FROM employees\n",
    "GROUP BY sex;\n",
    "\n",
    "SELECT release_year, MAX(budget)\n",
    "FROM films\n",
    "GROUP BY release_year;\n",
    "\n",
    "\n",
    "# Building a database\n",
    "#######################\n",
    "\n",
    "\n",
    "# Create tables\n",
    "\n",
    "CREATE TABLE professors (\n",
    " firstname text,\n",
    " lastname text\n",
    ");\n",
    "\n",
    "\n",
    "# Alter tables\n",
    "\n",
    "ALTER TABLE table_name\n",
    "ADD COLUMN column_name data_type;\n",
    "\n",
    "ALTER TABLE table_name\n",
    "DROP COLUMN column_name;\n",
    "\n",
    "ALTER TABLE table_name\n",
    "RENAME COLUMN old_name TO new_name;\n",
    "\n",
    "DROP TABLE table_name\n",
    "\n",
    "\n",
    "# Insert values\n",
    "\n",
    "INSERT INTO transactions (transaction_date, amount, fee)\n",
    "VALUES ('2018-09-24', 5454, '30');\n",
    "\n",
    "SELECT transaction_date, amount + CAST(fee AS integer) AS net_amount\n",
    "FROM transactions;\n",
    "\n",
    "# Migrating data\n",
    "\n",
    "INSERT INTO target_table\n",
    "SELECT DISTINCT column_names\n",
    "FROM source_table;\n",
    "\n",
    "\n",
    "# Integrity constraints\n",
    "# 1. Attribute constraints (data types)\n",
    "# 2. Key constraints (primary keys)\n",
    "# 3. Referential integrity constraints (enforced through foreign keys)\n",
    "\n",
    "\n",
    "# Attribute constraints\n",
    "\n",
    "ALTER TABLE professors\n",
    "ALTER COLUMN firstname\n",
    "TYPE varchar(16)\n",
    "USING SUBSTRING(firstname FROM 1 FOR 16)\n",
    "\n",
    "ALTER TABLE professors\n",
    "ALTER COLUMN firstname\n",
    "SET NOT NULL;\n",
    "\n",
    "ALTER TABLE universities\n",
    "ADD CONSTRAINT university_shortname_unq UNIQUE(university_shortname);\n",
    "\n",
    "\n",
    "# Key constraints\n",
    "\n",
    "# Superkey: each combination of attributes that identifies rows uniquely\n",
    "# Candidate key: a superkey from which no column can be removed\n",
    "# Primary key: one candidate key chosen to act as primary key\n",
    "# Surrogate key: artificially created key (eg due to unsuitable candidate keys)\n",
    "# Foreign keys: points to the primary key of another table\n",
    "\n",
    "\n",
    "ALTER TABLE organizations\n",
    "RENAME COLUMN organization TO id;\n",
    "ALTER TABLE organizations\n",
    "ADD CONSTRAINT organization_pk PRIMARY KEY (id);\n",
    "\n",
    "ALTER TABLE affiliations\n",
    "DROP CONSTRAINT affiliations_organizations_id_fkey;\n",
    "\n",
    "ALTER TABLE professors\n",
    "ADD COLUMN ID serial\n",
    "\n",
    "UPDATE table_name\n",
    "SET new_var = CONCAT(v1, v2);\n",
    "\n",
    "-- Add a professor_id column that references id in professors table\n",
    "ALTER TABLE affiliations\n",
    "ADD COLUMN professor_id integer REFERENCES professors (id);\n",
    "-- Rename the organization column to organization_id\n",
    "ALTER TABLE affiliations\n",
    "RENAME organization TO organization_id;\n",
    "-- Add a foreign key on organization_id\n",
    "ALTER TABLE affiliations\n",
    "ADD CONSTRAINT affiliations_organization_fkey FOREIGN KEY (organization_id) REFERENCES organizations (id);\n",
    "\n",
    "-- Update professor_id to professors.id where firstname, lastname correspond to rows in professors\n",
    "UPDATE affiliations\n",
    "SET professor_id = professors.id\n",
    "FROM professors\n",
    "WHERE affiliations.firstname = professors.firstname AND affiliations.lastname = professors.lastname;\n",
    "\n",
    "\n",
    "# Referential integrity\n",
    "\n",
    "CREATE TABLE a (\n",
    "\tid integer PRIMARY KEY,\n",
    "\tcol_a, varchar(64),\n",
    "\t...,\n",
    "\tb_id integer REFERENCES b (id) VIOLATION SETTING)\n",
    "# Where violation setting is one of the following:\n",
    "# ON DELETE NO ACTION: \tDeleting id in b that's referenced in a throws error\n",
    "# ON DELETE CASCADE:\tDeleting id in b deletes references in all tables\n",
    "# RESTRICT:\t\t\t\tSimilar to no action\n",
    "# SET NULL\t\t\t\tSet referencing column to null\n",
    "# SET DEFAULT\t\t\tSet referencing column to default\n",
    "\n",
    "\n",
    "# Joins\n",
    "\n",
    "SELECT table_a.column1, table_a.column2, table_b.column1, table_b.column2, ...\n",
    "FROM table_a\n",
    "JOIN table_b\n",
    "ON table_a_foreign_key = table_b_primary_key\n",
    "WHERE condition;\n",
    "```"
   ]
  }
 ],
 "metadata": {
  "kernelspec": {
   "display_name": "limo",
   "language": "python",
   "name": "limo"
  },
  "language_info": {
   "codemirror_mode": {
    "name": "ipython",
    "version": 3
   },
   "file_extension": ".py",
   "mimetype": "text/x-python",
   "name": "python",
   "nbconvert_exporter": "python",
   "pygments_lexer": "ipython3",
   "version": "3.9.9"
  }
 },
 "nbformat": 4,
 "nbformat_minor": 4
}
